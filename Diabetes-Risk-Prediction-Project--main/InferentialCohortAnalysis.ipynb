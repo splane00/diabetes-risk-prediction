{
 "cells": [
  {
   "cell_type": "code",
   "execution_count": 1,
   "metadata": {},
   "outputs": [],
   "source": [
    "###FINAL###\n",
    "#This section is focused on analysis of the group of diabetic patients, to ascertain if their mean blood glucose values change (improve or \n",
    "#worsen) over time and if so, whether this difference is statistically significant or not."
   ]
  },
  {
   "cell_type": "markdown",
   "metadata": {},
   "source": [
    "<img src= \"InferentialCohortAnalysis1.png\" style = \"width:1000px; height:300px\" />"
   ]
  },
  {
   "cell_type": "code",
   "execution_count": 2,
   "metadata": {},
   "outputs": [],
   "source": [
    "#IMPORT LIBRARIES"
   ]
  },
  {
   "cell_type": "code",
   "execution_count": 9,
   "metadata": {},
   "outputs": [
    {
     "name": "stderr",
     "output_type": "stream",
     "text": [
      "Updating HTML index of packages in '.Library'\n",
      "Making 'packages.html' ... done\n",
      "Loading required package: lattice\n",
      "\n",
      "Attaching package: 'caret'\n",
      "\n",
      "The following object is masked from 'package:purrr':\n",
      "\n",
      "    lift\n",
      "\n",
      "\n",
      "Attaching package: 'lubridate'\n",
      "\n",
      "The following object is masked from 'package:base':\n",
      "\n",
      "    date\n",
      "\n",
      "Loading required package: nlme\n",
      "\n",
      "Attaching package: 'nlme'\n",
      "\n",
      "The following object is masked from 'package:dplyr':\n",
      "\n",
      "    collapse\n",
      "\n",
      "This is mgcv 1.8-28. For overview type 'help(\"mgcv-package\")'.\n",
      "Updating HTML index of packages in '.Library'\n",
      "Making 'packages.html' ... done\n",
      "-- \u001b[1mAttaching packages\u001b[22m -------------------------------------- tidymodels 0.1.3 --\n",
      "\u001b[32mv\u001b[39m \u001b[34mbroom       \u001b[39m 0.7.9      \u001b[32mv\u001b[39m \u001b[34mrsample     \u001b[39m 0.1.0 \n",
      "\u001b[32mv\u001b[39m \u001b[34mdials       \u001b[39m 0.0.9      \u001b[32mv\u001b[39m \u001b[34mtune        \u001b[39m 0.1.6 \n",
      "\u001b[32mv\u001b[39m \u001b[34minfer       \u001b[39m 0.5.4      \u001b[32mv\u001b[39m \u001b[34mworkflows   \u001b[39m 0.2.3 \n",
      "\u001b[32mv\u001b[39m \u001b[34mmodeldata   \u001b[39m 0.1.1      \u001b[32mv\u001b[39m \u001b[34mworkflowsets\u001b[39m 0.1.0 \n",
      "\u001b[32mv\u001b[39m \u001b[34mparsnip     \u001b[39m 0.1.5      \u001b[32mv\u001b[39m \u001b[34myardstick   \u001b[39m 0.0.8 \n",
      "\u001b[32mv\u001b[39m \u001b[34mrecipes     \u001b[39m 0.1.16     \n",
      "-- \u001b[1mConflicts\u001b[22m ----------------------------------------- tidymodels_conflicts() --\n",
      "\u001b[31mx\u001b[39m \u001b[34mnlme\u001b[39m::\u001b[32mcollapse()\u001b[39m         masks \u001b[34mdplyr\u001b[39m::collapse()\n",
      "\u001b[31mx\u001b[39m \u001b[34mscales\u001b[39m::\u001b[32mdiscard()\u001b[39m        masks \u001b[34mpurrr\u001b[39m::discard()\n",
      "\u001b[31mx\u001b[39m \u001b[34mdplyr\u001b[39m::\u001b[32mfilter()\u001b[39m          masks \u001b[34mstats\u001b[39m::filter()\n",
      "\u001b[31mx\u001b[39m \u001b[34mrecipes\u001b[39m::\u001b[32mfixed()\u001b[39m         masks \u001b[34mstringr\u001b[39m::fixed()\n",
      "\u001b[31mx\u001b[39m \u001b[34mdplyr\u001b[39m::\u001b[32mlag()\u001b[39m             masks \u001b[34mstats\u001b[39m::lag()\n",
      "\u001b[31mx\u001b[39m \u001b[34mcaret\u001b[39m::\u001b[32mlift()\u001b[39m            masks \u001b[34mpurrr\u001b[39m::lift()\n",
      "\u001b[31mx\u001b[39m \u001b[34myardstick\u001b[39m::\u001b[32mprecision()\u001b[39m   masks \u001b[34mcaret\u001b[39m::precision()\n",
      "\u001b[31mx\u001b[39m \u001b[34mdials\u001b[39m::\u001b[32mprune()\u001b[39m           masks \u001b[34mrpart\u001b[39m::prune()\n",
      "\u001b[31mx\u001b[39m \u001b[34myardstick\u001b[39m::\u001b[32mrecall()\u001b[39m      masks \u001b[34mcaret\u001b[39m::recall()\n",
      "\u001b[31mx\u001b[39m \u001b[34myardstick\u001b[39m::\u001b[32msensitivity()\u001b[39m masks \u001b[34mcaret\u001b[39m::sensitivity()\n",
      "\u001b[31mx\u001b[39m \u001b[34myardstick\u001b[39m::\u001b[32mspec()\u001b[39m        masks \u001b[34mreadr\u001b[39m::spec()\n",
      "\u001b[31mx\u001b[39m \u001b[34myardstick\u001b[39m::\u001b[32mspecificity()\u001b[39m masks \u001b[34mcaret\u001b[39m::specificity()\n",
      "\u001b[31mx\u001b[39m \u001b[34mrecipes\u001b[39m::\u001b[32mstep()\u001b[39m          masks \u001b[34mstats\u001b[39m::step()\n",
      "\u001b[34m*\u001b[39m Use \u001b[32mtidymodels_prefer()\u001b[39m to resolve common conflicts.\n",
      "Updating HTML index of packages in '.Library'\n",
      "Making 'packages.html' ... done\n",
      "Updating HTML index of packages in '.Library'\n",
      "Making 'packages.html' ... done\n",
      "\n",
      "Attaching package: 'Metrics'\n",
      "\n",
      "The following objects are masked from 'package:yardstick':\n",
      "\n",
      "    accuracy, mae, mape, mase, precision, recall, rmse, smape\n",
      "\n",
      "The following objects are masked from 'package:caret':\n",
      "\n",
      "    precision, recall\n",
      "\n",
      "Updating HTML index of packages in '.Library'\n",
      "Making 'packages.html' ... done\n",
      "\n",
      "Attaching package: 'hms'\n",
      "\n",
      "The following object is masked from 'package:lubridate':\n",
      "\n",
      "    hms\n",
      "\n"
     ]
    }
   ],
   "source": [
    "library(dplyr)\n",
    "library(ggplot2)\n",
    "library(tidyr)\n",
    "install.packages(\"caret\"); library(caret)\n",
    "library(lubridate)\n",
    "library(purrr)\n",
    "library(mgcv)\n",
    "library(rpart)\n",
    "install.packages(\"sigr\"); library(sigr)\n",
    "library(tidyverse)\n",
    "library(tidyselect)\n",
    "library(tidymodels)\n",
    "library(utils)\n",
    "library(base)\n",
    "library(broom)\n",
    "library(cluster)\n",
    "library(ellipsis)\n",
    "library(graphics)\n",
    "library(grDevices)\n",
    "library(highr)\n",
    "library(lattice)\n",
    "library(methods)\n",
    "library(nlme)\n",
    "library(readr)\n",
    "library(readxl)\n",
    "library(stats)\n",
    "library(stringr)\n",
    "install.packages(\"ranger\"); library(ranger)\n",
    "library(tibble)\n",
    "install.packages(\"Metrics\"); library(Metrics)\n",
    "install.packages(\"hms\"); library(hms)\n"
   ]
  },
  {
   "cell_type": "code",
   "execution_count": 10,
   "metadata": {},
   "outputs": [
    {
     "name": "stderr",
     "output_type": "stream",
     "text": [
      "Updating HTML index of packages in '.Library'\n",
      "Making 'packages.html' ... done\n",
      "Loading required package: wrapr\n",
      "\n",
      "Attaching package: 'wrapr'\n",
      "\n",
      "The following object is masked from 'package:tibble':\n",
      "\n",
      "    view\n",
      "\n",
      "The following objects are masked from 'package:tidyr':\n",
      "\n",
      "    pack, unpack\n",
      "\n",
      "The following object is masked from 'package:dplyr':\n",
      "\n",
      "    coalesce\n",
      "\n",
      "\n",
      "Attaching package: 'vtreat'\n",
      "\n",
      "The following object is masked from 'package:recipes':\n",
      "\n",
      "    prepare\n",
      "\n",
      "The following object is masked from 'package:parsnip':\n",
      "\n",
      "    fit\n",
      "\n",
      "Updating HTML index of packages in '.Library'\n",
      "Making 'packages.html' ... done\n",
      "\n",
      "Attaching package: 'chron'\n",
      "\n",
      "The following objects are masked from 'package:lubridate':\n",
      "\n",
      "    days, hours, minutes, seconds, years\n",
      "\n",
      "Updating HTML index of packages in '.Library'\n",
      "Making 'packages.html' ... done\n",
      "\n",
      "Attaching package: 'data.table'\n",
      "\n",
      "The following object is masked from 'package:wrapr':\n",
      "\n",
      "    :=\n",
      "\n",
      "The following objects are masked from 'package:lubridate':\n",
      "\n",
      "    hour, isoweek, mday, minute, month, quarter, second, wday, week,\n",
      "    yday, year\n",
      "\n",
      "The following object is masked from 'package:purrr':\n",
      "\n",
      "    transpose\n",
      "\n",
      "The following objects are masked from 'package:dplyr':\n",
      "\n",
      "    between, first, last\n",
      "\n",
      "Updating HTML index of packages in '.Library'\n",
      "Making 'packages.html' ... done\n",
      "Updating HTML index of packages in '.Library'\n",
      "Making 'packages.html' ... done\n"
     ]
    },
    {
     "ename": "ERROR",
     "evalue": "Error in library(brotools): there is no package called 'brotools'\n",
     "output_type": "error",
     "traceback": [
      "Error in library(brotools): there is no package called 'brotools'\nTraceback:\n",
      "1. library(brotools)"
     ]
    }
   ],
   "source": [
    "install.packages(\"vtreat\"); library(vtreat)\n",
    "install.packages(\"chron\"); library(chron)\n",
    "install.packages(\"data.table\"); library(data.table)\n",
    "install.packages(\"ggfortify\"); library(ggfortify)\n",
    "library(mlbench)\n",
    "install.packages(\"wrapr\"); library(wrapr)\n",
    "library(rpart)\n",
    "library(parsnip)\n",
    "library(brotools)\n",
    "install.packages(\"rsample\"); library(rsample)\n"
   ]
  },
  {
   "cell_type": "code",
   "execution_count": 44,
   "metadata": {},
   "outputs": [
    {
     "name": "stderr",
     "output_type": "stream",
     "text": [
      "Updating HTML index of packages in '.Library'\n",
      "Making 'packages.html' ... done\n"
     ]
    }
   ],
   "source": [
    "install.packages(\"lsr\"); library(lsr)"
   ]
  },
  {
   "cell_type": "code",
   "execution_count": 6,
   "metadata": {},
   "outputs": [
    {
     "name": "stdout",
     "output_type": "stream",
     "text": [
      "function(filename) {\n",
      "    #loads text into dataframe\n",
      "    return (read.table(filename, header = FALSE, sep = \"\", stringsAsFactors = FALSE, col.names = c(\"Date\", \"Time\", \"Code\", \"Value\")))\n",
      "    \n",
      "}\n"
     ]
    }
   ],
   "source": [
    "#DEFINE HELPER FUNCTION \n",
    "load_file <- function(filename) {\n",
    "    #loads text into dataframe\n",
    "    return (read.table(filename, header = FALSE, sep = \"\", stringsAsFactors = FALSE, col.names = c(\"Date\", \"Time\", \"Code\", \"Value\")))\n",
    "    \n",
    "}\n",
    "\n",
    "print(load_file)"
   ]
  },
  {
   "cell_type": "code",
   "execution_count": 7,
   "metadata": {},
   "outputs": [
    {
     "data": {
      "text/html": [
       "<table>\n",
       "<thead><tr><th scope=col>Date</th><th scope=col>Time</th><th scope=col>Code</th><th scope=col>Value</th><th scope=col>pid</th></tr></thead>\n",
       "<tbody>\n",
       "\t<tr><td>04-21-1991</td><td>9:09      </td><td>58        </td><td>100       </td><td>D1        </td></tr>\n",
       "\t<tr><td>04-21-1991</td><td>9:09      </td><td>33        </td><td>  9       </td><td>D1        </td></tr>\n",
       "\t<tr><td>04-21-1991</td><td>9:09      </td><td>34        </td><td> 13       </td><td>D1        </td></tr>\n",
       "\t<tr><td>04-21-1991</td><td>17:08     </td><td>62        </td><td>119       </td><td>D1        </td></tr>\n",
       "\t<tr><td>04-21-1991</td><td>17:08     </td><td>33        </td><td>  7       </td><td>D1        </td></tr>\n",
       "\t<tr><td>04-21-1991</td><td>22:51     </td><td>48        </td><td>123       </td><td>D1        </td></tr>\n",
       "</tbody>\n",
       "</table>\n"
      ],
      "text/latex": [
       "\\begin{tabular}{r|lllll}\n",
       " Date & Time & Code & Value & pid\\\\\n",
       "\\hline\n",
       "\t 04-21-1991 & 9:09       & 58         & 100        & D1        \\\\\n",
       "\t 04-21-1991 & 9:09       & 33         &   9        & D1        \\\\\n",
       "\t 04-21-1991 & 9:09       & 34         &  13        & D1        \\\\\n",
       "\t 04-21-1991 & 17:08      & 62         & 119        & D1        \\\\\n",
       "\t 04-21-1991 & 17:08      & 33         &   7        & D1        \\\\\n",
       "\t 04-21-1991 & 22:51      & 48         & 123        & D1        \\\\\n",
       "\\end{tabular}\n"
      ],
      "text/markdown": [
       "\n",
       "| Date | Time | Code | Value | pid |\n",
       "|---|---|---|---|---|\n",
       "| 04-21-1991 | 9:09       | 58         | 100        | D1         |\n",
       "| 04-21-1991 | 9:09       | 33         |   9        | D1         |\n",
       "| 04-21-1991 | 9:09       | 34         |  13        | D1         |\n",
       "| 04-21-1991 | 17:08      | 62         | 119        | D1         |\n",
       "| 04-21-1991 | 17:08      | 33         |   7        | D1         |\n",
       "| 04-21-1991 | 22:51      | 48         | 123        | D1         |\n",
       "\n"
      ],
      "text/plain": [
       "  Date       Time  Code Value pid\n",
       "1 04-21-1991 9:09  58   100   D1 \n",
       "2 04-21-1991 9:09  33     9   D1 \n",
       "3 04-21-1991 9:09  34    13   D1 \n",
       "4 04-21-1991 17:08 62   119   D1 \n",
       "5 04-21-1991 17:08 33     7   D1 \n",
       "6 04-21-1991 22:51 48   123   D1 "
      ]
     },
     "metadata": {},
     "output_type": "display_data"
    }
   ],
   "source": [
    "#LOADING FILES\n",
    "D1 <- load_file(\"data-01\")\n",
    "D1$pid <- c(\"D1\")\n",
    "\n",
    "head(D1)"
   ]
  },
  {
   "cell_type": "code",
   "execution_count": 12,
   "metadata": {},
   "outputs": [],
   "source": [
    "D2 <- load_file(\"data-02\")\n",
    "D2$pid <- c(\"D2\")"
   ]
  },
  {
   "cell_type": "code",
   "execution_count": 13,
   "metadata": {},
   "outputs": [],
   "source": [
    "D3 <- load_file(\"data-03\")\n",
    "D3$pid <- c(\"D3\")"
   ]
  },
  {
   "cell_type": "code",
   "execution_count": 14,
   "metadata": {},
   "outputs": [],
   "source": [
    "D4 <- load_file(\"data-04\")\n",
    "D4$pid <- c(\"D4\")"
   ]
  },
  {
   "cell_type": "code",
   "execution_count": 15,
   "metadata": {},
   "outputs": [],
   "source": [
    "D5 <- load_file(\"data-05\")\n",
    "D5$pid <- c(\"D5\")"
   ]
  },
  {
   "cell_type": "code",
   "execution_count": 16,
   "metadata": {},
   "outputs": [],
   "source": [
    "D6 <- load_file(\"data-06\")\n",
    "D6$pid <- c(\"D6\")"
   ]
  },
  {
   "cell_type": "code",
   "execution_count": 18,
   "metadata": {},
   "outputs": [],
   "source": [
    "D7 <- load_file(\"data-07\")\n",
    "D7$pid <- c(\"D7\")"
   ]
  },
  {
   "cell_type": "code",
   "execution_count": 17,
   "metadata": {},
   "outputs": [],
   "source": [
    "D8 <- load_file(\"data-08\")\n",
    "D8$pid <- c(\"D8\")"
   ]
  },
  {
   "cell_type": "code",
   "execution_count": 19,
   "metadata": {},
   "outputs": [],
   "source": [
    "D9 <- load_file(\"data-09\")\n",
    "D9$pid <- c(\"D9\")"
   ]
  },
  {
   "cell_type": "code",
   "execution_count": 20,
   "metadata": {},
   "outputs": [],
   "source": [
    "D10 <- load_file(\"data-10\")\n",
    "D10$pid <- c(\"D10\")"
   ]
  },
  {
   "cell_type": "code",
   "execution_count": 11,
   "metadata": {},
   "outputs": [
    {
     "data": {
      "text/html": [
       "<table>\n",
       "<thead><tr><th scope=col>Date</th><th scope=col>Time</th><th scope=col>Code</th><th scope=col>Value</th><th scope=col>pid</th><th scope=col>date1</th></tr></thead>\n",
       "<tbody>\n",
       "\t<tr><td>04-21-1991</td><td>9:09      </td><td>58        </td><td>100       </td><td>D1        </td><td>1991-04-21</td></tr>\n",
       "\t<tr><td>04-21-1991</td><td>9:09      </td><td>33        </td><td>  9       </td><td>D1        </td><td>1991-04-21</td></tr>\n",
       "\t<tr><td>04-21-1991</td><td>9:09      </td><td>34        </td><td> 13       </td><td>D1        </td><td>1991-04-21</td></tr>\n",
       "\t<tr><td>04-21-1991</td><td>17:08     </td><td>62        </td><td>119       </td><td>D1        </td><td>1991-04-21</td></tr>\n",
       "\t<tr><td>04-21-1991</td><td>17:08     </td><td>33        </td><td>  7       </td><td>D1        </td><td>1991-04-21</td></tr>\n",
       "\t<tr><td>04-21-1991</td><td>22:51     </td><td>48        </td><td>123       </td><td>D1        </td><td>1991-04-21</td></tr>\n",
       "</tbody>\n",
       "</table>\n"
      ],
      "text/latex": [
       "\\begin{tabular}{r|llllll}\n",
       " Date & Time & Code & Value & pid & date1\\\\\n",
       "\\hline\n",
       "\t 04-21-1991 & 9:09       & 58         & 100        & D1         & 1991-04-21\\\\\n",
       "\t 04-21-1991 & 9:09       & 33         &   9        & D1         & 1991-04-21\\\\\n",
       "\t 04-21-1991 & 9:09       & 34         &  13        & D1         & 1991-04-21\\\\\n",
       "\t 04-21-1991 & 17:08      & 62         & 119        & D1         & 1991-04-21\\\\\n",
       "\t 04-21-1991 & 17:08      & 33         &   7        & D1         & 1991-04-21\\\\\n",
       "\t 04-21-1991 & 22:51      & 48         & 123        & D1         & 1991-04-21\\\\\n",
       "\\end{tabular}\n"
      ],
      "text/markdown": [
       "\n",
       "| Date | Time | Code | Value | pid | date1 |\n",
       "|---|---|---|---|---|---|\n",
       "| 04-21-1991 | 9:09       | 58         | 100        | D1         | 1991-04-21 |\n",
       "| 04-21-1991 | 9:09       | 33         |   9        | D1         | 1991-04-21 |\n",
       "| 04-21-1991 | 9:09       | 34         |  13        | D1         | 1991-04-21 |\n",
       "| 04-21-1991 | 17:08      | 62         | 119        | D1         | 1991-04-21 |\n",
       "| 04-21-1991 | 17:08      | 33         |   7        | D1         | 1991-04-21 |\n",
       "| 04-21-1991 | 22:51      | 48         | 123        | D1         | 1991-04-21 |\n",
       "\n"
      ],
      "text/plain": [
       "  Date       Time  Code Value pid date1     \n",
       "1 04-21-1991 9:09  58   100   D1  1991-04-21\n",
       "2 04-21-1991 9:09  33     9   D1  1991-04-21\n",
       "3 04-21-1991 9:09  34    13   D1  1991-04-21\n",
       "4 04-21-1991 17:08 62   119   D1  1991-04-21\n",
       "5 04-21-1991 17:08 33     7   D1  1991-04-21\n",
       "6 04-21-1991 22:51 48   123   D1  1991-04-21"
      ]
     },
     "metadata": {},
     "output_type": "display_data"
    }
   ],
   "source": [
    "#Convert \"Date\" column from character to date format\n",
    "\n",
    "#Parse date - \"mdy\"format of datasets to convert to ISO8601 standard \"ymd\" format\n",
    "D1_dates <- D1 %>%\n",
    "    mutate(date1 = mdy(Date))\n",
    "\n",
    "head(D1_dates)"
   ]
  },
  {
   "cell_type": "code",
   "execution_count": 22,
   "metadata": {},
   "outputs": [
    {
     "name": "stdout",
     "output_type": "stream",
     "text": [
      "Rows: 943\n",
      "Columns: 7\n",
      "$ Date     <chr> \"04-21-1991\", \"04-21-1991\", \"04-21-1991\", \"04-21-1991\", \"04-2~\n",
      "$ Time     <chr> \"9:09\", \"9:09\", \"9:09\", \"17:08\", \"17:08\", \"22:51\", \"7:35\", \"7~\n",
      "$ Code     <int> 58, 33, 34, 62, 33, 48, 58, 33, 34, 33, 62, 33, 58, 33, 34, 6~\n",
      "$ Value    <int> 100, 9, 13, 119, 7, 123, 216, 10, 13, 2, 211, 7, 257, 11, 13,~\n",
      "$ pid      <chr> \"D1\", \"D1\", \"D1\", \"D1\", \"D1\", \"D1\", \"D1\", \"D1\", \"D1\", \"D1\", \"~\n",
      "$ date1    <date> 1991-04-21, 1991-04-21, 1991-04-21, 1991-04-21, 1991-04-21, ~\n",
      "$ datetime <dttm> 1991-04-21 09:09:00, 1991-04-21 09:09:00, 1991-04-21 09:09:0~\n"
     ]
    }
   ],
   "source": [
    "#Convert Time column from character to datetime format\n",
    "D1_dates$datetime = paste(D1_dates$Date, D1_dates$Time)\n",
    "D1_dates$datetime = mdy_hm(D1_dates$datetime)\n",
    "\n",
    "glimpse(D1_dates)"
   ]
  },
  {
   "cell_type": "code",
   "execution_count": 23,
   "metadata": {},
   "outputs": [
    {
     "data": {
      "text/html": [
       "<table>\n",
       "<thead><tr><th scope=col>Code</th><th scope=col>Value</th><th scope=col>pid</th><th scope=col>date1</th><th scope=col>datetime</th></tr></thead>\n",
       "<tbody>\n",
       "\t<tr><td>58                 </td><td>100                </td><td>D1                 </td><td>1991-04-21         </td><td>1991-04-21 09:09:00</td></tr>\n",
       "\t<tr><td>33                 </td><td>  9                </td><td>D1                 </td><td>1991-04-21         </td><td>1991-04-21 09:09:00</td></tr>\n",
       "\t<tr><td>34                 </td><td> 13                </td><td>D1                 </td><td>1991-04-21         </td><td>1991-04-21 09:09:00</td></tr>\n",
       "\t<tr><td>62                 </td><td>119                </td><td>D1                 </td><td>1991-04-21         </td><td>1991-04-21 17:08:00</td></tr>\n",
       "\t<tr><td>33                 </td><td>  7                </td><td>D1                 </td><td>1991-04-21         </td><td>1991-04-21 17:08:00</td></tr>\n",
       "\t<tr><td>48                 </td><td>123                </td><td>D1                 </td><td>1991-04-21         </td><td>1991-04-21 22:51:00</td></tr>\n",
       "</tbody>\n",
       "</table>\n"
      ],
      "text/latex": [
       "\\begin{tabular}{r|lllll}\n",
       " Code & Value & pid & date1 & datetime\\\\\n",
       "\\hline\n",
       "\t 58                  & 100                 & D1                  & 1991-04-21          & 1991-04-21 09:09:00\\\\\n",
       "\t 33                  &   9                 & D1                  & 1991-04-21          & 1991-04-21 09:09:00\\\\\n",
       "\t 34                  &  13                 & D1                  & 1991-04-21          & 1991-04-21 09:09:00\\\\\n",
       "\t 62                  & 119                 & D1                  & 1991-04-21          & 1991-04-21 17:08:00\\\\\n",
       "\t 33                  &   7                 & D1                  & 1991-04-21          & 1991-04-21 17:08:00\\\\\n",
       "\t 48                  & 123                 & D1                  & 1991-04-21          & 1991-04-21 22:51:00\\\\\n",
       "\\end{tabular}\n"
      ],
      "text/markdown": [
       "\n",
       "| Code | Value | pid | date1 | datetime |\n",
       "|---|---|---|---|---|\n",
       "| 58                  | 100                 | D1                  | 1991-04-21          | 1991-04-21 09:09:00 |\n",
       "| 33                  |   9                 | D1                  | 1991-04-21          | 1991-04-21 09:09:00 |\n",
       "| 34                  |  13                 | D1                  | 1991-04-21          | 1991-04-21 09:09:00 |\n",
       "| 62                  | 119                 | D1                  | 1991-04-21          | 1991-04-21 17:08:00 |\n",
       "| 33                  |   7                 | D1                  | 1991-04-21          | 1991-04-21 17:08:00 |\n",
       "| 48                  | 123                 | D1                  | 1991-04-21          | 1991-04-21 22:51:00 |\n",
       "\n"
      ],
      "text/plain": [
       "  Code Value pid date1      datetime           \n",
       "1 58   100   D1  1991-04-21 1991-04-21 09:09:00\n",
       "2 33     9   D1  1991-04-21 1991-04-21 09:09:00\n",
       "3 34    13   D1  1991-04-21 1991-04-21 09:09:00\n",
       "4 62   119   D1  1991-04-21 1991-04-21 17:08:00\n",
       "5 33     7   D1  1991-04-21 1991-04-21 17:08:00\n",
       "6 48   123   D1  1991-04-21 1991-04-21 22:51:00"
      ]
     },
     "metadata": {},
     "output_type": "display_data"
    }
   ],
   "source": [
    "#Remove redundant character columns (\"Date\", \"Time\")\n",
    "D2_dates <- D1_dates %>%\n",
    "    select(-Date, -Time)\n",
    "\n",
    "head(D2_dates)"
   ]
  },
  {
   "cell_type": "code",
   "execution_count": 24,
   "metadata": {},
   "outputs": [
    {
     "data": {
      "text/html": [
       "<table>\n",
       "<thead><tr><th scope=col>Insulin_Code</th><th scope=col>Insulin_dose</th><th scope=col>pid</th><th scope=col>date1</th><th scope=col>datetime</th></tr></thead>\n",
       "<tbody>\n",
       "\t<tr><td>33                 </td><td> 9                 </td><td>D1                 </td><td>1991-04-21         </td><td>1991-04-21 09:09:00</td></tr>\n",
       "\t<tr><td>34                 </td><td>13                 </td><td>D1                 </td><td>1991-04-21         </td><td>1991-04-21 09:09:00</td></tr>\n",
       "\t<tr><td>33                 </td><td> 7                 </td><td>D1                 </td><td>1991-04-21         </td><td>1991-04-21 17:08:00</td></tr>\n",
       "\t<tr><td>33                 </td><td>10                 </td><td>D1                 </td><td>1991-04-22         </td><td>1991-04-22 07:35:00</td></tr>\n",
       "\t<tr><td>34                 </td><td>13                 </td><td>D1                 </td><td>1991-04-22         </td><td>1991-04-22 07:35:00</td></tr>\n",
       "\t<tr><td>33                 </td><td> 2                 </td><td>D1                 </td><td>1991-04-22         </td><td>1991-04-22 13:40:00</td></tr>\n",
       "</tbody>\n",
       "</table>\n"
      ],
      "text/latex": [
       "\\begin{tabular}{r|lllll}\n",
       " Insulin\\_Code & Insulin\\_dose & pid & date1 & datetime\\\\\n",
       "\\hline\n",
       "\t 33                  &  9                  & D1                  & 1991-04-21          & 1991-04-21 09:09:00\\\\\n",
       "\t 34                  & 13                  & D1                  & 1991-04-21          & 1991-04-21 09:09:00\\\\\n",
       "\t 33                  &  7                  & D1                  & 1991-04-21          & 1991-04-21 17:08:00\\\\\n",
       "\t 33                  & 10                  & D1                  & 1991-04-22          & 1991-04-22 07:35:00\\\\\n",
       "\t 34                  & 13                  & D1                  & 1991-04-22          & 1991-04-22 07:35:00\\\\\n",
       "\t 33                  &  2                  & D1                  & 1991-04-22          & 1991-04-22 13:40:00\\\\\n",
       "\\end{tabular}\n"
      ],
      "text/markdown": [
       "\n",
       "| Insulin_Code | Insulin_dose | pid | date1 | datetime |\n",
       "|---|---|---|---|---|\n",
       "| 33                  |  9                  | D1                  | 1991-04-21          | 1991-04-21 09:09:00 |\n",
       "| 34                  | 13                  | D1                  | 1991-04-21          | 1991-04-21 09:09:00 |\n",
       "| 33                  |  7                  | D1                  | 1991-04-21          | 1991-04-21 17:08:00 |\n",
       "| 33                  | 10                  | D1                  | 1991-04-22          | 1991-04-22 07:35:00 |\n",
       "| 34                  | 13                  | D1                  | 1991-04-22          | 1991-04-22 07:35:00 |\n",
       "| 33                  |  2                  | D1                  | 1991-04-22          | 1991-04-22 13:40:00 |\n",
       "\n"
      ],
      "text/plain": [
       "  Insulin_Code Insulin_dose pid date1      datetime           \n",
       "1 33            9           D1  1991-04-21 1991-04-21 09:09:00\n",
       "2 34           13           D1  1991-04-21 1991-04-21 09:09:00\n",
       "3 33            7           D1  1991-04-21 1991-04-21 17:08:00\n",
       "4 33           10           D1  1991-04-22 1991-04-22 07:35:00\n",
       "5 34           13           D1  1991-04-22 1991-04-22 07:35:00\n",
       "6 33            2           D1  1991-04-22 1991-04-22 13:40:00"
      ]
     },
     "metadata": {},
     "output_type": "display_data"
    }
   ],
   "source": [
    "#Filter out Insulin datasets\n",
    "\n",
    "target <- c(33, 34, 35)\n",
    "\n",
    "Insulin_data <- D2_dates %>%\n",
    "    filter(Code %in% target) %>%\n",
    "    rename(Insulin_Code = Code, Insulin_dose = Value)\n",
    "\n",
    "head(Insulin_data)"
   ]
  },
  {
   "cell_type": "code",
   "execution_count": 25,
   "metadata": {},
   "outputs": [
    {
     "data": {
      "text/html": [
       "<table>\n",
       "<thead><tr><th scope=col>Glucose_Code</th><th scope=col>Glucose_Value</th><th scope=col>pid</th><th scope=col>date1</th><th scope=col>datetime</th></tr></thead>\n",
       "<tbody>\n",
       "\t<tr><td>58                 </td><td>100                </td><td>D1                 </td><td>1991-04-21         </td><td>1991-04-21 09:09:00</td></tr>\n",
       "\t<tr><td>62                 </td><td>119                </td><td>D1                 </td><td>1991-04-21         </td><td>1991-04-21 17:08:00</td></tr>\n",
       "\t<tr><td>48                 </td><td>123                </td><td>D1                 </td><td>1991-04-21         </td><td>1991-04-21 22:51:00</td></tr>\n",
       "\t<tr><td>58                 </td><td>216                </td><td>D1                 </td><td>1991-04-22         </td><td>1991-04-22 07:35:00</td></tr>\n",
       "\t<tr><td>62                 </td><td>211                </td><td>D1                 </td><td>1991-04-22         </td><td>1991-04-22 16:56:00</td></tr>\n",
       "\t<tr><td>58                 </td><td>257                </td><td>D1                 </td><td>1991-04-23         </td><td>1991-04-23 07:25:00</td></tr>\n",
       "</tbody>\n",
       "</table>\n"
      ],
      "text/latex": [
       "\\begin{tabular}{r|lllll}\n",
       " Glucose\\_Code & Glucose\\_Value & pid & date1 & datetime\\\\\n",
       "\\hline\n",
       "\t 58                  & 100                 & D1                  & 1991-04-21          & 1991-04-21 09:09:00\\\\\n",
       "\t 62                  & 119                 & D1                  & 1991-04-21          & 1991-04-21 17:08:00\\\\\n",
       "\t 48                  & 123                 & D1                  & 1991-04-21          & 1991-04-21 22:51:00\\\\\n",
       "\t 58                  & 216                 & D1                  & 1991-04-22          & 1991-04-22 07:35:00\\\\\n",
       "\t 62                  & 211                 & D1                  & 1991-04-22          & 1991-04-22 16:56:00\\\\\n",
       "\t 58                  & 257                 & D1                  & 1991-04-23          & 1991-04-23 07:25:00\\\\\n",
       "\\end{tabular}\n"
      ],
      "text/markdown": [
       "\n",
       "| Glucose_Code | Glucose_Value | pid | date1 | datetime |\n",
       "|---|---|---|---|---|\n",
       "| 58                  | 100                 | D1                  | 1991-04-21          | 1991-04-21 09:09:00 |\n",
       "| 62                  | 119                 | D1                  | 1991-04-21          | 1991-04-21 17:08:00 |\n",
       "| 48                  | 123                 | D1                  | 1991-04-21          | 1991-04-21 22:51:00 |\n",
       "| 58                  | 216                 | D1                  | 1991-04-22          | 1991-04-22 07:35:00 |\n",
       "| 62                  | 211                 | D1                  | 1991-04-22          | 1991-04-22 16:56:00 |\n",
       "| 58                  | 257                 | D1                  | 1991-04-23          | 1991-04-23 07:25:00 |\n",
       "\n"
      ],
      "text/plain": [
       "  Glucose_Code Glucose_Value pid date1      datetime           \n",
       "1 58           100           D1  1991-04-21 1991-04-21 09:09:00\n",
       "2 62           119           D1  1991-04-21 1991-04-21 17:08:00\n",
       "3 48           123           D1  1991-04-21 1991-04-21 22:51:00\n",
       "4 58           216           D1  1991-04-22 1991-04-22 07:35:00\n",
       "5 62           211           D1  1991-04-22 1991-04-22 16:56:00\n",
       "6 58           257           D1  1991-04-23 1991-04-23 07:25:00"
      ]
     },
     "metadata": {},
     "output_type": "display_data"
    }
   ],
   "source": [
    "#Filter out Glucose datasets\n",
    "\n",
    "target2 <- c(48, 57, 58, 59, 60, 61, 62, 63, 64, 65)\n",
    "\n",
    "Glucose_data <- D2_dates %>%\n",
    "    filter(Code %in% target2) %>%\n",
    "    rename(Glucose_Code = Code) %>%\n",
    "    rename(Glucose_Value = Value)\n",
    "\n",
    "head(Glucose_data)"
   ]
  },
  {
   "cell_type": "code",
   "execution_count": 26,
   "metadata": {},
   "outputs": [
    {
     "data": {
      "text/html": [
       "<table>\n",
       "<thead><tr><th scope=col>Insulin_Code</th><th scope=col>Insulin_dose</th><th scope=col>pid</th><th scope=col>date1</th><th scope=col>datetime</th><th scope=col>Glucose_Code</th><th scope=col>Glucose_Value</th></tr></thead>\n",
       "<tbody>\n",
       "\t<tr><td>33                 </td><td> 9                 </td><td>D1                 </td><td>1991-04-21         </td><td>1991-04-21 09:09:00</td><td>58                 </td><td>100                </td></tr>\n",
       "\t<tr><td>34                 </td><td>13                 </td><td>D1                 </td><td>1991-04-21         </td><td>1991-04-21 09:09:00</td><td>58                 </td><td>100                </td></tr>\n",
       "\t<tr><td>33                 </td><td> 7                 </td><td>D1                 </td><td>1991-04-21         </td><td>1991-04-21 17:08:00</td><td>62                 </td><td>119                </td></tr>\n",
       "\t<tr><td>33                 </td><td>10                 </td><td>D1                 </td><td>1991-04-22         </td><td>1991-04-22 07:35:00</td><td>58                 </td><td>216                </td></tr>\n",
       "\t<tr><td>34                 </td><td>13                 </td><td>D1                 </td><td>1991-04-22         </td><td>1991-04-22 07:35:00</td><td>58                 </td><td>216                </td></tr>\n",
       "\t<tr><td>33                 </td><td> 7                 </td><td>D1                 </td><td>1991-04-22         </td><td>1991-04-22 16:56:00</td><td>62                 </td><td>211                </td></tr>\n",
       "</tbody>\n",
       "</table>\n"
      ],
      "text/latex": [
       "\\begin{tabular}{r|lllllll}\n",
       " Insulin\\_Code & Insulin\\_dose & pid & date1 & datetime & Glucose\\_Code & Glucose\\_Value\\\\\n",
       "\\hline\n",
       "\t 33                  &  9                  & D1                  & 1991-04-21          & 1991-04-21 09:09:00 & 58                  & 100                \\\\\n",
       "\t 34                  & 13                  & D1                  & 1991-04-21          & 1991-04-21 09:09:00 & 58                  & 100                \\\\\n",
       "\t 33                  &  7                  & D1                  & 1991-04-21          & 1991-04-21 17:08:00 & 62                  & 119                \\\\\n",
       "\t 33                  & 10                  & D1                  & 1991-04-22          & 1991-04-22 07:35:00 & 58                  & 216                \\\\\n",
       "\t 34                  & 13                  & D1                  & 1991-04-22          & 1991-04-22 07:35:00 & 58                  & 216                \\\\\n",
       "\t 33                  &  7                  & D1                  & 1991-04-22          & 1991-04-22 16:56:00 & 62                  & 211                \\\\\n",
       "\\end{tabular}\n"
      ],
      "text/markdown": [
       "\n",
       "| Insulin_Code | Insulin_dose | pid | date1 | datetime | Glucose_Code | Glucose_Value |\n",
       "|---|---|---|---|---|---|---|\n",
       "| 33                  |  9                  | D1                  | 1991-04-21          | 1991-04-21 09:09:00 | 58                  | 100                 |\n",
       "| 34                  | 13                  | D1                  | 1991-04-21          | 1991-04-21 09:09:00 | 58                  | 100                 |\n",
       "| 33                  |  7                  | D1                  | 1991-04-21          | 1991-04-21 17:08:00 | 62                  | 119                 |\n",
       "| 33                  | 10                  | D1                  | 1991-04-22          | 1991-04-22 07:35:00 | 58                  | 216                 |\n",
       "| 34                  | 13                  | D1                  | 1991-04-22          | 1991-04-22 07:35:00 | 58                  | 216                 |\n",
       "| 33                  |  7                  | D1                  | 1991-04-22          | 1991-04-22 16:56:00 | 62                  | 211                 |\n",
       "\n"
      ],
      "text/plain": [
       "  Insulin_Code Insulin_dose pid date1      datetime            Glucose_Code\n",
       "1 33            9           D1  1991-04-21 1991-04-21 09:09:00 58          \n",
       "2 34           13           D1  1991-04-21 1991-04-21 09:09:00 58          \n",
       "3 33            7           D1  1991-04-21 1991-04-21 17:08:00 62          \n",
       "4 33           10           D1  1991-04-22 1991-04-22 07:35:00 58          \n",
       "5 34           13           D1  1991-04-22 1991-04-22 07:35:00 58          \n",
       "6 33            7           D1  1991-04-22 1991-04-22 16:56:00 62          \n",
       "  Glucose_Value\n",
       "1 100          \n",
       "2 100          \n",
       "3 119          \n",
       "4 216          \n",
       "5 216          \n",
       "6 211          "
      ]
     },
     "metadata": {},
     "output_type": "display_data"
    }
   ],
   "source": [
    "#Combine both tables for Insulin and Glucose values\n",
    "\n",
    "Diabetes_InsGlucose <- Insulin_data %>%\n",
    "    inner_join(Glucose_data, by = c(\"date1\", \"pid\", \"datetime\"))\n",
    "\n",
    "head(Diabetes_InsGlucose)"
   ]
  },
  {
   "cell_type": "code",
   "execution_count": 27,
   "metadata": {},
   "outputs": [
    {
     "data": {
      "text/html": [
       "<table>\n",
       "<thead><tr><th scope=col>Insulin_Code</th><th scope=col>Insulin_dose</th><th scope=col>pid</th><th scope=col>date1</th><th scope=col>datetime</th><th scope=col>Glucose_Code</th><th scope=col>Glucose_Value</th><th scope=col>time_period</th></tr></thead>\n",
       "<tbody>\n",
       "\t<tr><td>33                 </td><td> 9                 </td><td>D1                 </td><td>1991-04-21         </td><td>1991-04-21 09:09:00</td><td>58                 </td><td>100                </td><td>month_1            </td></tr>\n",
       "\t<tr><td>34                 </td><td>13                 </td><td>D1                 </td><td>1991-04-21         </td><td>1991-04-21 09:09:00</td><td>58                 </td><td>100                </td><td>month_1            </td></tr>\n",
       "\t<tr><td>33                 </td><td> 7                 </td><td>D1                 </td><td>1991-04-21         </td><td>1991-04-21 17:08:00</td><td>62                 </td><td>119                </td><td>month_1            </td></tr>\n",
       "\t<tr><td>33                 </td><td>10                 </td><td>D1                 </td><td>1991-04-22         </td><td>1991-04-22 07:35:00</td><td>58                 </td><td>216                </td><td>month_1            </td></tr>\n",
       "\t<tr><td>34                 </td><td>13                 </td><td>D1                 </td><td>1991-04-22         </td><td>1991-04-22 07:35:00</td><td>58                 </td><td>216                </td><td>month_1            </td></tr>\n",
       "\t<tr><td>33                 </td><td> 7                 </td><td>D1                 </td><td>1991-04-22         </td><td>1991-04-22 16:56:00</td><td>62                 </td><td>211                </td><td>month_1            </td></tr>\n",
       "</tbody>\n",
       "</table>\n"
      ],
      "text/latex": [
       "\\begin{tabular}{r|llllllll}\n",
       " Insulin\\_Code & Insulin\\_dose & pid & date1 & datetime & Glucose\\_Code & Glucose\\_Value & time\\_period\\\\\n",
       "\\hline\n",
       "\t 33                  &  9                  & D1                  & 1991-04-21          & 1991-04-21 09:09:00 & 58                  & 100                 & month\\_1          \\\\\n",
       "\t 34                  & 13                  & D1                  & 1991-04-21          & 1991-04-21 09:09:00 & 58                  & 100                 & month\\_1          \\\\\n",
       "\t 33                  &  7                  & D1                  & 1991-04-21          & 1991-04-21 17:08:00 & 62                  & 119                 & month\\_1          \\\\\n",
       "\t 33                  & 10                  & D1                  & 1991-04-22          & 1991-04-22 07:35:00 & 58                  & 216                 & month\\_1          \\\\\n",
       "\t 34                  & 13                  & D1                  & 1991-04-22          & 1991-04-22 07:35:00 & 58                  & 216                 & month\\_1          \\\\\n",
       "\t 33                  &  7                  & D1                  & 1991-04-22          & 1991-04-22 16:56:00 & 62                  & 211                 & month\\_1          \\\\\n",
       "\\end{tabular}\n"
      ],
      "text/markdown": [
       "\n",
       "| Insulin_Code | Insulin_dose | pid | date1 | datetime | Glucose_Code | Glucose_Value | time_period |\n",
       "|---|---|---|---|---|---|---|---|\n",
       "| 33                  |  9                  | D1                  | 1991-04-21          | 1991-04-21 09:09:00 | 58                  | 100                 | month_1             |\n",
       "| 34                  | 13                  | D1                  | 1991-04-21          | 1991-04-21 09:09:00 | 58                  | 100                 | month_1             |\n",
       "| 33                  |  7                  | D1                  | 1991-04-21          | 1991-04-21 17:08:00 | 62                  | 119                 | month_1             |\n",
       "| 33                  | 10                  | D1                  | 1991-04-22          | 1991-04-22 07:35:00 | 58                  | 216                 | month_1             |\n",
       "| 34                  | 13                  | D1                  | 1991-04-22          | 1991-04-22 07:35:00 | 58                  | 216                 | month_1             |\n",
       "| 33                  |  7                  | D1                  | 1991-04-22          | 1991-04-22 16:56:00 | 62                  | 211                 | month_1             |\n",
       "\n"
      ],
      "text/plain": [
       "  Insulin_Code Insulin_dose pid date1      datetime            Glucose_Code\n",
       "1 33            9           D1  1991-04-21 1991-04-21 09:09:00 58          \n",
       "2 34           13           D1  1991-04-21 1991-04-21 09:09:00 58          \n",
       "3 33            7           D1  1991-04-21 1991-04-21 17:08:00 62          \n",
       "4 33           10           D1  1991-04-22 1991-04-22 07:35:00 58          \n",
       "5 34           13           D1  1991-04-22 1991-04-22 07:35:00 58          \n",
       "6 33            7           D1  1991-04-22 1991-04-22 16:56:00 62          \n",
       "  Glucose_Value time_period\n",
       "1 100           month_1    \n",
       "2 100           month_1    \n",
       "3 119           month_1    \n",
       "4 216           month_1    \n",
       "5 216           month_1    \n",
       "6 211           month_1    "
      ]
     },
     "metadata": {},
     "output_type": "display_data"
    }
   ],
   "source": [
    "#Feature Engineer datetimes into specific months\n",
    "\n",
    "Diabetes_InsGlucose_dateGroups <- Diabetes_InsGlucose %>%\n",
    "    mutate(time_period = case_when(datetime >= '1991-04-21' & datetime <= '1991-05-19' ~ \"month_1\",\n",
    "                                    datetime >= '1991-05-20' & datetime <= '1991-06-16' ~ \"month_2\",\n",
    "                                    datetime >= '1991-06-17' & datetime <= '1991-07-14' ~ \"month_3\",\n",
    "                                    datetime >= '1991-07-15' & datetime <= '1991-08-11' ~ \"month_4\",\n",
    "                                    datetime >= '1991-08-12' & datetime <= '1991-09-01' ~ \"month_5\"))\n",
    "\n",
    "head(Diabetes_InsGlucose_dateGroups)"
   ]
  },
  {
   "cell_type": "code",
   "execution_count": 28,
   "metadata": {},
   "outputs": [
    {
     "data": {
      "text/html": [
       "<table>\n",
       "<thead><tr><th scope=col>Insulin_Code</th><th scope=col>Insulin_dose</th><th scope=col>pid</th><th scope=col>date1</th><th scope=col>datetime</th><th scope=col>Glucose_Code</th><th scope=col>Glucose_Value</th><th scope=col>time_period</th><th scope=col>month_1</th><th scope=col>month_2</th><th scope=col>month_3</th><th scope=col>month_4</th><th scope=col>month_5</th></tr></thead>\n",
       "<tbody>\n",
       "\t<tr><td>33                 </td><td> 9                 </td><td>D1                 </td><td>1991-04-21         </td><td>1991-04-21 09:09:00</td><td>58                 </td><td>100                </td><td>month_1            </td><td>1                  </td><td>0                  </td><td>0                  </td><td>0                  </td><td>0                  </td></tr>\n",
       "\t<tr><td>34                 </td><td>13                 </td><td>D1                 </td><td>1991-04-21         </td><td>1991-04-21 09:09:00</td><td>58                 </td><td>100                </td><td>month_1            </td><td>1                  </td><td>0                  </td><td>0                  </td><td>0                  </td><td>0                  </td></tr>\n",
       "\t<tr><td>33                 </td><td> 7                 </td><td>D1                 </td><td>1991-04-21         </td><td>1991-04-21 17:08:00</td><td>62                 </td><td>119                </td><td>month_1            </td><td>1                  </td><td>0                  </td><td>0                  </td><td>0                  </td><td>0                  </td></tr>\n",
       "\t<tr><td>33                 </td><td>10                 </td><td>D1                 </td><td>1991-04-22         </td><td>1991-04-22 07:35:00</td><td>58                 </td><td>216                </td><td>month_1            </td><td>1                  </td><td>0                  </td><td>0                  </td><td>0                  </td><td>0                  </td></tr>\n",
       "\t<tr><td>34                 </td><td>13                 </td><td>D1                 </td><td>1991-04-22         </td><td>1991-04-22 07:35:00</td><td>58                 </td><td>216                </td><td>month_1            </td><td>1                  </td><td>0                  </td><td>0                  </td><td>0                  </td><td>0                  </td></tr>\n",
       "\t<tr><td>33                 </td><td> 7                 </td><td>D1                 </td><td>1991-04-22         </td><td>1991-04-22 16:56:00</td><td>62                 </td><td>211                </td><td>month_1            </td><td>1                  </td><td>0                  </td><td>0                  </td><td>0                  </td><td>0                  </td></tr>\n",
       "</tbody>\n",
       "</table>\n"
      ],
      "text/latex": [
       "\\begin{tabular}{r|lllllllllllll}\n",
       " Insulin\\_Code & Insulin\\_dose & pid & date1 & datetime & Glucose\\_Code & Glucose\\_Value & time\\_period & month\\_1 & month\\_2 & month\\_3 & month\\_4 & month\\_5\\\\\n",
       "\\hline\n",
       "\t 33                  &  9                  & D1                  & 1991-04-21          & 1991-04-21 09:09:00 & 58                  & 100                 & month\\_1           & 1                   & 0                   & 0                   & 0                   & 0                  \\\\\n",
       "\t 34                  & 13                  & D1                  & 1991-04-21          & 1991-04-21 09:09:00 & 58                  & 100                 & month\\_1           & 1                   & 0                   & 0                   & 0                   & 0                  \\\\\n",
       "\t 33                  &  7                  & D1                  & 1991-04-21          & 1991-04-21 17:08:00 & 62                  & 119                 & month\\_1           & 1                   & 0                   & 0                   & 0                   & 0                  \\\\\n",
       "\t 33                  & 10                  & D1                  & 1991-04-22          & 1991-04-22 07:35:00 & 58                  & 216                 & month\\_1           & 1                   & 0                   & 0                   & 0                   & 0                  \\\\\n",
       "\t 34                  & 13                  & D1                  & 1991-04-22          & 1991-04-22 07:35:00 & 58                  & 216                 & month\\_1           & 1                   & 0                   & 0                   & 0                   & 0                  \\\\\n",
       "\t 33                  &  7                  & D1                  & 1991-04-22          & 1991-04-22 16:56:00 & 62                  & 211                 & month\\_1           & 1                   & 0                   & 0                   & 0                   & 0                  \\\\\n",
       "\\end{tabular}\n"
      ],
      "text/markdown": [
       "\n",
       "| Insulin_Code | Insulin_dose | pid | date1 | datetime | Glucose_Code | Glucose_Value | time_period | month_1 | month_2 | month_3 | month_4 | month_5 |\n",
       "|---|---|---|---|---|---|---|---|---|---|---|---|---|\n",
       "| 33                  |  9                  | D1                  | 1991-04-21          | 1991-04-21 09:09:00 | 58                  | 100                 | month_1             | 1                   | 0                   | 0                   | 0                   | 0                   |\n",
       "| 34                  | 13                  | D1                  | 1991-04-21          | 1991-04-21 09:09:00 | 58                  | 100                 | month_1             | 1                   | 0                   | 0                   | 0                   | 0                   |\n",
       "| 33                  |  7                  | D1                  | 1991-04-21          | 1991-04-21 17:08:00 | 62                  | 119                 | month_1             | 1                   | 0                   | 0                   | 0                   | 0                   |\n",
       "| 33                  | 10                  | D1                  | 1991-04-22          | 1991-04-22 07:35:00 | 58                  | 216                 | month_1             | 1                   | 0                   | 0                   | 0                   | 0                   |\n",
       "| 34                  | 13                  | D1                  | 1991-04-22          | 1991-04-22 07:35:00 | 58                  | 216                 | month_1             | 1                   | 0                   | 0                   | 0                   | 0                   |\n",
       "| 33                  |  7                  | D1                  | 1991-04-22          | 1991-04-22 16:56:00 | 62                  | 211                 | month_1             | 1                   | 0                   | 0                   | 0                   | 0                   |\n",
       "\n"
      ],
      "text/plain": [
       "  Insulin_Code Insulin_dose pid date1      datetime            Glucose_Code\n",
       "1 33            9           D1  1991-04-21 1991-04-21 09:09:00 58          \n",
       "2 34           13           D1  1991-04-21 1991-04-21 09:09:00 58          \n",
       "3 33            7           D1  1991-04-21 1991-04-21 17:08:00 62          \n",
       "4 33           10           D1  1991-04-22 1991-04-22 07:35:00 58          \n",
       "5 34           13           D1  1991-04-22 1991-04-22 07:35:00 58          \n",
       "6 33            7           D1  1991-04-22 1991-04-22 16:56:00 62          \n",
       "  Glucose_Value time_period month_1 month_2 month_3 month_4 month_5\n",
       "1 100           month_1     1       0       0       0       0      \n",
       "2 100           month_1     1       0       0       0       0      \n",
       "3 119           month_1     1       0       0       0       0      \n",
       "4 216           month_1     1       0       0       0       0      \n",
       "5 216           month_1     1       0       0       0       0      \n",
       "6 211           month_1     1       0       0       0       0      "
      ]
     },
     "metadata": {},
     "output_type": "display_data"
    }
   ],
   "source": [
    "#Convert monthly \"buckets\" to numeric\n",
    "\n",
    "Diabetes_InsGlucose_months <- Diabetes_InsGlucose_dateGroups %>%\n",
    "    mutate(\n",
    "            month_1 = ifelse(time_period == \"month_1\", 1, 0),\n",
    "            month_2 = ifelse(time_period == \"month_2\", 1, 0),\n",
    "            month_3 = ifelse(time_period == \"month_3\", 1, 0),\n",
    "            month_4 = ifelse(time_period == \"month_4\", 1, 0),\n",
    "            month_5 = ifelse(time_period == \"month_5\", 1, 0))\n",
    "\n",
    "head(Diabetes_InsGlucose_months)"
   ]
  },
  {
   "cell_type": "code",
   "execution_count": 29,
   "metadata": {},
   "outputs": [],
   "source": [
    "#COHORT ANALYSIS"
   ]
  },
  {
   "cell_type": "code",
   "execution_count": 32,
   "metadata": {},
   "outputs": [
    {
     "name": "stdout",
     "output_type": "stream",
     "text": [
      "'data.frame':\t86 obs. of  13 variables:\n",
      " $ Insulin_Code : int  33 34 33 33 34 33 33 34 33 33 ...\n",
      " $ Insulin_dose : int  9 13 7 10 13 7 11 13 7 10 ...\n",
      " $ pid          : chr  \"D1\" \"D1\" \"D1\" \"D1\" ...\n",
      " $ date1        : Date, format: \"1991-04-21\" \"1991-04-21\" ...\n",
      " $ datetime     : POSIXct, format: \"1991-04-21 09:09:00\" \"1991-04-21 09:09:00\" ...\n",
      " $ Glucose_Code : int  58 58 62 58 58 62 58 58 62 58 ...\n",
      " $ Glucose_Value: int  100 100 119 216 216 211 257 257 129 239 ...\n",
      " $ time_period  : chr  \"month_1\" \"month_1\" \"month_1\" \"month_1\" ...\n",
      " $ month_1      : num  1 1 1 1 1 1 1 1 1 1 ...\n",
      " $ month_2      : num  0 0 0 0 0 0 0 0 0 0 ...\n",
      " $ month_3      : num  0 0 0 0 0 0 0 0 0 0 ...\n",
      " $ month_4      : num  0 0 0 0 0 0 0 0 0 0 ...\n",
      " $ month_5      : num  0 0 0 0 0 0 0 0 0 0 ...\n"
     ]
    }
   ],
   "source": [
    "#Create a training subset of the data\n",
    "\n",
    "Diab_train <- subset(Diabetes_InsGlucose_months, Diabetes_InsGlucose_months$month_1 == 1)\n",
    "\n",
    "str(Diab_train)\n"
   ]
  },
  {
   "cell_type": "code",
   "execution_count": 33,
   "metadata": {},
   "outputs": [
    {
     "data": {
      "text/html": [
       "<table>\n",
       "<thead><tr><th scope=col>mean(Glucose_Value)</th></tr></thead>\n",
       "<tbody>\n",
       "\t<tr><td>164.6628</td></tr>\n",
       "</tbody>\n",
       "</table>\n"
      ],
      "text/latex": [
       "\\begin{tabular}{r|l}\n",
       " mean(Glucose\\_Value)\\\\\n",
       "\\hline\n",
       "\t 164.6628\\\\\n",
       "\\end{tabular}\n"
      ],
      "text/markdown": [
       "\n",
       "| mean(Glucose_Value) |\n",
       "|---|\n",
       "| 164.6628 |\n",
       "\n"
      ],
      "text/plain": [
       "  mean(Glucose_Value)\n",
       "1 164.6628           "
      ]
     },
     "metadata": {},
     "output_type": "display_data"
    }
   ],
   "source": [
    "#Calculation of mean Glucose value for month 1 as baseline observed mean\n",
    "\n",
    "mean_month1 <- Diab_train %>%\n",
    "    summarise(mean(Glucose_Value))\n",
    "\n",
    "mean_month1"
   ]
  },
  {
   "cell_type": "code",
   "execution_count": 37,
   "metadata": {},
   "outputs": [
    {
     "data": {
      "text/html": [
       "86"
      ],
      "text/latex": [
       "86"
      ],
      "text/markdown": [
       "86"
      ],
      "text/plain": [
       "[1] 86"
      ]
     },
     "metadata": {},
     "output_type": "display_data"
    },
    {
     "data": {
      "text/html": [
       "19.4130886753507"
      ],
      "text/latex": [
       "19.4130886753507"
      ],
      "text/markdown": [
       "19.4130886753507"
      ],
      "text/plain": [
       "[1] 19.41309"
      ]
     },
     "metadata": {},
     "output_type": "display_data"
    }
   ],
   "source": [
    "#Manual calculation of a dependent t-test\n",
    "\n",
    "#Null hypothesis - no difference between mean glucose values between months (i.e. no change in average blood\n",
    "#glucose levels for the patient between months)\n",
    "\n",
    "#Alternative hypothesis - significant difference between mean blood glucose values between months\n",
    "\n",
    "#Significance level set at 0.05\n",
    "\n",
    "#Define sample size\n",
    "n <- nrow(Diab_train)\n",
    "n\n",
    "\n",
    "#Mean of hte difference scores\n",
    "mean_diff <- sum(Diab_train$Glucose_Value) / n\n",
    "\n",
    "#Standard deviation of the difference scores\n",
    "sd_diff <- sqrt(sum((Diab_train$Glucose_Value - mean_diff) ^2) / (n - 1))\n",
    "\n",
    "#Observed t-value\n",
    "t_obs <- mean_diff / (sd_diff / sqrt(n))\n",
    "\n",
    "#Print observed t-value\n",
    "t_obs"
   ]
  },
  {
   "cell_type": "code",
   "execution_count": 38,
   "metadata": {},
   "outputs": [
    {
     "data": {
      "text/html": [
       "1.98826790747722"
      ],
      "text/latex": [
       "1.98826790747722"
      ],
      "text/markdown": [
       "1.98826790747722"
      ],
      "text/plain": [
       "[1] 1.988268"
      ]
     },
     "metadata": {},
     "output_type": "display_data"
    },
    {
     "data": {
      "text/html": [
       "19.4130886753507"
      ],
      "text/latex": [
       "19.4130886753507"
      ],
      "text/markdown": [
       "19.4130886753507"
      ],
      "text/plain": [
       "[1] 19.41309"
      ]
     },
     "metadata": {},
     "output_type": "display_data"
    },
    {
     "data": {
      "text/html": [
       "2.09336718830733"
      ],
      "text/latex": [
       "2.09336718830733"
      ],
      "text/markdown": [
       "2.09336718830733"
      ],
      "text/plain": [
       "[1] 2.093367"
      ]
     },
     "metadata": {},
     "output_type": "display_data"
    }
   ],
   "source": [
    "#Manual Calculation of critical value for comparison with observed t-value (to ascertain if sufficient evidence to \n",
    "#reject null hypothesis)\n",
    "#Degrees of freedom of t-distribution = sample size - 1 (86 - 1 = 85 d.f)\n",
    "\n",
    "#Two tailed t-test used (expected outcome = significant effect in either POSITIVE or NEGATIVE direction)\n",
    "#i.e. mean blood glucose levels significantly higher or lower than that for month 1\n",
    "\n",
    "#Observed t-value = +19.41, so only right side distribution relevant here\n",
    "\n",
    "#Further, as desired significance level = 0.05, critical value is point on t-distribution where 0.025 of total \n",
    "#area of 1 is to right i.e. this point is the 0.975 quantile\n",
    "\n",
    "#Compute the critical value\n",
    "t_crit <- qt(0.975, 85)\n",
    "t_crit\n",
    "\n",
    "#Print observed t-value \n",
    "t_obs\n",
    "\n",
    "#Compute Cohen's d\n",
    "cohens_d <- mean_diff / sd_diff\n",
    "cohens_d"
   ]
  },
  {
   "cell_type": "code",
   "execution_count": 39,
   "metadata": {},
   "outputs": [],
   "source": [
    "#Interpretation of outputs above\n",
    "\n",
    "#Observed t-value is significantly larger than the critical value, thus difference is significant at a \n",
    "#significance level of 0.05"
   ]
  },
  {
   "cell_type": "code",
   "execution_count": 40,
   "metadata": {},
   "outputs": [],
   "source": [
    "#Repeating above for month 2\n",
    "Diab_train_month2 <- subset(Diabetes_InsGlucose_months, Diabetes_InsGlucose_months$month_2 == 1)"
   ]
  },
  {
   "cell_type": "code",
   "execution_count": 41,
   "metadata": {},
   "outputs": [
    {
     "data": {
      "text/html": [
       "<table>\n",
       "<thead><tr><th scope=col>mean(Glucose_Value)</th></tr></thead>\n",
       "<tbody>\n",
       "\t<tr><td>161.2</td></tr>\n",
       "</tbody>\n",
       "</table>\n"
      ],
      "text/latex": [
       "\\begin{tabular}{r|l}\n",
       " mean(Glucose\\_Value)\\\\\n",
       "\\hline\n",
       "\t 161.2\\\\\n",
       "\\end{tabular}\n"
      ],
      "text/markdown": [
       "\n",
       "| mean(Glucose_Value) |\n",
       "|---|\n",
       "| 161.2 |\n",
       "\n"
      ],
      "text/plain": [
       "  mean(Glucose_Value)\n",
       "1 161.2              "
      ]
     },
     "metadata": {},
     "output_type": "display_data"
    }
   ],
   "source": [
    "#Calculate mean Glucose for month 2\n",
    "mean_month2 <- Diab_train_month2 %>%\n",
    "    summarise(mean(Glucose_Value))\n",
    "\n",
    "mean_month2"
   ]
  },
  {
   "cell_type": "code",
   "execution_count": 42,
   "metadata": {},
   "outputs": [
    {
     "data": {
      "text/plain": [
       "\n",
       "\tWelch Two Sample t-test\n",
       "\n",
       "data:  Diab_train$Glucose_Value and Diab_train_month2$Glucose_Value\n",
       "t = 0.30181, df = 175.39, p-value = 0.7632\n",
       "alternative hypothesis: true difference in means is not equal to 0\n",
       "95 percent confidence interval:\n",
       " -19.18058  26.10616\n",
       "sample estimates:\n",
       "mean of x mean of y \n",
       " 164.6628  161.2000 \n"
      ]
     },
     "metadata": {},
     "output_type": "display_data"
    }
   ],
   "source": [
    "#Calculating t-test statistics for months 1 - 2\n",
    "\n",
    "t.test(Diab_train$Glucose_Value, Diab_train_month2$Glucose_Value, paired = FALSE)"
   ]
  },
  {
   "cell_type": "code",
   "execution_count": 45,
   "metadata": {},
   "outputs": [
    {
     "data": {
      "text/html": [
       "0.0450209799661209"
      ],
      "text/latex": [
       "0.0450209799661209"
      ],
      "text/markdown": [
       "0.0450209799661209"
      ],
      "text/plain": [
       "[1] 0.04502098"
      ]
     },
     "metadata": {},
     "output_type": "display_data"
    }
   ],
   "source": [
    "#Computing Cohen's D for months 1 - 2\n",
    "cohensD(Diab_train$Glucose_Value, Diab_train_month2$Glucose_Value, method = \"pooled\")\n",
    "\n",
    "#A Cohen's d of 0.045 implies that the glucose values for the \n",
    "#patient changed between months 1 and 2 by 0.045 standard deviations, \n",
    "#which is not very large!"
   ]
  },
  {
   "cell_type": "code",
   "execution_count": 46,
   "metadata": {},
   "outputs": [
    {
     "data": {
      "text/html": [
       "<table>\n",
       "<thead><tr><th scope=col>mean(Glucose_Value)</th></tr></thead>\n",
       "<tbody>\n",
       "\t<tr><td>168.1158</td></tr>\n",
       "</tbody>\n",
       "</table>\n"
      ],
      "text/latex": [
       "\\begin{tabular}{r|l}\n",
       " mean(Glucose\\_Value)\\\\\n",
       "\\hline\n",
       "\t 168.1158\\\\\n",
       "\\end{tabular}\n"
      ],
      "text/markdown": [
       "\n",
       "| mean(Glucose_Value) |\n",
       "|---|\n",
       "| 168.1158 |\n",
       "\n"
      ],
      "text/plain": [
       "  mean(Glucose_Value)\n",
       "1 168.1158           "
      ]
     },
     "metadata": {},
     "output_type": "display_data"
    },
    {
     "data": {
      "text/plain": [
       "\n",
       "\tWelch Two Sample t-test\n",
       "\n",
       "data:  Diab_train$Glucose_Value and Diab_train_month3$Glucose_Value\n",
       "t = -0.31227, df = 170.2, p-value = 0.7552\n",
       "alternative hypothesis: true difference in means is not equal to 0\n",
       "95 percent confidence interval:\n",
       " -25.28077  18.37477\n",
       "sample estimates:\n",
       "mean of x mean of y \n",
       " 164.6628  168.1158 \n"
      ]
     },
     "metadata": {},
     "output_type": "display_data"
    }
   ],
   "source": [
    "#Repeating above for month 3\n",
    "Diab_train_month3 <- subset(Diabetes_InsGlucose_months, Diabetes_InsGlucose_months$month_3 == 1)\n",
    "\n",
    "#Calculate mean Glucose for month 3\n",
    "mean_month3 <- Diab_train_month3 %>%\n",
    "    summarise(mean(Glucose_Value))\n",
    "\n",
    "mean_month3\n",
    "\n",
    "#Calculating t-test statistics for months 1 - 3\n",
    "\n",
    "t.test(Diab_train$Glucose_Value, Diab_train_month3$Glucose_Value, paired = FALSE)"
   ]
  },
  {
   "cell_type": "code",
   "execution_count": 47,
   "metadata": {},
   "outputs": [
    {
     "data": {
      "text/html": [
       "0.0467785695808551"
      ],
      "text/latex": [
       "0.0467785695808551"
      ],
      "text/markdown": [
       "0.0467785695808551"
      ],
      "text/plain": [
       "[1] 0.04677857"
      ]
     },
     "metadata": {},
     "output_type": "display_data"
    }
   ],
   "source": [
    "#Computing Cohen's D for months 1 - 3\n",
    "cohensD(Diab_train$Glucose_Value, Diab_train_month3$Glucose_Value, method = \"pooled\")\n",
    "\n",
    "#A Cohen's d of 0.046 means that the glucose values for the \n",
    "#patient changed between months 1 and 3 by 0.045 standard deviations, \n",
    "#which is not very large!"
   ]
  },
  {
   "cell_type": "code",
   "execution_count": 48,
   "metadata": {},
   "outputs": [
    {
     "data": {
      "text/html": [
       "<table>\n",
       "<thead><tr><th scope=col>mean(Glucose_Value)</th></tr></thead>\n",
       "<tbody>\n",
       "\t<tr><td>159.1951</td></tr>\n",
       "</tbody>\n",
       "</table>\n"
      ],
      "text/latex": [
       "\\begin{tabular}{r|l}\n",
       " mean(Glucose\\_Value)\\\\\n",
       "\\hline\n",
       "\t 159.1951\\\\\n",
       "\\end{tabular}\n"
      ],
      "text/markdown": [
       "\n",
       "| mean(Glucose_Value) |\n",
       "|---|\n",
       "| 159.1951 |\n",
       "\n"
      ],
      "text/plain": [
       "  mean(Glucose_Value)\n",
       "1 159.1951           "
      ]
     },
     "metadata": {},
     "output_type": "display_data"
    },
    {
     "data": {
      "text/plain": [
       "\n",
       "\tWelch Two Sample t-test\n",
       "\n",
       "data:  Diab_train$Glucose_Value and Diab_train_month4$Glucose_Value\n",
       "t = 0.48071, df = 164.72, p-value = 0.6314\n",
       "alternative hypothesis: true difference in means is not equal to 0\n",
       "95 percent confidence interval:\n",
       " -16.99034  27.92568\n",
       "sample estimates:\n",
       "mean of x mean of y \n",
       " 164.6628  159.1951 \n"
      ]
     },
     "metadata": {},
     "output_type": "display_data"
    },
    {
     "data": {
      "text/html": [
       "0.0739552132890597"
      ],
      "text/latex": [
       "0.0739552132890597"
      ],
      "text/markdown": [
       "0.0739552132890597"
      ],
      "text/plain": [
       "[1] 0.07395521"
      ]
     },
     "metadata": {},
     "output_type": "display_data"
    }
   ],
   "source": [
    "#REPEATING ABOVE FOR 4TH MONTH \n",
    "\n",
    "Diab_train_month4 <- subset(Diabetes_InsGlucose_months, Diabetes_InsGlucose_months$month_4 == 1)\n",
    "\n",
    "#Calculate mean Glucose for month 4\n",
    "mean_month4 <- Diab_train_month4 %>%\n",
    "    summarise(mean(Glucose_Value))\n",
    "\n",
    "mean_month4\n",
    "\n",
    "#Calculating t-test statistics for months 1 - 4\n",
    "\n",
    "t.test(Diab_train$Glucose_Value, Diab_train_month4$Glucose_Value, paired = FALSE)\n",
    "\n",
    "#Computing Cohen's D for months 1 - 4\n",
    "cohensD(Diab_train$Glucose_Value, Diab_train_month4$Glucose_Value, method = \"pooled\")\n",
    "\n",
    "#A Cohen's d of 0.07 implies that the glucose values for the \n",
    "#patient changed between months 1 and 4 by 0.07 standard deviations, \n",
    "#again, not very significant!"
   ]
  },
  {
   "cell_type": "code",
   "execution_count": 49,
   "metadata": {},
   "outputs": [
    {
     "data": {
      "text/html": [
       "<table>\n",
       "<thead><tr><th scope=col>mean(Glucose_Value)</th></tr></thead>\n",
       "<tbody>\n",
       "\t<tr><td>181.3774</td></tr>\n",
       "</tbody>\n",
       "</table>\n"
      ],
      "text/latex": [
       "\\begin{tabular}{r|l}\n",
       " mean(Glucose\\_Value)\\\\\n",
       "\\hline\n",
       "\t 181.3774\\\\\n",
       "\\end{tabular}\n"
      ],
      "text/markdown": [
       "\n",
       "| mean(Glucose_Value) |\n",
       "|---|\n",
       "| 181.3774 |\n",
       "\n"
      ],
      "text/plain": [
       "  mean(Glucose_Value)\n",
       "1 181.3774           "
      ]
     },
     "metadata": {},
     "output_type": "display_data"
    },
    {
     "data": {
      "text/plain": [
       "\n",
       "\tWelch Two Sample t-test\n",
       "\n",
       "data:  Diab_train$Glucose_Value and Diab_train_month5$Glucose_Value\n",
       "t = -1.2783, df = 117.17, p-value = 0.2037\n",
       "alternative hypothesis: true difference in means is not equal to 0\n",
       "95 percent confidence interval:\n",
       " -42.609503   9.180368\n",
       "sample estimates:\n",
       "mean of x mean of y \n",
       " 164.6628  181.3774 \n"
      ]
     },
     "metadata": {},
     "output_type": "display_data"
    },
    {
     "data": {
      "text/html": [
       "0.218891493146531"
      ],
      "text/latex": [
       "0.218891493146531"
      ],
      "text/markdown": [
       "0.218891493146531"
      ],
      "text/plain": [
       "[1] 0.2188915"
      ]
     },
     "metadata": {},
     "output_type": "display_data"
    }
   ],
   "source": [
    "#REPEATING ABOVE FOR 5TH MONTH \n",
    "\n",
    "Diab_train_month5 <- subset(Diabetes_InsGlucose_months, Diabetes_InsGlucose_months$month_5 == 1)\n",
    "\n",
    "#Calculate mean Glucose for month 5\n",
    "mean_month5 <- Diab_train_month5 %>%\n",
    "    summarise(mean(Glucose_Value))\n",
    "\n",
    "mean_month5\n",
    "\n",
    "#Calculating t-test statistics for months 1 - 5\n",
    "\n",
    "t.test(Diab_train$Glucose_Value, Diab_train_month5$Glucose_Value, paired = FALSE)\n",
    "\n",
    "#Computing Cohen's D for months 1 - 5\n",
    "cohensD(Diab_train$Glucose_Value, Diab_train_month5$Glucose_Value, method = \"pooled\")\n",
    "\n",
    "#A Cohen's d of 0.21 means that the glucose values for the \n",
    "#patient changed between months 1 and 5 by 0.21 standard deviations, \n",
    "#again, not very significant!"
   ]
  },
  {
   "cell_type": "code",
   "execution_count": null,
   "metadata": {},
   "outputs": [],
   "source": []
  }
 ],
 "metadata": {
  "kernelspec": {
   "display_name": "R",
   "language": "R",
   "name": "ir"
  },
  "language_info": {
   "codemirror_mode": "r",
   "file_extension": ".r",
   "mimetype": "text/x-r-source",
   "name": "R",
   "pygments_lexer": "r",
   "version": "3.6.1"
  }
 },
 "nbformat": 4,
 "nbformat_minor": 4
}
