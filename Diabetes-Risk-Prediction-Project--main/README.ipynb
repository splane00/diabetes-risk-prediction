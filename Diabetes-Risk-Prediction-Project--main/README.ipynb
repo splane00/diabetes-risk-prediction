{
 "cells": [
  {
   "cell_type": "markdown",
   "metadata": {},
   "source": [
    "# RISK PREDICTION PROJECT FOR PATIENTS WITH DIABETES - README"
   ]
  },
  {
   "cell_type": "markdown",
   "metadata": {},
   "source": [
    "## TABLE OF CONTENTS\n",
    "\n",
    "- Background\n",
    "- The Problem\n",
    "- Data Collection\n",
    "- Data Preparation + EDA\n",
    "- Model Training & Design\n",
    "- Evaluation & Deployment"
   ]
  },
  {
   "cell_type": "markdown",
   "metadata": {},
   "source": [
    "<img src =\"DiabetesProjectReadme.png\" style = \"width:800px; height:300px\"/>"
   ]
  },
  {
   "cell_type": "markdown",
   "metadata": {},
   "source": [
    "## BACKGROUND\n",
    "\n",
    "The ever increasing demand for healthcare resources (from factors inclusive of ageing demographics, multiplicity of chronic conditions per individual, socio-economic status changes, a pivot towards personalised medicine etc) far outstrip supply (with constraints on clinical, financial and other resources within a publicly funded healthcare system).\n",
    "\n",
    "This is in part due to a transition from Acute to Chronic illness as the major source of burden to the health system as well as to the quality of life of people living with the disease conditions.\n",
    "\n",
    "Besides age, diabetes is the largest contributor to overall healthcare costs and reduced life expectancy in Europe (1)\n",
    "\n",
    "There are approximately 2.9 million patients with Type 2 diabetics and 240,000 with Type 1 Diabetics currently living in the UK. Diabetes alone results in approximately 10,000 amputations/year (leg, toe or foot). It is one of the leading causes of preventable sight loss in the UK and increases patient predisposition to strokes, heart attacks, kidney failure etc. It is also recognised as a cause of premature death (>700 people/week) (NHS Digital Hospital Episode Statistics in England and the National Diabetes Audit).\n",
    "\n",
    "1 in 6 patients admitted to hospital has diabetes and diabetic patients are twice as likely to be admitted to hospital (2). Concurrently, there are cardiac, renal, metabolic and other consequences for patients with poorly controlled diabetes.\n",
    "\n",
    "The NHS spends approximately £5.5 billion a year on hospital care for people with diabetes. Research suggests that of the £5.5 billion spend, approximately £3 billion may be avoidable if all patients controlled their glycaemia (3)"
   ]
  },
  {
   "cell_type": "markdown",
   "metadata": {},
   "source": [
    "Avoidable hospital care provision for patients with diabetes cost the NHS £3 billion in 2017/2018 (1). The increased hospital costs (40% of which come from non-elective and emergency care, are 3* higher than current costs of diabetes medication). This was equal to £560 per person without diabetes, compared with £3280 for people with T1DM and £1686 per person with T2DM. The study also found that only 62% of the diabetic patients admitted had controlled their glycaemia in the past 3 months (1). \n",
    "\n",
    "**The implication here is there is potential to mitigate hospital admissions for high-risk patients with diabetes if identified early enough, with appropriate care provision initiated in a timely fashion.**\n",
    "\n",
    "Current preventive solutions include teams of diabetes specialist nurses (DSN) and General Practitioners, that co-ordinate care provision for these patients (in secondary and primary care respectively). Typical hospital teams range from approximately 4 - 6 DSN (dependent on patient numbers receiving care provision per NHS Trust). There are approximately 223 NHS Trusts across the UK. This highlights the mismatch described earlier between demand and supply."
   ]
  },
  {
   "cell_type": "markdown",
   "metadata": {},
   "source": [
    "## THE PROBLEM\n",
    "\n",
    "The focal point of the project is on the identification of patients with diabetes at risk of avoidable hospital admission due to poor glycaemic control. This is likely due to a cohort of factors inclusive of:\n",
    "    - non-compliance with diabetic medication\n",
    "    - loss-to follow-up with their General Practitioners (primary care) &/or with their specialists (secondary care)\n",
    "    - incorrect doses/dosing regimes by patients etc\n",
    "    \n",
    "    \n",
    "The historical approach to identification of such at-risk patients has not been data-driven but instead, based on gut-instinct. This is inclusive of use of prior clinical reports, indicators (medical, social), identification of hospital inpatients with blood glucose levels outside of certain target ranges (4 - 20mM) etc. ***A randomised process of (at-risk) patient selection therefore results. This is further compounded by the issue of requirements on a team of 4 - 6 DSN's (with finite resources) for the provision of care to thousands of patients within each catchment area. It is thus highly likely that there are at-risk patients not being identified in advance of deterioration of their blood glucose control*** \n",
    "\n",
    ">The objective of this project is to improve on the historical approach to identification of these at-risk diabetic patients. \n",
    "This clinical problem was further decomposed into a series of sub-problems which were addressed using a variety of statistical concepts and analytical techniques (inclusive of supervised and unsupervised ML algorithms)\n",
    "The solutions to the sub-tasks were then composed to solve the overall problem at hand.\n",
    "\n",
    "The problem was framed as \n",
    "     - **A Supervised problem**, with a target variable of blood glucose levels. These values were provided within the original data and therefore available for comparison against the predictions from the models trained on the remaining feature inputs.\n",
    "     - - Accuracy in regression modeling of expected future blood glucose values would provide one means for highlighting at risk diabetic patients likely to deteriorate and require hospital admission. This was achieved through a numerical estimation of glucose values for each patient.\n",
    "     - - Accuracy in classification modeling would predict for each patient, which class he/she would belong to (normal blood glucose level group vs abnormal blood glucose level group)\n",
    "     - **An Unsupervised problem** in which a clustering algorithm was used to group each individual patient within the cohort, in order to find natural groups by their similarities but not by a pre-specified target characteristic\n",
    "     - **A Time Series Analysis/Forecasting problem** in which the focus was on forecasting future glucose values for each patient into specific time periods in the future\n",
    "     "
   ]
  },
  {
   "cell_type": "markdown",
   "metadata": {},
   "source": [
    "## DATA COLLECTION\n",
    "\n",
    "Datasets used in this project were obtained from the UCI ML repository. Anonymised datasets were collected from 70 patients with diabetes in the early 1990's. 30 of these patient datasets were selected and pulled directly into a Jupyter notebook. These patient records were obtained from 2 sources:- an automatic electronic recording device and paper records. \n",
    "    \n",
    "Features recorded in the datasets include:- \n",
    "    - **DATE** (of data collection) in MM-DD-YYYY format\n",
    "    - **TIME** in MM-SS format\n",
    "    - **CODE** field inclusive of \n",
    "        - Insulin types (Regular, Intermediate and Long-Acting Insulins)\n",
    "        - Glucose Values (pre-breakfast, pre-lunch, pre-supper glucose values etc)\n",
    "    - Other features were specified but had no recorded data (typical meal ingestion, exercise activity) \n",
    "    which would serve to increase the accuracy of the trained algorithms, if present\n",
    "    -Other limitations of the data (likely due to data collection for a different purpose) but would have \n",
    "    further increased model accuracy if present include\n",
    "        - **HbA1c levels\n",
    "        - Urea/Creatinine levels\n",
    "        - Patient demographics\n",
    "        - Recurrent emergency hospital admissions\n",
    "        - Renal/Cardiac failure etc**\n",
    "    \n",
    "Features above were highlighted to demonstrate the mismatch between the problem this clinician set out to solve and the data available to solve the problem.\n",
    "    \n",
    "It was noted that the datasets collected were of different durations for each of the 70 patients within the cohort, with a resulting skew on analysis outputs. "
   ]
  },
  {
   "cell_type": "markdown",
   "metadata": {},
   "source": [
    "## DATA PREPARATION \n",
    "    \n",
    "As part of data cleansing, i implemented the following steps:- \n",
    "    \n",
    "    - removed/inferred missing values within the datasets\n",
    "    - replaced anomalous values of insulin (eg 163)\n",
    "    - feature engineering of attributes in the data into inputs for model training and development \n",
    "    - normalised and scaled data to ensure compatibility\n",
    "    - selected a subset of the data for statistical analysis\n",
    "    - converted \"Date\" and \"Time\" columns from \"character\" to \"date\" and \"datetime\" formats respectively\n",
    "    \n",
    "    \n",
    "## EXPLORATORY DATA ANALYSIS\n",
    "\n",
    "Was next undertaken to better understand the features present within selected datasets as well as to explore potential relationships beteween the features. It was \n",
    "discovered that despite the advertised presence of numerous features as inputs in the data, the only recorded\n",
    "data available was on Regular and Intermediate Acting Insulins as well as blood glucose levels tested at 4 \n",
    "different times of the day. \n",
    "This was the most significant limitation in the ability to predict at-risk diabetic patients in this project.\n",
    "\n",
    "As shown in the facet plot below, Pre-Breakfast blood glucose levels (58) were the most frequently recorded readings by the patient, with similar recording counts for Pre-Lunch (60) and Pre-Supper (62) blood glucose levels \n",
    "\n",
    "<img src = \"GlucoseReadingsimage.png\" style = \"width:1000px, height:300px\"/>\n",
    "\n",
    "The facet plot of Glucose values by Insulin type showed more frequent Glucose value recordings against Regular Insulin (33) vs Intermediate Insulin (34).\n",
    "\n",
    "<img src = \"InsulinGlucoseFacetPlot.png\" style = \"width:1000px, height:300px\"/>\n",
    "\n",
    "BoxPlot below shows **median** pre - meal blood glucose levels that are slightly higher than normal (average normal pre-meal blood glucose levels range between 80 - 120 mg/dL. For diabetic patients, average pre-meal blood glucose levels should be 150mg/dL or less). Only median values for pre-lunch blood glucose (60) levels fall below 150mg/dL\n",
    "\n",
    "<img src = \"BoxPlotGlucoseReadings.png\" style = width:800px; height:300px/>"
   ]
  },
  {
   "cell_type": "markdown",
   "metadata": {},
   "source": [
    "## INFERENTIAL COHORT ANALYSIS\n",
    "\n",
    "This was conducted after description of the data during the EDA stage, to obtain conclusions beyond the immediate data outputs alone. \n",
    "The focus here was on use of datasets from a single patient to compare the average blood glucose values for the individual each month to that from the previous month. \n",
    "The objective was to ascertain if there was a statistically significant difference (whether improvement or deterioration) in average blood glucose levels each month over time.\n",
    "The dependent T-test statistic was used to conduct this assessment, with a statistical significance (p-value) level of 0.05. This p-value (or lower) was never achieved and thus the null hypothesis could not be rejected. It was therefore concluded that there was **NO** statistically significant monthly change noted over time in average blood glucose levels for the patient. Cohen's D outputs were also similarly not significantly different for the patient between months.\n"
   ]
  },
  {
   "cell_type": "markdown",
   "metadata": {},
   "source": [
    "## MODEL TRAINING\n",
    "    \n",
    "The focus of this section was to segment the patient cohort groups that differed from each other with respect to their blood glucose levels (or on the prediction of the long-term risk of an individual patient). The target of these predictions was to identify the patients that would develop poorly controlled blood glucose levels (low or high), for earlier intervention by the health system. \n",
    "    \n",
    "This was done to mimic real world scenarios in which there is no data-driven approach at present to ascertain which patients are likely to have poorly controlled blood sugar levels in the next 3, 6, 9 or 12 months.\n",
    "A limitation of this project was the lack of relevant features on which to make such predictions (with access only to insulin levels and glucose levels as inputs). Ideally, this clinician would have chosen above mentioned attributes to improve accuracy in the modeling process. \n",
    "\n",
    "The objective was to estimate for unknown values of glucose (at present or in the future), using models built and tested using events/data from the past. \n",
    "    \n",
    "Supervised Learning techniques (Classification and Regression) were used to create models that described the relationship between the feature-engineered inputs and the pre-defined target variable.\n",
    "The data was split into subsets (train/test and cross validation) and labelled training data was used as inputs for the algorithms that were developed. \n",
    "    \n",
    "Classification models were built to predict which (of two classes - poor blood glucose control or normal blood glucose control) class each diabetic patient featured within the cohort.\n",
    "    \n",
    "Regression models were built to predict (for each individual), the numerical value of the blood glucose levels. The property predicted here was the blood glucose value forecast for each patient. \n",
    "    \n",
    "Unsupervised learning (Clustering) algorithms were developed to group individual diabetic patients in the cluster together by their similarities but not driven by any specific purpose. Clustering was done to determine if any natural groups existed within the datasets. This could potentially form the basis for targeted treatment approaches/personalisation of therapeutics to specific patient groups with an increased likelihood of success."
   ]
  },
  {
   "cell_type": "markdown",
   "metadata": {},
   "source": [
    "### REGRESSION MODELING \n",
    "\n",
    "Datasets from 30 diabetic patients were pooled together for model training and testing. A dataframe of >12,000 observations was obtained. As stated above, features available within the data for model development and testing were limited. This had a significant impact on the accuracy of the models subsequently developed.\n",
    "A baseline model was fit with outputs suggesting each additional dose of Insulin given would raise the blood glucose level by 0.73mM (which is incorrect and not reflective of the pharmacology of insulin action).\n",
    "\n",
    "Baseline models were subsequently used to make predictions for different time periods.\n",
    "<img src = \"LinearBaselineModelPredictions.png\" style = \"width:1000px; height:500px\"/>\n",
    "\n",
    "Next, linear models were trained separately on different parts of the training data (morning, afternoon and nighttime datasets).\n",
    "\n",
    "Next, Random Forest models were fitted using cross validation and subsequently tuned.\n",
    "Finally, GLMNET models were fitted using cross validation techniques and subsequently used to predict blood glucose values.\n",
    "\n",
    "Summary statistics used to explain model performance include the adjusted R-squared and the RSE.\n",
    "The adjusted R-squared summarised the correlation between the feature inputs and the model outputs. The closer to 1, the better the model fit to the data (and thus, the better the model performance). \n",
    "The sigma (RSE) reflected the difference between the actual/recorded glucose values and those predicted by the models. Both metrics were slightly improved with the Random Forest and GLMNET models when compared with the linear model outputs"
   ]
  },
  {
   "cell_type": "markdown",
   "metadata": {},
   "source": [
    "### Classification Modeling \n",
    "These were built to predict for each datapoint from each patient, which of 2 classes - poor glucose control (<40 or >200mg/dL) or normal glucose \n",
    "control (40 - 200 mg/dL) the dataset (& ultimately each patient) would belong.\n",
    "\n",
    "A Logistic Regression model was fit which was trained on 60% of the data and predicted on the remaining 40% (test set).\n",
    "A Confusion Matrix (2 way frequency table) was created to compare the predicted classes against actual classes. As the table below shows, the model accurately predicted\n",
    "on 409 datasets (true positives) & 1026 (true negatives). 16 false negatives were identified as well. \n",
    "\n",
    "<img src = \"ClassificationConfusionMatrix.png\" style = \"width:500px; height:500px\"/>\n",
    "\n",
    "An ROC curve displayed the model predictions against actual values in test dataset\n",
    "\n",
    "<img src = \"ClassificationROCCurve.png\" style = \"width:1000px; height:500px\"/>\n",
    "\n",
    "The process was repeated with Random Forest and Gradient Boost Models"
   ]
  },
  {
   "cell_type": "markdown",
   "metadata": {},
   "source": [
    "### Clustering Modeling\n",
    "An Unsupervised (k-means) Clustering algorithm was created to group clusters of Diabetic patients along similar characteristics that were not pre-defined.\n",
    "2 rounds of k-means clustering were conducted with a comparison of the output patient clusters which were of different sizes and distributions. The implication\n",
    "here was that the groups within each cluster were likely not made up of similar patient characteristics\n",
    "\n",
    "<img src = \"ClusteringFirstCluster.png\" style = \"width:500px: height:200px\"/>\n",
    "<img src = \"ClusteringSecondClust.png\" style = \"width:500px: height:200px\"/>\n",
    "\n",
    "Finally, an elbow plot was created which showed the optimal k-means value was estimated at 2 or 3, given the available data."
   ]
  },
  {
   "cell_type": "markdown",
   "metadata": {},
   "source": [
    "### Time Series Modeling\n",
    "Time Series Analysis & Forecasting modeling focused on datasets from patient 1 alone. \n",
    "Average glucose readings for each day included within the datasets were calculated.\n",
    "Naive Bayes time series models, random & automatic ARIMA models and finally Prophet Models were built and used to forecast future average daily blood glucose \n",
    "values\n",
    "<img src = \"TimeSeriesProphetModeling.png\" style = \"width:1000px; height:500px\"/>"
   ]
  },
  {
   "cell_type": "markdown",
   "metadata": {},
   "source": [
    "CONCLUSION\n",
    "\n",
    "People with diabetes constitute a significant impact on hospital activity including management of diabetes-related complications. They are admitted more often especially as emergencies and stay on average for longer (1). \n",
    "\n",
    "Although correlation does not equate to causation, it is possible that the improved mangement of patients with Types 1 & 2 diabetes in primary care (with a focus on prevention of disease progression) will likely reduce the level of avoidable hospital admissions due to disease complications. The role of the secondary care specialist team in supporting primary care teams in optimising diabetes management in the community will be a key factor in improving patient outcomes. \n",
    "\n",
    "**One such approach could be through the data driven identification of such patients in advance of a deterioration of their health status.** \n",
    "\n",
    "The objective of this project has been a focused outlook on the data-driven process of identification of at-risk diabetic patients likely to require (avoidable) hospital admission in the short term (6 months or less). \n",
    "This project showcases the potential of AI/ML as tech enablers in support of this process. Such work requires clinician engagement from inception, in:- \n",
    "\n",
    "---formulating the clinical problems amenable to ML \n",
    "---identifying the features most likely to yield accurate results and \n",
    "---co-creating the solutions alongside AI/ML practitioners. \n",
    "\n",
    "This will foster trust and adoption across the wider clinical community.\n",
    "\n",
    "Such potential for the delivery of precision medicine at the patient level is made possible as each individualised patient trajectory can be \"charted\" using these tech enablers as well as their individual risk profiles (genetics etc) and responses to treatment. There is also the ability to compute multiple risk scores for various different clinical conditions present within a single patient (as well as their additive impacts on each other). This permits the development of a holistic view of each patient's health status at a point in time (through static data) as well as over a period of time (through time series data).\n",
    "\n",
    "Diabetes Mellitus as a chronic condition lends itself well to the model of a personalised treatment approach for individuals living with the disease condition. This is because the treatment response is highly heterogenous, hard to predict, with associated risks (toxicity etc) if not taken as prescribed. \n",
    "\n",
    "Extending the time series model in clinical decision support systems for personalised treatment of patients with diabetes, it is possible to estimate/predict the individual patient response to diabetic treatment(s) in advance, optimal treatment times for each patient and how to select among multiple diabetic medications over time. All of which would serve to optimise the health status of the individual.\n",
    "\n",
    "\n",
    "The focus of this project has been on identification of patients with diabetes for a more targeted focus on health optimisation from the health system. In the drive to personalise healthcare for patients with disease conditions, technology will help answer the question regarding the unique chararcteristics of each patient & an estimation of treatment effects at the individual level (treatment regimes, specific doses and dosing intervals). This solves the problem of care provision that is respectful of and responsive to individual patient need. This project has however, not focused on how we better engage patients with diabetes to make the necessary changes to improve their health. These include a focus on patient preference (where possible) and values which are likely to have a stronger influence on self-motivation. This mindset shift is essential for the successful long-term self management of chronic conditions to which the health system is not currently adapted to support. \n",
    "This is extremely relevant in personalising healthcare for patients required to commit to a lifetime (for most) of self-management of their chronic disease conditions like Diabetes, which currently have no cure."
   ]
  },
  {
   "cell_type": "markdown",
   "metadata": {},
   "source": [
    "REFERENCES\n",
    "1. Stedman M et al. Cost of hospital treatment of type 1 diabetes (T1DM) and type 2 diabetes (T2DM) compared to the non-diabetes population: a detailed economic evaluation. BMJ Open 2020:10(5): e033231\n",
    "2. https://www.diabetes.org.uk/professionals/position-statements-reports/statistics\n",
    "3. NHS Digital HES data. Available: https://digital.nhs.uk/data-and-infomration/data-tools-and-services/data-services/hospital-episode-statistics\n",
    "4. WHO global report on diabetes, 2016. Available: https://apps.who.int/iris\n",
    "5. National diabetes inpatient audit, 2018. Available: http://content.digital.nhs.uk/diabetesinpatientaudit\n",
    "6. National diabetes audit, 2018. Available: http://content.digital.nhs.uk/diabetesinpatientaudit\n",
    "\n"
   ]
  }
 ],
 "metadata": {
  "kernelspec": {
   "display_name": "R",
   "language": "R",
   "name": "ir"
  },
  "language_info": {
   "codemirror_mode": "r",
   "file_extension": ".r",
   "mimetype": "text/x-r-source",
   "name": "R",
   "pygments_lexer": "r",
   "version": "3.6.1"
  }
 },
 "nbformat": 4,
 "nbformat_minor": 4
}
