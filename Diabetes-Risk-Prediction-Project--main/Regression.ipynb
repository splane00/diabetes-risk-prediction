{
 "cells": [
  {
   "cell_type": "code",
   "execution_count": 1,
   "metadata": {},
   "outputs": [],
   "source": [
    "###### FINAL #######\n",
    "#This script pulls in Diabetes Patient datasets from UCI ML Repository, builds and tests several predictive models and subsequently makes predictions for risks/likelihood of unplanned admission for patients with poorly managed diabetes conditions. This is likely due to various different reasons including non-compliance with medication, loss to follow-up on outpatient or GP appointments etc. The objective is to identify and predict such patient cohorts at an earlier stage, to permit clinicians to intervene and optimise the health of such identified patient cohorts. This will also reduce the likelihood of an avoidable hospital presentation/admission for these patients. \n",
    "# Author = \"Dr Adaeze Nwobodo\" email \"AdaezeNwobodo@gmail.com\""
   ]
  },
  {
   "cell_type": "markdown",
   "metadata": {},
   "source": [
    "<img src=\"RegressionModeling.png\" style=\"width:1000px; height:300px\"/>"
   ]
  },
  {
   "cell_type": "code",
   "execution_count": 2,
   "metadata": {},
   "outputs": [],
   "source": [
    "# DEFINE HELPER FUNCTIONS"
   ]
  },
  {
   "cell_type": "code",
   "execution_count": 3,
   "metadata": {},
   "outputs": [
    {
     "name": "stdout",
     "output_type": "stream",
     "text": [
      "function(filename) {\n",
      "    #loads text into dataframe\n",
      "    return (read.table(filename, header = FALSE, sep = \"\", stringsAsFactors = FALSE, col.names = c(\"Date\", \"Time\", \"Code\", \"Value\")))\n",
      "}\n"
     ]
    }
   ],
   "source": [
    "# 1\n",
    "load_file <- function(filename) {\n",
    "    #loads text into dataframe\n",
    "    return (read.table(filename, header = FALSE, sep = \"\", stringsAsFactors = FALSE, col.names = c(\"Date\", \"Time\", \"Code\", \"Value\")))\n",
    "}\n",
    "\n",
    "print(load_file)"
   ]
  },
  {
   "cell_type": "code",
   "execution_count": 4,
   "metadata": {},
   "outputs": [
    {
     "name": "stdout",
     "output_type": "stream",
     "text": [
      "function(data_frame) {\n",
      "    #Split the datasets into training(0.75) & test(0.25) set inputs for models\n",
      "    return (N <- nrow(data_frame) %>%\n",
      "    round(N * 0.75) %>%\n",
      "    gp <- runif(N)) %>%\n",
      "    train_df <- data_frame[gp < 0.75, ]\n",
      "    test_df <- data_frame[gp >= 0.75, ]\n",
      "}\n"
     ]
    }
   ],
   "source": [
    "# 2\n",
    "calculate_test_train_split <- function(data_frame) {\n",
    "    #Split the datasets into training(0.75) & test(0.25) set inputs for models\n",
    "    return (N <- nrow(data_frame) %>%\n",
    "    round(N * 0.75) %>%\n",
    "    gp <- runif(N)) %>%\n",
    "    train_df <- data_frame[gp < 0.75, ]\n",
    "    test_df <- data_frame[gp >= 0.75, ]\n",
    "}\n",
    "\n",
    "print(calculate_test_train_split)"
   ]
  },
  {
   "cell_type": "code",
   "execution_count": 5,
   "metadata": {},
   "outputs": [],
   "source": [
    "#IMPORT LIBRARIES"
   ]
  },
  {
   "cell_type": "code",
   "execution_count": 6,
   "metadata": {},
   "outputs": [
    {
     "name": "stderr",
     "output_type": "stream",
     "text": [
      "\n",
      "Attaching package: 'dplyr'\n",
      "\n",
      "The following objects are masked from 'package:stats':\n",
      "\n",
      "    filter, lag\n",
      "\n",
      "The following objects are masked from 'package:base':\n",
      "\n",
      "    intersect, setdiff, setequal, union\n",
      "\n",
      "Updating HTML index of packages in '.Library'\n",
      "Making 'packages.html' ... done\n",
      "Loading required package: lattice\n",
      "\n",
      "Attaching package: 'lubridate'\n",
      "\n",
      "The following object is masked from 'package:base':\n",
      "\n",
      "    date\n",
      "\n",
      "\n",
      "Attaching package: 'purrr'\n",
      "\n",
      "The following object is masked from 'package:caret':\n",
      "\n",
      "    lift\n",
      "\n",
      "Loading required package: nlme\n",
      "\n",
      "Attaching package: 'nlme'\n",
      "\n",
      "The following object is masked from 'package:dplyr':\n",
      "\n",
      "    collapse\n",
      "\n",
      "This is mgcv 1.8-28. For overview type 'help(\"mgcv-package\")'.\n",
      "Updating HTML index of packages in '.Library'\n",
      "Making 'packages.html' ... done\n",
      "Registered S3 method overwritten by 'rvest':\n",
      "  method            from\n",
      "  read_xml.response xml2\n",
      "-- Attaching packages --------------------------------------- tidyverse 1.2.1 --\n",
      "v tibble  3.1.3     v stringr 1.4.0\n",
      "v readr   1.3.1     v forcats 0.4.0\n",
      "-- Conflicts ------------------------------------------ tidyverse_conflicts() --\n",
      "x lubridate::as.difftime() masks base::as.difftime()\n",
      "x nlme::collapse()         masks dplyr::collapse()\n",
      "x lubridate::date()        masks base::date()\n",
      "x dplyr::filter()          masks stats::filter()\n",
      "x lubridate::intersect()   masks base::intersect()\n",
      "x dplyr::lag()             masks stats::lag()\n",
      "x purrr::lift()            masks caret::lift()\n",
      "x lubridate::setdiff()     masks base::setdiff()\n",
      "x lubridate::union()       masks base::union()\n",
      "-- \u001b[1mAttaching packages\u001b[22m -------------------------------------- tidymodels 0.1.3 --\n",
      "\u001b[32mv\u001b[39m \u001b[34mbroom       \u001b[39m 0.7.9      \u001b[32mv\u001b[39m \u001b[34mrsample     \u001b[39m 0.1.0 \n",
      "\u001b[32mv\u001b[39m \u001b[34mdials       \u001b[39m 0.0.9      \u001b[32mv\u001b[39m \u001b[34mtune        \u001b[39m 0.1.6 \n",
      "\u001b[32mv\u001b[39m \u001b[34minfer       \u001b[39m 0.5.4      \u001b[32mv\u001b[39m \u001b[34mworkflows   \u001b[39m 0.2.3 \n",
      "\u001b[32mv\u001b[39m \u001b[34mmodeldata   \u001b[39m 0.1.1      \u001b[32mv\u001b[39m \u001b[34mworkflowsets\u001b[39m 0.1.0 \n",
      "\u001b[32mv\u001b[39m \u001b[34mparsnip     \u001b[39m 0.1.5      \u001b[32mv\u001b[39m \u001b[34myardstick   \u001b[39m 0.0.8 \n",
      "\u001b[32mv\u001b[39m \u001b[34mrecipes     \u001b[39m 0.1.16     \n",
      "-- \u001b[1mConflicts\u001b[22m ----------------------------------------- tidymodels_conflicts() --\n",
      "\u001b[31mx\u001b[39m \u001b[34mnlme\u001b[39m::\u001b[32mcollapse()\u001b[39m         masks \u001b[34mdplyr\u001b[39m::collapse()\n",
      "\u001b[31mx\u001b[39m \u001b[34mscales\u001b[39m::\u001b[32mdiscard()\u001b[39m        masks \u001b[34mpurrr\u001b[39m::discard()\n",
      "\u001b[31mx\u001b[39m \u001b[34mdplyr\u001b[39m::\u001b[32mfilter()\u001b[39m          masks \u001b[34mstats\u001b[39m::filter()\n",
      "\u001b[31mx\u001b[39m \u001b[34mrecipes\u001b[39m::\u001b[32mfixed()\u001b[39m         masks \u001b[34mstringr\u001b[39m::fixed()\n",
      "\u001b[31mx\u001b[39m \u001b[34mdplyr\u001b[39m::\u001b[32mlag()\u001b[39m             masks \u001b[34mstats\u001b[39m::lag()\n",
      "\u001b[31mx\u001b[39m \u001b[34mpurrr\u001b[39m::\u001b[32mlift()\u001b[39m            masks \u001b[34mcaret\u001b[39m::lift()\n",
      "\u001b[31mx\u001b[39m \u001b[34myardstick\u001b[39m::\u001b[32mprecision()\u001b[39m   masks \u001b[34mcaret\u001b[39m::precision()\n",
      "\u001b[31mx\u001b[39m \u001b[34mdials\u001b[39m::\u001b[32mprune()\u001b[39m           masks \u001b[34mrpart\u001b[39m::prune()\n",
      "\u001b[31mx\u001b[39m \u001b[34myardstick\u001b[39m::\u001b[32mrecall()\u001b[39m      masks \u001b[34mcaret\u001b[39m::recall()\n",
      "\u001b[31mx\u001b[39m \u001b[34myardstick\u001b[39m::\u001b[32msensitivity()\u001b[39m masks \u001b[34mcaret\u001b[39m::sensitivity()\n",
      "\u001b[31mx\u001b[39m \u001b[34myardstick\u001b[39m::\u001b[32mspec()\u001b[39m        masks \u001b[34mreadr\u001b[39m::spec()\n",
      "\u001b[31mx\u001b[39m \u001b[34myardstick\u001b[39m::\u001b[32mspecificity()\u001b[39m masks \u001b[34mcaret\u001b[39m::specificity()\n",
      "\u001b[31mx\u001b[39m \u001b[34mrecipes\u001b[39m::\u001b[32mstep()\u001b[39m          masks \u001b[34mstats\u001b[39m::step()\n",
      "\u001b[34m*\u001b[39m Use \u001b[32mtidymodels_prefer()\u001b[39m to resolve common conflicts.\n",
      "Updating HTML index of packages in '.Library'\n",
      "Making 'packages.html' ... done\n",
      "Updating HTML index of packages in '.Library'\n",
      "Making 'packages.html' ... done\n",
      "\n",
      "Attaching package: 'xgboost'\n",
      "\n",
      "The following object is masked from 'package:dplyr':\n",
      "\n",
      "    slice\n",
      "\n",
      "randomForest 4.6-14\n",
      "Type rfNews() to see new features/changes/bug fixes.\n",
      "\n",
      "Attaching package: 'randomForest'\n",
      "\n",
      "The following object is masked from 'package:ranger':\n",
      "\n",
      "    importance\n",
      "\n",
      "The following object is masked from 'package:ggplot2':\n",
      "\n",
      "    margin\n",
      "\n",
      "The following object is masked from 'package:dplyr':\n",
      "\n",
      "    combine\n",
      "\n",
      "\n",
      "Attaching package: 'magrittr'\n",
      "\n",
      "The following object is masked from 'package:purrr':\n",
      "\n",
      "    set_names\n",
      "\n",
      "The following object is masked from 'package:tidyr':\n",
      "\n",
      "    extract\n",
      "\n",
      "Updating HTML index of packages in '.Library'\n",
      "Making 'packages.html' ... done\n",
      "\n",
      "Attaching package: 'Metrics'\n",
      "\n",
      "The following objects are masked from 'package:yardstick':\n",
      "\n",
      "    accuracy, mae, mape, mase, precision, recall, rmse, smape\n",
      "\n",
      "The following objects are masked from 'package:caret':\n",
      "\n",
      "    precision, recall\n",
      "\n",
      "Updating HTML index of packages in '.Library'\n",
      "Making 'packages.html' ... done\n",
      "\n",
      "Attaching package: 'assertive'\n",
      "\n",
      "The following objects are masked from 'package:magrittr':\n",
      "\n",
      "    is_greater_than, is_less_than\n",
      "\n",
      "The following object is masked from 'package:tibble':\n",
      "\n",
      "    has_rownames\n",
      "\n",
      "The following objects are masked from 'package:purrr':\n",
      "\n",
      "    is_atomic, is_character, is_double, is_empty, is_formula,\n",
      "    is_function, is_integer, is_list, is_logical, is_null, is_numeric,\n",
      "    is_vector\n",
      "\n",
      "Updating HTML index of packages in '.Library'\n",
      "Making 'packages.html' ... done\n",
      "Loading required package: zoo\n",
      "\n",
      "Attaching package: 'zoo'\n",
      "\n",
      "The following objects are masked from 'package:base':\n",
      "\n",
      "    as.Date, as.Date.numeric\n",
      "\n",
      "\n",
      "Attaching package: 'xts'\n",
      "\n",
      "The following objects are masked from 'package:dplyr':\n",
      "\n",
      "    first, last\n",
      "\n",
      "Updating HTML index of packages in '.Library'\n",
      "Making 'packages.html' ... done\n",
      "\n",
      "Attaching package: 'hms'\n",
      "\n",
      "The following object is masked from 'package:lubridate':\n",
      "\n",
      "    hms\n",
      "\n"
     ]
    }
   ],
   "source": [
    "#Import Libraries\n",
    "library(dplyr)\n",
    "library(ggplot2)\n",
    "library(tidyr)\n",
    "install.packages(\"caret\"); library(caret)\n",
    "library(lubridate)\n",
    "library(purrr)\n",
    "library(mgcv)\n",
    "library(rpart)\n",
    "install.packages(\"sigr\"); library(sigr)\n",
    "library(tidyverse)\n",
    "library(tidyselect)\n",
    "library(tidymodels)\n",
    "library(utils)\n",
    "library(base)\n",
    "library(broom)\n",
    "library(cluster)\n",
    "library(ellipsis)\n",
    "library(graphics)\n",
    "library(grDevices)\n",
    "library(highr)\n",
    "library(lattice)\n",
    "library(methods)\n",
    "library(nlme)\n",
    "library(readr)\n",
    "library(readxl)\n",
    "library(stats)\n",
    "library(stringr)\n",
    "install.packages(\"ranger\"); library(ranger)\n",
    "library(tibble)\n",
    "install.packages(\"xgboost\"); library(xgboost)\n",
    "library(randomForest)\n",
    "library(magrittr)\n",
    "install.packages(\"Metrics\"); library(Metrics)\n",
    "install.packages(\"assertive\"); library(assertive)\n",
    "library(lubridate)\n",
    "install.packages(\"xts\"); library(xts)\n",
    "install.packages(\"hms\"); library(hms)"
   ]
  },
  {
   "cell_type": "code",
   "execution_count": 7,
   "metadata": {},
   "outputs": [
    {
     "name": "stderr",
     "output_type": "stream",
     "text": [
      "Updating HTML index of packages in '.Library'\n",
      "Making 'packages.html' ... done\n",
      "Loading required package: wrapr\n",
      "\n",
      "Attaching package: 'wrapr'\n",
      "\n",
      "The following object is masked from 'package:tibble':\n",
      "\n",
      "    view\n",
      "\n",
      "The following objects are masked from 'package:tidyr':\n",
      "\n",
      "    pack, unpack\n",
      "\n",
      "The following object is masked from 'package:dplyr':\n",
      "\n",
      "    coalesce\n",
      "\n",
      "\n",
      "Attaching package: 'vtreat'\n",
      "\n",
      "The following object is masked from 'package:recipes':\n",
      "\n",
      "    prepare\n",
      "\n",
      "The following object is masked from 'package:parsnip':\n",
      "\n",
      "    fit\n",
      "\n",
      "Updating HTML index of packages in '.Library'\n",
      "Making 'packages.html' ... done\n",
      "\n",
      "Attaching package: 'chron'\n",
      "\n",
      "The following objects are masked from 'package:lubridate':\n",
      "\n",
      "    days, hours, minutes, seconds, years\n",
      "\n",
      "Updating HTML index of packages in '.Library'\n",
      "Making 'packages.html' ... done\n",
      "\n",
      "Attaching package: 'data.table'\n",
      "\n",
      "The following object is masked from 'package:wrapr':\n",
      "\n",
      "    :=\n",
      "\n",
      "The following objects are masked from 'package:xts':\n",
      "\n",
      "    first, last\n",
      "\n",
      "The following object is masked from 'package:purrr':\n",
      "\n",
      "    transpose\n",
      "\n",
      "The following objects are masked from 'package:lubridate':\n",
      "\n",
      "    hour, isoweek, mday, minute, month, quarter, second, wday, week,\n",
      "    yday, year\n",
      "\n",
      "The following objects are masked from 'package:dplyr':\n",
      "\n",
      "    between, first, last\n",
      "\n",
      "Updating HTML index of packages in '.Library'\n",
      "Making 'packages.html' ... done\n",
      "Updating HTML index of packages in '.Library'\n",
      "Making 'packages.html' ... done\n",
      "\n",
      "Attaching package: 'psych'\n",
      "\n",
      "The following object is masked from 'package:randomForest':\n",
      "\n",
      "    outlier\n",
      "\n",
      "The following objects are masked from 'package:scales':\n",
      "\n",
      "    alpha, rescale\n",
      "\n",
      "The following objects are masked from 'package:ggplot2':\n",
      "\n",
      "    %+%, alpha\n",
      "\n",
      "Updating HTML index of packages in '.Library'\n",
      "Making 'packages.html' ... done\n",
      "Updating HTML index of packages in '.Library'\n",
      "Making 'packages.html' ... done\n",
      "Updating HTML index of packages in '.Library'\n",
      "Making 'packages.html' ... done\n",
      "Updating HTML index of packages in '.Library'\n",
      "Making 'packages.html' ... done\n"
     ]
    },
    {
     "ename": "ERROR",
     "evalue": "Error in library(brotools): there is no package called 'brotools'\n",
     "output_type": "error",
     "traceback": [
      "Error in library(brotools): there is no package called 'brotools'\nTraceback:\n",
      "1. library(brotools)"
     ]
    }
   ],
   "source": [
    "install.packages(\"vtreat\"); library(vtreat)\n",
    "install.packages(\"chron\"); library(chron)\n",
    "install.packages(\"data.table\"); library(data.table)\n",
    "install.packages(\"binr\"); library(binr)\n",
    "install.packages(\"psych\"); library(psych)\n",
    "install.packages(\"ggfortify\"); library(ggfortify)\n",
    "install.packages(\"tibble\"); library(tibble)\n",
    "library(mlbench)\n",
    "install.packages(\"tidymodels\"); library(tidymodels)\n",
    "library(rpart) \n",
    "library(parsnip)\n",
    "install.packages(\"wrapr\"); library(wrapr)\n",
    "library(brotools)\n",
    "install.packages(\"rsample\"); library(rsample)\n",
    "install.packages(\"e1071\"); library(e1071)\n",
    "install.packages(\"elasticnet\"); library(elasticnet)\n",
    "install.packages(\"glmnet\"); library(glmnet)"
   ]
  },
  {
   "cell_type": "code",
   "execution_count": 8,
   "metadata": {},
   "outputs": [],
   "source": [
    "#LOADING FILES "
   ]
  },
  {
   "cell_type": "code",
   "execution_count": 9,
   "metadata": {},
   "outputs": [
    {
     "data": {
      "text/html": [
       "<table>\n",
       "<thead><tr><th scope=col>Date</th><th scope=col>Time</th><th scope=col>Code</th><th scope=col>Value</th><th scope=col>pid</th></tr></thead>\n",
       "<tbody>\n",
       "\t<tr><td>04-21-1991</td><td>9:09      </td><td>58        </td><td>100       </td><td>D1        </td></tr>\n",
       "\t<tr><td>04-21-1991</td><td>9:09      </td><td>33        </td><td>  9       </td><td>D1        </td></tr>\n",
       "\t<tr><td>04-21-1991</td><td>9:09      </td><td>34        </td><td> 13       </td><td>D1        </td></tr>\n",
       "\t<tr><td>04-21-1991</td><td>17:08     </td><td>62        </td><td>119       </td><td>D1        </td></tr>\n",
       "\t<tr><td>04-21-1991</td><td>17:08     </td><td>33        </td><td>  7       </td><td>D1        </td></tr>\n",
       "\t<tr><td>04-21-1991</td><td>22:51     </td><td>48        </td><td>123       </td><td>D1        </td></tr>\n",
       "\t<tr><td>04-22-1991</td><td>7:35      </td><td>58        </td><td>216       </td><td>D1        </td></tr>\n",
       "\t<tr><td>04-22-1991</td><td>7:35      </td><td>33        </td><td> 10       </td><td>D1        </td></tr>\n",
       "\t<tr><td>04-22-1991</td><td>7:35      </td><td>34        </td><td> 13       </td><td>D1        </td></tr>\n",
       "\t<tr><td>04-22-1991</td><td>13:40     </td><td>33        </td><td>  2       </td><td>D1        </td></tr>\n",
       "</tbody>\n",
       "</table>\n"
      ],
      "text/latex": [
       "\\begin{tabular}{r|lllll}\n",
       " Date & Time & Code & Value & pid\\\\\n",
       "\\hline\n",
       "\t 04-21-1991 & 9:09       & 58         & 100        & D1        \\\\\n",
       "\t 04-21-1991 & 9:09       & 33         &   9        & D1        \\\\\n",
       "\t 04-21-1991 & 9:09       & 34         &  13        & D1        \\\\\n",
       "\t 04-21-1991 & 17:08      & 62         & 119        & D1        \\\\\n",
       "\t 04-21-1991 & 17:08      & 33         &   7        & D1        \\\\\n",
       "\t 04-21-1991 & 22:51      & 48         & 123        & D1        \\\\\n",
       "\t 04-22-1991 & 7:35       & 58         & 216        & D1        \\\\\n",
       "\t 04-22-1991 & 7:35       & 33         &  10        & D1        \\\\\n",
       "\t 04-22-1991 & 7:35       & 34         &  13        & D1        \\\\\n",
       "\t 04-22-1991 & 13:40      & 33         &   2        & D1        \\\\\n",
       "\\end{tabular}\n"
      ],
      "text/markdown": [
       "\n",
       "| Date | Time | Code | Value | pid |\n",
       "|---|---|---|---|---|\n",
       "| 04-21-1991 | 9:09       | 58         | 100        | D1         |\n",
       "| 04-21-1991 | 9:09       | 33         |   9        | D1         |\n",
       "| 04-21-1991 | 9:09       | 34         |  13        | D1         |\n",
       "| 04-21-1991 | 17:08      | 62         | 119        | D1         |\n",
       "| 04-21-1991 | 17:08      | 33         |   7        | D1         |\n",
       "| 04-21-1991 | 22:51      | 48         | 123        | D1         |\n",
       "| 04-22-1991 | 7:35       | 58         | 216        | D1         |\n",
       "| 04-22-1991 | 7:35       | 33         |  10        | D1         |\n",
       "| 04-22-1991 | 7:35       | 34         |  13        | D1         |\n",
       "| 04-22-1991 | 13:40      | 33         |   2        | D1         |\n",
       "\n"
      ],
      "text/plain": [
       "   Date       Time  Code Value pid\n",
       "1  04-21-1991 9:09  58   100   D1 \n",
       "2  04-21-1991 9:09  33     9   D1 \n",
       "3  04-21-1991 9:09  34    13   D1 \n",
       "4  04-21-1991 17:08 62   119   D1 \n",
       "5  04-21-1991 17:08 33     7   D1 \n",
       "6  04-21-1991 22:51 48   123   D1 \n",
       "7  04-22-1991 7:35  58   216   D1 \n",
       "8  04-22-1991 7:35  33    10   D1 \n",
       "9  04-22-1991 7:35  34    13   D1 \n",
       "10 04-22-1991 13:40 33     2   D1 "
      ]
     },
     "metadata": {},
     "output_type": "display_data"
    }
   ],
   "source": [
    "D1 <- load_file(\"data-01\")\n",
    "D1$pid <- c(\"D1\")\n",
    "head(D1, n = 10)"
   ]
  },
  {
   "cell_type": "code",
   "execution_count": 10,
   "metadata": {},
   "outputs": [
    {
     "data": {
      "text/html": [
       "<table>\n",
       "<thead><tr><th scope=col>Date</th><th scope=col>Time</th><th scope=col>Code</th><th scope=col>Value</th><th scope=col>pid</th></tr></thead>\n",
       "<tbody>\n",
       "\t<tr><td>10-10-1989</td><td>08:00     </td><td>58        </td><td>149       </td><td>D2        </td></tr>\n",
       "\t<tr><td>10-10-1989</td><td>08:00     </td><td>33        </td><td>010       </td><td>D2        </td></tr>\n",
       "\t<tr><td>10-10-1989</td><td>12:00     </td><td>60        </td><td>116       </td><td>D2        </td></tr>\n",
       "\t<tr><td>10-10-1989</td><td>12:00     </td><td>33        </td><td>004       </td><td>D2        </td></tr>\n",
       "\t<tr><td>10-10-1989</td><td>18:00     </td><td>62        </td><td>304       </td><td>D2        </td></tr>\n",
       "\t<tr><td>10-10-1989</td><td>18:00     </td><td>33        </td><td>010       </td><td>D2        </td></tr>\n",
       "</tbody>\n",
       "</table>\n"
      ],
      "text/latex": [
       "\\begin{tabular}{r|lllll}\n",
       " Date & Time & Code & Value & pid\\\\\n",
       "\\hline\n",
       "\t 10-10-1989 & 08:00      & 58         & 149        & D2        \\\\\n",
       "\t 10-10-1989 & 08:00      & 33         & 010        & D2        \\\\\n",
       "\t 10-10-1989 & 12:00      & 60         & 116        & D2        \\\\\n",
       "\t 10-10-1989 & 12:00      & 33         & 004        & D2        \\\\\n",
       "\t 10-10-1989 & 18:00      & 62         & 304        & D2        \\\\\n",
       "\t 10-10-1989 & 18:00      & 33         & 010        & D2        \\\\\n",
       "\\end{tabular}\n"
      ],
      "text/markdown": [
       "\n",
       "| Date | Time | Code | Value | pid |\n",
       "|---|---|---|---|---|\n",
       "| 10-10-1989 | 08:00      | 58         | 149        | D2         |\n",
       "| 10-10-1989 | 08:00      | 33         | 010        | D2         |\n",
       "| 10-10-1989 | 12:00      | 60         | 116        | D2         |\n",
       "| 10-10-1989 | 12:00      | 33         | 004        | D2         |\n",
       "| 10-10-1989 | 18:00      | 62         | 304        | D2         |\n",
       "| 10-10-1989 | 18:00      | 33         | 010        | D2         |\n",
       "\n"
      ],
      "text/plain": [
       "  Date       Time  Code Value pid\n",
       "1 10-10-1989 08:00 58   149   D2 \n",
       "2 10-10-1989 08:00 33   010   D2 \n",
       "3 10-10-1989 12:00 60   116   D2 \n",
       "4 10-10-1989 12:00 33   004   D2 \n",
       "5 10-10-1989 18:00 62   304   D2 \n",
       "6 10-10-1989 18:00 33   010   D2 "
      ]
     },
     "metadata": {},
     "output_type": "display_data"
    }
   ],
   "source": [
    "D2 <- load_file(\"data-02\")\n",
    "D2$pid <- c(\"D2\")\n",
    "head(D2)"
   ]
  },
  {
   "cell_type": "code",
   "execution_count": 11,
   "metadata": {},
   "outputs": [],
   "source": [
    "D3 <- load_file(\"data-03\")\n",
    "D3$pid <- c(\"D3\")"
   ]
  },
  {
   "cell_type": "code",
   "execution_count": 12,
   "metadata": {},
   "outputs": [],
   "source": [
    "D4 <- load_file(\"data-04\")\n",
    "D4$pid <- c(\"D4\")"
   ]
  },
  {
   "cell_type": "code",
   "execution_count": 13,
   "metadata": {},
   "outputs": [],
   "source": [
    "D5 <- load_file(\"data-05\")\n",
    "D5$pid <- c(\"D5\")"
   ]
  },
  {
   "cell_type": "code",
   "execution_count": 14,
   "metadata": {},
   "outputs": [],
   "source": [
    "D6 <- load_file(\"data-06\")\n",
    "D6$pid <- c(\"D6\")"
   ]
  },
  {
   "cell_type": "code",
   "execution_count": 15,
   "metadata": {},
   "outputs": [],
   "source": [
    "D7 <- load_file(\"data-07\")\n",
    "D7$pid <- c(\"D7\")"
   ]
  },
  {
   "cell_type": "code",
   "execution_count": 17,
   "metadata": {},
   "outputs": [],
   "source": [
    "D8 <- load_file(\"data-08\")\n",
    "D8$pid <- c(\"D8\")"
   ]
  },
  {
   "cell_type": "code",
   "execution_count": 18,
   "metadata": {},
   "outputs": [],
   "source": [
    "D9 <- load_file(\"data-09\")\n",
    "D9$pid <- c(\"D9\")"
   ]
  },
  {
   "cell_type": "code",
   "execution_count": 19,
   "metadata": {},
   "outputs": [],
   "source": [
    "D10 <- load_file(\"data-10\")\n",
    "D10$pid <- c(\"D10\")"
   ]
  },
  {
   "cell_type": "code",
   "execution_count": 20,
   "metadata": {},
   "outputs": [],
   "source": [
    "D11 <- load_file(\"data-11\")\n",
    "D11$pid <- c(\"D11\")"
   ]
  },
  {
   "cell_type": "code",
   "execution_count": 21,
   "metadata": {},
   "outputs": [],
   "source": [
    "D12 <- load_file(\"data-12\")\n",
    "D12$pid <- c(\"D12\")"
   ]
  },
  {
   "cell_type": "code",
   "execution_count": 22,
   "metadata": {},
   "outputs": [],
   "source": [
    "D13 <- load_file(\"data-13\")\n",
    "D13$pid <- c(\"D13\")"
   ]
  },
  {
   "cell_type": "code",
   "execution_count": 23,
   "metadata": {},
   "outputs": [],
   "source": [
    "D14 <- load_file(\"data-14\")\n",
    "D14$pid <- c(\"D14\")"
   ]
  },
  {
   "cell_type": "code",
   "execution_count": 24,
   "metadata": {},
   "outputs": [],
   "source": [
    "D15 <- load_file(\"data-15\")\n",
    "D15$pid <- c(\"D15\")"
   ]
  },
  {
   "cell_type": "code",
   "execution_count": 25,
   "metadata": {},
   "outputs": [],
   "source": [
    "D16 <- load_file(\"data-16\")\n",
    "D16$pid <- c(\"D16\")"
   ]
  },
  {
   "cell_type": "code",
   "execution_count": 26,
   "metadata": {},
   "outputs": [],
   "source": [
    "D17 <- load_file(\"data-17\")\n",
    "D17$pid <- c(\"D17\")"
   ]
  },
  {
   "cell_type": "code",
   "execution_count": 27,
   "metadata": {},
   "outputs": [],
   "source": [
    "D18 <- load_file(\"data-18\")\n",
    "D18$pid <- c(\"D18\")"
   ]
  },
  {
   "cell_type": "code",
   "execution_count": 28,
   "metadata": {},
   "outputs": [],
   "source": [
    "D19 <- load_file(\"data-19\")\n",
    "D19$pid <- c(\"D19\")"
   ]
  },
  {
   "cell_type": "code",
   "execution_count": 29,
   "metadata": {},
   "outputs": [],
   "source": [
    "D20 <- load_file(\"data-20\")\n",
    "D20$pid <- c(\"D20\")"
   ]
  },
  {
   "cell_type": "code",
   "execution_count": 30,
   "metadata": {},
   "outputs": [],
   "source": [
    "D21 <- load_file(\"data-21\")\n",
    "D21$pid <- c(\"D21\")"
   ]
  },
  {
   "cell_type": "code",
   "execution_count": 31,
   "metadata": {},
   "outputs": [],
   "source": [
    "D22 <- load_file(\"data-22\")\n",
    "D22$pid <- c(\"D22\")"
   ]
  },
  {
   "cell_type": "code",
   "execution_count": 32,
   "metadata": {},
   "outputs": [],
   "source": [
    "D23 <- load_file(\"data-23\")\n",
    "D23$pid <- c(\"D23\")"
   ]
  },
  {
   "cell_type": "code",
   "execution_count": 33,
   "metadata": {},
   "outputs": [],
   "source": [
    "D24 <- load_file(\"data-24\")\n",
    "D24$pid <- c(\"D24\")"
   ]
  },
  {
   "cell_type": "code",
   "execution_count": 34,
   "metadata": {},
   "outputs": [],
   "source": [
    "D25 <- load_file(\"data-25\")\n",
    "D25$pid <- c(\"D25\")"
   ]
  },
  {
   "cell_type": "code",
   "execution_count": 35,
   "metadata": {},
   "outputs": [],
   "source": [
    "D26 <- load_file(\"data-26\")\n",
    "D26$pid <- c(\"D26\")"
   ]
  },
  {
   "cell_type": "code",
   "execution_count": 37,
   "metadata": {},
   "outputs": [],
   "source": [
    "D28 <- load_file(\"data-28\")\n",
    "D28$pid <- c(\"D28\")"
   ]
  },
  {
   "cell_type": "code",
   "execution_count": 39,
   "metadata": {},
   "outputs": [],
   "source": [
    "D30 <- load_file(\"data-30\")\n",
    "D30$pid <- c(\"D30\")"
   ]
  },
  {
   "cell_type": "code",
   "execution_count": 40,
   "metadata": {},
   "outputs": [],
   "source": [
    "D31 <- load_file(\"data-31\")\n",
    "D31$pid <- c(\"D31\")"
   ]
  },
  {
   "cell_type": "code",
   "execution_count": 41,
   "metadata": {},
   "outputs": [],
   "source": [
    "D32 <- load_file(\"data-32\")\n",
    "D32$pid <- c(\"D32\")"
   ]
  },
  {
   "cell_type": "code",
   "execution_count": 43,
   "metadata": {},
   "outputs": [],
   "source": [
    "Diabetes_data <- rbind(D1, D2, D3, D4, D5, D6, D7, D8, D9, D10, D11, D12, D13, D14, D15, D16, D17, D18, D19, D20, D21, D22, D23, D24, D25, D26, D28, D30, D31, D32)"
   ]
  },
  {
   "cell_type": "code",
   "execution_count": 44,
   "metadata": {},
   "outputs": [
    {
     "data": {
      "text/html": [
       "<table>\n",
       "<thead><tr><th scope=col>Date</th><th scope=col>Time</th><th scope=col>Code</th><th scope=col>Value</th><th scope=col>pid</th></tr></thead>\n",
       "<tbody>\n",
       "\t<tr><td>04-21-1991</td><td>9:09      </td><td>58        </td><td>100       </td><td>D1        </td></tr>\n",
       "\t<tr><td>04-21-1991</td><td>9:09      </td><td>33        </td><td>9         </td><td>D1        </td></tr>\n",
       "\t<tr><td>04-21-1991</td><td>9:09      </td><td>34        </td><td>13        </td><td>D1        </td></tr>\n",
       "\t<tr><td>04-21-1991</td><td>17:08     </td><td>62        </td><td>119       </td><td>D1        </td></tr>\n",
       "\t<tr><td>04-21-1991</td><td>17:08     </td><td>33        </td><td>7         </td><td>D1        </td></tr>\n",
       "\t<tr><td>04-21-1991</td><td>22:51     </td><td>48        </td><td>123       </td><td>D1        </td></tr>\n",
       "</tbody>\n",
       "</table>\n"
      ],
      "text/latex": [
       "\\begin{tabular}{r|lllll}\n",
       " Date & Time & Code & Value & pid\\\\\n",
       "\\hline\n",
       "\t 04-21-1991 & 9:09       & 58         & 100        & D1        \\\\\n",
       "\t 04-21-1991 & 9:09       & 33         & 9          & D1        \\\\\n",
       "\t 04-21-1991 & 9:09       & 34         & 13         & D1        \\\\\n",
       "\t 04-21-1991 & 17:08      & 62         & 119        & D1        \\\\\n",
       "\t 04-21-1991 & 17:08      & 33         & 7          & D1        \\\\\n",
       "\t 04-21-1991 & 22:51      & 48         & 123        & D1        \\\\\n",
       "\\end{tabular}\n"
      ],
      "text/markdown": [
       "\n",
       "| Date | Time | Code | Value | pid |\n",
       "|---|---|---|---|---|\n",
       "| 04-21-1991 | 9:09       | 58         | 100        | D1         |\n",
       "| 04-21-1991 | 9:09       | 33         | 9          | D1         |\n",
       "| 04-21-1991 | 9:09       | 34         | 13         | D1         |\n",
       "| 04-21-1991 | 17:08      | 62         | 119        | D1         |\n",
       "| 04-21-1991 | 17:08      | 33         | 7          | D1         |\n",
       "| 04-21-1991 | 22:51      | 48         | 123        | D1         |\n",
       "\n"
      ],
      "text/plain": [
       "  Date       Time  Code Value pid\n",
       "1 04-21-1991 9:09  58   100   D1 \n",
       "2 04-21-1991 9:09  33   9     D1 \n",
       "3 04-21-1991 9:09  34   13    D1 \n",
       "4 04-21-1991 17:08 62   119   D1 \n",
       "5 04-21-1991 17:08 33   7     D1 \n",
       "6 04-21-1991 22:51 48   123   D1 "
      ]
     },
     "metadata": {},
     "output_type": "display_data"
    },
    {
     "name": "stdout",
     "output_type": "stream",
     "text": [
      "'data.frame':\t12112 obs. of  5 variables:\n",
      " $ Date : chr  \"04-21-1991\" \"04-21-1991\" \"04-21-1991\" \"04-21-1991\" ...\n",
      " $ Time : chr  \"9:09\" \"9:09\" \"9:09\" \"17:08\" ...\n",
      " $ Code : int  58 33 34 62 33 48 58 33 34 33 ...\n",
      " $ Value: chr  \"100\" \"9\" \"13\" \"119\" ...\n",
      " $ pid  : chr  \"D1\" \"D1\" \"D1\" \"D1\" ...\n"
     ]
    }
   ],
   "source": [
    "head(Diabetes_data)\n",
    "str(Diabetes_data)"
   ]
  },
  {
   "cell_type": "code",
   "execution_count": 58,
   "metadata": {},
   "outputs": [
    {
     "name": "stderr",
     "output_type": "stream",
     "text": [
      "Warning message in eval(expr, envir, enclos):\n",
      "\"NAs introduced by coercion\""
     ]
    },
    {
     "data": {
      "text/html": [
       "<dl class=dl-horizontal>\n",
       "\t<dt>Date</dt>\n",
       "\t\t<dd>'character'</dd>\n",
       "\t<dt>Time</dt>\n",
       "\t\t<dd>'character'</dd>\n",
       "\t<dt>Code</dt>\n",
       "\t\t<dd>'integer'</dd>\n",
       "\t<dt>Value</dt>\n",
       "\t\t<dd>'numeric'</dd>\n",
       "\t<dt>pid</dt>\n",
       "\t\t<dd>'character'</dd>\n",
       "</dl>\n"
      ],
      "text/latex": [
       "\\begin{description*}\n",
       "\\item[Date] 'character'\n",
       "\\item[Time] 'character'\n",
       "\\item[Code] 'integer'\n",
       "\\item[Value] 'numeric'\n",
       "\\item[pid] 'character'\n",
       "\\end{description*}\n"
      ],
      "text/markdown": [
       "Date\n",
       ":   'character'Time\n",
       ":   'character'Code\n",
       ":   'integer'Value\n",
       ":   'numeric'pid\n",
       ":   'character'\n",
       "\n"
      ],
      "text/plain": [
       "       Date        Time        Code       Value         pid \n",
       "\"character\" \"character\"   \"integer\"   \"numeric\" \"character\" "
      ]
     },
     "metadata": {},
     "output_type": "display_data"
    },
    {
     "name": "stdout",
     "output_type": "stream",
     "text": [
      "'data.frame':\t12112 obs. of  5 variables:\n",
      " $ Date : chr  \"04-21-1991\" \"04-21-1991\" \"04-21-1991\" \"04-21-1991\" ...\n",
      " $ Time : chr  \"9:09\" \"9:09\" \"9:09\" \"17:08\" ...\n",
      " $ Code : int  58 33 34 62 33 48 58 33 34 33 ...\n",
      " $ Value: num  100 9 13 119 7 123 216 10 13 2 ...\n",
      " $ pid  : chr  \"D1\" \"D1\" \"D1\" \"D1\" ...\n"
     ]
    }
   ],
   "source": [
    "#Convert \"Value\" column from character to numeric\n",
    "Diabetes_data$Value <- as.numeric(Diabetes_data$Value)\n",
    "\n",
    "sapply(Diabetes_data, class)\n",
    "str(Diabetes_data)"
   ]
  },
  {
   "cell_type": "code",
   "execution_count": 59,
   "metadata": {},
   "outputs": [
    {
     "name": "stderr",
     "output_type": "stream",
     "text": [
      "Warning message:\n",
      "\" 7 failed to parse.\""
     ]
    },
    {
     "data": {
      "text/html": [
       "<table>\n",
       "<thead><tr><th scope=col>Date</th><th scope=col>Time</th><th scope=col>Code</th><th scope=col>Value</th><th scope=col>pid</th><th scope=col>date1</th></tr></thead>\n",
       "<tbody>\n",
       "\t<tr><td>04-21-1991</td><td>9:09      </td><td>58        </td><td>100       </td><td>D1        </td><td>1991-04-21</td></tr>\n",
       "\t<tr><td>04-21-1991</td><td>9:09      </td><td>33        </td><td>  9       </td><td>D1        </td><td>1991-04-21</td></tr>\n",
       "\t<tr><td>04-21-1991</td><td>9:09      </td><td>34        </td><td> 13       </td><td>D1        </td><td>1991-04-21</td></tr>\n",
       "\t<tr><td>04-21-1991</td><td>17:08     </td><td>62        </td><td>119       </td><td>D1        </td><td>1991-04-21</td></tr>\n",
       "\t<tr><td>04-21-1991</td><td>17:08     </td><td>33        </td><td>  7       </td><td>D1        </td><td>1991-04-21</td></tr>\n",
       "\t<tr><td>04-21-1991</td><td>22:51     </td><td>48        </td><td>123       </td><td>D1        </td><td>1991-04-21</td></tr>\n",
       "</tbody>\n",
       "</table>\n"
      ],
      "text/latex": [
       "\\begin{tabular}{r|llllll}\n",
       " Date & Time & Code & Value & pid & date1\\\\\n",
       "\\hline\n",
       "\t 04-21-1991 & 9:09       & 58         & 100        & D1         & 1991-04-21\\\\\n",
       "\t 04-21-1991 & 9:09       & 33         &   9        & D1         & 1991-04-21\\\\\n",
       "\t 04-21-1991 & 9:09       & 34         &  13        & D1         & 1991-04-21\\\\\n",
       "\t 04-21-1991 & 17:08      & 62         & 119        & D1         & 1991-04-21\\\\\n",
       "\t 04-21-1991 & 17:08      & 33         &   7        & D1         & 1991-04-21\\\\\n",
       "\t 04-21-1991 & 22:51      & 48         & 123        & D1         & 1991-04-21\\\\\n",
       "\\end{tabular}\n"
      ],
      "text/markdown": [
       "\n",
       "| Date | Time | Code | Value | pid | date1 |\n",
       "|---|---|---|---|---|---|\n",
       "| 04-21-1991 | 9:09       | 58         | 100        | D1         | 1991-04-21 |\n",
       "| 04-21-1991 | 9:09       | 33         |   9        | D1         | 1991-04-21 |\n",
       "| 04-21-1991 | 9:09       | 34         |  13        | D1         | 1991-04-21 |\n",
       "| 04-21-1991 | 17:08      | 62         | 119        | D1         | 1991-04-21 |\n",
       "| 04-21-1991 | 17:08      | 33         |   7        | D1         | 1991-04-21 |\n",
       "| 04-21-1991 | 22:51      | 48         | 123        | D1         | 1991-04-21 |\n",
       "\n"
      ],
      "text/plain": [
       "  Date       Time  Code Value pid date1     \n",
       "1 04-21-1991 9:09  58   100   D1  1991-04-21\n",
       "2 04-21-1991 9:09  33     9   D1  1991-04-21\n",
       "3 04-21-1991 9:09  34    13   D1  1991-04-21\n",
       "4 04-21-1991 17:08 62   119   D1  1991-04-21\n",
       "5 04-21-1991 17:08 33     7   D1  1991-04-21\n",
       "6 04-21-1991 22:51 48   123   D1  1991-04-21"
      ]
     },
     "metadata": {},
     "output_type": "display_data"
    },
    {
     "name": "stdout",
     "output_type": "stream",
     "text": [
      "'data.frame':\t12112 obs. of  6 variables:\n",
      " $ Date : chr  \"04-21-1991\" \"04-21-1991\" \"04-21-1991\" \"04-21-1991\" ...\n",
      " $ Time : chr  \"9:09\" \"9:09\" \"9:09\" \"17:08\" ...\n",
      " $ Code : int  58 33 34 62 33 48 58 33 34 33 ...\n",
      " $ Value: num  100 9 13 119 7 123 216 10 13 2 ...\n",
      " $ pid  : chr  \"D1\" \"D1\" \"D1\" \"D1\" ...\n",
      " $ date1: Date, format: \"1991-04-21\" \"1991-04-21\" ...\n"
     ]
    }
   ],
   "source": [
    "#Converting \"Date\" column from character to \"date\" format\n",
    "\n",
    "#Parse date - \"mdy\" format of datasets to convert to ISO8601 standard \"ymd\" format\n",
    "Diabetes_data2 <- Diabetes_data %>%\n",
    "    mutate(date1 = mdy(Date))\n",
    "\n",
    "head(Diabetes_data2)\n",
    "str(Diabetes_data2)"
   ]
  },
  {
   "cell_type": "code",
   "execution_count": 60,
   "metadata": {},
   "outputs": [
    {
     "name": "stderr",
     "output_type": "stream",
     "text": [
      "Warning message:\n",
      "\" 7 failed to parse.\""
     ]
    },
    {
     "data": {
      "text/html": [
       "<table>\n",
       "<thead><tr><th scope=col>Date</th><th scope=col>Time</th><th scope=col>Code</th><th scope=col>Value</th><th scope=col>pid</th><th scope=col>date1</th><th scope=col>datetime</th></tr></thead>\n",
       "<tbody>\n",
       "\t<tr><td>04-21-1991         </td><td>9:09               </td><td>58                 </td><td>100                </td><td>D1                 </td><td>1991-04-21         </td><td>1991-04-21 09:09:00</td></tr>\n",
       "\t<tr><td>04-21-1991         </td><td>9:09               </td><td>33                 </td><td>  9                </td><td>D1                 </td><td>1991-04-21         </td><td>1991-04-21 09:09:00</td></tr>\n",
       "\t<tr><td>04-21-1991         </td><td>9:09               </td><td>34                 </td><td> 13                </td><td>D1                 </td><td>1991-04-21         </td><td>1991-04-21 09:09:00</td></tr>\n",
       "\t<tr><td>04-21-1991         </td><td>17:08              </td><td>62                 </td><td>119                </td><td>D1                 </td><td>1991-04-21         </td><td>1991-04-21 17:08:00</td></tr>\n",
       "\t<tr><td>04-21-1991         </td><td>17:08              </td><td>33                 </td><td>  7                </td><td>D1                 </td><td>1991-04-21         </td><td>1991-04-21 17:08:00</td></tr>\n",
       "\t<tr><td>04-21-1991         </td><td>22:51              </td><td>48                 </td><td>123                </td><td>D1                 </td><td>1991-04-21         </td><td>1991-04-21 22:51:00</td></tr>\n",
       "</tbody>\n",
       "</table>\n"
      ],
      "text/latex": [
       "\\begin{tabular}{r|lllllll}\n",
       " Date & Time & Code & Value & pid & date1 & datetime\\\\\n",
       "\\hline\n",
       "\t 04-21-1991          & 9:09                & 58                  & 100                 & D1                  & 1991-04-21          & 1991-04-21 09:09:00\\\\\n",
       "\t 04-21-1991          & 9:09                & 33                  &   9                 & D1                  & 1991-04-21          & 1991-04-21 09:09:00\\\\\n",
       "\t 04-21-1991          & 9:09                & 34                  &  13                 & D1                  & 1991-04-21          & 1991-04-21 09:09:00\\\\\n",
       "\t 04-21-1991          & 17:08               & 62                  & 119                 & D1                  & 1991-04-21          & 1991-04-21 17:08:00\\\\\n",
       "\t 04-21-1991          & 17:08               & 33                  &   7                 & D1                  & 1991-04-21          & 1991-04-21 17:08:00\\\\\n",
       "\t 04-21-1991          & 22:51               & 48                  & 123                 & D1                  & 1991-04-21          & 1991-04-21 22:51:00\\\\\n",
       "\\end{tabular}\n"
      ],
      "text/markdown": [
       "\n",
       "| Date | Time | Code | Value | pid | date1 | datetime |\n",
       "|---|---|---|---|---|---|---|\n",
       "| 04-21-1991          | 9:09                | 58                  | 100                 | D1                  | 1991-04-21          | 1991-04-21 09:09:00 |\n",
       "| 04-21-1991          | 9:09                | 33                  |   9                 | D1                  | 1991-04-21          | 1991-04-21 09:09:00 |\n",
       "| 04-21-1991          | 9:09                | 34                  |  13                 | D1                  | 1991-04-21          | 1991-04-21 09:09:00 |\n",
       "| 04-21-1991          | 17:08               | 62                  | 119                 | D1                  | 1991-04-21          | 1991-04-21 17:08:00 |\n",
       "| 04-21-1991          | 17:08               | 33                  |   7                 | D1                  | 1991-04-21          | 1991-04-21 17:08:00 |\n",
       "| 04-21-1991          | 22:51               | 48                  | 123                 | D1                  | 1991-04-21          | 1991-04-21 22:51:00 |\n",
       "\n"
      ],
      "text/plain": [
       "  Date       Time  Code Value pid date1      datetime           \n",
       "1 04-21-1991 9:09  58   100   D1  1991-04-21 1991-04-21 09:09:00\n",
       "2 04-21-1991 9:09  33     9   D1  1991-04-21 1991-04-21 09:09:00\n",
       "3 04-21-1991 9:09  34    13   D1  1991-04-21 1991-04-21 09:09:00\n",
       "4 04-21-1991 17:08 62   119   D1  1991-04-21 1991-04-21 17:08:00\n",
       "5 04-21-1991 17:08 33     7   D1  1991-04-21 1991-04-21 17:08:00\n",
       "6 04-21-1991 22:51 48   123   D1  1991-04-21 1991-04-21 22:51:00"
      ]
     },
     "metadata": {},
     "output_type": "display_data"
    },
    {
     "name": "stdout",
     "output_type": "stream",
     "text": [
      "Rows: 12,112\n",
      "Columns: 7\n",
      "$ Date     <chr> \"04-21-1991\", \"04-21-1991\", \"04-21-1991\", \"04-21-1991\", \"04-2~\n",
      "$ Time     <chr> \"9:09\", \"9:09\", \"9:09\", \"17:08\", \"17:08\", \"22:51\", \"7:35\", \"7~\n",
      "$ Code     <int> 58, 33, 34, 62, 33, 48, 58, 33, 34, 33, 62, 33, 58, 33, 34, 6~\n",
      "$ Value    <dbl> 100, 9, 13, 119, 7, 123, 216, 10, 13, 2, 211, 7, 257, 11, 13,~\n",
      "$ pid      <chr> \"D1\", \"D1\", \"D1\", \"D1\", \"D1\", \"D1\", \"D1\", \"D1\", \"D1\", \"D1\", \"~\n",
      "$ date1    <date> 1991-04-21, 1991-04-21, 1991-04-21, 1991-04-21, 1991-04-21, ~\n",
      "$ datetime <dttm> 1991-04-21 09:09:00, 1991-04-21 09:09:00, 1991-04-21 09:09:0~\n"
     ]
    }
   ],
   "source": [
    "#Conversion of \"Time\" column from character to datetime format\n",
    "Diabetes_data2$datetime = paste(Diabetes_data2$Date, Diabetes_data2$Time)\n",
    "Diabetes_data2$datetime = mdy_hm(Diabetes_data2$datetime)\n",
    "head(Diabetes_data2)\n",
    "glimpse(Diabetes_data2)"
   ]
  },
  {
   "cell_type": "code",
   "execution_count": 61,
   "metadata": {},
   "outputs": [
    {
     "data": {
      "text/html": [
       "<table>\n",
       "<thead><tr><th></th><th scope=col>Code</th><th scope=col>Value</th><th scope=col>pid</th><th scope=col>date1</th><th scope=col>datetime</th></tr></thead>\n",
       "<tbody>\n",
       "\t<tr><th scope=row>12107</th><td>71                 </td><td>  0                </td><td>D32                </td><td>1990-08-07         </td><td>1990-08-07 22:25:00</td></tr>\n",
       "\t<tr><th scope=row>12108</th><td>33                 </td><td>  2                </td><td>D32                </td><td>1990-08-07         </td><td>1990-08-07 22:28:00</td></tr>\n",
       "\t<tr><th scope=row>12109</th><td>34                 </td><td>  7                </td><td>D32                </td><td>1990-08-07         </td><td>1990-08-07 22:28:00</td></tr>\n",
       "\t<tr><th scope=row>12110</th><td>58                 </td><td>213                </td><td>D32                </td><td>1990-08-08         </td><td>1990-08-08 07:30:00</td></tr>\n",
       "\t<tr><th scope=row>12111</th><td>71                 </td><td>  0                </td><td>D32                </td><td>1990-08-08         </td><td>1990-08-08 07:33:00</td></tr>\n",
       "\t<tr><th scope=row>12112</th><td>60                 </td><td>101                </td><td>D32                </td><td>1990-08-08         </td><td>1990-08-08 12:30:00</td></tr>\n",
       "</tbody>\n",
       "</table>\n"
      ],
      "text/latex": [
       "\\begin{tabular}{r|lllll}\n",
       "  & Code & Value & pid & date1 & datetime\\\\\n",
       "\\hline\n",
       "\t12107 & 71                  &   0                 & D32                 & 1990-08-07          & 1990-08-07 22:25:00\\\\\n",
       "\t12108 & 33                  &   2                 & D32                 & 1990-08-07          & 1990-08-07 22:28:00\\\\\n",
       "\t12109 & 34                  &   7                 & D32                 & 1990-08-07          & 1990-08-07 22:28:00\\\\\n",
       "\t12110 & 58                  & 213                 & D32                 & 1990-08-08          & 1990-08-08 07:30:00\\\\\n",
       "\t12111 & 71                  &   0                 & D32                 & 1990-08-08          & 1990-08-08 07:33:00\\\\\n",
       "\t12112 & 60                  & 101                 & D32                 & 1990-08-08          & 1990-08-08 12:30:00\\\\\n",
       "\\end{tabular}\n"
      ],
      "text/markdown": [
       "\n",
       "| <!--/--> | Code | Value | pid | date1 | datetime |\n",
       "|---|---|---|---|---|---|\n",
       "| 12107 | 71                  |   0                 | D32                 | 1990-08-07          | 1990-08-07 22:25:00 |\n",
       "| 12108 | 33                  |   2                 | D32                 | 1990-08-07          | 1990-08-07 22:28:00 |\n",
       "| 12109 | 34                  |   7                 | D32                 | 1990-08-07          | 1990-08-07 22:28:00 |\n",
       "| 12110 | 58                  | 213                 | D32                 | 1990-08-08          | 1990-08-08 07:30:00 |\n",
       "| 12111 | 71                  |   0                 | D32                 | 1990-08-08          | 1990-08-08 07:33:00 |\n",
       "| 12112 | 60                  | 101                 | D32                 | 1990-08-08          | 1990-08-08 12:30:00 |\n",
       "\n"
      ],
      "text/plain": [
       "      Code Value pid date1      datetime           \n",
       "12107 71     0   D32 1990-08-07 1990-08-07 22:25:00\n",
       "12108 33     2   D32 1990-08-07 1990-08-07 22:28:00\n",
       "12109 34     7   D32 1990-08-07 1990-08-07 22:28:00\n",
       "12110 58   213   D32 1990-08-08 1990-08-08 07:30:00\n",
       "12111 71     0   D32 1990-08-08 1990-08-08 07:33:00\n",
       "12112 60   101   D32 1990-08-08 1990-08-08 12:30:00"
      ]
     },
     "metadata": {},
     "output_type": "display_data"
    }
   ],
   "source": [
    "#Remove redundant character columns (\"Date\", \"Time\")\n",
    "Diabetes_data3 <- Diabetes_data2 %>%\n",
    "    select(-Date, -Time)\n",
    "\n",
    "tail(Diabetes_data3)"
   ]
  },
  {
   "cell_type": "code",
   "execution_count": 62,
   "metadata": {},
   "outputs": [
    {
     "data": {
      "text/html": [
       "<table>\n",
       "<thead><tr><th scope=col>Insulin_Code</th><th scope=col>Insulin_dose</th><th scope=col>pid</th><th scope=col>date1</th><th scope=col>datetime</th></tr></thead>\n",
       "<tbody>\n",
       "\t<tr><td>33                 </td><td> 9                 </td><td>D1                 </td><td>1991-04-21         </td><td>1991-04-21 09:09:00</td></tr>\n",
       "\t<tr><td>34                 </td><td>13                 </td><td>D1                 </td><td>1991-04-21         </td><td>1991-04-21 09:09:00</td></tr>\n",
       "\t<tr><td>33                 </td><td> 7                 </td><td>D1                 </td><td>1991-04-21         </td><td>1991-04-21 17:08:00</td></tr>\n",
       "\t<tr><td>33                 </td><td>10                 </td><td>D1                 </td><td>1991-04-22         </td><td>1991-04-22 07:35:00</td></tr>\n",
       "\t<tr><td>34                 </td><td>13                 </td><td>D1                 </td><td>1991-04-22         </td><td>1991-04-22 07:35:00</td></tr>\n",
       "\t<tr><td>33                 </td><td> 2                 </td><td>D1                 </td><td>1991-04-22         </td><td>1991-04-22 13:40:00</td></tr>\n",
       "</tbody>\n",
       "</table>\n"
      ],
      "text/latex": [
       "\\begin{tabular}{r|lllll}\n",
       " Insulin\\_Code & Insulin\\_dose & pid & date1 & datetime\\\\\n",
       "\\hline\n",
       "\t 33                  &  9                  & D1                  & 1991-04-21          & 1991-04-21 09:09:00\\\\\n",
       "\t 34                  & 13                  & D1                  & 1991-04-21          & 1991-04-21 09:09:00\\\\\n",
       "\t 33                  &  7                  & D1                  & 1991-04-21          & 1991-04-21 17:08:00\\\\\n",
       "\t 33                  & 10                  & D1                  & 1991-04-22          & 1991-04-22 07:35:00\\\\\n",
       "\t 34                  & 13                  & D1                  & 1991-04-22          & 1991-04-22 07:35:00\\\\\n",
       "\t 33                  &  2                  & D1                  & 1991-04-22          & 1991-04-22 13:40:00\\\\\n",
       "\\end{tabular}\n"
      ],
      "text/markdown": [
       "\n",
       "| Insulin_Code | Insulin_dose | pid | date1 | datetime |\n",
       "|---|---|---|---|---|\n",
       "| 33                  |  9                  | D1                  | 1991-04-21          | 1991-04-21 09:09:00 |\n",
       "| 34                  | 13                  | D1                  | 1991-04-21          | 1991-04-21 09:09:00 |\n",
       "| 33                  |  7                  | D1                  | 1991-04-21          | 1991-04-21 17:08:00 |\n",
       "| 33                  | 10                  | D1                  | 1991-04-22          | 1991-04-22 07:35:00 |\n",
       "| 34                  | 13                  | D1                  | 1991-04-22          | 1991-04-22 07:35:00 |\n",
       "| 33                  |  2                  | D1                  | 1991-04-22          | 1991-04-22 13:40:00 |\n",
       "\n"
      ],
      "text/plain": [
       "  Insulin_Code Insulin_dose pid date1      datetime           \n",
       "1 33            9           D1  1991-04-21 1991-04-21 09:09:00\n",
       "2 34           13           D1  1991-04-21 1991-04-21 09:09:00\n",
       "3 33            7           D1  1991-04-21 1991-04-21 17:08:00\n",
       "4 33           10           D1  1991-04-22 1991-04-22 07:35:00\n",
       "5 34           13           D1  1991-04-22 1991-04-22 07:35:00\n",
       "6 33            2           D1  1991-04-22 1991-04-22 13:40:00"
      ]
     },
     "metadata": {},
     "output_type": "display_data"
    }
   ],
   "source": [
    "#Filter out datasets for Insulin types\n",
    "\n",
    "target <- c(33, 34, 35)\n",
    "\n",
    "Insulin_data <- Diabetes_data3 %>%\n",
    "    filter(Code %in% target) %>%\n",
    "    rename(Insulin_Code = Code, Insulin_dose = Value)\n",
    "\n",
    "head(Insulin_data)"
   ]
  },
  {
   "cell_type": "code",
   "execution_count": 63,
   "metadata": {},
   "outputs": [
    {
     "data": {
      "text/html": [
       "<table>\n",
       "<thead><tr><th scope=col>Glucose_Code</th><th scope=col>Glucose_Value</th><th scope=col>pid</th><th scope=col>date1</th><th scope=col>datetime</th></tr></thead>\n",
       "<tbody>\n",
       "\t<tr><td>58                 </td><td>100                </td><td>D1                 </td><td>1991-04-21         </td><td>1991-04-21 09:09:00</td></tr>\n",
       "\t<tr><td>62                 </td><td>119                </td><td>D1                 </td><td>1991-04-21         </td><td>1991-04-21 17:08:00</td></tr>\n",
       "\t<tr><td>48                 </td><td>123                </td><td>D1                 </td><td>1991-04-21         </td><td>1991-04-21 22:51:00</td></tr>\n",
       "\t<tr><td>58                 </td><td>216                </td><td>D1                 </td><td>1991-04-22         </td><td>1991-04-22 07:35:00</td></tr>\n",
       "\t<tr><td>62                 </td><td>211                </td><td>D1                 </td><td>1991-04-22         </td><td>1991-04-22 16:56:00</td></tr>\n",
       "\t<tr><td>58                 </td><td>257                </td><td>D1                 </td><td>1991-04-23         </td><td>1991-04-23 07:25:00</td></tr>\n",
       "</tbody>\n",
       "</table>\n"
      ],
      "text/latex": [
       "\\begin{tabular}{r|lllll}\n",
       " Glucose\\_Code & Glucose\\_Value & pid & date1 & datetime\\\\\n",
       "\\hline\n",
       "\t 58                  & 100                 & D1                  & 1991-04-21          & 1991-04-21 09:09:00\\\\\n",
       "\t 62                  & 119                 & D1                  & 1991-04-21          & 1991-04-21 17:08:00\\\\\n",
       "\t 48                  & 123                 & D1                  & 1991-04-21          & 1991-04-21 22:51:00\\\\\n",
       "\t 58                  & 216                 & D1                  & 1991-04-22          & 1991-04-22 07:35:00\\\\\n",
       "\t 62                  & 211                 & D1                  & 1991-04-22          & 1991-04-22 16:56:00\\\\\n",
       "\t 58                  & 257                 & D1                  & 1991-04-23          & 1991-04-23 07:25:00\\\\\n",
       "\\end{tabular}\n"
      ],
      "text/markdown": [
       "\n",
       "| Glucose_Code | Glucose_Value | pid | date1 | datetime |\n",
       "|---|---|---|---|---|\n",
       "| 58                  | 100                 | D1                  | 1991-04-21          | 1991-04-21 09:09:00 |\n",
       "| 62                  | 119                 | D1                  | 1991-04-21          | 1991-04-21 17:08:00 |\n",
       "| 48                  | 123                 | D1                  | 1991-04-21          | 1991-04-21 22:51:00 |\n",
       "| 58                  | 216                 | D1                  | 1991-04-22          | 1991-04-22 07:35:00 |\n",
       "| 62                  | 211                 | D1                  | 1991-04-22          | 1991-04-22 16:56:00 |\n",
       "| 58                  | 257                 | D1                  | 1991-04-23          | 1991-04-23 07:25:00 |\n",
       "\n"
      ],
      "text/plain": [
       "  Glucose_Code Glucose_Value pid date1      datetime           \n",
       "1 58           100           D1  1991-04-21 1991-04-21 09:09:00\n",
       "2 62           119           D1  1991-04-21 1991-04-21 17:08:00\n",
       "3 48           123           D1  1991-04-21 1991-04-21 22:51:00\n",
       "4 58           216           D1  1991-04-22 1991-04-22 07:35:00\n",
       "5 62           211           D1  1991-04-22 1991-04-22 16:56:00\n",
       "6 58           257           D1  1991-04-23 1991-04-23 07:25:00"
      ]
     },
     "metadata": {},
     "output_type": "display_data"
    }
   ],
   "source": [
    "#Repeat same for Glucose\n",
    "\n",
    "#Filter out datasets for Blood Glucose Values against Glucose Codes\n",
    "\n",
    "target2 <- c(48, 58, 60, 62, 65)\n",
    "\n",
    "Glucose_data <- Diabetes_data3 %>%\n",
    "    filter(Code %in% target2) %>%\n",
    "    rename(Glucose_Code = Code, Glucose_Value = Value)\n",
    "\n",
    "head(Glucose_data)"
   ]
  },
  {
   "cell_type": "code",
   "execution_count": 64,
   "metadata": {},
   "outputs": [
    {
     "data": {
      "text/html": [
       "<table>\n",
       "<thead><tr><th scope=col>Insulin_Code</th><th scope=col>Insulin_dose</th><th scope=col>pid</th><th scope=col>date1</th><th scope=col>datetime</th><th scope=col>Glucose_Code</th><th scope=col>Glucose_Value</th></tr></thead>\n",
       "<tbody>\n",
       "\t<tr><td>33                 </td><td> 9                 </td><td>D1                 </td><td>1991-04-21         </td><td>1991-04-21 09:09:00</td><td>58                 </td><td>100                </td></tr>\n",
       "\t<tr><td>34                 </td><td>13                 </td><td>D1                 </td><td>1991-04-21         </td><td>1991-04-21 09:09:00</td><td>58                 </td><td>100                </td></tr>\n",
       "\t<tr><td>33                 </td><td> 7                 </td><td>D1                 </td><td>1991-04-21         </td><td>1991-04-21 17:08:00</td><td>62                 </td><td>119                </td></tr>\n",
       "\t<tr><td>33                 </td><td>10                 </td><td>D1                 </td><td>1991-04-22         </td><td>1991-04-22 07:35:00</td><td>58                 </td><td>216                </td></tr>\n",
       "\t<tr><td>34                 </td><td>13                 </td><td>D1                 </td><td>1991-04-22         </td><td>1991-04-22 07:35:00</td><td>58                 </td><td>216                </td></tr>\n",
       "\t<tr><td>33                 </td><td> 7                 </td><td>D1                 </td><td>1991-04-22         </td><td>1991-04-22 16:56:00</td><td>62                 </td><td>211                </td></tr>\n",
       "</tbody>\n",
       "</table>\n"
      ],
      "text/latex": [
       "\\begin{tabular}{r|lllllll}\n",
       " Insulin\\_Code & Insulin\\_dose & pid & date1 & datetime & Glucose\\_Code & Glucose\\_Value\\\\\n",
       "\\hline\n",
       "\t 33                  &  9                  & D1                  & 1991-04-21          & 1991-04-21 09:09:00 & 58                  & 100                \\\\\n",
       "\t 34                  & 13                  & D1                  & 1991-04-21          & 1991-04-21 09:09:00 & 58                  & 100                \\\\\n",
       "\t 33                  &  7                  & D1                  & 1991-04-21          & 1991-04-21 17:08:00 & 62                  & 119                \\\\\n",
       "\t 33                  & 10                  & D1                  & 1991-04-22          & 1991-04-22 07:35:00 & 58                  & 216                \\\\\n",
       "\t 34                  & 13                  & D1                  & 1991-04-22          & 1991-04-22 07:35:00 & 58                  & 216                \\\\\n",
       "\t 33                  &  7                  & D1                  & 1991-04-22          & 1991-04-22 16:56:00 & 62                  & 211                \\\\\n",
       "\\end{tabular}\n"
      ],
      "text/markdown": [
       "\n",
       "| Insulin_Code | Insulin_dose | pid | date1 | datetime | Glucose_Code | Glucose_Value |\n",
       "|---|---|---|---|---|---|---|\n",
       "| 33                  |  9                  | D1                  | 1991-04-21          | 1991-04-21 09:09:00 | 58                  | 100                 |\n",
       "| 34                  | 13                  | D1                  | 1991-04-21          | 1991-04-21 09:09:00 | 58                  | 100                 |\n",
       "| 33                  |  7                  | D1                  | 1991-04-21          | 1991-04-21 17:08:00 | 62                  | 119                 |\n",
       "| 33                  | 10                  | D1                  | 1991-04-22          | 1991-04-22 07:35:00 | 58                  | 216                 |\n",
       "| 34                  | 13                  | D1                  | 1991-04-22          | 1991-04-22 07:35:00 | 58                  | 216                 |\n",
       "| 33                  |  7                  | D1                  | 1991-04-22          | 1991-04-22 16:56:00 | 62                  | 211                 |\n",
       "\n"
      ],
      "text/plain": [
       "  Insulin_Code Insulin_dose pid date1      datetime            Glucose_Code\n",
       "1 33            9           D1  1991-04-21 1991-04-21 09:09:00 58          \n",
       "2 34           13           D1  1991-04-21 1991-04-21 09:09:00 58          \n",
       "3 33            7           D1  1991-04-21 1991-04-21 17:08:00 62          \n",
       "4 33           10           D1  1991-04-22 1991-04-22 07:35:00 58          \n",
       "5 34           13           D1  1991-04-22 1991-04-22 07:35:00 58          \n",
       "6 33            7           D1  1991-04-22 1991-04-22 16:56:00 62          \n",
       "  Glucose_Value\n",
       "1 100          \n",
       "2 100          \n",
       "3 119          \n",
       "4 216          \n",
       "5 216          \n",
       "6 211          "
      ]
     },
     "metadata": {},
     "output_type": "display_data"
    },
    {
     "data": {
      "text/html": [
       "<table>\n",
       "<thead><tr><th></th><th scope=col>Insulin_Code</th><th scope=col>Insulin_dose</th><th scope=col>pid</th><th scope=col>date1</th><th scope=col>datetime</th><th scope=col>Glucose_Code</th><th scope=col>Glucose_Value</th></tr></thead>\n",
       "<tbody>\n",
       "\t<tr><th scope=row>3629</th><td>33                 </td><td> 3                 </td><td>D31                </td><td>1991-08-13         </td><td>1991-08-13 12:00:00</td><td>60                 </td><td>203                </td></tr>\n",
       "\t<tr><th scope=row>3630</th><td>33                 </td><td> 6                 </td><td>D31                </td><td>1991-08-13         </td><td>1991-08-13 18:00:00</td><td>62                 </td><td>185                </td></tr>\n",
       "\t<tr><th scope=row>3631</th><td>33                 </td><td> 5                 </td><td>D31                </td><td>1991-08-14         </td><td>1991-08-14 08:00:00</td><td>58                 </td><td>161                </td></tr>\n",
       "\t<tr><th scope=row>3632</th><td>34                 </td><td>27                 </td><td>D31                </td><td>1991-08-14         </td><td>1991-08-14 08:00:00</td><td>58                 </td><td>161                </td></tr>\n",
       "\t<tr><th scope=row>3633</th><td>33                 </td><td> 3                 </td><td>D31                </td><td>1991-08-14         </td><td>1991-08-14 12:00:00</td><td>60                 </td><td>256                </td></tr>\n",
       "\t<tr><th scope=row>3634</th><td>33                 </td><td> 6                 </td><td>D31                </td><td>1991-08-14         </td><td>1991-08-14 18:00:00</td><td>62                 </td><td>209                </td></tr>\n",
       "</tbody>\n",
       "</table>\n"
      ],
      "text/latex": [
       "\\begin{tabular}{r|lllllll}\n",
       "  & Insulin\\_Code & Insulin\\_dose & pid & date1 & datetime & Glucose\\_Code & Glucose\\_Value\\\\\n",
       "\\hline\n",
       "\t3629 & 33                  &  3                  & D31                 & 1991-08-13          & 1991-08-13 12:00:00 & 60                  & 203                \\\\\n",
       "\t3630 & 33                  &  6                  & D31                 & 1991-08-13          & 1991-08-13 18:00:00 & 62                  & 185                \\\\\n",
       "\t3631 & 33                  &  5                  & D31                 & 1991-08-14          & 1991-08-14 08:00:00 & 58                  & 161                \\\\\n",
       "\t3632 & 34                  & 27                  & D31                 & 1991-08-14          & 1991-08-14 08:00:00 & 58                  & 161                \\\\\n",
       "\t3633 & 33                  &  3                  & D31                 & 1991-08-14          & 1991-08-14 12:00:00 & 60                  & 256                \\\\\n",
       "\t3634 & 33                  &  6                  & D31                 & 1991-08-14          & 1991-08-14 18:00:00 & 62                  & 209                \\\\\n",
       "\\end{tabular}\n"
      ],
      "text/markdown": [
       "\n",
       "| <!--/--> | Insulin_Code | Insulin_dose | pid | date1 | datetime | Glucose_Code | Glucose_Value |\n",
       "|---|---|---|---|---|---|---|---|\n",
       "| 3629 | 33                  |  3                  | D31                 | 1991-08-13          | 1991-08-13 12:00:00 | 60                  | 203                 |\n",
       "| 3630 | 33                  |  6                  | D31                 | 1991-08-13          | 1991-08-13 18:00:00 | 62                  | 185                 |\n",
       "| 3631 | 33                  |  5                  | D31                 | 1991-08-14          | 1991-08-14 08:00:00 | 58                  | 161                 |\n",
       "| 3632 | 34                  | 27                  | D31                 | 1991-08-14          | 1991-08-14 08:00:00 | 58                  | 161                 |\n",
       "| 3633 | 33                  |  3                  | D31                 | 1991-08-14          | 1991-08-14 12:00:00 | 60                  | 256                 |\n",
       "| 3634 | 33                  |  6                  | D31                 | 1991-08-14          | 1991-08-14 18:00:00 | 62                  | 209                 |\n",
       "\n"
      ],
      "text/plain": [
       "     Insulin_Code Insulin_dose pid date1      datetime            Glucose_Code\n",
       "3629 33            3           D31 1991-08-13 1991-08-13 12:00:00 60          \n",
       "3630 33            6           D31 1991-08-13 1991-08-13 18:00:00 62          \n",
       "3631 33            5           D31 1991-08-14 1991-08-14 08:00:00 58          \n",
       "3632 34           27           D31 1991-08-14 1991-08-14 08:00:00 58          \n",
       "3633 33            3           D31 1991-08-14 1991-08-14 12:00:00 60          \n",
       "3634 33            6           D31 1991-08-14 1991-08-14 18:00:00 62          \n",
       "     Glucose_Value\n",
       "3629 203          \n",
       "3630 185          \n",
       "3631 161          \n",
       "3632 161          \n",
       "3633 256          \n",
       "3634 209          "
      ]
     },
     "metadata": {},
     "output_type": "display_data"
    },
    {
     "data": {
      "text/html": [
       "3634"
      ],
      "text/latex": [
       "3634"
      ],
      "text/markdown": [
       "3634"
      ],
      "text/plain": [
       "[1] 3634"
      ]
     },
     "metadata": {},
     "output_type": "display_data"
    }
   ],
   "source": [
    "#Combine both tables for Insulin and Glucose\n",
    "Diabetes_InsGlucose <- Insulin_data %>%\n",
    "    inner_join(Glucose_data, by = c(\"pid\", \"date1\", \"datetime\"))\n",
    "\n",
    "head(Diabetes_InsGlucose)\n",
    "tail(Diabetes_InsGlucose)\n",
    "nrow(Diabetes_InsGlucose)"
   ]
  },
  {
   "cell_type": "code",
   "execution_count": 71,
   "metadata": {},
   "outputs": [
    {
     "data": {
      "text/html": [
       "<ol class=list-inline>\n",
       "\t<li>1455</li>\n",
       "\t<li>1456</li>\n",
       "\t<li>1457</li>\n",
       "\t<li>1458</li>\n",
       "\t<li>1459</li>\n",
       "\t<li>1460</li>\n",
       "\t<li>1461</li>\n",
       "\t<li>1462</li>\n",
       "\t<li>1463</li>\n",
       "\t<li>1464</li>\n",
       "\t<li>1465</li>\n",
       "\t<li>1466</li>\n",
       "</ol>\n"
      ],
      "text/latex": [
       "\\begin{enumerate*}\n",
       "\\item 1455\n",
       "\\item 1456\n",
       "\\item 1457\n",
       "\\item 1458\n",
       "\\item 1459\n",
       "\\item 1460\n",
       "\\item 1461\n",
       "\\item 1462\n",
       "\\item 1463\n",
       "\\item 1464\n",
       "\\item 1465\n",
       "\\item 1466\n",
       "\\end{enumerate*}\n"
      ],
      "text/markdown": [
       "1. 1455\n",
       "2. 1456\n",
       "3. 1457\n",
       "4. 1458\n",
       "5. 1459\n",
       "6. 1460\n",
       "7. 1461\n",
       "8. 1462\n",
       "9. 1463\n",
       "10. 1464\n",
       "11. 1465\n",
       "12. 1466\n",
       "\n",
       "\n"
      ],
      "text/plain": [
       " [1] 1455 1456 1457 1458 1459 1460 1461 1462 1463 1464 1465 1466"
      ]
     },
     "metadata": {},
     "output_type": "display_data"
    },
    {
     "data": {
      "text/plain": [
       "[1] \"1991-01-16 16:30:00 UTC\""
      ]
     },
     "metadata": {},
     "output_type": "display_data"
    },
    {
     "data": {
      "text/plain": [
       "  Insulin_Code    Insulin_dose       pid                date1           \n",
       " Min.   :33.00   Min.   : 1.00   Length:3634        Min.   :1988-07-13  \n",
       " 1st Qu.:33.00   1st Qu.: 5.00   Class :character   1st Qu.:1989-11-11  \n",
       " Median :33.00   Median : 7.00   Mode  :character   Median :1991-01-16  \n",
       " Mean   :33.27   Mean   :10.15                      Mean   :1990-08-13  \n",
       " 3rd Qu.:34.00   3rd Qu.:14.00                      3rd Qu.:1991-06-13  \n",
       " Max.   :34.00   Max.   :35.00                      Max.   :1991-09-23  \n",
       "                                                    NA's   :12          \n",
       "    datetime                    Glucose_Code   Glucose_Value  \n",
       " Min.   :1988-07-13 08:00:00   Min.   :48.00   Min.   :  0.0  \n",
       " 1st Qu.:1989-11-11 11:37:30   1st Qu.:58.00   1st Qu.:109.0  \n",
       " Median :1991-01-16 16:30:00   Median :58.00   Median :154.0  \n",
       " Mean   :1990-08-14 16:05:52   Mean   :59.24   Mean   :160.7  \n",
       " 3rd Qu.:1991-06-13 11:11:15   3rd Qu.:62.00   3rd Qu.:205.0  \n",
       " Max.   :1991-09-23 21:10:00   Max.   :65.00   Max.   :450.0  \n",
       "                                               NA's   :7      "
      ]
     },
     "metadata": {},
     "output_type": "display_data"
    }
   ],
   "source": [
    "#Filter out NA's from datetime column\n",
    "\n",
    "#Use which() and is.na() to create index of observations without a datetime\n",
    "na_index <- which(is.na(Diabetes_InsGlucose$datetime))\n",
    "na_index\n",
    "\n",
    "#Compute median datetime value\n",
    "median_datetime <- median(Diabetes_InsGlucose$datetime, na.rm = TRUE)\n",
    "median_datetime\n",
    "\n",
    "#Make a copy of the dataframe\n",
    "Diabetes_InsGlucose_replace <- Diabetes_InsGlucose\n",
    "\n",
    "#Replace missing datetime values\n",
    "Diabetes_InsGlucose_replace$datetime[na_index] <- median_datetime\n",
    "\n",
    "#Check if NA's have been removed\n",
    "summary(Diabetes_InsGlucose_replace)\n",
    "\n",
    "#Rename the replaced Diabetes Data\n",
    "Diabetes_InsGlucose2 <- Diabetes_InsGlucose_replace"
   ]
  },
  {
   "cell_type": "code",
   "execution_count": 72,
   "metadata": {},
   "outputs": [
    {
     "data": {
      "text/html": [
       "<ol class=list-inline>\n",
       "\t<li>516</li>\n",
       "\t<li>533</li>\n",
       "\t<li>536</li>\n",
       "\t<li>540</li>\n",
       "\t<li>542</li>\n",
       "\t<li>549</li>\n",
       "\t<li>737</li>\n",
       "</ol>\n"
      ],
      "text/latex": [
       "\\begin{enumerate*}\n",
       "\\item 516\n",
       "\\item 533\n",
       "\\item 536\n",
       "\\item 540\n",
       "\\item 542\n",
       "\\item 549\n",
       "\\item 737\n",
       "\\end{enumerate*}\n"
      ],
      "text/markdown": [
       "1. 516\n",
       "2. 533\n",
       "3. 536\n",
       "4. 540\n",
       "5. 542\n",
       "6. 549\n",
       "7. 737\n",
       "\n",
       "\n"
      ],
      "text/plain": [
       "[1] 516 533 536 540 542 549 737"
      ]
     },
     "metadata": {},
     "output_type": "display_data"
    },
    {
     "data": {
      "text/html": [
       "154"
      ],
      "text/latex": [
       "154"
      ],
      "text/markdown": [
       "154"
      ],
      "text/plain": [
       "[1] 154"
      ]
     },
     "metadata": {},
     "output_type": "display_data"
    },
    {
     "data": {
      "text/plain": [
       "  Insulin_Code    Insulin_dose       pid                date1           \n",
       " Min.   :33.00   Min.   : 1.00   Length:3634        Min.   :1988-07-13  \n",
       " 1st Qu.:33.00   1st Qu.: 5.00   Class :character   1st Qu.:1989-11-11  \n",
       " Median :33.00   Median : 7.00   Mode  :character   Median :1991-01-16  \n",
       " Mean   :33.27   Mean   :10.15                      Mean   :1990-08-13  \n",
       " 3rd Qu.:34.00   3rd Qu.:14.00                      3rd Qu.:1991-06-13  \n",
       " Max.   :34.00   Max.   :35.00                      Max.   :1991-09-23  \n",
       "                                                    NA's   :12          \n",
       "    datetime                    Glucose_Code   Glucose_Value  \n",
       " Min.   :1988-07-13 08:00:00   Min.   :48.00   Min.   :  0.0  \n",
       " 1st Qu.:1989-11-11 11:37:30   1st Qu.:58.00   1st Qu.:109.0  \n",
       " Median :1991-01-16 16:30:00   Median :58.00   Median :154.0  \n",
       " Mean   :1990-08-14 16:05:52   Mean   :59.24   Mean   :160.7  \n",
       " 3rd Qu.:1991-06-13 11:11:15   3rd Qu.:62.00   3rd Qu.:205.0  \n",
       " Max.   :1991-09-23 21:10:00   Max.   :65.00   Max.   :450.0  \n",
       "                                                              "
      ]
     },
     "metadata": {},
     "output_type": "display_data"
    }
   ],
   "source": [
    "#Repeat above process to remove NA's from Glucose Value column\n",
    "\n",
    "#Filter out NA's from Glucose_Value column\n",
    "\n",
    "#Use which() and is.na() to create index of observations without a glucose value\n",
    "na_index2 <- which(is.na(Diabetes_InsGlucose2$Glucose_Value))\n",
    "na_index2\n",
    "\n",
    "#Compute median glucose value\n",
    "median_gluc <- median(Diabetes_InsGlucose2$Glucose_Value, na.rm = TRUE)\n",
    "median_gluc\n",
    "\n",
    "#Make a copy of the dataframe\n",
    "Diabetes_InsGlucose_replace2 <- Diabetes_InsGlucose2\n",
    "\n",
    "#Replace missing glucose values\n",
    "Diabetes_InsGlucose_replace2$Glucose_Value[na_index2] <- median_gluc\n",
    "\n",
    "#Check if NA's have been removed\n",
    "summary(Diabetes_InsGlucose_replace2)\n",
    "\n",
    "#Rename the replaced Diabetes Data\n",
    "Diabetes_InsGlucose3 <- Diabetes_InsGlucose_replace2"
   ]
  },
  {
   "cell_type": "code",
   "execution_count": 65,
   "metadata": {},
   "outputs": [],
   "source": [
    "#FEATURE ENGINEERING"
   ]
  },
  {
   "cell_type": "code",
   "execution_count": 73,
   "metadata": {},
   "outputs": [
    {
     "data": {
      "text/html": [
       "<table>\n",
       "<thead><tr><th scope=col>Insulin_Code</th><th scope=col>Insulin_dose</th><th scope=col>pid</th><th scope=col>date1</th><th scope=col>datetime</th><th scope=col>Glucose_Code</th><th scope=col>Glucose_Value</th><th scope=col>time_period</th></tr></thead>\n",
       "<tbody>\n",
       "\t<tr><td>33                 </td><td> 9                 </td><td>D1                 </td><td>1991-04-21         </td><td>1991-04-21 09:09:00</td><td>58                 </td><td>100                </td><td>month_1            </td></tr>\n",
       "\t<tr><td>34                 </td><td>13                 </td><td>D1                 </td><td>1991-04-21         </td><td>1991-04-21 09:09:00</td><td>58                 </td><td>100                </td><td>month_1            </td></tr>\n",
       "\t<tr><td>33                 </td><td> 7                 </td><td>D1                 </td><td>1991-04-21         </td><td>1991-04-21 17:08:00</td><td>62                 </td><td>119                </td><td>month_1            </td></tr>\n",
       "\t<tr><td>33                 </td><td>10                 </td><td>D1                 </td><td>1991-04-22         </td><td>1991-04-22 07:35:00</td><td>58                 </td><td>216                </td><td>month_1            </td></tr>\n",
       "\t<tr><td>34                 </td><td>13                 </td><td>D1                 </td><td>1991-04-22         </td><td>1991-04-22 07:35:00</td><td>58                 </td><td>216                </td><td>month_1            </td></tr>\n",
       "\t<tr><td>33                 </td><td> 7                 </td><td>D1                 </td><td>1991-04-22         </td><td>1991-04-22 16:56:00</td><td>62                 </td><td>211                </td><td>month_1            </td></tr>\n",
       "</tbody>\n",
       "</table>\n"
      ],
      "text/latex": [
       "\\begin{tabular}{r|llllllll}\n",
       " Insulin\\_Code & Insulin\\_dose & pid & date1 & datetime & Glucose\\_Code & Glucose\\_Value & time\\_period\\\\\n",
       "\\hline\n",
       "\t 33                  &  9                  & D1                  & 1991-04-21          & 1991-04-21 09:09:00 & 58                  & 100                 & month\\_1          \\\\\n",
       "\t 34                  & 13                  & D1                  & 1991-04-21          & 1991-04-21 09:09:00 & 58                  & 100                 & month\\_1          \\\\\n",
       "\t 33                  &  7                  & D1                  & 1991-04-21          & 1991-04-21 17:08:00 & 62                  & 119                 & month\\_1          \\\\\n",
       "\t 33                  & 10                  & D1                  & 1991-04-22          & 1991-04-22 07:35:00 & 58                  & 216                 & month\\_1          \\\\\n",
       "\t 34                  & 13                  & D1                  & 1991-04-22          & 1991-04-22 07:35:00 & 58                  & 216                 & month\\_1          \\\\\n",
       "\t 33                  &  7                  & D1                  & 1991-04-22          & 1991-04-22 16:56:00 & 62                  & 211                 & month\\_1          \\\\\n",
       "\\end{tabular}\n"
      ],
      "text/markdown": [
       "\n",
       "| Insulin_Code | Insulin_dose | pid | date1 | datetime | Glucose_Code | Glucose_Value | time_period |\n",
       "|---|---|---|---|---|---|---|---|\n",
       "| 33                  |  9                  | D1                  | 1991-04-21          | 1991-04-21 09:09:00 | 58                  | 100                 | month_1             |\n",
       "| 34                  | 13                  | D1                  | 1991-04-21          | 1991-04-21 09:09:00 | 58                  | 100                 | month_1             |\n",
       "| 33                  |  7                  | D1                  | 1991-04-21          | 1991-04-21 17:08:00 | 62                  | 119                 | month_1             |\n",
       "| 33                  | 10                  | D1                  | 1991-04-22          | 1991-04-22 07:35:00 | 58                  | 216                 | month_1             |\n",
       "| 34                  | 13                  | D1                  | 1991-04-22          | 1991-04-22 07:35:00 | 58                  | 216                 | month_1             |\n",
       "| 33                  |  7                  | D1                  | 1991-04-22          | 1991-04-22 16:56:00 | 62                  | 211                 | month_1             |\n",
       "\n"
      ],
      "text/plain": [
       "  Insulin_Code Insulin_dose pid date1      datetime            Glucose_Code\n",
       "1 33            9           D1  1991-04-21 1991-04-21 09:09:00 58          \n",
       "2 34           13           D1  1991-04-21 1991-04-21 09:09:00 58          \n",
       "3 33            7           D1  1991-04-21 1991-04-21 17:08:00 62          \n",
       "4 33           10           D1  1991-04-22 1991-04-22 07:35:00 58          \n",
       "5 34           13           D1  1991-04-22 1991-04-22 07:35:00 58          \n",
       "6 33            7           D1  1991-04-22 1991-04-22 16:56:00 62          \n",
       "  Glucose_Value time_period\n",
       "1 100           month_1    \n",
       "2 100           month_1    \n",
       "3 119           month_1    \n",
       "4 216           month_1    \n",
       "5 216           month_1    \n",
       "6 211           month_1    "
      ]
     },
     "metadata": {},
     "output_type": "display_data"
    }
   ],
   "source": [
    "#Create feature to \"bucket\" datetimes in patient dataset 1 into specific months\n",
    "Diabetes_InsGlucose_dateGroups <- Diabetes_InsGlucose3 %>%\n",
    "    mutate(time_period = case_when(datetime >= '1991-04-21' & datetime <= '1991-05-19' ~ \"month_1\",\n",
    "                                  datetime >= '1991-05-20' & datetime <= '1991-06-16' ~ \"month_2\",\n",
    "                                  datetime >= '1991-06-17' & datetime <= '1991-07-14' ~ \"month_3\",\n",
    "                                  datetime >= '1991-07-15' & datetime <= '1991-08-11' ~ \"month_4\",\n",
    "                                  datetime >= '1991-08-12' & datetime <= '1991-09-01' ~ \"month_5\"))\n",
    "head(Diabetes_InsGlucose_dateGroups)"
   ]
  },
  {
   "cell_type": "code",
   "execution_count": 104,
   "metadata": {},
   "outputs": [
    {
     "data": {
      "text/html": [
       "<table>\n",
       "<thead><tr><th scope=col>Insulin_Code</th><th scope=col>Insulin_dose</th><th scope=col>pid</th><th scope=col>date1</th><th scope=col>datetime</th><th scope=col>Glucose_Code</th><th scope=col>Glucose_Value</th><th scope=col>time_period</th><th scope=col>month_1</th><th scope=col>month_2</th><th scope=col>...</th><th scope=col>month_4</th><th scope=col>month_5</th><th scope=col>Reg_Insulin</th><th scope=col>Inter_Insulin</th><th scope=col>LongAct_Insulin</th><th scope=col>Unspec_Gluc</th><th scope=col>PreBreak_Gluc</th><th scope=col>PreLun_Gluc</th><th scope=col>PreSup_Gluc</th><th scope=col>Hypoglycaemia</th></tr></thead>\n",
       "<tbody>\n",
       "\t<tr><td>33                 </td><td> 9                 </td><td>D1                 </td><td>1991-04-21         </td><td>1991-04-21 09:09:00</td><td>58                 </td><td>100                </td><td>month_1            </td><td>1                  </td><td>0                  </td><td>...                </td><td>0                  </td><td>0                  </td><td>1                  </td><td>0                  </td><td>0                  </td><td>0                  </td><td>1                  </td><td>0                  </td><td>0                  </td><td>0                  </td></tr>\n",
       "\t<tr><td>34                 </td><td>13                 </td><td>D1                 </td><td>1991-04-21         </td><td>1991-04-21 09:09:00</td><td>58                 </td><td>100                </td><td>month_1            </td><td>1                  </td><td>0                  </td><td>...                </td><td>0                  </td><td>0                  </td><td>0                  </td><td>1                  </td><td>0                  </td><td>0                  </td><td>1                  </td><td>0                  </td><td>0                  </td><td>0                  </td></tr>\n",
       "\t<tr><td>33                 </td><td> 7                 </td><td>D1                 </td><td>1991-04-21         </td><td>1991-04-21 17:08:00</td><td>62                 </td><td>119                </td><td>month_1            </td><td>1                  </td><td>0                  </td><td>...                </td><td>0                  </td><td>0                  </td><td>1                  </td><td>0                  </td><td>0                  </td><td>0                  </td><td>0                  </td><td>0                  </td><td>1                  </td><td>0                  </td></tr>\n",
       "\t<tr><td>33                 </td><td>10                 </td><td>D1                 </td><td>1991-04-22         </td><td>1991-04-22 07:35:00</td><td>58                 </td><td>216                </td><td>month_1            </td><td>1                  </td><td>0                  </td><td>...                </td><td>0                  </td><td>0                  </td><td>1                  </td><td>0                  </td><td>0                  </td><td>0                  </td><td>1                  </td><td>0                  </td><td>0                  </td><td>0                  </td></tr>\n",
       "\t<tr><td>34                 </td><td>13                 </td><td>D1                 </td><td>1991-04-22         </td><td>1991-04-22 07:35:00</td><td>58                 </td><td>216                </td><td>month_1            </td><td>1                  </td><td>0                  </td><td>...                </td><td>0                  </td><td>0                  </td><td>0                  </td><td>1                  </td><td>0                  </td><td>0                  </td><td>1                  </td><td>0                  </td><td>0                  </td><td>0                  </td></tr>\n",
       "\t<tr><td>33                 </td><td> 7                 </td><td>D1                 </td><td>1991-04-22         </td><td>1991-04-22 16:56:00</td><td>62                 </td><td>211                </td><td>month_1            </td><td>1                  </td><td>0                  </td><td>...                </td><td>0                  </td><td>0                  </td><td>1                  </td><td>0                  </td><td>0                  </td><td>0                  </td><td>0                  </td><td>0                  </td><td>1                  </td><td>0                  </td></tr>\n",
       "</tbody>\n",
       "</table>\n"
      ],
      "text/latex": [
       "\\begin{tabular}{r|lllllllllllllllllllll}\n",
       " Insulin\\_Code & Insulin\\_dose & pid & date1 & datetime & Glucose\\_Code & Glucose\\_Value & time\\_period & month\\_1 & month\\_2 & ... & month\\_4 & month\\_5 & Reg\\_Insulin & Inter\\_Insulin & LongAct\\_Insulin & Unspec\\_Gluc & PreBreak\\_Gluc & PreLun\\_Gluc & PreSup\\_Gluc & Hypoglycaemia\\\\\n",
       "\\hline\n",
       "\t 33                  &  9                  & D1                  & 1991-04-21          & 1991-04-21 09:09:00 & 58                  & 100                 & month\\_1           & 1                   & 0                   & ...                 & 0                   & 0                   & 1                   & 0                   & 0                   & 0                   & 1                   & 0                   & 0                   & 0                  \\\\\n",
       "\t 34                  & 13                  & D1                  & 1991-04-21          & 1991-04-21 09:09:00 & 58                  & 100                 & month\\_1           & 1                   & 0                   & ...                 & 0                   & 0                   & 0                   & 1                   & 0                   & 0                   & 1                   & 0                   & 0                   & 0                  \\\\\n",
       "\t 33                  &  7                  & D1                  & 1991-04-21          & 1991-04-21 17:08:00 & 62                  & 119                 & month\\_1           & 1                   & 0                   & ...                 & 0                   & 0                   & 1                   & 0                   & 0                   & 0                   & 0                   & 0                   & 1                   & 0                  \\\\\n",
       "\t 33                  & 10                  & D1                  & 1991-04-22          & 1991-04-22 07:35:00 & 58                  & 216                 & month\\_1           & 1                   & 0                   & ...                 & 0                   & 0                   & 1                   & 0                   & 0                   & 0                   & 1                   & 0                   & 0                   & 0                  \\\\\n",
       "\t 34                  & 13                  & D1                  & 1991-04-22          & 1991-04-22 07:35:00 & 58                  & 216                 & month\\_1           & 1                   & 0                   & ...                 & 0                   & 0                   & 0                   & 1                   & 0                   & 0                   & 1                   & 0                   & 0                   & 0                  \\\\\n",
       "\t 33                  &  7                  & D1                  & 1991-04-22          & 1991-04-22 16:56:00 & 62                  & 211                 & month\\_1           & 1                   & 0                   & ...                 & 0                   & 0                   & 1                   & 0                   & 0                   & 0                   & 0                   & 0                   & 1                   & 0                  \\\\\n",
       "\\end{tabular}\n"
      ],
      "text/markdown": [
       "\n",
       "| Insulin_Code | Insulin_dose | pid | date1 | datetime | Glucose_Code | Glucose_Value | time_period | month_1 | month_2 | ... | month_4 | month_5 | Reg_Insulin | Inter_Insulin | LongAct_Insulin | Unspec_Gluc | PreBreak_Gluc | PreLun_Gluc | PreSup_Gluc | Hypoglycaemia |\n",
       "|---|---|---|---|---|---|---|---|---|---|---|---|---|---|---|---|---|---|---|---|---|\n",
       "| 33                  |  9                  | D1                  | 1991-04-21          | 1991-04-21 09:09:00 | 58                  | 100                 | month_1             | 1                   | 0                   | ...                 | 0                   | 0                   | 1                   | 0                   | 0                   | 0                   | 1                   | 0                   | 0                   | 0                   |\n",
       "| 34                  | 13                  | D1                  | 1991-04-21          | 1991-04-21 09:09:00 | 58                  | 100                 | month_1             | 1                   | 0                   | ...                 | 0                   | 0                   | 0                   | 1                   | 0                   | 0                   | 1                   | 0                   | 0                   | 0                   |\n",
       "| 33                  |  7                  | D1                  | 1991-04-21          | 1991-04-21 17:08:00 | 62                  | 119                 | month_1             | 1                   | 0                   | ...                 | 0                   | 0                   | 1                   | 0                   | 0                   | 0                   | 0                   | 0                   | 1                   | 0                   |\n",
       "| 33                  | 10                  | D1                  | 1991-04-22          | 1991-04-22 07:35:00 | 58                  | 216                 | month_1             | 1                   | 0                   | ...                 | 0                   | 0                   | 1                   | 0                   | 0                   | 0                   | 1                   | 0                   | 0                   | 0                   |\n",
       "| 34                  | 13                  | D1                  | 1991-04-22          | 1991-04-22 07:35:00 | 58                  | 216                 | month_1             | 1                   | 0                   | ...                 | 0                   | 0                   | 0                   | 1                   | 0                   | 0                   | 1                   | 0                   | 0                   | 0                   |\n",
       "| 33                  |  7                  | D1                  | 1991-04-22          | 1991-04-22 16:56:00 | 62                  | 211                 | month_1             | 1                   | 0                   | ...                 | 0                   | 0                   | 1                   | 0                   | 0                   | 0                   | 0                   | 0                   | 1                   | 0                   |\n",
       "\n"
      ],
      "text/plain": [
       "  Insulin_Code Insulin_dose pid date1      datetime            Glucose_Code\n",
       "1 33            9           D1  1991-04-21 1991-04-21 09:09:00 58          \n",
       "2 34           13           D1  1991-04-21 1991-04-21 09:09:00 58          \n",
       "3 33            7           D1  1991-04-21 1991-04-21 17:08:00 62          \n",
       "4 33           10           D1  1991-04-22 1991-04-22 07:35:00 58          \n",
       "5 34           13           D1  1991-04-22 1991-04-22 07:35:00 58          \n",
       "6 33            7           D1  1991-04-22 1991-04-22 16:56:00 62          \n",
       "  Glucose_Value time_period month_1 month_2 ... month_4 month_5 Reg_Insulin\n",
       "1 100           month_1     1       0       ... 0       0       1          \n",
       "2 100           month_1     1       0       ... 0       0       0          \n",
       "3 119           month_1     1       0       ... 0       0       1          \n",
       "4 216           month_1     1       0       ... 0       0       1          \n",
       "5 216           month_1     1       0       ... 0       0       0          \n",
       "6 211           month_1     1       0       ... 0       0       1          \n",
       "  Inter_Insulin LongAct_Insulin Unspec_Gluc PreBreak_Gluc PreLun_Gluc\n",
       "1 0             0               0           1             0          \n",
       "2 1             0               0           1             0          \n",
       "3 0             0               0           0             0          \n",
       "4 0             0               0           1             0          \n",
       "5 1             0               0           1             0          \n",
       "6 0             0               0           0             0          \n",
       "  PreSup_Gluc Hypoglycaemia\n",
       "1 0           0            \n",
       "2 0           0            \n",
       "3 1           0            \n",
       "4 0           0            \n",
       "5 0           0            \n",
       "6 1           0            "
      ]
     },
     "metadata": {},
     "output_type": "display_data"
    },
    {
     "name": "stdout",
     "output_type": "stream",
     "text": [
      "Rows: 3,634\n",
      "Columns: 21\n",
      "$ Insulin_Code    <int> 33, 34, 33, 33, 34, 33, 33, 34, 33, 33, 34, 33, 33, 34~\n",
      "$ Insulin_dose    <dbl> 9, 13, 7, 10, 13, 7, 11, 13, 7, 10, 14, 5, 9, 14, 7, 2~\n",
      "$ pid             <chr> \"D1\", \"D1\", \"D1\", \"D1\", \"D1\", \"D1\", \"D1\", \"D1\", \"D1\", ~\n",
      "$ date1           <date> 1991-04-21, 1991-04-21, 1991-04-21, 1991-04-22, 1991-~\n",
      "$ datetime        <dttm> 1991-04-21 09:09:00, 1991-04-21 09:09:00, 1991-04-21 ~\n",
      "$ Glucose_Code    <int> 58, 58, 62, 58, 58, 62, 58, 58, 62, 58, 58, 48, 58, 58~\n",
      "$ Glucose_Value   <dbl> 100, 100, 119, 216, 216, 211, 257, 257, 129, 239, 239,~\n",
      "$ time_period     <chr> \"month_1\", \"month_1\", \"month_1\", \"month_1\", \"month_1\",~\n",
      "$ month_1         <dbl> 1, 1, 1, 1, 1, 1, 1, 1, 1, 1, 1, 1, 1, 1, 1, 1, 1, 1, ~\n",
      "$ month_2         <dbl> 0, 0, 0, 0, 0, 0, 0, 0, 0, 0, 0, 0, 0, 0, 0, 0, 0, 0, ~\n",
      "$ month_3         <dbl> 0, 0, 0, 0, 0, 0, 0, 0, 0, 0, 0, 0, 0, 0, 0, 0, 0, 0, ~\n",
      "$ month_4         <dbl> 0, 0, 0, 0, 0, 0, 0, 0, 0, 0, 0, 0, 0, 0, 0, 0, 0, 0, ~\n",
      "$ month_5         <dbl> 0, 0, 0, 0, 0, 0, 0, 0, 0, 0, 0, 0, 0, 0, 0, 0, 0, 0, ~\n",
      "$ Reg_Insulin     <dbl> 1, 0, 1, 1, 0, 1, 1, 0, 1, 1, 0, 1, 1, 0, 1, 1, 1, 0, ~\n",
      "$ Inter_Insulin   <dbl> 0, 1, 0, 0, 1, 0, 0, 1, 0, 0, 1, 0, 0, 1, 0, 0, 0, 1, ~\n",
      "$ LongAct_Insulin <dbl> 0, 0, 0, 0, 0, 0, 0, 0, 0, 0, 0, 0, 0, 0, 0, 0, 0, 0, ~\n",
      "$ Unspec_Gluc     <dbl> 0, 0, 0, 0, 0, 0, 0, 0, 0, 0, 0, 1, 0, 0, 0, 1, 0, 0, ~\n",
      "$ PreBreak_Gluc   <dbl> 1, 1, 0, 1, 1, 0, 1, 1, 0, 1, 1, 0, 1, 1, 0, 0, 1, 1, ~\n",
      "$ PreLun_Gluc     <dbl> 0, 0, 0, 0, 0, 0, 0, 0, 0, 0, 0, 0, 0, 0, 0, 0, 0, 0, ~\n",
      "$ PreSup_Gluc     <dbl> 0, 0, 1, 0, 0, 1, 0, 0, 1, 0, 0, 0, 0, 0, 1, 0, 0, 0, ~\n",
      "$ Hypoglycaemia   <dbl> 0, 0, 0, 0, 0, 0, 0, 0, 0, 0, 0, 0, 0, 0, 0, 0, 0, 0, ~\n"
     ]
    }
   ],
   "source": [
    "#One hot encode the \"buckets\" of month, Insulin Code and Glucose Code categories to numeric\n",
    "Diabetes_InsGlucose_buckets <- Diabetes_InsGlucose_dateGroups %>%\n",
    "    mutate(\n",
    "            month_1 = ifelse(time_period == \"month_1\", 1, 0),\n",
    "            month_2 = ifelse(time_period == \"month_2\", 1, 0),\n",
    "            month_3 = ifelse(time_period == \"month_3\", 1, 0),\n",
    "            month_4 = ifelse(time_period == \"month_4\", 1, 0), \n",
    "            month_5 = ifelse(time_period == \"month_5\", 1, 0),\n",
    "            Reg_Insulin = ifelse(Insulin_Code == '33', 1, 0),\n",
    "            Inter_Insulin = ifelse(Insulin_Code == '34', 1, 0),\n",
    "            LongAct_Insulin = ifelse(Insulin_Code == '35', 1, 0),\n",
    "            Unspec_Gluc = ifelse(Glucose_Code == '48', 1,0),\n",
    "            PreBreak_Gluc = ifelse(Glucose_Code == '58', 1, 0),\n",
    "            PreLun_Gluc = ifelse(Glucose_Code == '60', 1, 0),\n",
    "            PreSup_Gluc = ifelse(Glucose_Code == '62', 1, 0),\n",
    "            Hypoglycaemia = ifelse(Glucose_Code == '65', 1, 0))\n",
    "\n",
    "head(Diabetes_InsGlucose_buckets)\n",
    "glimpse(Diabetes_InsGlucose_buckets)"
   ]
  },
  {
   "cell_type": "code",
   "execution_count": 105,
   "metadata": {},
   "outputs": [
    {
     "name": "stdout",
     "output_type": "stream",
     "text": [
      "Rows: 3,634\n",
      "Columns: 22\n",
      "$ Insulin_Code    <int> 33, 34, 33, 33, 34, 33, 33, 34, 33, 33, 34, 33, 33, 34~\n",
      "$ Insulin_dose    <dbl> 9, 13, 7, 10, 13, 7, 11, 13, 7, 10, 14, 5, 9, 14, 7, 2~\n",
      "$ pid             <chr> \"D1\", \"D1\", \"D1\", \"D1\", \"D1\", \"D1\", \"D1\", \"D1\", \"D1\", ~\n",
      "$ date1           <date> 1991-04-21, 1991-04-21, 1991-04-21, 1991-04-22, 1991-~\n",
      "$ datetime        <dttm> 1991-04-21 09:09:00, 1991-04-21 09:09:00, 1991-04-21 ~\n",
      "$ Glucose_Code    <int> 58, 58, 62, 58, 58, 62, 58, 58, 62, 58, 58, 48, 58, 58~\n",
      "$ Glucose_Value   <dbl> 100, 100, 119, 216, 216, 211, 257, 257, 129, 239, 239,~\n",
      "$ time_period     <chr> \"month_1\", \"month_1\", \"month_1\", \"month_1\", \"month_1\",~\n",
      "$ month_1         <dbl> 1, 1, 1, 1, 1, 1, 1, 1, 1, 1, 1, 1, 1, 1, 1, 1, 1, 1, ~\n",
      "$ month_2         <dbl> 0, 0, 0, 0, 0, 0, 0, 0, 0, 0, 0, 0, 0, 0, 0, 0, 0, 0, ~\n",
      "$ month_3         <dbl> 0, 0, 0, 0, 0, 0, 0, 0, 0, 0, 0, 0, 0, 0, 0, 0, 0, 0, ~\n",
      "$ month_4         <dbl> 0, 0, 0, 0, 0, 0, 0, 0, 0, 0, 0, 0, 0, 0, 0, 0, 0, 0, ~\n",
      "$ month_5         <dbl> 0, 0, 0, 0, 0, 0, 0, 0, 0, 0, 0, 0, 0, 0, 0, 0, 0, 0, ~\n",
      "$ Reg_Insulin     <dbl> 1, 0, 1, 1, 0, 1, 1, 0, 1, 1, 0, 1, 1, 0, 1, 1, 1, 0, ~\n",
      "$ Inter_Insulin   <dbl> 0, 1, 0, 0, 1, 0, 0, 1, 0, 0, 1, 0, 0, 1, 0, 0, 0, 1, ~\n",
      "$ LongAct_Insulin <dbl> 0, 0, 0, 0, 0, 0, 0, 0, 0, 0, 0, 0, 0, 0, 0, 0, 0, 0, ~\n",
      "$ Unspec_Gluc     <dbl> 0, 0, 0, 0, 0, 0, 0, 0, 0, 0, 0, 1, 0, 0, 0, 1, 0, 0, ~\n",
      "$ PreBreak_Gluc   <dbl> 1, 1, 0, 1, 1, 0, 1, 1, 0, 1, 1, 0, 1, 1, 0, 0, 1, 1, ~\n",
      "$ PreLun_Gluc     <dbl> 0, 0, 0, 0, 0, 0, 0, 0, 0, 0, 0, 0, 0, 0, 0, 0, 0, 0, ~\n",
      "$ PreSup_Gluc     <dbl> 0, 0, 1, 0, 0, 1, 0, 0, 1, 0, 0, 0, 0, 0, 1, 0, 0, 0, ~\n",
      "$ Hypoglycaemia   <dbl> 0, 0, 0, 0, 0, 0, 0, 0, 0, 0, 0, 0, 0, 0, 0, 0, 0, 0, ~\n",
      "$ hod             <int> 9, 9, 17, 7, 7, 16, 7, 7, 17, 7, 7, 22, 7, 7, 17, 21, ~\n"
     ]
    }
   ],
   "source": [
    "#Include column for time of day\n",
    "Diabetes_InsGlucose_buckets2 <- Diabetes_InsGlucose_buckets %>%\n",
    "    mutate(hod = hour(datetime))\n",
    "\n",
    "glimpse(Diabetes_InsGlucose_buckets2)"
   ]
  },
  {
   "cell_type": "code",
   "execution_count": 106,
   "metadata": {},
   "outputs": [
    {
     "name": "stdout",
     "output_type": "stream",
     "text": [
      "Rows: 3,634\n",
      "Columns: 23\n",
      "$ Insulin_Code    <int> 33, 34, 33, 33, 34, 33, 33, 34, 33, 33, 34, 33, 33, 34~\n",
      "$ Insulin_dose    <dbl> 9, 13, 7, 10, 13, 7, 11, 13, 7, 10, 14, 5, 9, 14, 7, 2~\n",
      "$ pid             <chr> \"D1\", \"D1\", \"D1\", \"D1\", \"D1\", \"D1\", \"D1\", \"D1\", \"D1\", ~\n",
      "$ date1           <date> 1991-04-21, 1991-04-21, 1991-04-21, 1991-04-22, 1991-~\n",
      "$ datetime        <dttm> 1991-04-21 09:09:00, 1991-04-21 09:09:00, 1991-04-21 ~\n",
      "$ Glucose_Code    <int> 58, 58, 62, 58, 58, 62, 58, 58, 62, 58, 58, 48, 58, 58~\n",
      "$ Glucose_Value   <dbl> 100, 100, 119, 216, 216, 211, 257, 257, 129, 239, 239,~\n",
      "$ time_period     <chr> \"month_1\", \"month_1\", \"month_1\", \"month_1\", \"month_1\",~\n",
      "$ month_1         <dbl> 1, 1, 1, 1, 1, 1, 1, 1, 1, 1, 1, 1, 1, 1, 1, 1, 1, 1, ~\n",
      "$ month_2         <dbl> 0, 0, 0, 0, 0, 0, 0, 0, 0, 0, 0, 0, 0, 0, 0, 0, 0, 0, ~\n",
      "$ month_3         <dbl> 0, 0, 0, 0, 0, 0, 0, 0, 0, 0, 0, 0, 0, 0, 0, 0, 0, 0, ~\n",
      "$ month_4         <dbl> 0, 0, 0, 0, 0, 0, 0, 0, 0, 0, 0, 0, 0, 0, 0, 0, 0, 0, ~\n",
      "$ month_5         <dbl> 0, 0, 0, 0, 0, 0, 0, 0, 0, 0, 0, 0, 0, 0, 0, 0, 0, 0, ~\n",
      "$ Reg_Insulin     <dbl> 1, 0, 1, 1, 0, 1, 1, 0, 1, 1, 0, 1, 1, 0, 1, 1, 1, 0, ~\n",
      "$ Inter_Insulin   <dbl> 0, 1, 0, 0, 1, 0, 0, 1, 0, 0, 1, 0, 0, 1, 0, 0, 0, 1, ~\n",
      "$ LongAct_Insulin <dbl> 0, 0, 0, 0, 0, 0, 0, 0, 0, 0, 0, 0, 0, 0, 0, 0, 0, 0, ~\n",
      "$ Unspec_Gluc     <dbl> 0, 0, 0, 0, 0, 0, 0, 0, 0, 0, 0, 1, 0, 0, 0, 1, 0, 0, ~\n",
      "$ PreBreak_Gluc   <dbl> 1, 1, 0, 1, 1, 0, 1, 1, 0, 1, 1, 0, 1, 1, 0, 0, 1, 1, ~\n",
      "$ PreLun_Gluc     <dbl> 0, 0, 0, 0, 0, 0, 0, 0, 0, 0, 0, 0, 0, 0, 0, 0, 0, 0, ~\n",
      "$ PreSup_Gluc     <dbl> 0, 0, 1, 0, 0, 1, 0, 0, 1, 0, 0, 0, 0, 0, 1, 0, 0, 0, ~\n",
      "$ Hypoglycaemia   <dbl> 0, 0, 0, 0, 0, 0, 0, 0, 0, 0, 0, 0, 0, 0, 0, 0, 0, 0, ~\n",
      "$ hod             <int> 9, 9, 17, 7, 7, 16, 7, 7, 17, 7, 7, 22, 7, 7, 17, 21, ~\n",
      "$ time_day        <chr> \"morning\", \"morning\", \"afternoon\", \"morning\", \"morning~\n"
     ]
    }
   ],
   "source": [
    "#\"Bucket\" hour of day column into specific periods of day\n",
    "\n",
    "Diabetes_InsGlucose_buckets3 <- Diabetes_InsGlucose_buckets2 %>%\n",
    "    mutate(time_day = case_when(hod >= 6 & hod < 12 ~ \"morning\",\n",
    "                                hod >= 12 & hod < 18 ~ \"afternoon\",\n",
    "                                hod >= 0 & hod < 6 ~ \"nighttime\"))\n",
    "glimpse(Diabetes_InsGlucose_buckets3)"
   ]
  },
  {
   "cell_type": "code",
   "execution_count": 107,
   "metadata": {},
   "outputs": [
    {
     "name": "stdout",
     "output_type": "stream",
     "text": [
      "Rows: 3,634\n",
      "Columns: 27\n",
      "$ Insulin_Code    <int> 33, 34, 33, 33, 34, 33, 33, 34, 33, 33, 34, 33, 33, 34~\n",
      "$ Insulin_dose    <dbl> 9, 13, 7, 10, 13, 7, 11, 13, 7, 10, 14, 5, 9, 14, 7, 2~\n",
      "$ pid             <chr> \"D1\", \"D1\", \"D1\", \"D1\", \"D1\", \"D1\", \"D1\", \"D1\", \"D1\", ~\n",
      "$ date1           <date> 1991-04-21, 1991-04-21, 1991-04-21, 1991-04-22, 1991-~\n",
      "$ datetime        <dttm> 1991-04-21 09:09:00, 1991-04-21 09:09:00, 1991-04-21 ~\n",
      "$ Glucose_Code    <int> 58, 58, 62, 58, 58, 62, 58, 58, 62, 58, 58, 48, 58, 58~\n",
      "$ Glucose_Value   <dbl> 100, 100, 119, 216, 216, 211, 257, 257, 129, 239, 239,~\n",
      "$ time_period     <chr> \"month_1\", \"month_1\", \"month_1\", \"month_1\", \"month_1\",~\n",
      "$ month_1         <dbl> 1, 1, 1, 1, 1, 1, 1, 1, 1, 1, 1, 1, 1, 1, 1, 1, 1, 1, ~\n",
      "$ month_2         <dbl> 0, 0, 0, 0, 0, 0, 0, 0, 0, 0, 0, 0, 0, 0, 0, 0, 0, 0, ~\n",
      "$ month_3         <dbl> 0, 0, 0, 0, 0, 0, 0, 0, 0, 0, 0, 0, 0, 0, 0, 0, 0, 0, ~\n",
      "$ month_4         <dbl> 0, 0, 0, 0, 0, 0, 0, 0, 0, 0, 0, 0, 0, 0, 0, 0, 0, 0, ~\n",
      "$ month_5         <dbl> 0, 0, 0, 0, 0, 0, 0, 0, 0, 0, 0, 0, 0, 0, 0, 0, 0, 0, ~\n",
      "$ Reg_Insulin     <dbl> 1, 0, 1, 1, 0, 1, 1, 0, 1, 1, 0, 1, 1, 0, 1, 1, 1, 0, ~\n",
      "$ Inter_Insulin   <dbl> 0, 1, 0, 0, 1, 0, 0, 1, 0, 0, 1, 0, 0, 1, 0, 0, 0, 1, ~\n",
      "$ LongAct_Insulin <dbl> 0, 0, 0, 0, 0, 0, 0, 0, 0, 0, 0, 0, 0, 0, 0, 0, 0, 0, ~\n",
      "$ Unspec_Gluc     <dbl> 0, 0, 0, 0, 0, 0, 0, 0, 0, 0, 0, 1, 0, 0, 0, 1, 0, 0, ~\n",
      "$ PreBreak_Gluc   <dbl> 1, 1, 0, 1, 1, 0, 1, 1, 0, 1, 1, 0, 1, 1, 0, 0, 1, 1, ~\n",
      "$ PreLun_Gluc     <dbl> 0, 0, 0, 0, 0, 0, 0, 0, 0, 0, 0, 0, 0, 0, 0, 0, 0, 0, ~\n",
      "$ PreSup_Gluc     <dbl> 0, 0, 1, 0, 0, 1, 0, 0, 1, 0, 0, 0, 0, 0, 1, 0, 0, 0, ~\n",
      "$ Hypoglycaemia   <dbl> 0, 0, 0, 0, 0, 0, 0, 0, 0, 0, 0, 0, 0, 0, 0, 0, 0, 0, ~\n",
      "$ hod             <int> 9, 9, 17, 7, 7, 16, 7, 7, 17, 7, 7, 22, 7, 7, 17, 21, ~\n",
      "$ time_day        <chr> \"morning\", \"morning\", \"afternoon\", \"morning\", \"morning~\n",
      "$ morn            <dbl> 1, 1, 0, 1, 1, 0, 1, 1, 0, 1, 1, NA, 1, 1, 0, NA, 0, 0~\n",
      "$ aft_noon        <dbl> 0, 0, 1, 0, 0, 1, 0, 0, 1, 0, 0, NA, 0, 0, 1, NA, 0, 0~\n",
      "$ evening         <dbl> 0, 0, 0, 0, 0, 0, 0, 0, 0, 0, 0, NA, 0, 0, 0, NA, 0, 0~\n",
      "$ night           <dbl> 0, 0, 0, 0, 0, 0, 0, 0, 0, 0, 0, NA, 0, 0, 0, NA, 1, 1~\n"
     ]
    },
    {
     "data": {
      "text/html": [
       "3634"
      ],
      "text/latex": [
       "3634"
      ],
      "text/markdown": [
       "3634"
      ],
      "text/plain": [
       "[1] 3634"
      ]
     },
     "metadata": {},
     "output_type": "display_data"
    }
   ],
   "source": [
    "#One hot encode \"time of day\" column\n",
    "Diabetes_InsGlucose_buckets4 <- Diabetes_InsGlucose_buckets3 %>%\n",
    "    mutate(\n",
    "            morn = ifelse(time_day == \"morning\", 1, 0),\n",
    "            aft_noon = ifelse(time_day == \"afternoon\", 1, 0),\n",
    "            evening = ifelse(time_day == \"evening\", 1, 0),\n",
    "            night = ifelse(time_day == \"nighttime\", 1, 0))\n",
    "\n",
    "glimpse(Diabetes_InsGlucose_buckets4)\n",
    "nrow(Diabetes_InsGlucose_buckets4)"
   ]
  },
  {
   "cell_type": "code",
   "execution_count": 108,
   "metadata": {},
   "outputs": [],
   "source": [
    "# MODELING SECTION"
   ]
  },
  {
   "cell_type": "code",
   "execution_count": 109,
   "metadata": {},
   "outputs": [
    {
     "data": {
      "text/html": [
       "3634"
      ],
      "text/latex": [
       "3634"
      ],
      "text/markdown": [
       "3634"
      ],
      "text/plain": [
       "[1] 3634"
      ]
     },
     "metadata": {},
     "output_type": "display_data"
    }
   ],
   "source": [
    "#Split datasets into Test/Train sets\n",
    "N_patient <- nrow(Diabetes_InsGlucose_buckets4)\n",
    "N_patient"
   ]
  },
  {
   "cell_type": "code",
   "execution_count": 110,
   "metadata": {},
   "outputs": [
    {
     "data": {
      "text/html": [
       "2726"
      ],
      "text/latex": [
       "2726"
      ],
      "text/markdown": [
       "2726"
      ],
      "text/plain": [
       "[1] 2726"
      ]
     },
     "metadata": {},
     "output_type": "display_data"
    }
   ],
   "source": [
    "#Number of rows of training data required for models\n",
    "target <- round(N_patient * 0.75)\n",
    "target"
   ]
  },
  {
   "cell_type": "code",
   "execution_count": 111,
   "metadata": {},
   "outputs": [
    {
     "data": {
      "text/html": [
       "2741"
      ],
      "text/latex": [
       "2741"
      ],
      "text/markdown": [
       "2741"
      ],
      "text/plain": [
       "[1] 2741"
      ]
     },
     "metadata": {},
     "output_type": "display_data"
    },
    {
     "data": {
      "text/html": [
       "893"
      ],
      "text/latex": [
       "893"
      ],
      "text/markdown": [
       "893"
      ],
      "text/plain": [
       "[1] 893"
      ]
     },
     "metadata": {},
     "output_type": "display_data"
    }
   ],
   "source": [
    "#Create a vector of N_sets uniform variables\n",
    "gp_patient <- runif(N_patient)\n",
    "\n",
    "#Create training set patient1 data (75% of the data) & patient1 test dataset (25% of data)\n",
    "patient_train <- Diabetes_InsGlucose_buckets4[gp_patient < 0.75, ]\n",
    "patient_test <- Diabetes_InsGlucose_buckets4[gp_patient >= 0.75, ]\n",
    "\n",
    "#Examine the training and test datasets\n",
    "nrow(patient_train)\n",
    "nrow(patient_test)"
   ]
  },
  {
   "cell_type": "code",
   "execution_count": 112,
   "metadata": {},
   "outputs": [
    {
     "data": {
      "text/html": [
       "<table>\n",
       "<thead><tr><th></th><th scope=col>Insulin_Code</th><th scope=col>Insulin_dose</th><th scope=col>pid</th><th scope=col>date1</th><th scope=col>datetime</th><th scope=col>Glucose_Code</th><th scope=col>Glucose_Value</th><th scope=col>time_period</th><th scope=col>month_1</th><th scope=col>month_2</th><th scope=col>...</th><th scope=col>PreBreak_Gluc</th><th scope=col>PreLun_Gluc</th><th scope=col>PreSup_Gluc</th><th scope=col>Hypoglycaemia</th><th scope=col>hod</th><th scope=col>time_day</th><th scope=col>morn</th><th scope=col>aft_noon</th><th scope=col>evening</th><th scope=col>night</th></tr></thead>\n",
       "<tbody>\n",
       "\t<tr><th scope=row>4</th><td>33                 </td><td>10                 </td><td>D1                 </td><td>1991-04-22         </td><td>1991-04-22 07:35:00</td><td>58                 </td><td>216                </td><td>month_1            </td><td>1                  </td><td>0                  </td><td>...                </td><td>1                  </td><td>0                  </td><td>0                  </td><td>0                  </td><td> 7                 </td><td>morning            </td><td>1                  </td><td>0                  </td><td>0                  </td><td>0                  </td></tr>\n",
       "\t<tr><th scope=row>5</th><td>34                 </td><td>13                 </td><td>D1                 </td><td>1991-04-22         </td><td>1991-04-22 07:35:00</td><td>58                 </td><td>216                </td><td>month_1            </td><td>1                  </td><td>0                  </td><td>...                </td><td>1                  </td><td>0                  </td><td>0                  </td><td>0                  </td><td> 7                 </td><td>morning            </td><td>1                  </td><td>0                  </td><td>0                  </td><td>0                  </td></tr>\n",
       "\t<tr><th scope=row>6</th><td>33                 </td><td> 7                 </td><td>D1                 </td><td>1991-04-22         </td><td>1991-04-22 16:56:00</td><td>62                 </td><td>211                </td><td>month_1            </td><td>1                  </td><td>0                  </td><td>...                </td><td>0                  </td><td>0                  </td><td>1                  </td><td>0                  </td><td>16                 </td><td>afternoon          </td><td>0                  </td><td>1                  </td><td>0                  </td><td>0                  </td></tr>\n",
       "\t<tr><th scope=row>7</th><td>33                 </td><td>11                 </td><td>D1                 </td><td>1991-04-23         </td><td>1991-04-23 07:25:00</td><td>58                 </td><td>257                </td><td>month_1            </td><td>1                  </td><td>0                  </td><td>...                </td><td>1                  </td><td>0                  </td><td>0                  </td><td>0                  </td><td> 7                 </td><td>morning            </td><td>1                  </td><td>0                  </td><td>0                  </td><td>0                  </td></tr>\n",
       "\t<tr><th scope=row>8</th><td>34                 </td><td>13                 </td><td>D1                 </td><td>1991-04-23         </td><td>1991-04-23 07:25:00</td><td>58                 </td><td>257                </td><td>month_1            </td><td>1                  </td><td>0                  </td><td>...                </td><td>1                  </td><td>0                  </td><td>0                  </td><td>0                  </td><td> 7                 </td><td>morning            </td><td>1                  </td><td>0                  </td><td>0                  </td><td>0                  </td></tr>\n",
       "\t<tr><th scope=row>9</th><td>33                 </td><td> 7                 </td><td>D1                 </td><td>1991-04-23         </td><td>1991-04-23 17:25:00</td><td>62                 </td><td>129                </td><td>month_1            </td><td>1                  </td><td>0                  </td><td>...                </td><td>0                  </td><td>0                  </td><td>1                  </td><td>0                  </td><td>17                 </td><td>afternoon          </td><td>0                  </td><td>1                  </td><td>0                  </td><td>0                  </td></tr>\n",
       "</tbody>\n",
       "</table>\n"
      ],
      "text/latex": [
       "\\begin{tabular}{r|lllllllllllllllllllllllllll}\n",
       "  & Insulin\\_Code & Insulin\\_dose & pid & date1 & datetime & Glucose\\_Code & Glucose\\_Value & time\\_period & month\\_1 & month\\_2 & ... & PreBreak\\_Gluc & PreLun\\_Gluc & PreSup\\_Gluc & Hypoglycaemia & hod & time\\_day & morn & aft\\_noon & evening & night\\\\\n",
       "\\hline\n",
       "\t4 & 33                  & 10                  & D1                  & 1991-04-22          & 1991-04-22 07:35:00 & 58                  & 216                 & month\\_1           & 1                   & 0                   & ...                 & 1                   & 0                   & 0                   & 0                   &  7                  & morning             & 1                   & 0                   & 0                   & 0                  \\\\\n",
       "\t5 & 34                  & 13                  & D1                  & 1991-04-22          & 1991-04-22 07:35:00 & 58                  & 216                 & month\\_1           & 1                   & 0                   & ...                 & 1                   & 0                   & 0                   & 0                   &  7                  & morning             & 1                   & 0                   & 0                   & 0                  \\\\\n",
       "\t6 & 33                  &  7                  & D1                  & 1991-04-22          & 1991-04-22 16:56:00 & 62                  & 211                 & month\\_1           & 1                   & 0                   & ...                 & 0                   & 0                   & 1                   & 0                   & 16                  & afternoon           & 0                   & 1                   & 0                   & 0                  \\\\\n",
       "\t7 & 33                  & 11                  & D1                  & 1991-04-23          & 1991-04-23 07:25:00 & 58                  & 257                 & month\\_1           & 1                   & 0                   & ...                 & 1                   & 0                   & 0                   & 0                   &  7                  & morning             & 1                   & 0                   & 0                   & 0                  \\\\\n",
       "\t8 & 34                  & 13                  & D1                  & 1991-04-23          & 1991-04-23 07:25:00 & 58                  & 257                 & month\\_1           & 1                   & 0                   & ...                 & 1                   & 0                   & 0                   & 0                   &  7                  & morning             & 1                   & 0                   & 0                   & 0                  \\\\\n",
       "\t9 & 33                  &  7                  & D1                  & 1991-04-23          & 1991-04-23 17:25:00 & 62                  & 129                 & month\\_1           & 1                   & 0                   & ...                 & 0                   & 0                   & 1                   & 0                   & 17                  & afternoon           & 0                   & 1                   & 0                   & 0                  \\\\\n",
       "\\end{tabular}\n"
      ],
      "text/markdown": [
       "\n",
       "| <!--/--> | Insulin_Code | Insulin_dose | pid | date1 | datetime | Glucose_Code | Glucose_Value | time_period | month_1 | month_2 | ... | PreBreak_Gluc | PreLun_Gluc | PreSup_Gluc | Hypoglycaemia | hod | time_day | morn | aft_noon | evening | night |\n",
       "|---|---|---|---|---|---|---|---|---|---|---|---|---|---|---|---|---|---|---|---|---|---|\n",
       "| 4 | 33                  | 10                  | D1                  | 1991-04-22          | 1991-04-22 07:35:00 | 58                  | 216                 | month_1             | 1                   | 0                   | ...                 | 1                   | 0                   | 0                   | 0                   |  7                  | morning             | 1                   | 0                   | 0                   | 0                   |\n",
       "| 5 | 34                  | 13                  | D1                  | 1991-04-22          | 1991-04-22 07:35:00 | 58                  | 216                 | month_1             | 1                   | 0                   | ...                 | 1                   | 0                   | 0                   | 0                   |  7                  | morning             | 1                   | 0                   | 0                   | 0                   |\n",
       "| 6 | 33                  |  7                  | D1                  | 1991-04-22          | 1991-04-22 16:56:00 | 62                  | 211                 | month_1             | 1                   | 0                   | ...                 | 0                   | 0                   | 1                   | 0                   | 16                  | afternoon           | 0                   | 1                   | 0                   | 0                   |\n",
       "| 7 | 33                  | 11                  | D1                  | 1991-04-23          | 1991-04-23 07:25:00 | 58                  | 257                 | month_1             | 1                   | 0                   | ...                 | 1                   | 0                   | 0                   | 0                   |  7                  | morning             | 1                   | 0                   | 0                   | 0                   |\n",
       "| 8 | 34                  | 13                  | D1                  | 1991-04-23          | 1991-04-23 07:25:00 | 58                  | 257                 | month_1             | 1                   | 0                   | ...                 | 1                   | 0                   | 0                   | 0                   |  7                  | morning             | 1                   | 0                   | 0                   | 0                   |\n",
       "| 9 | 33                  |  7                  | D1                  | 1991-04-23          | 1991-04-23 17:25:00 | 62                  | 129                 | month_1             | 1                   | 0                   | ...                 | 0                   | 0                   | 1                   | 0                   | 17                  | afternoon           | 0                   | 1                   | 0                   | 0                   |\n",
       "\n"
      ],
      "text/plain": [
       "  Insulin_Code Insulin_dose pid date1      datetime            Glucose_Code\n",
       "4 33           10           D1  1991-04-22 1991-04-22 07:35:00 58          \n",
       "5 34           13           D1  1991-04-22 1991-04-22 07:35:00 58          \n",
       "6 33            7           D1  1991-04-22 1991-04-22 16:56:00 62          \n",
       "7 33           11           D1  1991-04-23 1991-04-23 07:25:00 58          \n",
       "8 34           13           D1  1991-04-23 1991-04-23 07:25:00 58          \n",
       "9 33            7           D1  1991-04-23 1991-04-23 17:25:00 62          \n",
       "  Glucose_Value time_period month_1 month_2 ... PreBreak_Gluc PreLun_Gluc\n",
       "4 216           month_1     1       0       ... 1             0          \n",
       "5 216           month_1     1       0       ... 1             0          \n",
       "6 211           month_1     1       0       ... 0             0          \n",
       "7 257           month_1     1       0       ... 1             0          \n",
       "8 257           month_1     1       0       ... 1             0          \n",
       "9 129           month_1     1       0       ... 0             0          \n",
       "  PreSup_Gluc Hypoglycaemia hod time_day  morn aft_noon evening night\n",
       "4 0           0              7  morning   1    0        0       0    \n",
       "5 0           0              7  morning   1    0        0       0    \n",
       "6 1           0             16  afternoon 0    1        0       0    \n",
       "7 0           0              7  morning   1    0        0       0    \n",
       "8 0           0              7  morning   1    0        0       0    \n",
       "9 1           0             17  afternoon 0    1        0       0    "
      ]
     },
     "metadata": {},
     "output_type": "display_data"
    },
    {
     "name": "stdout",
     "output_type": "stream",
     "text": [
      "Rows: 2,741\n",
      "Columns: 27\n",
      "$ Insulin_Code    <int> 33, 34, 33, 33, 34, 33, 33, 33, 34, 33, 33, 33, 33, 33~\n",
      "$ Insulin_dose    <dbl> 10, 13, 7, 11, 13, 7, 10, 9, 14, 7, 2, 9, 7, 10, 8, 10~\n",
      "$ pid             <chr> \"D1\", \"D1\", \"D1\", \"D1\", \"D1\", \"D1\", \"D1\", \"D1\", \"D1\", ~\n",
      "$ date1           <date> 1991-04-22, 1991-04-22, 1991-04-22, 1991-04-23, 1991-~\n",
      "$ datetime        <dttm> 1991-04-22 07:35:00, 1991-04-22 07:35:00, 1991-04-22 ~\n",
      "$ Glucose_Code    <int> 58, 58, 62, 58, 58, 62, 58, 58, 58, 62, 48, 58, 62, 58~\n",
      "$ Glucose_Value   <dbl> 216, 216, 211, 257, 257, 129, 239, 67, 67, 206, 288, 7~\n",
      "$ time_period     <chr> \"month_1\", \"month_1\", \"month_1\", \"month_1\", \"month_1\",~\n",
      "$ month_1         <dbl> 1, 1, 1, 1, 1, 1, 1, 1, 1, 1, 1, 1, 1, 1, 1, 1, 1, 1, ~\n",
      "$ month_2         <dbl> 0, 0, 0, 0, 0, 0, 0, 0, 0, 0, 0, 0, 0, 0, 0, 0, 0, 0, ~\n",
      "$ month_3         <dbl> 0, 0, 0, 0, 0, 0, 0, 0, 0, 0, 0, 0, 0, 0, 0, 0, 0, 0, ~\n",
      "$ month_4         <dbl> 0, 0, 0, 0, 0, 0, 0, 0, 0, 0, 0, 0, 0, 0, 0, 0, 0, 0, ~\n",
      "$ month_5         <dbl> 0, 0, 0, 0, 0, 0, 0, 0, 0, 0, 0, 0, 0, 0, 0, 0, 0, 0, ~\n",
      "$ Reg_Insulin     <dbl> 1, 0, 1, 1, 0, 1, 1, 1, 0, 1, 1, 1, 1, 1, 1, 1, 1, 1, ~\n",
      "$ Inter_Insulin   <dbl> 0, 1, 0, 0, 1, 0, 0, 0, 1, 0, 0, 0, 0, 0, 0, 0, 0, 0, ~\n",
      "$ LongAct_Insulin <dbl> 0, 0, 0, 0, 0, 0, 0, 0, 0, 0, 0, 0, 0, 0, 0, 0, 0, 0, ~\n",
      "$ Unspec_Gluc     <dbl> 0, 0, 0, 0, 0, 0, 0, 0, 0, 0, 1, 0, 0, 0, 0, 0, 0, 0, ~\n",
      "$ PreBreak_Gluc   <dbl> 1, 1, 0, 1, 1, 0, 1, 1, 1, 0, 0, 1, 0, 1, 0, 1, 1, 0, ~\n",
      "$ PreLun_Gluc     <dbl> 0, 0, 0, 0, 0, 0, 0, 0, 0, 0, 0, 0, 0, 0, 0, 0, 0, 1, ~\n",
      "$ PreSup_Gluc     <dbl> 0, 0, 1, 0, 0, 1, 0, 0, 0, 1, 0, 0, 1, 0, 1, 0, 0, 0, ~\n",
      "$ Hypoglycaemia   <dbl> 0, 0, 0, 0, 0, 0, 0, 0, 0, 0, 0, 0, 0, 0, 0, 0, 0, 0, ~\n",
      "$ hod             <int> 7, 7, 16, 7, 7, 17, 7, 7, 7, 17, 21, 5, 17, 10, 17, 8,~\n",
      "$ time_day        <chr> \"morning\", \"morning\", \"afternoon\", \"morning\", \"morning~\n",
      "$ morn            <dbl> 1, 1, 0, 1, 1, 0, 1, 1, 1, 0, NA, 0, 0, 1, 0, 1, 1, 0,~\n",
      "$ aft_noon        <dbl> 0, 0, 1, 0, 0, 1, 0, 0, 0, 1, NA, 0, 1, 0, 1, 0, 0, 1,~\n",
      "$ evening         <dbl> 0, 0, 0, 0, 0, 0, 0, 0, 0, 0, NA, 0, 0, 0, 0, 0, 0, 0,~\n",
      "$ night           <dbl> 0, 0, 0, 0, 0, 0, 0, 0, 0, 0, NA, 1, 0, 0, 0, 0, 0, 0,~\n"
     ]
    }
   ],
   "source": [
    "head(patient_train)\n",
    "glimpse(patient_train)"
   ]
  },
  {
   "cell_type": "code",
   "execution_count": 114,
   "metadata": {},
   "outputs": [
    {
     "data": {
      "text/plain": [
       "\n",
       "Call:\n",
       "lm(formula = Glucose_Value ~ Insulin_dose, data = patient_train)\n",
       "\n",
       "Coefficients:\n",
       " (Intercept)  Insulin_dose  \n",
       "    152.7049        0.7297  \n"
      ]
     },
     "metadata": {},
     "output_type": "display_data"
    }
   ],
   "source": [
    "#Baseline linear Model fit\n",
    "\n",
    "base_mdl <- lm(Glucose_Value ~ Insulin_dose, data = patient_train)\n",
    "base_mdl\n",
    "\n",
    "#From model outputs below, for each additional unit of Insulin taken, glucose values rise by 0.73mM (which makes no sense)"
   ]
  },
  {
   "cell_type": "code",
   "execution_count": 115,
   "metadata": {},
   "outputs": [
    {
     "data": {
      "text/html": [
       "<table>\n",
       "<thead><tr><th scope=col>.rownames</th><th scope=col>Glucose_Value</th><th scope=col>Insulin_dose</th><th scope=col>.fitted</th><th scope=col>.resid</th><th scope=col>.hat</th><th scope=col>.sigma</th><th scope=col>.cooksd</th><th scope=col>.std.resid</th></tr></thead>\n",
       "<tbody>\n",
       "\t<tr><td>1357        </td><td>450         </td><td> 9          </td><td>159.2721    </td><td>290.7279    </td><td>0.0003761022</td><td>73.65884    </td><td>0.002916218 </td><td>3.937226    </td></tr>\n",
       "\t<tr><td>1399        </td><td>450         </td><td> 9          </td><td>159.2721    </td><td>290.7279    </td><td>0.0003761022</td><td>73.65884    </td><td>0.002916218 </td><td>3.937226    </td></tr>\n",
       "\t<tr><td>1481        </td><td>450         </td><td>14          </td><td>162.9205    </td><td>287.0795    </td><td>0.0004575586</td><td>73.66406    </td><td>0.003459892 </td><td>3.887975    </td></tr>\n",
       "\t<tr><td>1373        </td><td>450         </td><td>24          </td><td>170.2173    </td><td>279.7827    </td><td>0.0016324304</td><td>73.67409    </td><td>0.011751929 </td><td>3.791381    </td></tr>\n",
       "\t<tr><td>1381        </td><td>450         </td><td>24          </td><td>170.2173    </td><td>279.7827    </td><td>0.0016324304</td><td>73.67409    </td><td>0.011751929 </td><td>3.791381    </td></tr>\n",
       "\t<tr><td>1509        </td><td>423         </td><td>14          </td><td>162.9205    </td><td>260.0795    </td><td>0.0004575586</td><td>73.70069    </td><td>0.002839686 </td><td>3.522309    </td></tr>\n",
       "</tbody>\n",
       "</table>\n"
      ],
      "text/latex": [
       "\\begin{tabular}{r|lllllllll}\n",
       " .rownames & Glucose\\_Value & Insulin\\_dose & .fitted & .resid & .hat & .sigma & .cooksd & .std.resid\\\\\n",
       "\\hline\n",
       "\t 1357         & 450          &  9           & 159.2721     & 290.7279     & 0.0003761022 & 73.65884     & 0.002916218  & 3.937226    \\\\\n",
       "\t 1399         & 450          &  9           & 159.2721     & 290.7279     & 0.0003761022 & 73.65884     & 0.002916218  & 3.937226    \\\\\n",
       "\t 1481         & 450          & 14           & 162.9205     & 287.0795     & 0.0004575586 & 73.66406     & 0.003459892  & 3.887975    \\\\\n",
       "\t 1373         & 450          & 24           & 170.2173     & 279.7827     & 0.0016324304 & 73.67409     & 0.011751929  & 3.791381    \\\\\n",
       "\t 1381         & 450          & 24           & 170.2173     & 279.7827     & 0.0016324304 & 73.67409     & 0.011751929  & 3.791381    \\\\\n",
       "\t 1509         & 423          & 14           & 162.9205     & 260.0795     & 0.0004575586 & 73.70069     & 0.002839686  & 3.522309    \\\\\n",
       "\\end{tabular}\n"
      ],
      "text/markdown": [
       "\n",
       "| .rownames | Glucose_Value | Insulin_dose | .fitted | .resid | .hat | .sigma | .cooksd | .std.resid |\n",
       "|---|---|---|---|---|---|---|---|---|\n",
       "| 1357         | 450          |  9           | 159.2721     | 290.7279     | 0.0003761022 | 73.65884     | 0.002916218  | 3.937226     |\n",
       "| 1399         | 450          |  9           | 159.2721     | 290.7279     | 0.0003761022 | 73.65884     | 0.002916218  | 3.937226     |\n",
       "| 1481         | 450          | 14           | 162.9205     | 287.0795     | 0.0004575586 | 73.66406     | 0.003459892  | 3.887975     |\n",
       "| 1373         | 450          | 24           | 170.2173     | 279.7827     | 0.0016324304 | 73.67409     | 0.011751929  | 3.791381     |\n",
       "| 1381         | 450          | 24           | 170.2173     | 279.7827     | 0.0016324304 | 73.67409     | 0.011751929  | 3.791381     |\n",
       "| 1509         | 423          | 14           | 162.9205     | 260.0795     | 0.0004575586 | 73.70069     | 0.002839686  | 3.522309     |\n",
       "\n"
      ],
      "text/plain": [
       "  .rownames Glucose_Value Insulin_dose .fitted  .resid   .hat         .sigma  \n",
       "1 1357      450            9           159.2721 290.7279 0.0003761022 73.65884\n",
       "2 1399      450            9           159.2721 290.7279 0.0003761022 73.65884\n",
       "3 1481      450           14           162.9205 287.0795 0.0004575586 73.66406\n",
       "4 1373      450           24           170.2173 279.7827 0.0016324304 73.67409\n",
       "5 1381      450           24           170.2173 279.7827 0.0016324304 73.67409\n",
       "6 1509      423           14           162.9205 260.0795 0.0004575586 73.70069\n",
       "  .cooksd     .std.resid\n",
       "1 0.002916218 3.937226  \n",
       "2 0.002916218 3.937226  \n",
       "3 0.003459892 3.887975  \n",
       "4 0.011751929 3.791381  \n",
       "5 0.011751929 3.791381  \n",
       "6 0.002839686 3.522309  "
      ]
     },
     "metadata": {},
     "output_type": "display_data"
    }
   ],
   "source": [
    "#Extracting further summary statistics from baseline model\n",
    "augment(base_mdl) %>%\n",
    "    arrange(desc(.resid)) %>%\n",
    "    head()"
   ]
  },
  {
   "cell_type": "code",
   "execution_count": 116,
   "metadata": {},
   "outputs": [
    {
     "data": {
      "text/html": [
       "<table>\n",
       "<thead><tr><th></th><th scope=col>Insulin_Code</th><th scope=col>Insulin_dose</th><th scope=col>pid</th><th scope=col>date1</th><th scope=col>datetime</th><th scope=col>Glucose_Code</th><th scope=col>Glucose_Value</th><th scope=col>time_period</th><th scope=col>month_1</th><th scope=col>month_2</th><th scope=col>...</th><th scope=col>PreLun_Gluc</th><th scope=col>PreSup_Gluc</th><th scope=col>Hypoglycaemia</th><th scope=col>hod</th><th scope=col>time_day</th><th scope=col>morn</th><th scope=col>aft_noon</th><th scope=col>evening</th><th scope=col>night</th><th scope=col>Glucose_Value1</th></tr></thead>\n",
       "<tbody>\n",
       "\t<tr><th scope=row>1</th><td>33                 </td><td> 9                 </td><td>D1                 </td><td>1991-04-21         </td><td>1991-04-21 09:09:00</td><td>58                 </td><td>100                </td><td>month_1            </td><td>1                  </td><td>0                  </td><td>...                </td><td>0                  </td><td>0                  </td><td>0                  </td><td> 9                 </td><td>morning            </td><td> 1                 </td><td> 0                 </td><td> 0                 </td><td> 0                 </td><td>159.2721           </td></tr>\n",
       "\t<tr><th scope=row>2</th><td>34                 </td><td>13                 </td><td>D1                 </td><td>1991-04-21         </td><td>1991-04-21 09:09:00</td><td>58                 </td><td>100                </td><td>month_1            </td><td>1                  </td><td>0                  </td><td>...                </td><td>0                  </td><td>0                  </td><td>0                  </td><td> 9                 </td><td>morning            </td><td> 1                 </td><td> 0                 </td><td> 0                 </td><td> 0                 </td><td>162.1908           </td></tr>\n",
       "\t<tr><th scope=row>3</th><td>33                 </td><td> 7                 </td><td>D1                 </td><td>1991-04-21         </td><td>1991-04-21 17:08:00</td><td>62                 </td><td>119                </td><td>month_1            </td><td>1                  </td><td>0                  </td><td>...                </td><td>0                  </td><td>1                  </td><td>0                  </td><td>17                 </td><td>afternoon          </td><td> 0                 </td><td> 1                 </td><td> 0                 </td><td> 0                 </td><td>157.8127           </td></tr>\n",
       "\t<tr><th scope=row>11</th><td>34                 </td><td>14                 </td><td>D1                 </td><td>1991-04-24         </td><td>1991-04-24 07:52:00</td><td>58                 </td><td>239                </td><td>month_1            </td><td>1                  </td><td>0                  </td><td>...                </td><td>0                  </td><td>0                  </td><td>0                  </td><td> 7                 </td><td>morning            </td><td> 1                 </td><td> 0                 </td><td> 0                 </td><td> 0                 </td><td>162.9205           </td></tr>\n",
       "\t<tr><th scope=row>12</th><td>33                 </td><td> 5                 </td><td>D1                 </td><td>1991-04-24         </td><td>1991-04-24 22:09:00</td><td>48                 </td><td>340                </td><td>month_1            </td><td>1                  </td><td>0                  </td><td>...                </td><td>0                  </td><td>0                  </td><td>0                  </td><td>22                 </td><td>NA                 </td><td>NA                 </td><td>NA                 </td><td>NA                 </td><td>NA                 </td><td>156.3533           </td></tr>\n",
       "\t<tr><th scope=row>18</th><td>34                 </td><td>14                 </td><td>D1                 </td><td>1991-04-26         </td><td>1991-04-26 05:52:00</td><td>58                 </td><td> 77                </td><td>month_1            </td><td>1                  </td><td>0                  </td><td>...                </td><td>0                  </td><td>0                  </td><td>0                  </td><td> 5                 </td><td>nighttime          </td><td> 0                 </td><td> 0                 </td><td> 0                 </td><td> 1                 </td><td>162.9205           </td></tr>\n",
       "</tbody>\n",
       "</table>\n"
      ],
      "text/latex": [
       "\\begin{tabular}{r|llllllllllllllllllllllllllll}\n",
       "  & Insulin\\_Code & Insulin\\_dose & pid & date1 & datetime & Glucose\\_Code & Glucose\\_Value & time\\_period & month\\_1 & month\\_2 & ... & PreLun\\_Gluc & PreSup\\_Gluc & Hypoglycaemia & hod & time\\_day & morn & aft\\_noon & evening & night & Glucose\\_Value1\\\\\n",
       "\\hline\n",
       "\t1 & 33                  &  9                  & D1                  & 1991-04-21          & 1991-04-21 09:09:00 & 58                  & 100                 & month\\_1           & 1                   & 0                   & ...                 & 0                   & 0                   & 0                   &  9                  & morning             &  1                  &  0                  &  0                  &  0                  & 159.2721           \\\\\n",
       "\t2 & 34                  & 13                  & D1                  & 1991-04-21          & 1991-04-21 09:09:00 & 58                  & 100                 & month\\_1           & 1                   & 0                   & ...                 & 0                   & 0                   & 0                   &  9                  & morning             &  1                  &  0                  &  0                  &  0                  & 162.1908           \\\\\n",
       "\t3 & 33                  &  7                  & D1                  & 1991-04-21          & 1991-04-21 17:08:00 & 62                  & 119                 & month\\_1           & 1                   & 0                   & ...                 & 0                   & 1                   & 0                   & 17                  & afternoon           &  0                  &  1                  &  0                  &  0                  & 157.8127           \\\\\n",
       "\t11 & 34                  & 14                  & D1                  & 1991-04-24          & 1991-04-24 07:52:00 & 58                  & 239                 & month\\_1           & 1                   & 0                   & ...                 & 0                   & 0                   & 0                   &  7                  & morning             &  1                  &  0                  &  0                  &  0                  & 162.9205           \\\\\n",
       "\t12 & 33                  &  5                  & D1                  & 1991-04-24          & 1991-04-24 22:09:00 & 48                  & 340                 & month\\_1           & 1                   & 0                   & ...                 & 0                   & 0                   & 0                   & 22                  & NA                  & NA                  & NA                  & NA                  & NA                  & 156.3533           \\\\\n",
       "\t18 & 34                  & 14                  & D1                  & 1991-04-26          & 1991-04-26 05:52:00 & 58                  &  77                 & month\\_1           & 1                   & 0                   & ...                 & 0                   & 0                   & 0                   &  5                  & nighttime           &  0                  &  0                  &  0                  &  1                  & 162.9205           \\\\\n",
       "\\end{tabular}\n"
      ],
      "text/markdown": [
       "\n",
       "| <!--/--> | Insulin_Code | Insulin_dose | pid | date1 | datetime | Glucose_Code | Glucose_Value | time_period | month_1 | month_2 | ... | PreLun_Gluc | PreSup_Gluc | Hypoglycaemia | hod | time_day | morn | aft_noon | evening | night | Glucose_Value1 |\n",
       "|---|---|---|---|---|---|---|---|---|---|---|---|---|---|---|---|---|---|---|---|---|---|\n",
       "| 1 | 33                  |  9                  | D1                  | 1991-04-21          | 1991-04-21 09:09:00 | 58                  | 100                 | month_1             | 1                   | 0                   | ...                 | 0                   | 0                   | 0                   |  9                  | morning             |  1                  |  0                  |  0                  |  0                  | 159.2721            |\n",
       "| 2 | 34                  | 13                  | D1                  | 1991-04-21          | 1991-04-21 09:09:00 | 58                  | 100                 | month_1             | 1                   | 0                   | ...                 | 0                   | 0                   | 0                   |  9                  | morning             |  1                  |  0                  |  0                  |  0                  | 162.1908            |\n",
       "| 3 | 33                  |  7                  | D1                  | 1991-04-21          | 1991-04-21 17:08:00 | 62                  | 119                 | month_1             | 1                   | 0                   | ...                 | 0                   | 1                   | 0                   | 17                  | afternoon           |  0                  |  1                  |  0                  |  0                  | 157.8127            |\n",
       "| 11 | 34                  | 14                  | D1                  | 1991-04-24          | 1991-04-24 07:52:00 | 58                  | 239                 | month_1             | 1                   | 0                   | ...                 | 0                   | 0                   | 0                   |  7                  | morning             |  1                  |  0                  |  0                  |  0                  | 162.9205            |\n",
       "| 12 | 33                  |  5                  | D1                  | 1991-04-24          | 1991-04-24 22:09:00 | 48                  | 340                 | month_1             | 1                   | 0                   | ...                 | 0                   | 0                   | 0                   | 22                  | NA                  | NA                  | NA                  | NA                  | NA                  | 156.3533            |\n",
       "| 18 | 34                  | 14                  | D1                  | 1991-04-26          | 1991-04-26 05:52:00 | 58                  |  77                 | month_1             | 1                   | 0                   | ...                 | 0                   | 0                   | 0                   |  5                  | nighttime           |  0                  |  0                  |  0                  |  1                  | 162.9205            |\n",
       "\n"
      ],
      "text/plain": [
       "   Insulin_Code Insulin_dose pid date1      datetime            Glucose_Code\n",
       "1  33            9           D1  1991-04-21 1991-04-21 09:09:00 58          \n",
       "2  34           13           D1  1991-04-21 1991-04-21 09:09:00 58          \n",
       "3  33            7           D1  1991-04-21 1991-04-21 17:08:00 62          \n",
       "11 34           14           D1  1991-04-24 1991-04-24 07:52:00 58          \n",
       "12 33            5           D1  1991-04-24 1991-04-24 22:09:00 48          \n",
       "18 34           14           D1  1991-04-26 1991-04-26 05:52:00 58          \n",
       "   Glucose_Value time_period month_1 month_2 ... PreLun_Gluc PreSup_Gluc\n",
       "1  100           month_1     1       0       ... 0           0          \n",
       "2  100           month_1     1       0       ... 0           0          \n",
       "3  119           month_1     1       0       ... 0           1          \n",
       "11 239           month_1     1       0       ... 0           0          \n",
       "12 340           month_1     1       0       ... 0           0          \n",
       "18  77           month_1     1       0       ... 0           0          \n",
       "   Hypoglycaemia hod time_day  morn aft_noon evening night Glucose_Value1\n",
       "1  0              9  morning    1    0        0       0    159.2721      \n",
       "2  0              9  morning    1    0        0       0    162.1908      \n",
       "3  0             17  afternoon  0    1        0       0    157.8127      \n",
       "11 0              7  morning    1    0        0       0    162.9205      \n",
       "12 0             22  NA        NA   NA       NA      NA    156.3533      \n",
       "18 0              5  nighttime  0    0        0       1    162.9205      "
      ]
     },
     "metadata": {},
     "output_type": "display_data"
    }
   ],
   "source": [
    "#Predicting using baseline linear model\n",
    "base_mdl_pred <- patient_test %>%\n",
    "    mutate(Glucose_Value1 = predict(base_mdl, patient_test))\n",
    "\n",
    "head(base_mdl_pred)"
   ]
  },
  {
   "cell_type": "code",
   "execution_count": 117,
   "metadata": {},
   "outputs": [
    {
     "data": {
      "text/html": [
       "<table>\n",
       "<thead><tr><th scope=col>r.squared</th><th scope=col>adj.r.squared</th><th scope=col>sigma</th><th scope=col>statistic</th><th scope=col>p.value</th><th scope=col>df</th><th scope=col>logLik</th><th scope=col>AIC</th><th scope=col>BIC</th><th scope=col>deviance</th><th scope=col>df.residual</th><th scope=col>nobs</th></tr></thead>\n",
       "<tbody>\n",
       "\t<tr><td>0.00525489  </td><td>0.004891712 </td><td>73.85469    </td><td>14.46918    </td><td>0.0001455854</td><td>1           </td><td>-15680.36   </td><td>31366.73    </td><td>31384.48    </td><td>14939917    </td><td>2739        </td><td>2741        </td></tr>\n",
       "</tbody>\n",
       "</table>\n"
      ],
      "text/latex": [
       "\\begin{tabular}{r|llllllllllll}\n",
       " r.squared & adj.r.squared & sigma & statistic & p.value & df & logLik & AIC & BIC & deviance & df.residual & nobs\\\\\n",
       "\\hline\n",
       "\t 0.00525489   & 0.004891712  & 73.85469     & 14.46918     & 0.0001455854 & 1            & -15680.36    & 31366.73     & 31384.48     & 14939917     & 2739         & 2741        \\\\\n",
       "\\end{tabular}\n"
      ],
      "text/markdown": [
       "\n",
       "| r.squared | adj.r.squared | sigma | statistic | p.value | df | logLik | AIC | BIC | deviance | df.residual | nobs |\n",
       "|---|---|---|---|---|---|---|---|---|---|---|---|\n",
       "| 0.00525489   | 0.004891712  | 73.85469     | 14.46918     | 0.0001455854 | 1            | -15680.36    | 31366.73     | 31384.48     | 14939917     | 2739         | 2741         |\n",
       "\n"
      ],
      "text/plain": [
       "  r.squared  adj.r.squared sigma    statistic p.value      df logLik   \n",
       "1 0.00525489 0.004891712   73.85469 14.46918  0.0001455854 1  -15680.36\n",
       "  AIC      BIC      deviance df.residual nobs\n",
       "1 31366.73 31384.48 14939917 2739        2741"
      ]
     },
     "metadata": {},
     "output_type": "display_data"
    }
   ],
   "source": [
    "#Summary statistics from baseline linear model\n",
    "glance(base_mdl)\n",
    "\n",
    "#R-squared here = correlation between explanatory and response variables. The higher the value (i.e. closer to 1, the better the model \n",
    "#fit is to the data and the better the model's performance)\n",
    "#adjusted r-squared for baseline linear model here approximately 0, therefore model performance no better than random chance\n",
    "\n",
    "#RSE(sigma) - residual aka difference between prediction and observed response. The closer to 0, the better the fit is to the data. RSE \n",
    "#of 73 suggests the difference between the recorded glucose values and those predicted by the model = 73"
   ]
  },
  {
   "cell_type": "code",
   "execution_count": 118,
   "metadata": {},
   "outputs": [
    {
     "data": {
      "image/png": "[encoded data removed]",
      "text/plain": [
       "plot without title"
      ]
     },
     "metadata": {},
     "output_type": "display_data"
    }
   ],
   "source": [
    "#Plot to compare predictions to actual outputs \n",
    "ggplot(base_mdl_pred, aes(x = Glucose_Value1, y = Glucose_Value)) + geom_point() + geom_abline(colour = \"blue\")"
   ]
  },
  {
   "cell_type": "code",
   "execution_count": 100,
   "metadata": {},
   "outputs": [
    {
     "name": "stderr",
     "output_type": "stream",
     "text": [
      "`geom_smooth()` using formula 'y ~ x'\n"
     ]
    },
    {
     "data": {
      "image/png": "[encoded data removed]",
      "text/plain": [
       "plot without title"
      ]
     },
     "metadata": {},
     "output_type": "display_data"
    }
   ],
   "source": [
    "#Visualising again baseline model outputs with predictions superimposed\n",
    "ggplot(patient_test, aes(time_period, Glucose_Value, colour = time_day)) + geom_point() + geom_smooth(method = \"lm\", se = FALSE) + \n",
    "\n",
    "#add predictions points\n",
    "geom_point(data = base_mdl_pred, size = 4, shape = 15, colour = \"green\")"
   ]
  },
  {
   "cell_type": "code",
   "execution_count": 120,
   "metadata": {},
   "outputs": [
    {
     "data": {
      "text/plain": [
       "\n",
       "Call:\n",
       "lm(formula = Glucose_Value ~ Insulin_dose + Reg_Insulin + Inter_Insulin + \n",
       "    month_1 + month_2 + month_3 + month_4 + month_5 + Unspec_Gluc + \n",
       "    PreBreak_Gluc + PreLun_Gluc + PreSup_Gluc, data = patient_train)\n",
       "\n",
       "Coefficients:\n",
       "  (Intercept)   Insulin_dose    Reg_Insulin  Inter_Insulin        month_1  \n",
       "      -85.017          3.817         62.152             NA          4.443  \n",
       "      month_2        month_3        month_4        month_5    Unspec_Gluc  \n",
       "       -2.048         -4.304          2.164             NA        249.894  \n",
       "PreBreak_Gluc    PreLun_Gluc    PreSup_Gluc  \n",
       "      171.009        154.865        155.686  \n"
      ]
     },
     "metadata": {},
     "output_type": "display_data"
    }
   ],
   "source": [
    "#Fit & predict baseline model using all feature inputs\n",
    "\n",
    "base_mdl2 <- lm(Glucose_Value ~ Insulin_dose + Reg_Insulin + Inter_Insulin + month_1 + month_2 + month_3 + month_4 + month_5 + Unspec_Gluc + PreBreak_Gluc + \n",
    "                PreLun_Gluc + PreSup_Gluc, data = patient_train)\n",
    "base_mdl2"
   ]
  },
  {
   "cell_type": "code",
   "execution_count": 121,
   "metadata": {},
   "outputs": [
    {
     "data": {
      "text/html": [
       "<table>\n",
       "<thead><tr><th scope=col>r.squared</th><th scope=col>adj.r.squared</th><th scope=col>sigma</th><th scope=col>statistic</th><th scope=col>p.value</th><th scope=col>df</th><th scope=col>logLik</th><th scope=col>AIC</th><th scope=col>BIC</th><th scope=col>deviance</th><th scope=col>df.residual</th><th scope=col>nobs</th></tr></thead>\n",
       "<tbody>\n",
       "\t<tr><td>0.1468274   </td><td>0.1378371   </td><td>71.29442    </td><td>16.33189    </td><td>1.993357e-27</td><td>10          </td><td>-5452.795   </td><td>10929.59    </td><td>10987.99    </td><td>4823667     </td><td>949         </td><td>960         </td></tr>\n",
       "</tbody>\n",
       "</table>\n"
      ],
      "text/latex": [
       "\\begin{tabular}{r|llllllllllll}\n",
       " r.squared & adj.r.squared & sigma & statistic & p.value & df & logLik & AIC & BIC & deviance & df.residual & nobs\\\\\n",
       "\\hline\n",
       "\t 0.1468274    & 0.1378371    & 71.29442     & 16.33189     & 1.993357e-27 & 10           & -5452.795    & 10929.59     & 10987.99     & 4823667      & 949          & 960         \\\\\n",
       "\\end{tabular}\n"
      ],
      "text/markdown": [
       "\n",
       "| r.squared | adj.r.squared | sigma | statistic | p.value | df | logLik | AIC | BIC | deviance | df.residual | nobs |\n",
       "|---|---|---|---|---|---|---|---|---|---|---|---|\n",
       "| 0.1468274    | 0.1378371    | 71.29442     | 16.33189     | 1.993357e-27 | 10           | -5452.795    | 10929.59     | 10987.99     | 4823667      | 949          | 960          |\n",
       "\n"
      ],
      "text/plain": [
       "  r.squared adj.r.squared sigma    statistic p.value      df logLik    AIC     \n",
       "1 0.1468274 0.1378371     71.29442 16.33189  1.993357e-27 10 -5452.795 10929.59\n",
       "  BIC      deviance df.residual nobs\n",
       "1 10987.99 4823667  949         960 "
      ]
     },
     "metadata": {},
     "output_type": "display_data"
    }
   ],
   "source": [
    "glance(base_mdl2)"
   ]
  },
  {
   "cell_type": "code",
   "execution_count": 102,
   "metadata": {},
   "outputs": [],
   "source": [
    "#SUBSEGMENT ENTIRE TRAINING DATASET INTO TIMES OF DAY AND RUN LINEAR MODEL SEPARATELY ON DIFFERENT PARTS OF TRAINING DATA. DO MODELS AGREE WITH \n",
    "#EACH OTHER?"
   ]
  },
  {
   "cell_type": "code",
   "execution_count": 124,
   "metadata": {},
   "outputs": [
    {
     "data": {
      "text/plain": [
       "\n",
       "Call:\n",
       "lm(formula = Glucose_Value ~ Insulin_dose, data = morn_data)\n",
       "\n",
       "Coefficients:\n",
       " (Intercept)  Insulin_dose  \n",
       "    171.9897       -0.4249  \n"
      ]
     },
     "metadata": {},
     "output_type": "display_data"
    },
    {
     "data": {
      "text/html": [
       "<table>\n",
       "<thead><tr><th scope=col>r.squared</th><th scope=col>adj.r.squared</th><th scope=col>sigma</th><th scope=col>statistic</th><th scope=col>p.value</th><th scope=col>df</th><th scope=col>logLik</th><th scope=col>AIC</th><th scope=col>BIC</th><th scope=col>deviance</th><th scope=col>df.residual</th><th scope=col>nobs</th></tr></thead>\n",
       "<tbody>\n",
       "\t<tr><td>0.002284963</td><td>0.001568728</td><td>72.75913   </td><td>3.190243   </td><td>0.07429643 </td><td>1          </td><td>-7958.999  </td><td>15924      </td><td>15939.72   </td><td>7374391    </td><td>1393       </td><td>1395       </td></tr>\n",
       "</tbody>\n",
       "</table>\n"
      ],
      "text/latex": [
       "\\begin{tabular}{r|llllllllllll}\n",
       " r.squared & adj.r.squared & sigma & statistic & p.value & df & logLik & AIC & BIC & deviance & df.residual & nobs\\\\\n",
       "\\hline\n",
       "\t 0.002284963 & 0.001568728 & 72.75913    & 3.190243    & 0.07429643  & 1           & -7958.999   & 15924       & 15939.72    & 7374391     & 1393        & 1395       \\\\\n",
       "\\end{tabular}\n"
      ],
      "text/markdown": [
       "\n",
       "| r.squared | adj.r.squared | sigma | statistic | p.value | df | logLik | AIC | BIC | deviance | df.residual | nobs |\n",
       "|---|---|---|---|---|---|---|---|---|---|---|---|\n",
       "| 0.002284963 | 0.001568728 | 72.75913    | 3.190243    | 0.07429643  | 1           | -7958.999   | 15924       | 15939.72    | 7374391     | 1393        | 1395        |\n",
       "\n"
      ],
      "text/plain": [
       "  r.squared   adj.r.squared sigma    statistic p.value    df logLik    AIC  \n",
       "1 0.002284963 0.001568728   72.75913 3.190243  0.07429643 1  -7958.999 15924\n",
       "  BIC      deviance df.residual nobs\n",
       "1 15939.72 7374391  1393        1395"
      ]
     },
     "metadata": {},
     "output_type": "display_data"
    }
   ],
   "source": [
    "#Linear model prediction of breakfast/am glucose levels (with single feature input)\n",
    "\n",
    "#Fit linear model for morning glucose doses \n",
    "morn_data <- patient_train %>%\n",
    "    filter(time_day == \"morning\")\n",
    "\n",
    "mdl_morn <- lm(Glucose_Value ~ Insulin_dose, data = morn_data)\n",
    "mdl_morn\n",
    "glance(mdl_morn)"
   ]
  },
  {
   "cell_type": "code",
   "execution_count": 125,
   "metadata": {},
   "outputs": [
    {
     "data": {
      "text/plain": [
       "\n",
       "Call:\n",
       "lm(formula = Glucose_Value ~ Insulin_dose + month_1 + Unspec_Gluc, \n",
       "    data = morn_data)\n",
       "\n",
       "Coefficients:\n",
       " (Intercept)  Insulin_dose       month_1   Unspec_Gluc  \n",
       "   166.73874       0.09233     -13.01197            NA  \n"
      ]
     },
     "metadata": {},
     "output_type": "display_data"
    },
    {
     "data": {
      "text/html": [
       "<table>\n",
       "<thead><tr><th scope=col>r.squared</th><th scope=col>adj.r.squared</th><th scope=col>sigma</th><th scope=col>statistic</th><th scope=col>p.value</th><th scope=col>df</th><th scope=col>logLik</th><th scope=col>AIC</th><th scope=col>BIC</th><th scope=col>deviance</th><th scope=col>df.residual</th><th scope=col>nobs</th></tr></thead>\n",
       "<tbody>\n",
       "\t<tr><td>0.003741377 </td><td>-3.95614e-06</td><td>80.30465    </td><td>0.9989437   </td><td>0.3689579   </td><td>2           </td><td>-3104.046   </td><td>6216.091    </td><td>6233.22     </td><td>3430781     </td><td>532         </td><td>535         </td></tr>\n",
       "</tbody>\n",
       "</table>\n"
      ],
      "text/latex": [
       "\\begin{tabular}{r|llllllllllll}\n",
       " r.squared & adj.r.squared & sigma & statistic & p.value & df & logLik & AIC & BIC & deviance & df.residual & nobs\\\\\n",
       "\\hline\n",
       "\t 0.003741377  & -3.95614e-06 & 80.30465     & 0.9989437    & 0.3689579    & 2            & -3104.046    & 6216.091     & 6233.22      & 3430781      & 532          & 535         \\\\\n",
       "\\end{tabular}\n"
      ],
      "text/markdown": [
       "\n",
       "| r.squared | adj.r.squared | sigma | statistic | p.value | df | logLik | AIC | BIC | deviance | df.residual | nobs |\n",
       "|---|---|---|---|---|---|---|---|---|---|---|---|\n",
       "| 0.003741377  | -3.95614e-06 | 80.30465     | 0.9989437    | 0.3689579    | 2            | -3104.046    | 6216.091     | 6233.22      | 3430781      | 532          | 535          |\n",
       "\n"
      ],
      "text/plain": [
       "  r.squared   adj.r.squared sigma    statistic p.value   df logLik    AIC     \n",
       "1 0.003741377 -3.95614e-06  80.30465 0.9989437 0.3689579 2  -3104.046 6216.091\n",
       "  BIC     deviance df.residual nobs\n",
       "1 6233.22 3430781  532         535 "
      ]
     },
     "metadata": {},
     "output_type": "display_data"
    }
   ],
   "source": [
    "#Linear model prediction of breakfast/am glucose levels (with three feature inputs)\n",
    "\n",
    "mdl_morn2 <- lm(Glucose_Value ~ Insulin_dose + month_1 + Unspec_Gluc, data = morn_data)\n",
    "mdl_morn2\n",
    "glance(mdl_morn2)"
   ]
  },
  {
   "cell_type": "code",
   "execution_count": 127,
   "metadata": {},
   "outputs": [
    {
     "data": {
      "text/plain": [
       "\n",
       "Call:\n",
       "lm(formula = Glucose_Value ~ Insulin_dose + Reg_Insulin + Inter_Insulin + \n",
       "    month_1 + month_2 + month_3 + month_4 + month_5 + Unspec_Gluc + \n",
       "    PreBreak_Gluc + PreLun_Gluc + PreSup_Gluc, data = morn_data)\n",
       "\n",
       "Coefficients:\n",
       "  (Intercept)   Insulin_dose    Reg_Insulin  Inter_Insulin        month_1  \n",
       "      -49.748          1.810         31.125             NA          4.673  \n",
       "      month_2        month_3        month_4        month_5    Unspec_Gluc  \n",
       "       10.826         -4.741         -2.613             NA             NA  \n",
       "PreBreak_Gluc    PreLun_Gluc    PreSup_Gluc  \n",
       "      176.777        178.491        180.578  \n"
      ]
     },
     "metadata": {},
     "output_type": "display_data"
    },
    {
     "data": {
      "text/html": [
       "<table>\n",
       "<thead><tr><th scope=col>r.squared</th><th scope=col>adj.r.squared</th><th scope=col>sigma</th><th scope=col>statistic</th><th scope=col>p.value</th><th scope=col>df</th><th scope=col>logLik</th><th scope=col>AIC</th><th scope=col>BIC</th><th scope=col>deviance</th><th scope=col>df.residual</th><th scope=col>nobs</th></tr></thead>\n",
       "<tbody>\n",
       "\t<tr><td>0.1208891   </td><td>0.1058186   </td><td>75.93686    </td><td>8.021585    </td><td>3.604675e-11</td><td>9           </td><td>-3070.582   </td><td>6163.165    </td><td>6210.27     </td><td>3027364     </td><td>525         </td><td>535         </td></tr>\n",
       "</tbody>\n",
       "</table>\n"
      ],
      "text/latex": [
       "\\begin{tabular}{r|llllllllllll}\n",
       " r.squared & adj.r.squared & sigma & statistic & p.value & df & logLik & AIC & BIC & deviance & df.residual & nobs\\\\\n",
       "\\hline\n",
       "\t 0.1208891    & 0.1058186    & 75.93686     & 8.021585     & 3.604675e-11 & 9            & -3070.582    & 6163.165     & 6210.27      & 3027364      & 525          & 535         \\\\\n",
       "\\end{tabular}\n"
      ],
      "text/markdown": [
       "\n",
       "| r.squared | adj.r.squared | sigma | statistic | p.value | df | logLik | AIC | BIC | deviance | df.residual | nobs |\n",
       "|---|---|---|---|---|---|---|---|---|---|---|---|\n",
       "| 0.1208891    | 0.1058186    | 75.93686     | 8.021585     | 3.604675e-11 | 9            | -3070.582    | 6163.165     | 6210.27      | 3027364      | 525          | 535          |\n",
       "\n"
      ],
      "text/plain": [
       "  r.squared adj.r.squared sigma    statistic p.value      df logLik    AIC     \n",
       "1 0.1208891 0.1058186     75.93686 8.021585  3.604675e-11 9  -3070.582 6163.165\n",
       "  BIC     deviance df.residual nobs\n",
       "1 6210.27 3027364  525         535 "
      ]
     },
     "metadata": {},
     "output_type": "display_data"
    }
   ],
   "source": [
    "#Linear model prediction of breakfast/am glucose levels (with all feature inputs)\n",
    "\n",
    "mdl_morn3 <- lm(Glucose_Value ~ Insulin_dose + Reg_Insulin + Inter_Insulin + month_1 + month_2 + month_3 + month_4 + month_5 + Unspec_Gluc + PreBreak_Gluc + PreLun_Gluc + PreSup_Gluc, data = morn_data)\n",
    "mdl_morn3\n",
    "glance(mdl_morn3)"
   ]
  },
  {
   "cell_type": "code",
   "execution_count": 133,
   "metadata": {},
   "outputs": [
    {
     "name": "stderr",
     "output_type": "stream",
     "text": [
      "Warning message in predict.lm(mdl_morn3, patient_test):\n",
      "\"prediction from a rank-deficient fit may be misleading\""
     ]
    },
    {
     "data": {
      "text/html": [
       "<table>\n",
       "<thead><tr><th></th><th scope=col>Insulin_Code</th><th scope=col>Insulin_dose</th><th scope=col>pid</th><th scope=col>date1</th><th scope=col>datetime</th><th scope=col>Glucose_Code</th><th scope=col>Glucose_Value</th><th scope=col>time_period</th><th scope=col>month_1</th><th scope=col>month_2</th><th scope=col>...</th><th scope=col>PreLun_Gluc</th><th scope=col>PreSup_Gluc</th><th scope=col>Hypoglycaemia</th><th scope=col>hod</th><th scope=col>time_day</th><th scope=col>morn</th><th scope=col>aft_noon</th><th scope=col>evening</th><th scope=col>night</th><th scope=col>Glucose_Value1</th></tr></thead>\n",
       "<tbody>\n",
       "\t<tr><th scope=row>1</th><td>33                 </td><td> 9                 </td><td>D1                 </td><td>1991-04-21         </td><td>1991-04-21 09:09:00</td><td>58                 </td><td>100                </td><td>month_1            </td><td>1                  </td><td>0                  </td><td>...                </td><td>0                  </td><td>0                  </td><td>0                  </td><td> 9                 </td><td>morning            </td><td> 1                 </td><td> 0                 </td><td> 0                 </td><td> 0                 </td><td>179.115489         </td></tr>\n",
       "\t<tr><th scope=row>2</th><td>34                 </td><td>13                 </td><td>D1                 </td><td>1991-04-21         </td><td>1991-04-21 09:09:00</td><td>58                 </td><td>100                </td><td>month_1            </td><td>1                  </td><td>0                  </td><td>...                </td><td>0                  </td><td>0                  </td><td>0                  </td><td> 9                 </td><td>morning            </td><td> 1                 </td><td> 0                 </td><td> 0                 </td><td> 0                 </td><td>155.229237         </td></tr>\n",
       "\t<tr><th scope=row>3</th><td>33                 </td><td> 7                 </td><td>D1                 </td><td>1991-04-21         </td><td>1991-04-21 17:08:00</td><td>62                 </td><td>119                </td><td>month_1            </td><td>1                  </td><td>0                  </td><td>...                </td><td>0                  </td><td>1                  </td><td>0                  </td><td>17                 </td><td>afternoon          </td><td> 0                 </td><td> 1                 </td><td> 0                 </td><td> 0                 </td><td>179.296670         </td></tr>\n",
       "\t<tr><th scope=row>11</th><td>34                 </td><td>14                 </td><td>D1                 </td><td>1991-04-24         </td><td>1991-04-24 07:52:00</td><td>58                 </td><td>239                </td><td>month_1            </td><td>1                  </td><td>0                  </td><td>...                </td><td>0                  </td><td>0                  </td><td>0                  </td><td> 7                 </td><td>morning            </td><td> 1                 </td><td> 0                 </td><td> 0                 </td><td> 0                 </td><td>157.038964         </td></tr>\n",
       "\t<tr><th scope=row>12</th><td>33                 </td><td> 5                 </td><td>D1                 </td><td>1991-04-24         </td><td>1991-04-24 22:09:00</td><td>48                 </td><td>340                </td><td>month_1            </td><td>1                  </td><td>0                  </td><td>...                </td><td>0                  </td><td>0                  </td><td>0                  </td><td>22                 </td><td>NA                 </td><td>NA                 </td><td>NA                 </td><td>NA                 </td><td>NA                 </td><td> -4.900572         </td></tr>\n",
       "\t<tr><th scope=row>18</th><td>34                 </td><td>14                 </td><td>D1                 </td><td>1991-04-26         </td><td>1991-04-26 05:52:00</td><td>58                 </td><td> 77                </td><td>month_1            </td><td>1                  </td><td>0                  </td><td>...                </td><td>0                  </td><td>0                  </td><td>0                  </td><td> 5                 </td><td>nighttime          </td><td> 0                 </td><td> 0                 </td><td> 0                 </td><td> 1                 </td><td>157.038964         </td></tr>\n",
       "</tbody>\n",
       "</table>\n"
      ],
      "text/latex": [
       "\\begin{tabular}{r|llllllllllllllllllllllllllll}\n",
       "  & Insulin\\_Code & Insulin\\_dose & pid & date1 & datetime & Glucose\\_Code & Glucose\\_Value & time\\_period & month\\_1 & month\\_2 & ... & PreLun\\_Gluc & PreSup\\_Gluc & Hypoglycaemia & hod & time\\_day & morn & aft\\_noon & evening & night & Glucose\\_Value1\\\\\n",
       "\\hline\n",
       "\t1 & 33                  &  9                  & D1                  & 1991-04-21          & 1991-04-21 09:09:00 & 58                  & 100                 & month\\_1           & 1                   & 0                   & ...                 & 0                   & 0                   & 0                   &  9                  & morning             &  1                  &  0                  &  0                  &  0                  & 179.115489         \\\\\n",
       "\t2 & 34                  & 13                  & D1                  & 1991-04-21          & 1991-04-21 09:09:00 & 58                  & 100                 & month\\_1           & 1                   & 0                   & ...                 & 0                   & 0                   & 0                   &  9                  & morning             &  1                  &  0                  &  0                  &  0                  & 155.229237         \\\\\n",
       "\t3 & 33                  &  7                  & D1                  & 1991-04-21          & 1991-04-21 17:08:00 & 62                  & 119                 & month\\_1           & 1                   & 0                   & ...                 & 0                   & 1                   & 0                   & 17                  & afternoon           &  0                  &  1                  &  0                  &  0                  & 179.296670         \\\\\n",
       "\t11 & 34                  & 14                  & D1                  & 1991-04-24          & 1991-04-24 07:52:00 & 58                  & 239                 & month\\_1           & 1                   & 0                   & ...                 & 0                   & 0                   & 0                   &  7                  & morning             &  1                  &  0                  &  0                  &  0                  & 157.038964         \\\\\n",
       "\t12 & 33                  &  5                  & D1                  & 1991-04-24          & 1991-04-24 22:09:00 & 48                  & 340                 & month\\_1           & 1                   & 0                   & ...                 & 0                   & 0                   & 0                   & 22                  & NA                  & NA                  & NA                  & NA                  & NA                  &  -4.900572         \\\\\n",
       "\t18 & 34                  & 14                  & D1                  & 1991-04-26          & 1991-04-26 05:52:00 & 58                  &  77                 & month\\_1           & 1                   & 0                   & ...                 & 0                   & 0                   & 0                   &  5                  & nighttime           &  0                  &  0                  &  0                  &  1                  & 157.038964         \\\\\n",
       "\\end{tabular}\n"
      ],
      "text/markdown": [
       "\n",
       "| <!--/--> | Insulin_Code | Insulin_dose | pid | date1 | datetime | Glucose_Code | Glucose_Value | time_period | month_1 | month_2 | ... | PreLun_Gluc | PreSup_Gluc | Hypoglycaemia | hod | time_day | morn | aft_noon | evening | night | Glucose_Value1 |\n",
       "|---|---|---|---|---|---|---|---|---|---|---|---|---|---|---|---|---|---|---|---|---|---|\n",
       "| 1 | 33                  |  9                  | D1                  | 1991-04-21          | 1991-04-21 09:09:00 | 58                  | 100                 | month_1             | 1                   | 0                   | ...                 | 0                   | 0                   | 0                   |  9                  | morning             |  1                  |  0                  |  0                  |  0                  | 179.115489          |\n",
       "| 2 | 34                  | 13                  | D1                  | 1991-04-21          | 1991-04-21 09:09:00 | 58                  | 100                 | month_1             | 1                   | 0                   | ...                 | 0                   | 0                   | 0                   |  9                  | morning             |  1                  |  0                  |  0                  |  0                  | 155.229237          |\n",
       "| 3 | 33                  |  7                  | D1                  | 1991-04-21          | 1991-04-21 17:08:00 | 62                  | 119                 | month_1             | 1                   | 0                   | ...                 | 0                   | 1                   | 0                   | 17                  | afternoon           |  0                  |  1                  |  0                  |  0                  | 179.296670          |\n",
       "| 11 | 34                  | 14                  | D1                  | 1991-04-24          | 1991-04-24 07:52:00 | 58                  | 239                 | month_1             | 1                   | 0                   | ...                 | 0                   | 0                   | 0                   |  7                  | morning             |  1                  |  0                  |  0                  |  0                  | 157.038964          |\n",
       "| 12 | 33                  |  5                  | D1                  | 1991-04-24          | 1991-04-24 22:09:00 | 48                  | 340                 | month_1             | 1                   | 0                   | ...                 | 0                   | 0                   | 0                   | 22                  | NA                  | NA                  | NA                  | NA                  | NA                  |  -4.900572          |\n",
       "| 18 | 34                  | 14                  | D1                  | 1991-04-26          | 1991-04-26 05:52:00 | 58                  |  77                 | month_1             | 1                   | 0                   | ...                 | 0                   | 0                   | 0                   |  5                  | nighttime           |  0                  |  0                  |  0                  |  1                  | 157.038964          |\n",
       "\n"
      ],
      "text/plain": [
       "   Insulin_Code Insulin_dose pid date1      datetime            Glucose_Code\n",
       "1  33            9           D1  1991-04-21 1991-04-21 09:09:00 58          \n",
       "2  34           13           D1  1991-04-21 1991-04-21 09:09:00 58          \n",
       "3  33            7           D1  1991-04-21 1991-04-21 17:08:00 62          \n",
       "11 34           14           D1  1991-04-24 1991-04-24 07:52:00 58          \n",
       "12 33            5           D1  1991-04-24 1991-04-24 22:09:00 48          \n",
       "18 34           14           D1  1991-04-26 1991-04-26 05:52:00 58          \n",
       "   Glucose_Value time_period month_1 month_2 ... PreLun_Gluc PreSup_Gluc\n",
       "1  100           month_1     1       0       ... 0           0          \n",
       "2  100           month_1     1       0       ... 0           0          \n",
       "3  119           month_1     1       0       ... 0           1          \n",
       "11 239           month_1     1       0       ... 0           0          \n",
       "12 340           month_1     1       0       ... 0           0          \n",
       "18  77           month_1     1       0       ... 0           0          \n",
       "   Hypoglycaemia hod time_day  morn aft_noon evening night Glucose_Value1\n",
       "1  0              9  morning    1    0        0       0    179.115489    \n",
       "2  0              9  morning    1    0        0       0    155.229237    \n",
       "3  0             17  afternoon  0    1        0       0    179.296670    \n",
       "11 0              7  morning    1    0        0       0    157.038964    \n",
       "12 0             22  NA        NA   NA       NA      NA     -4.900572    \n",
       "18 0              5  nighttime  0    0        0       1    157.038964    "
      ]
     },
     "metadata": {},
     "output_type": "display_data"
    }
   ],
   "source": [
    "#Predicting using linear model fit to all features inputs within training morning dataset\n",
    "predictions_morning <- patient_test %>%\n",
    "    mutate(Glucose_Value1 = predict(mdl_morn3, patient_test))\n",
    "\n",
    "head(predictions_morning)"
   ]
  },
  {
   "cell_type": "code",
   "execution_count": 134,
   "metadata": {},
   "outputs": [
    {
     "name": "stderr",
     "output_type": "stream",
     "text": [
      "Warning message:\n",
      "\"Removed 554 rows containing missing values (geom_point).\""
     ]
    },
    {
     "data": {
      "image/png": "[encoded data removed]",
      "text/plain": [
       "plot without title"
      ]
     },
     "metadata": {},
     "output_type": "display_data"
    }
   ],
   "source": [
    "#Plot to compare predictions to actual outputs \n",
    "ggplot(predictions_morning, aes(x = Glucose_Value1, y = Glucose_Value)) + geom_point() + geom_abline(colour = \"blue\")"
   ]
  },
  {
   "cell_type": "code",
   "execution_count": 128,
   "metadata": {},
   "outputs": [
    {
     "data": {
      "text/plain": [
       "\n",
       "Call:\n",
       "lm(formula = Glucose_Value ~ Reg_Insulin + PreBreak_Gluc + Reg_Insulin:PreBreak_Gluc + \n",
       "    Inter_Insulin + month_1 + month_2 + month_3 + month_4 + month_5 + \n",
       "    Unspec_Gluc + PreLun_Gluc + PreSup_Gluc, data = morn_data)\n",
       "\n",
       "Coefficients:\n",
       "              (Intercept)                Reg_Insulin  \n",
       "                 -6.08134                   -0.03183  \n",
       "            PreBreak_Gluc              Inter_Insulin  \n",
       "                170.38817                         NA  \n",
       "                  month_1                    month_2  \n",
       "                  6.30413                   13.36026  \n",
       "                  month_3                    month_4  \n",
       "                 -2.08872                   -0.34987  \n",
       "                  month_5                Unspec_Gluc  \n",
       "                       NA                         NA  \n",
       "              PreLun_Gluc                PreSup_Gluc  \n",
       "                174.48386                  184.47740  \n",
       "Reg_Insulin:PreBreak_Gluc  \n",
       "                  3.63781  \n"
      ]
     },
     "metadata": {},
     "output_type": "display_data"
    },
    {
     "data": {
      "text/html": [
       "<table>\n",
       "<thead><tr><th scope=col>r.squared</th><th scope=col>adj.r.squared</th><th scope=col>sigma</th><th scope=col>statistic</th><th scope=col>p.value</th><th scope=col>df</th><th scope=col>logLik</th><th scope=col>AIC</th><th scope=col>BIC</th><th scope=col>deviance</th><th scope=col>df.residual</th><th scope=col>nobs</th></tr></thead>\n",
       "<tbody>\n",
       "\t<tr><td>0.1128398   </td><td>0.09763138  </td><td>76.28371    </td><td>7.419544    </td><td>3.124199e-10</td><td>9           </td><td>-3073.021   </td><td>6168.041    </td><td>6215.146    </td><td>3055082     </td><td>525         </td><td>535         </td></tr>\n",
       "</tbody>\n",
       "</table>\n"
      ],
      "text/latex": [
       "\\begin{tabular}{r|llllllllllll}\n",
       " r.squared & adj.r.squared & sigma & statistic & p.value & df & logLik & AIC & BIC & deviance & df.residual & nobs\\\\\n",
       "\\hline\n",
       "\t 0.1128398    & 0.09763138   & 76.28371     & 7.419544     & 3.124199e-10 & 9            & -3073.021    & 6168.041     & 6215.146     & 3055082      & 525          & 535         \\\\\n",
       "\\end{tabular}\n"
      ],
      "text/markdown": [
       "\n",
       "| r.squared | adj.r.squared | sigma | statistic | p.value | df | logLik | AIC | BIC | deviance | df.residual | nobs |\n",
       "|---|---|---|---|---|---|---|---|---|---|---|---|\n",
       "| 0.1128398    | 0.09763138   | 76.28371     | 7.419544     | 3.124199e-10 | 9            | -3073.021    | 6168.041     | 6215.146     | 3055082      | 525          | 535          |\n",
       "\n"
      ],
      "text/plain": [
       "  r.squared adj.r.squared sigma    statistic p.value      df logLik    AIC     \n",
       "1 0.1128398 0.09763138    76.28371 7.419544  3.124199e-10 9  -3073.021 6168.041\n",
       "  BIC      deviance df.residual nobs\n",
       "1 6215.146 3055082  525         535 "
      ]
     },
     "metadata": {},
     "output_type": "display_data"
    }
   ],
   "source": [
    "#Check for interactions\n",
    "\n",
    "#Linear model prediction of breakfast/am glucose values (including an interaction between Regular Insulin and PreBreakfast glucose)\n",
    "mdl_mornInteraction <- lm(Glucose_Value ~ Reg_Insulin + PreBreak_Gluc + Reg_Insulin:PreBreak_Gluc + Inter_Insulin + month_1 + month_2 + month_3 + month_4 + month_5 + Unspec_Gluc + PreLun_Gluc + PreSup_Gluc, data = morn_data)\n",
    "mdl_mornInteraction\n",
    "glance(mdl_mornInteraction)"
   ]
  },
  {
   "cell_type": "code",
   "execution_count": 135,
   "metadata": {},
   "outputs": [],
   "source": [
    "#REPEAT ABOVE PROCESS FOR AFTERNOON PREDICTIONS"
   ]
  },
  {
   "cell_type": "code",
   "execution_count": 141,
   "metadata": {},
   "outputs": [
    {
     "data": {
      "text/plain": [
       "\n",
       "Call:\n",
       "lm(formula = Glucose_Value ~ Insulin_dose + Reg_Insulin + Inter_Insulin + \n",
       "    month_1 + month_2 + month_3 + month_4 + month_5 + Unspec_Gluc + \n",
       "    PreBreak_Gluc + PreLun_Gluc + PreSup_Gluc, data = aftnoon_data)\n",
       "\n",
       "Coefficients:\n",
       "  (Intercept)   Insulin_dose    Reg_Insulin  Inter_Insulin        month_1  \n",
       "      -93.076         19.577             NA             NA         28.765  \n",
       "      month_2        month_3        month_4        month_5    Unspec_Gluc  \n",
       "        7.523          9.759         25.360             NA             NA  \n",
       "PreBreak_Gluc    PreLun_Gluc    PreSup_Gluc  \n",
       "           NA        143.961         84.630  \n"
      ]
     },
     "metadata": {},
     "output_type": "display_data"
    },
    {
     "data": {
      "text/html": [
       "<table>\n",
       "<thead><tr><th scope=col>r.squared</th><th scope=col>adj.r.squared</th><th scope=col>sigma</th><th scope=col>statistic</th><th scope=col>p.value</th><th scope=col>df</th><th scope=col>logLik</th><th scope=col>AIC</th><th scope=col>BIC</th><th scope=col>deviance</th><th scope=col>df.residual</th><th scope=col>nobs</th></tr></thead>\n",
       "<tbody>\n",
       "\t<tr><td>0.3229112   </td><td>0.3035658   </td><td>59.03774    </td><td>16.69189    </td><td>5.747124e-18</td><td>7           </td><td>-1386.706   </td><td>2791.411    </td><td>2823.212    </td><td>853936.3    </td><td>245         </td><td>253         </td></tr>\n",
       "</tbody>\n",
       "</table>\n"
      ],
      "text/latex": [
       "\\begin{tabular}{r|llllllllllll}\n",
       " r.squared & adj.r.squared & sigma & statistic & p.value & df & logLik & AIC & BIC & deviance & df.residual & nobs\\\\\n",
       "\\hline\n",
       "\t 0.3229112    & 0.3035658    & 59.03774     & 16.69189     & 5.747124e-18 & 7            & -1386.706    & 2791.411     & 2823.212     & 853936.3     & 245          & 253         \\\\\n",
       "\\end{tabular}\n"
      ],
      "text/markdown": [
       "\n",
       "| r.squared | adj.r.squared | sigma | statistic | p.value | df | logLik | AIC | BIC | deviance | df.residual | nobs |\n",
       "|---|---|---|---|---|---|---|---|---|---|---|---|\n",
       "| 0.3229112    | 0.3035658    | 59.03774     | 16.69189     | 5.747124e-18 | 7            | -1386.706    | 2791.411     | 2823.212     | 853936.3     | 245          | 253          |\n",
       "\n"
      ],
      "text/plain": [
       "  r.squared adj.r.squared sigma    statistic p.value      df logLik    AIC     \n",
       "1 0.3229112 0.3035658     59.03774 16.69189  5.747124e-18 7  -1386.706 2791.411\n",
       "  BIC      deviance df.residual nobs\n",
       "1 2823.212 853936.3 245         253 "
      ]
     },
     "metadata": {},
     "output_type": "display_data"
    }
   ],
   "source": [
    "#Linear model prediction of AFTERNOON glucose levels (with all feature inputs)\n",
    "\n",
    "#Fit linear model for afternoon glucose doses \n",
    "aftnoon_data <- patient_train %>%\n",
    "    filter(time_day == \"afternoon\")\n",
    "\n",
    "mdl_aftnoon <- lm(Glucose_Value ~ Insulin_dose + Reg_Insulin + Inter_Insulin + month_1 + month_2 + month_3 + month_4 + month_5 + Unspec_Gluc + PreBreak_Gluc + PreLun_Gluc + PreSup_Gluc, data = aftnoon_data)\n",
    "mdl_aftnoon\n",
    "glance(mdl_aftnoon)"
   ]
  },
  {
   "cell_type": "code",
   "execution_count": 142,
   "metadata": {},
   "outputs": [
    {
     "name": "stderr",
     "output_type": "stream",
     "text": [
      "Warning message in predict.lm(mdl_aftnoon, patient_test):\n",
      "\"prediction from a rank-deficient fit may be misleading\""
     ]
    },
    {
     "data": {
      "text/html": [
       "<table>\n",
       "<thead><tr><th></th><th scope=col>Insulin_Code</th><th scope=col>Insulin_dose</th><th scope=col>pid</th><th scope=col>date1</th><th scope=col>datetime</th><th scope=col>Glucose_Code</th><th scope=col>Glucose_Value</th><th scope=col>time_period</th><th scope=col>month_1</th><th scope=col>month_2</th><th scope=col>...</th><th scope=col>PreLun_Gluc</th><th scope=col>PreSup_Gluc</th><th scope=col>Hypoglycaemia</th><th scope=col>hod</th><th scope=col>time_day</th><th scope=col>morn</th><th scope=col>aft_noon</th><th scope=col>evening</th><th scope=col>night</th><th scope=col>Glucose_Value1</th></tr></thead>\n",
       "<tbody>\n",
       "\t<tr><th scope=row>1</th><td>33                 </td><td> 9                 </td><td>D1                 </td><td>1991-04-21         </td><td>1991-04-21 09:09:00</td><td>58                 </td><td>100                </td><td>month_1            </td><td>1                  </td><td>0                  </td><td>...                </td><td>0                  </td><td>0                  </td><td>0                  </td><td> 9                 </td><td>morning            </td><td> 1                 </td><td> 0                 </td><td> 0                 </td><td> 0                 </td><td>111.87889          </td></tr>\n",
       "\t<tr><th scope=row>2</th><td>34                 </td><td>13                 </td><td>D1                 </td><td>1991-04-21         </td><td>1991-04-21 09:09:00</td><td>58                 </td><td>100                </td><td>month_1            </td><td>1                  </td><td>0                  </td><td>...                </td><td>0                  </td><td>0                  </td><td>0                  </td><td> 9                 </td><td>morning            </td><td> 1                 </td><td> 0                 </td><td> 0                 </td><td> 0                 </td><td>190.18534          </td></tr>\n",
       "\t<tr><th scope=row>3</th><td>33                 </td><td> 7                 </td><td>D1                 </td><td>1991-04-21         </td><td>1991-04-21 17:08:00</td><td>62                 </td><td>119                </td><td>month_1            </td><td>1                  </td><td>0                  </td><td>...                </td><td>0                  </td><td>1                  </td><td>0                  </td><td>17                 </td><td>afternoon          </td><td> 0                 </td><td> 1                 </td><td> 0                 </td><td> 0                 </td><td>157.35587          </td></tr>\n",
       "\t<tr><th scope=row>11</th><td>34                 </td><td>14                 </td><td>D1                 </td><td>1991-04-24         </td><td>1991-04-24 07:52:00</td><td>58                 </td><td>239                </td><td>month_1            </td><td>1                  </td><td>0                  </td><td>...                </td><td>0                  </td><td>0                  </td><td>0                  </td><td> 7                 </td><td>morning            </td><td> 1                 </td><td> 0                 </td><td> 0                 </td><td> 0                 </td><td>209.76195          </td></tr>\n",
       "\t<tr><th scope=row>12</th><td>33                 </td><td> 5                 </td><td>D1                 </td><td>1991-04-24         </td><td>1991-04-24 22:09:00</td><td>48                 </td><td>340                </td><td>month_1            </td><td>1                  </td><td>0                  </td><td>...                </td><td>0                  </td><td>0                  </td><td>0                  </td><td>22                 </td><td>NA                 </td><td>NA                 </td><td>NA                 </td><td>NA                 </td><td>NA                 </td><td> 33.57245          </td></tr>\n",
       "\t<tr><th scope=row>18</th><td>34                 </td><td>14                 </td><td>D1                 </td><td>1991-04-26         </td><td>1991-04-26 05:52:00</td><td>58                 </td><td> 77                </td><td>month_1            </td><td>1                  </td><td>0                  </td><td>...                </td><td>0                  </td><td>0                  </td><td>0                  </td><td> 5                 </td><td>nighttime          </td><td> 0                 </td><td> 0                 </td><td> 0                 </td><td> 1                 </td><td>209.76195          </td></tr>\n",
       "</tbody>\n",
       "</table>\n"
      ],
      "text/latex": [
       "\\begin{tabular}{r|llllllllllllllllllllllllllll}\n",
       "  & Insulin\\_Code & Insulin\\_dose & pid & date1 & datetime & Glucose\\_Code & Glucose\\_Value & time\\_period & month\\_1 & month\\_2 & ... & PreLun\\_Gluc & PreSup\\_Gluc & Hypoglycaemia & hod & time\\_day & morn & aft\\_noon & evening & night & Glucose\\_Value1\\\\\n",
       "\\hline\n",
       "\t1 & 33                  &  9                  & D1                  & 1991-04-21          & 1991-04-21 09:09:00 & 58                  & 100                 & month\\_1           & 1                   & 0                   & ...                 & 0                   & 0                   & 0                   &  9                  & morning             &  1                  &  0                  &  0                  &  0                  & 111.87889          \\\\\n",
       "\t2 & 34                  & 13                  & D1                  & 1991-04-21          & 1991-04-21 09:09:00 & 58                  & 100                 & month\\_1           & 1                   & 0                   & ...                 & 0                   & 0                   & 0                   &  9                  & morning             &  1                  &  0                  &  0                  &  0                  & 190.18534          \\\\\n",
       "\t3 & 33                  &  7                  & D1                  & 1991-04-21          & 1991-04-21 17:08:00 & 62                  & 119                 & month\\_1           & 1                   & 0                   & ...                 & 0                   & 1                   & 0                   & 17                  & afternoon           &  0                  &  1                  &  0                  &  0                  & 157.35587          \\\\\n",
       "\t11 & 34                  & 14                  & D1                  & 1991-04-24          & 1991-04-24 07:52:00 & 58                  & 239                 & month\\_1           & 1                   & 0                   & ...                 & 0                   & 0                   & 0                   &  7                  & morning             &  1                  &  0                  &  0                  &  0                  & 209.76195          \\\\\n",
       "\t12 & 33                  &  5                  & D1                  & 1991-04-24          & 1991-04-24 22:09:00 & 48                  & 340                 & month\\_1           & 1                   & 0                   & ...                 & 0                   & 0                   & 0                   & 22                  & NA                  & NA                  & NA                  & NA                  & NA                  &  33.57245          \\\\\n",
       "\t18 & 34                  & 14                  & D1                  & 1991-04-26          & 1991-04-26 05:52:00 & 58                  &  77                 & month\\_1           & 1                   & 0                   & ...                 & 0                   & 0                   & 0                   &  5                  & nighttime           &  0                  &  0                  &  0                  &  1                  & 209.76195          \\\\\n",
       "\\end{tabular}\n"
      ],
      "text/markdown": [
       "\n",
       "| <!--/--> | Insulin_Code | Insulin_dose | pid | date1 | datetime | Glucose_Code | Glucose_Value | time_period | month_1 | month_2 | ... | PreLun_Gluc | PreSup_Gluc | Hypoglycaemia | hod | time_day | morn | aft_noon | evening | night | Glucose_Value1 |\n",
       "|---|---|---|---|---|---|---|---|---|---|---|---|---|---|---|---|---|---|---|---|---|---|\n",
       "| 1 | 33                  |  9                  | D1                  | 1991-04-21          | 1991-04-21 09:09:00 | 58                  | 100                 | month_1             | 1                   | 0                   | ...                 | 0                   | 0                   | 0                   |  9                  | morning             |  1                  |  0                  |  0                  |  0                  | 111.87889           |\n",
       "| 2 | 34                  | 13                  | D1                  | 1991-04-21          | 1991-04-21 09:09:00 | 58                  | 100                 | month_1             | 1                   | 0                   | ...                 | 0                   | 0                   | 0                   |  9                  | morning             |  1                  |  0                  |  0                  |  0                  | 190.18534           |\n",
       "| 3 | 33                  |  7                  | D1                  | 1991-04-21          | 1991-04-21 17:08:00 | 62                  | 119                 | month_1             | 1                   | 0                   | ...                 | 0                   | 1                   | 0                   | 17                  | afternoon           |  0                  |  1                  |  0                  |  0                  | 157.35587           |\n",
       "| 11 | 34                  | 14                  | D1                  | 1991-04-24          | 1991-04-24 07:52:00 | 58                  | 239                 | month_1             | 1                   | 0                   | ...                 | 0                   | 0                   | 0                   |  7                  | morning             |  1                  |  0                  |  0                  |  0                  | 209.76195           |\n",
       "| 12 | 33                  |  5                  | D1                  | 1991-04-24          | 1991-04-24 22:09:00 | 48                  | 340                 | month_1             | 1                   | 0                   | ...                 | 0                   | 0                   | 0                   | 22                  | NA                  | NA                  | NA                  | NA                  | NA                  |  33.57245           |\n",
       "| 18 | 34                  | 14                  | D1                  | 1991-04-26          | 1991-04-26 05:52:00 | 58                  |  77                 | month_1             | 1                   | 0                   | ...                 | 0                   | 0                   | 0                   |  5                  | nighttime           |  0                  |  0                  |  0                  |  1                  | 209.76195           |\n",
       "\n"
      ],
      "text/plain": [
       "   Insulin_Code Insulin_dose pid date1      datetime            Glucose_Code\n",
       "1  33            9           D1  1991-04-21 1991-04-21 09:09:00 58          \n",
       "2  34           13           D1  1991-04-21 1991-04-21 09:09:00 58          \n",
       "3  33            7           D1  1991-04-21 1991-04-21 17:08:00 62          \n",
       "11 34           14           D1  1991-04-24 1991-04-24 07:52:00 58          \n",
       "12 33            5           D1  1991-04-24 1991-04-24 22:09:00 48          \n",
       "18 34           14           D1  1991-04-26 1991-04-26 05:52:00 58          \n",
       "   Glucose_Value time_period month_1 month_2 ... PreLun_Gluc PreSup_Gluc\n",
       "1  100           month_1     1       0       ... 0           0          \n",
       "2  100           month_1     1       0       ... 0           0          \n",
       "3  119           month_1     1       0       ... 0           1          \n",
       "11 239           month_1     1       0       ... 0           0          \n",
       "12 340           month_1     1       0       ... 0           0          \n",
       "18  77           month_1     1       0       ... 0           0          \n",
       "   Hypoglycaemia hod time_day  morn aft_noon evening night Glucose_Value1\n",
       "1  0              9  morning    1    0        0       0    111.87889     \n",
       "2  0              9  morning    1    0        0       0    190.18534     \n",
       "3  0             17  afternoon  0    1        0       0    157.35587     \n",
       "11 0              7  morning    1    0        0       0    209.76195     \n",
       "12 0             22  NA        NA   NA       NA      NA     33.57245     \n",
       "18 0              5  nighttime  0    0        0       1    209.76195     "
      ]
     },
     "metadata": {},
     "output_type": "display_data"
    }
   ],
   "source": [
    "#Make predictions using model fit to afternoon data\n",
    "\n",
    "predictions_afternoon <- patient_test %>%\n",
    "    mutate(Glucose_Value1 = predict(mdl_aftnoon, patient_test))\n",
    "\n",
    "head(predictions_afternoon)"
   ]
  },
  {
   "cell_type": "code",
   "execution_count": 138,
   "metadata": {},
   "outputs": [],
   "source": [
    "#REPEATING FOR EVENING DATA"
   ]
  },
  {
   "cell_type": "code",
   "execution_count": 143,
   "metadata": {},
   "outputs": [
    {
     "ename": "ERROR",
     "evalue": "Error in lm.fit(x, y, offset = offset, singular.ok = singular.ok, ...): 0 (non-NA) cases\n",
     "output_type": "error",
     "traceback": [
      "Error in lm.fit(x, y, offset = offset, singular.ok = singular.ok, ...): 0 (non-NA) cases\nTraceback:\n",
      "1. lm(Glucose_Value ~ Insulin_dose + Reg_Insulin + Inter_Insulin + \n .     month_1 + month_2 + month_3 + month_4 + month_5 + Unspec_Gluc + \n .     PreBreak_Gluc + PreLun_Gluc + PreSup_Gluc, data = evening_data)",
      "2. lm.fit(x, y, offset = offset, singular.ok = singular.ok, ...)",
      "3. stop(\"0 (non-NA) cases\")"
     ]
    }
   ],
   "source": [
    "#Linear model prediction of EVENING glucose levels (with all feature inputs)\n",
    "\n",
    "#Fit linear model for evening glucose doses \n",
    "evening_data <- patient_train %>%\n",
    "    filter(time_day == \"evening\")\n",
    "\n",
    "mdl_evening <- lm(Glucose_Value ~ Insulin_dose + Reg_Insulin + Inter_Insulin + month_1 + month_2 + month_3 + month_4 + month_5 + Unspec_Gluc + PreBreak_Gluc + PreLun_Gluc + PreSup_Gluc, data = evening_data)\n",
    "mdl_evening\n",
    "glance(mdl_evening)"
   ]
  },
  {
   "cell_type": "code",
   "execution_count": 145,
   "metadata": {},
   "outputs": [],
   "source": [
    "#REPEATING FOR NIGHTTIME DATA"
   ]
  },
  {
   "cell_type": "code",
   "execution_count": 146,
   "metadata": {},
   "outputs": [
    {
     "data": {
      "text/plain": [
       "\n",
       "Call:\n",
       "lm(formula = Glucose_Value ~ Insulin_dose + Reg_Insulin + Inter_Insulin + \n",
       "    month_1 + month_2 + month_3 + month_4 + month_5 + Unspec_Gluc + \n",
       "    PreBreak_Gluc + PreLun_Gluc + PreSup_Gluc, data = nighttime_data)\n",
       "\n",
       "Coefficients:\n",
       "  (Intercept)   Insulin_dose    Reg_Insulin  Inter_Insulin        month_1  \n",
       "       21.219          2.067         46.378             NA         69.669  \n",
       "      month_2        month_3        month_4        month_5    Unspec_Gluc  \n",
       "       41.898         44.449         20.991             NA             NA  \n",
       "PreBreak_Gluc    PreLun_Gluc    PreSup_Gluc  \n",
       "       75.169             NA             NA  \n"
      ]
     },
     "metadata": {},
     "output_type": "display_data"
    },
    {
     "data": {
      "text/html": [
       "<table>\n",
       "<thead><tr><th scope=col>r.squared</th><th scope=col>adj.r.squared</th><th scope=col>sigma</th><th scope=col>statistic</th><th scope=col>p.value</th><th scope=col>df</th><th scope=col>logLik</th><th scope=col>AIC</th><th scope=col>BIC</th><th scope=col>deviance</th><th scope=col>df.residual</th><th scope=col>nobs</th></tr></thead>\n",
       "<tbody>\n",
       "\t<tr><td>0.1558045 </td><td>-0.1918054</td><td>96.25027  </td><td>0.4482166 </td><td>0.8579093 </td><td>7         </td><td>-144.8265 </td><td>307.653   </td><td>318.6228  </td><td>157489.9  </td><td>17        </td><td>25        </td></tr>\n",
       "</tbody>\n",
       "</table>\n"
      ],
      "text/latex": [
       "\\begin{tabular}{r|llllllllllll}\n",
       " r.squared & adj.r.squared & sigma & statistic & p.value & df & logLik & AIC & BIC & deviance & df.residual & nobs\\\\\n",
       "\\hline\n",
       "\t 0.1558045  & -0.1918054 & 96.25027   & 0.4482166  & 0.8579093  & 7          & -144.8265  & 307.653    & 318.6228   & 157489.9   & 17         & 25        \\\\\n",
       "\\end{tabular}\n"
      ],
      "text/markdown": [
       "\n",
       "| r.squared | adj.r.squared | sigma | statistic | p.value | df | logLik | AIC | BIC | deviance | df.residual | nobs |\n",
       "|---|---|---|---|---|---|---|---|---|---|---|---|\n",
       "| 0.1558045  | -0.1918054 | 96.25027   | 0.4482166  | 0.8579093  | 7          | -144.8265  | 307.653    | 318.6228   | 157489.9   | 17         | 25         |\n",
       "\n"
      ],
      "text/plain": [
       "  r.squared adj.r.squared sigma    statistic p.value   df logLik    AIC    \n",
       "1 0.1558045 -0.1918054    96.25027 0.4482166 0.8579093 7  -144.8265 307.653\n",
       "  BIC      deviance df.residual nobs\n",
       "1 318.6228 157489.9 17          25  "
      ]
     },
     "metadata": {},
     "output_type": "display_data"
    }
   ],
   "source": [
    "#Linear model prediction of NIGHTTIME glucose levels (with all feature inputs)\n",
    "\n",
    "#Fit linear model for nighttime glucose doses \n",
    "nighttime_data <- patient_train %>%\n",
    "    filter(time_day == \"nighttime\")\n",
    "\n",
    "mdl_night <- lm(Glucose_Value ~ Insulin_dose + Reg_Insulin + Inter_Insulin + month_1 + month_2 + month_3 + month_4 + month_5 + Unspec_Gluc + PreBreak_Gluc + PreLun_Gluc + PreSup_Gluc, data = nighttime_data)\n",
    "mdl_night\n",
    "glance(mdl_night)"
   ]
  },
  {
   "cell_type": "code",
   "execution_count": 147,
   "metadata": {},
   "outputs": [
    {
     "name": "stderr",
     "output_type": "stream",
     "text": [
      "Warning message in predict.lm(mdl_night, patient_test):\n",
      "\"prediction from a rank-deficient fit may be misleading\""
     ]
    },
    {
     "data": {
      "text/html": [
       "<table>\n",
       "<thead><tr><th></th><th scope=col>Insulin_Code</th><th scope=col>Insulin_dose</th><th scope=col>pid</th><th scope=col>date1</th><th scope=col>datetime</th><th scope=col>Glucose_Code</th><th scope=col>Glucose_Value</th><th scope=col>time_period</th><th scope=col>month_1</th><th scope=col>month_2</th><th scope=col>...</th><th scope=col>PreLun_Gluc</th><th scope=col>PreSup_Gluc</th><th scope=col>Hypoglycaemia</th><th scope=col>hod</th><th scope=col>time_day</th><th scope=col>morn</th><th scope=col>aft_noon</th><th scope=col>evening</th><th scope=col>night</th><th scope=col>Glucose_Value1</th></tr></thead>\n",
       "<tbody>\n",
       "\t<tr><th scope=row>1</th><td>33                 </td><td> 9                 </td><td>D1                 </td><td>1991-04-21         </td><td>1991-04-21 09:09:00</td><td>58                 </td><td>100                </td><td>month_1            </td><td>1                  </td><td>0                  </td><td>...                </td><td>0                  </td><td>0                  </td><td>0                  </td><td> 9                 </td><td>morning            </td><td> 1                 </td><td> 0                 </td><td> 0                 </td><td> 0                 </td><td>231.0395           </td></tr>\n",
       "\t<tr><th scope=row>2</th><td>34                 </td><td>13                 </td><td>D1                 </td><td>1991-04-21         </td><td>1991-04-21 09:09:00</td><td>58                 </td><td>100                </td><td>month_1            </td><td>1                  </td><td>0                  </td><td>...                </td><td>0                  </td><td>0                  </td><td>0                  </td><td> 9                 </td><td>morning            </td><td> 1                 </td><td> 0                 </td><td> 0                 </td><td> 0                 </td><td>192.9302           </td></tr>\n",
       "\t<tr><th scope=row>3</th><td>33                 </td><td> 7                 </td><td>D1                 </td><td>1991-04-21         </td><td>1991-04-21 17:08:00</td><td>62                 </td><td>119                </td><td>month_1            </td><td>1                  </td><td>0                  </td><td>...                </td><td>0                  </td><td>1                  </td><td>0                  </td><td>17                 </td><td>afternoon          </td><td> 0                 </td><td> 1                 </td><td> 0                 </td><td> 0                 </td><td>151.7360           </td></tr>\n",
       "\t<tr><th scope=row>11</th><td>34                 </td><td>14                 </td><td>D1                 </td><td>1991-04-24         </td><td>1991-04-24 07:52:00</td><td>58                 </td><td>239                </td><td>month_1            </td><td>1                  </td><td>0                  </td><td>...                </td><td>0                  </td><td>0                  </td><td>0                  </td><td> 7                 </td><td>morning            </td><td> 1                 </td><td> 0                 </td><td> 0                 </td><td> 0                 </td><td>194.9973           </td></tr>\n",
       "\t<tr><th scope=row>12</th><td>33                 </td><td> 5                 </td><td>D1                 </td><td>1991-04-24         </td><td>1991-04-24 22:09:00</td><td>48                 </td><td>340                </td><td>month_1            </td><td>1                  </td><td>0                  </td><td>...                </td><td>0                  </td><td>0                  </td><td>0                  </td><td>22                 </td><td>NA                 </td><td>NA                 </td><td>NA                 </td><td>NA                 </td><td>NA                 </td><td>147.6017           </td></tr>\n",
       "\t<tr><th scope=row>18</th><td>34                 </td><td>14                 </td><td>D1                 </td><td>1991-04-26         </td><td>1991-04-26 05:52:00</td><td>58                 </td><td> 77                </td><td>month_1            </td><td>1                  </td><td>0                  </td><td>...                </td><td>0                  </td><td>0                  </td><td>0                  </td><td> 5                 </td><td>nighttime          </td><td> 0                 </td><td> 0                 </td><td> 0                 </td><td> 1                 </td><td>194.9973           </td></tr>\n",
       "</tbody>\n",
       "</table>\n"
      ],
      "text/latex": [
       "\\begin{tabular}{r|llllllllllllllllllllllllllll}\n",
       "  & Insulin\\_Code & Insulin\\_dose & pid & date1 & datetime & Glucose\\_Code & Glucose\\_Value & time\\_period & month\\_1 & month\\_2 & ... & PreLun\\_Gluc & PreSup\\_Gluc & Hypoglycaemia & hod & time\\_day & morn & aft\\_noon & evening & night & Glucose\\_Value1\\\\\n",
       "\\hline\n",
       "\t1 & 33                  &  9                  & D1                  & 1991-04-21          & 1991-04-21 09:09:00 & 58                  & 100                 & month\\_1           & 1                   & 0                   & ...                 & 0                   & 0                   & 0                   &  9                  & morning             &  1                  &  0                  &  0                  &  0                  & 231.0395           \\\\\n",
       "\t2 & 34                  & 13                  & D1                  & 1991-04-21          & 1991-04-21 09:09:00 & 58                  & 100                 & month\\_1           & 1                   & 0                   & ...                 & 0                   & 0                   & 0                   &  9                  & morning             &  1                  &  0                  &  0                  &  0                  & 192.9302           \\\\\n",
       "\t3 & 33                  &  7                  & D1                  & 1991-04-21          & 1991-04-21 17:08:00 & 62                  & 119                 & month\\_1           & 1                   & 0                   & ...                 & 0                   & 1                   & 0                   & 17                  & afternoon           &  0                  &  1                  &  0                  &  0                  & 151.7360           \\\\\n",
       "\t11 & 34                  & 14                  & D1                  & 1991-04-24          & 1991-04-24 07:52:00 & 58                  & 239                 & month\\_1           & 1                   & 0                   & ...                 & 0                   & 0                   & 0                   &  7                  & morning             &  1                  &  0                  &  0                  &  0                  & 194.9973           \\\\\n",
       "\t12 & 33                  &  5                  & D1                  & 1991-04-24          & 1991-04-24 22:09:00 & 48                  & 340                 & month\\_1           & 1                   & 0                   & ...                 & 0                   & 0                   & 0                   & 22                  & NA                  & NA                  & NA                  & NA                  & NA                  & 147.6017           \\\\\n",
       "\t18 & 34                  & 14                  & D1                  & 1991-04-26          & 1991-04-26 05:52:00 & 58                  &  77                 & month\\_1           & 1                   & 0                   & ...                 & 0                   & 0                   & 0                   &  5                  & nighttime           &  0                  &  0                  &  0                  &  1                  & 194.9973           \\\\\n",
       "\\end{tabular}\n"
      ],
      "text/markdown": [
       "\n",
       "| <!--/--> | Insulin_Code | Insulin_dose | pid | date1 | datetime | Glucose_Code | Glucose_Value | time_period | month_1 | month_2 | ... | PreLun_Gluc | PreSup_Gluc | Hypoglycaemia | hod | time_day | morn | aft_noon | evening | night | Glucose_Value1 |\n",
       "|---|---|---|---|---|---|---|---|---|---|---|---|---|---|---|---|---|---|---|---|---|---|\n",
       "| 1 | 33                  |  9                  | D1                  | 1991-04-21          | 1991-04-21 09:09:00 | 58                  | 100                 | month_1             | 1                   | 0                   | ...                 | 0                   | 0                   | 0                   |  9                  | morning             |  1                  |  0                  |  0                  |  0                  | 231.0395            |\n",
       "| 2 | 34                  | 13                  | D1                  | 1991-04-21          | 1991-04-21 09:09:00 | 58                  | 100                 | month_1             | 1                   | 0                   | ...                 | 0                   | 0                   | 0                   |  9                  | morning             |  1                  |  0                  |  0                  |  0                  | 192.9302            |\n",
       "| 3 | 33                  |  7                  | D1                  | 1991-04-21          | 1991-04-21 17:08:00 | 62                  | 119                 | month_1             | 1                   | 0                   | ...                 | 0                   | 1                   | 0                   | 17                  | afternoon           |  0                  |  1                  |  0                  |  0                  | 151.7360            |\n",
       "| 11 | 34                  | 14                  | D1                  | 1991-04-24          | 1991-04-24 07:52:00 | 58                  | 239                 | month_1             | 1                   | 0                   | ...                 | 0                   | 0                   | 0                   |  7                  | morning             |  1                  |  0                  |  0                  |  0                  | 194.9973            |\n",
       "| 12 | 33                  |  5                  | D1                  | 1991-04-24          | 1991-04-24 22:09:00 | 48                  | 340                 | month_1             | 1                   | 0                   | ...                 | 0                   | 0                   | 0                   | 22                  | NA                  | NA                  | NA                  | NA                  | NA                  | 147.6017            |\n",
       "| 18 | 34                  | 14                  | D1                  | 1991-04-26          | 1991-04-26 05:52:00 | 58                  |  77                 | month_1             | 1                   | 0                   | ...                 | 0                   | 0                   | 0                   |  5                  | nighttime           |  0                  |  0                  |  0                  |  1                  | 194.9973            |\n",
       "\n"
      ],
      "text/plain": [
       "   Insulin_Code Insulin_dose pid date1      datetime            Glucose_Code\n",
       "1  33            9           D1  1991-04-21 1991-04-21 09:09:00 58          \n",
       "2  34           13           D1  1991-04-21 1991-04-21 09:09:00 58          \n",
       "3  33            7           D1  1991-04-21 1991-04-21 17:08:00 62          \n",
       "11 34           14           D1  1991-04-24 1991-04-24 07:52:00 58          \n",
       "12 33            5           D1  1991-04-24 1991-04-24 22:09:00 48          \n",
       "18 34           14           D1  1991-04-26 1991-04-26 05:52:00 58          \n",
       "   Glucose_Value time_period month_1 month_2 ... PreLun_Gluc PreSup_Gluc\n",
       "1  100           month_1     1       0       ... 0           0          \n",
       "2  100           month_1     1       0       ... 0           0          \n",
       "3  119           month_1     1       0       ... 0           1          \n",
       "11 239           month_1     1       0       ... 0           0          \n",
       "12 340           month_1     1       0       ... 0           0          \n",
       "18  77           month_1     1       0       ... 0           0          \n",
       "   Hypoglycaemia hod time_day  morn aft_noon evening night Glucose_Value1\n",
       "1  0              9  morning    1    0        0       0    231.0395      \n",
       "2  0              9  morning    1    0        0       0    192.9302      \n",
       "3  0             17  afternoon  0    1        0       0    151.7360      \n",
       "11 0              7  morning    1    0        0       0    194.9973      \n",
       "12 0             22  NA        NA   NA       NA      NA    147.6017      \n",
       "18 0              5  nighttime  0    0        0       1    194.9973      "
      ]
     },
     "metadata": {},
     "output_type": "display_data"
    }
   ],
   "source": [
    "#Make predictions using model fit to nighttime data\n",
    "\n",
    "predictions_nighttime <- patient_test %>%\n",
    "    mutate(Glucose_Value1 = predict(mdl_night, patient_test))\n",
    "\n",
    "head(predictions_nighttime)"
   ]
  },
  {
   "cell_type": "code",
   "execution_count": 154,
   "metadata": {},
   "outputs": [
    {
     "name": "stderr",
     "output_type": "stream",
     "text": [
      "`geom_smooth()` using formula 'y ~ x'\n"
     ]
    },
    {
     "data": {
      "image/png": "[encoded data removed]",
      "text/plain": [
       "plot without title"
      ]
     },
     "metadata": {},
     "output_type": "display_data"
    }
   ],
   "source": [
    "#VISUALISING MULTIPLE MODELS - ••••• HAS NOT INCLUDED PREDICTIONS FOR MORNING OR NIGHTTIME\n",
    "\n",
    "ggplot(patient_test, aes(time_period, Glucose_Value, color = time_day)) + geom_point() + geom_smooth(method = \"lm\", se = FALSE) + \n",
    "\n",
    "#Adding points for the morning prediction coloured green, size = 3, shape = 15\n",
    "geom_point(data = predictions_morning, size = 3, color = \"green\", shape = 15) +\n",
    "\n",
    "#Adding points for the afternoon predictions coloured blue, size = 3, shape = 15\n",
    "geom_point(data = predictions_afternoon, size = 3, color = \"blue\", shape = 15) +\n",
    "\n",
    "#Adding points for the nighttime predictions coloured red, size = 3, shape = 15\n",
    "geom_point(data = predictions_nighttime, size = 3, color = \"red\", shape = 15)\n"
   ]
  },
  {
   "cell_type": "code",
   "execution_count": 155,
   "metadata": {},
   "outputs": [],
   "source": [
    "#CROSS VALIDATION PLAN"
   ]
  },
  {
   "cell_type": "code",
   "execution_count": 180,
   "metadata": {},
   "outputs": [
    {
     "name": "stdout",
     "output_type": "stream",
     "text": [
      "+ Fold1: intercept=TRUE \n"
     ]
    },
    {
     "name": "stderr",
     "output_type": "stream",
     "text": [
      "Warning message in predict.lm(modelFit, newdata):\n",
      "\"prediction from a rank-deficient fit may be misleading\""
     ]
    },
    {
     "name": "stdout",
     "output_type": "stream",
     "text": [
      "- Fold1: intercept=TRUE \n",
      "+ Fold2: intercept=TRUE \n"
     ]
    },
    {
     "name": "stderr",
     "output_type": "stream",
     "text": [
      "Warning message in predict.lm(modelFit, newdata):\n",
      "\"prediction from a rank-deficient fit may be misleading\""
     ]
    },
    {
     "name": "stdout",
     "output_type": "stream",
     "text": [
      "- Fold2: intercept=TRUE \n",
      "+ Fold3: intercept=TRUE \n"
     ]
    },
    {
     "name": "stderr",
     "output_type": "stream",
     "text": [
      "Warning message in predict.lm(modelFit, newdata):\n",
      "\"prediction from a rank-deficient fit may be misleading\""
     ]
    },
    {
     "name": "stdout",
     "output_type": "stream",
     "text": [
      "- Fold3: intercept=TRUE \n",
      "+ Fold4: intercept=TRUE \n"
     ]
    },
    {
     "name": "stderr",
     "output_type": "stream",
     "text": [
      "Warning message in predict.lm(modelFit, newdata):\n",
      "\"prediction from a rank-deficient fit may be misleading\""
     ]
    },
    {
     "name": "stdout",
     "output_type": "stream",
     "text": [
      "- Fold4: intercept=TRUE \n",
      "+ Fold5: intercept=TRUE \n"
     ]
    },
    {
     "name": "stderr",
     "output_type": "stream",
     "text": [
      "Warning message in predict.lm(modelFit, newdata):\n",
      "\"prediction from a rank-deficient fit may be misleading\""
     ]
    },
    {
     "name": "stdout",
     "output_type": "stream",
     "text": [
      "- Fold5: intercept=TRUE \n",
      "Aggregating results\n",
      "Fitting final model on full training set\n"
     ]
    },
    {
     "data": {
      "text/plain": [
       "Linear Regression \n",
       "\n",
       "3634 samples\n",
       "   7 predictor\n",
       "\n",
       "No pre-processing\n",
       "Resampling: Cross-Validated (5 fold) \n",
       "Summary of sample sizes: 2906, 2907, 2908, 2907, 2908 \n",
       "Resampling results:\n",
       "\n",
       "  RMSE      Rsquared   MAE     \n",
       "  66.57386  0.1844499  52.32171\n",
       "\n",
       "Tuning parameter 'intercept' was held constant at a value of TRUE"
      ]
     },
     "metadata": {},
     "output_type": "display_data"
    }
   ],
   "source": [
    "#Fit lm using 5-fold CV: model - REMOVED ALL DATASETS FOR \"MONTHS\" AND \"TIMES OF DAY\"\n",
    "\n",
    "cv_model <- train(\n",
    "        Glucose_Value ~ Insulin_dose + Reg_Insulin + Inter_Insulin + Unspec_Gluc + PreBreak_Gluc + PreLun_Gluc + PreSup_Gluc,\n",
    "        Diabetes_InsGlucose_buckets4,\n",
    "        method = \"lm\",\n",
    "        trControl = trainControl(\n",
    "            method = \"cv\",\n",
    "            number = 5,\n",
    "            verboseIter = TRUE)\n",
    ")\n",
    "\n",
    "#Print model\n",
    "cv_model"
   ]
  },
  {
   "cell_type": "code",
   "execution_count": 181,
   "metadata": {},
   "outputs": [],
   "source": [
    "#RANDOM FOREST MODELING "
   ]
  },
  {
   "cell_type": "code",
   "execution_count": 182,
   "metadata": {},
   "outputs": [
    {
     "name": "stdout",
     "output_type": "stream",
     "text": [
      "+ Fold1: mtry=2 \n",
      "- Fold1: mtry=2 \n",
      "+ Fold1: mtry=4 \n",
      "- Fold1: mtry=4 \n",
      "+ Fold1: mtry=7 \n",
      "- Fold1: mtry=7 \n",
      "+ Fold2: mtry=2 \n",
      "- Fold2: mtry=2 \n",
      "+ Fold2: mtry=4 \n",
      "- Fold2: mtry=4 \n",
      "+ Fold2: mtry=7 \n",
      "- Fold2: mtry=7 \n",
      "+ Fold3: mtry=2 \n",
      "- Fold3: mtry=2 \n",
      "+ Fold3: mtry=4 \n",
      "- Fold3: mtry=4 \n",
      "+ Fold3: mtry=7 \n",
      "- Fold3: mtry=7 \n",
      "+ Fold4: mtry=2 \n",
      "- Fold4: mtry=2 \n",
      "+ Fold4: mtry=4 \n",
      "- Fold4: mtry=4 \n",
      "+ Fold4: mtry=7 \n",
      "- Fold4: mtry=7 \n",
      "+ Fold5: mtry=2 \n",
      "- Fold5: mtry=2 \n",
      "+ Fold5: mtry=4 \n",
      "- Fold5: mtry=4 \n",
      "+ Fold5: mtry=7 \n",
      "- Fold5: mtry=7 \n",
      "Aggregating results\n",
      "Selecting tuning parameters\n",
      "Fitting mtry = 7 on full training set\n"
     ]
    },
    {
     "data": {
      "text/plain": [
       "Random Forest \n",
       "\n",
       "3634 samples\n",
       "   7 predictor\n",
       "\n",
       "No pre-processing\n",
       "Resampling: Cross-Validated (5 fold) \n",
       "Summary of sample sizes: 2907, 2907, 2907, 2907, 2908 \n",
       "Resampling results across tuning parameters:\n",
       "\n",
       "  mtry  RMSE      Rsquared   MAE     \n",
       "  2     64.69568  0.2689623  51.71167\n",
       "  4     60.47118  0.3327244  47.77535\n",
       "  7     59.90519  0.3424937  46.50488\n",
       "\n",
       "RMSE was used to select the optimal model using the smallest value.\n",
       "The final value used for the model was mtry = 7."
      ]
     },
     "metadata": {},
     "output_type": "display_data"
    }
   ],
   "source": [
    "#Fit a Random Forest Model using Cross Validation\n",
    "\n",
    "rf_model <- train(\n",
    "    Glucose_Value ~ Insulin_dose + Reg_Insulin + Inter_Insulin + Unspec_Gluc + PreBreak_Gluc + PreLun_Gluc + PreSup_Gluc,\n",
    "        Diabetes_InsGlucose_buckets4,\n",
    "        method = \"rf\",\n",
    "        trControl = trainControl(\n",
    "            method = \"cv\",\n",
    "            number = 5,\n",
    "            verboseIter = TRUE)\n",
    ")\n",
    "\n",
    "#Print model\n",
    "rf_model\n",
    "\n",
    "#RMSE values slightly lower (& r-squared values slightly higher) than outputs from the linear model. RF performs slightly better than the\n",
    "#linear model but is still not performing well overall."
   ]
  },
  {
   "cell_type": "markdown",
   "metadata": {},
   "source": [
    "RMSE values ***slightly lower*** (& r-squared values slightly higher) than outputs from the linear model. RF performs slightly better than the linear model but still not performing well overall."
   ]
  },
  {
   "cell_type": "code",
   "execution_count": 203,
   "metadata": {},
   "outputs": [
    {
     "data": {
      "text/html": [
       "<table>\n",
       "<thead><tr><th scope=col>Insulin_Code</th><th scope=col>Insulin_dose</th><th scope=col>pid</th><th scope=col>date1</th><th scope=col>datetime</th><th scope=col>Glucose_Code</th><th scope=col>Glucose_Value</th><th scope=col>time_period</th><th scope=col>month_1</th><th scope=col>month_2</th><th scope=col>...</th><th scope=col>PreLun_Gluc</th><th scope=col>PreSup_Gluc</th><th scope=col>Hypoglycaemia</th><th scope=col>hod</th><th scope=col>time_day</th><th scope=col>morn</th><th scope=col>aft_noon</th><th scope=col>evening</th><th scope=col>night</th><th scope=col>rf_predictions &lt;- predict(rf_model, Diabetes_InsGlucose_buckets4)</th></tr></thead>\n",
       "<tbody>\n",
       "\t<tr><td>33                 </td><td> 9                 </td><td>D1                 </td><td>1991-04-21         </td><td>1991-04-21 09:09:00</td><td>58                 </td><td>100                </td><td>month_1            </td><td>1                  </td><td>0                  </td><td>...                </td><td>0                  </td><td>0                  </td><td>0                  </td><td> 9                 </td><td>morning            </td><td>1                  </td><td>0                  </td><td>0                  </td><td>0                  </td><td>205.3425           </td></tr>\n",
       "\t<tr><td>34                 </td><td>13                 </td><td>D1                 </td><td>1991-04-21         </td><td>1991-04-21 09:09:00</td><td>58                 </td><td>100                </td><td>month_1            </td><td>1                  </td><td>0                  </td><td>...                </td><td>0                  </td><td>0                  </td><td>0                  </td><td> 9                 </td><td>morning            </td><td>1                  </td><td>0                  </td><td>0                  </td><td>0                  </td><td>180.5495           </td></tr>\n",
       "\t<tr><td>33                 </td><td> 7                 </td><td>D1                 </td><td>1991-04-21         </td><td>1991-04-21 17:08:00</td><td>62                 </td><td>119                </td><td>month_1            </td><td>1                  </td><td>0                  </td><td>...                </td><td>0                  </td><td>1                  </td><td>0                  </td><td>17                 </td><td>afternoon          </td><td>0                  </td><td>1                  </td><td>0                  </td><td>0                  </td><td>159.3421           </td></tr>\n",
       "\t<tr><td>33                 </td><td>10                 </td><td>D1                 </td><td>1991-04-22         </td><td>1991-04-22 07:35:00</td><td>58                 </td><td>216                </td><td>month_1            </td><td>1                  </td><td>0                  </td><td>...                </td><td>0                  </td><td>0                  </td><td>0                  </td><td> 7                 </td><td>morning            </td><td>1                  </td><td>0                  </td><td>0                  </td><td>0                  </td><td>176.1660           </td></tr>\n",
       "\t<tr><td>34                 </td><td>13                 </td><td>D1                 </td><td>1991-04-22         </td><td>1991-04-22 07:35:00</td><td>58                 </td><td>216                </td><td>month_1            </td><td>1                  </td><td>0                  </td><td>...                </td><td>0                  </td><td>0                  </td><td>0                  </td><td> 7                 </td><td>morning            </td><td>1                  </td><td>0                  </td><td>0                  </td><td>0                  </td><td>180.5495           </td></tr>\n",
       "\t<tr><td>33                 </td><td> 7                 </td><td>D1                 </td><td>1991-04-22         </td><td>1991-04-22 16:56:00</td><td>62                 </td><td>211                </td><td>month_1            </td><td>1                  </td><td>0                  </td><td>...                </td><td>0                  </td><td>1                  </td><td>0                  </td><td>16                 </td><td>afternoon          </td><td>0                  </td><td>1                  </td><td>0                  </td><td>0                  </td><td>159.3421           </td></tr>\n",
       "</tbody>\n",
       "</table>\n"
      ],
      "text/latex": [
       "\\begin{tabular}{r|llllllllllllllllllllllllllll}\n",
       " Insulin\\_Code & Insulin\\_dose & pid & date1 & datetime & Glucose\\_Code & Glucose\\_Value & time\\_period & month\\_1 & month\\_2 & ... & PreLun\\_Gluc & PreSup\\_Gluc & Hypoglycaemia & hod & time\\_day & morn & aft\\_noon & evening & night & rf\\_predictions <- predict(rf\\_model, Diabetes\\_InsGlucose\\_buckets4)\\\\\n",
       "\\hline\n",
       "\t 33                  &  9                  & D1                  & 1991-04-21          & 1991-04-21 09:09:00 & 58                  & 100                 & month\\_1           & 1                   & 0                   & ...                 & 0                   & 0                   & 0                   &  9                  & morning             & 1                   & 0                   & 0                   & 0                   & 205.3425           \\\\\n",
       "\t 34                  & 13                  & D1                  & 1991-04-21          & 1991-04-21 09:09:00 & 58                  & 100                 & month\\_1           & 1                   & 0                   & ...                 & 0                   & 0                   & 0                   &  9                  & morning             & 1                   & 0                   & 0                   & 0                   & 180.5495           \\\\\n",
       "\t 33                  &  7                  & D1                  & 1991-04-21          & 1991-04-21 17:08:00 & 62                  & 119                 & month\\_1           & 1                   & 0                   & ...                 & 0                   & 1                   & 0                   & 17                  & afternoon           & 0                   & 1                   & 0                   & 0                   & 159.3421           \\\\\n",
       "\t 33                  & 10                  & D1                  & 1991-04-22          & 1991-04-22 07:35:00 & 58                  & 216                 & month\\_1           & 1                   & 0                   & ...                 & 0                   & 0                   & 0                   &  7                  & morning             & 1                   & 0                   & 0                   & 0                   & 176.1660           \\\\\n",
       "\t 34                  & 13                  & D1                  & 1991-04-22          & 1991-04-22 07:35:00 & 58                  & 216                 & month\\_1           & 1                   & 0                   & ...                 & 0                   & 0                   & 0                   &  7                  & morning             & 1                   & 0                   & 0                   & 0                   & 180.5495           \\\\\n",
       "\t 33                  &  7                  & D1                  & 1991-04-22          & 1991-04-22 16:56:00 & 62                  & 211                 & month\\_1           & 1                   & 0                   & ...                 & 0                   & 1                   & 0                   & 16                  & afternoon           & 0                   & 1                   & 0                   & 0                   & 159.3421           \\\\\n",
       "\\end{tabular}\n"
      ],
      "text/markdown": [
       "\n",
       "| Insulin_Code | Insulin_dose | pid | date1 | datetime | Glucose_Code | Glucose_Value | time_period | month_1 | month_2 | ... | PreLun_Gluc | PreSup_Gluc | Hypoglycaemia | hod | time_day | morn | aft_noon | evening | night | rf_predictions <- predict(rf_model, Diabetes_InsGlucose_buckets4) |\n",
       "|---|---|---|---|---|---|---|---|---|---|---|---|---|---|---|---|---|---|---|---|---|\n",
       "| 33                  |  9                  | D1                  | 1991-04-21          | 1991-04-21 09:09:00 | 58                  | 100                 | month_1             | 1                   | 0                   | ...                 | 0                   | 0                   | 0                   |  9                  | morning             | 1                   | 0                   | 0                   | 0                   | 205.3425            |\n",
       "| 34                  | 13                  | D1                  | 1991-04-21          | 1991-04-21 09:09:00 | 58                  | 100                 | month_1             | 1                   | 0                   | ...                 | 0                   | 0                   | 0                   |  9                  | morning             | 1                   | 0                   | 0                   | 0                   | 180.5495            |\n",
       "| 33                  |  7                  | D1                  | 1991-04-21          | 1991-04-21 17:08:00 | 62                  | 119                 | month_1             | 1                   | 0                   | ...                 | 0                   | 1                   | 0                   | 17                  | afternoon           | 0                   | 1                   | 0                   | 0                   | 159.3421            |\n",
       "| 33                  | 10                  | D1                  | 1991-04-22          | 1991-04-22 07:35:00 | 58                  | 216                 | month_1             | 1                   | 0                   | ...                 | 0                   | 0                   | 0                   |  7                  | morning             | 1                   | 0                   | 0                   | 0                   | 176.1660            |\n",
       "| 34                  | 13                  | D1                  | 1991-04-22          | 1991-04-22 07:35:00 | 58                  | 216                 | month_1             | 1                   | 0                   | ...                 | 0                   | 0                   | 0                   |  7                  | morning             | 1                   | 0                   | 0                   | 0                   | 180.5495            |\n",
       "| 33                  |  7                  | D1                  | 1991-04-22          | 1991-04-22 16:56:00 | 62                  | 211                 | month_1             | 1                   | 0                   | ...                 | 0                   | 1                   | 0                   | 16                  | afternoon           | 0                   | 1                   | 0                   | 0                   | 159.3421            |\n",
       "\n"
      ],
      "text/plain": [
       "  Insulin_Code Insulin_dose pid date1      datetime            Glucose_Code\n",
       "1 33            9           D1  1991-04-21 1991-04-21 09:09:00 58          \n",
       "2 34           13           D1  1991-04-21 1991-04-21 09:09:00 58          \n",
       "3 33            7           D1  1991-04-21 1991-04-21 17:08:00 62          \n",
       "4 33           10           D1  1991-04-22 1991-04-22 07:35:00 58          \n",
       "5 34           13           D1  1991-04-22 1991-04-22 07:35:00 58          \n",
       "6 33            7           D1  1991-04-22 1991-04-22 16:56:00 62          \n",
       "  Glucose_Value time_period month_1 month_2 ... PreLun_Gluc PreSup_Gluc\n",
       "1 100           month_1     1       0       ... 0           0          \n",
       "2 100           month_1     1       0       ... 0           0          \n",
       "3 119           month_1     1       0       ... 0           1          \n",
       "4 216           month_1     1       0       ... 0           0          \n",
       "5 216           month_1     1       0       ... 0           0          \n",
       "6 211           month_1     1       0       ... 0           1          \n",
       "  Hypoglycaemia hod time_day  morn aft_noon evening night\n",
       "1 0              9  morning   1    0        0       0    \n",
       "2 0              9  morning   1    0        0       0    \n",
       "3 0             17  afternoon 0    1        0       0    \n",
       "4 0              7  morning   1    0        0       0    \n",
       "5 0              7  morning   1    0        0       0    \n",
       "6 0             16  afternoon 0    1        0       0    \n",
       "  rf_predictions <- predict(rf_model, Diabetes_InsGlucose_buckets4)\n",
       "1 205.3425                                                         \n",
       "2 180.5495                                                         \n",
       "3 159.3421                                                         \n",
       "4 176.1660                                                         \n",
       "5 180.5495                                                         \n",
       "6 159.3421                                                         "
      ]
     },
     "metadata": {},
     "output_type": "display_data"
    }
   ],
   "source": [
    "#Predict using trained random forest model on full dataset\n",
    "\n",
    "rf_mdl_pred <- Diabetes_InsGlucose_buckets4 %>%\n",
    "    mutate(rf_predictions <- predict(rf_model, Diabetes_InsGlucose_buckets4))\n",
    "\n",
    "head(rf_mdl_pred)"
   ]
  },
  {
   "cell_type": "code",
   "execution_count": 207,
   "metadata": {},
   "outputs": [
    {
     "name": "stderr",
     "output_type": "stream",
     "text": [
      "`geom_smooth()` using formula 'y ~ x'\n"
     ]
    },
    {
     "data": {
      "image/png": "[encoded data removed]",
      "text/plain": [
       "plot without title"
      ]
     },
     "metadata": {},
     "output_type": "display_data"
    }
   ],
   "source": [
    "#Graph plot of Random Forest predictions\n",
    "ggplot(Diabetes_InsGlucose_buckets4, aes(time_period, Glucose_Value, colour = time_day)) + geom_point() + geom_smooth(method = \"rf\", se = FALSE) +\n",
    "\n",
    "#add prediction points\n",
    "geom_point(data = rf_mdl_pred, size = 4, shape = 15, colour = \"pink\")"
   ]
  },
  {
   "cell_type": "code",
   "execution_count": 183,
   "metadata": {},
   "outputs": [
    {
     "name": "stdout",
     "output_type": "stream",
     "text": [
      "+ Fold1: mtry=2 \n",
      "- Fold1: mtry=2 \n",
      "+ Fold1: mtry=4 \n",
      "- Fold1: mtry=4 \n",
      "+ Fold1: mtry=7 \n",
      "- Fold1: mtry=7 \n",
      "+ Fold2: mtry=2 \n",
      "- Fold2: mtry=2 \n",
      "+ Fold2: mtry=4 \n",
      "- Fold2: mtry=4 \n",
      "+ Fold2: mtry=7 \n",
      "- Fold2: mtry=7 \n",
      "+ Fold3: mtry=2 \n",
      "- Fold3: mtry=2 \n",
      "+ Fold3: mtry=4 \n",
      "- Fold3: mtry=4 \n",
      "+ Fold3: mtry=7 \n",
      "- Fold3: mtry=7 \n",
      "+ Fold4: mtry=2 \n",
      "- Fold4: mtry=2 \n",
      "+ Fold4: mtry=4 \n",
      "- Fold4: mtry=4 \n",
      "+ Fold4: mtry=7 \n",
      "- Fold4: mtry=7 \n",
      "+ Fold5: mtry=2 \n",
      "- Fold5: mtry=2 \n",
      "+ Fold5: mtry=4 \n",
      "- Fold5: mtry=4 \n",
      "+ Fold5: mtry=7 \n",
      "- Fold5: mtry=7 \n",
      "Aggregating results\n",
      "Selecting tuning parameters\n",
      "Fitting mtry = 7 on full training set\n"
     ]
    },
    {
     "data": {
      "text/plain": [
       "Random Forest \n",
       "\n",
       "3634 samples\n",
       "   7 predictor\n",
       "\n",
       "No pre-processing\n",
       "Resampling: Cross-Validated (5 fold) \n",
       "Summary of sample sizes: 2907, 2907, 2906, 2908, 2908 \n",
       "Resampling results across tuning parameters:\n",
       "\n",
       "  mtry  RMSE      Rsquared   MAE     \n",
       "  2     64.80483  0.2671443  51.80602\n",
       "  4     60.44745  0.3325440  47.72512\n",
       "  7     59.72499  0.3448328  46.46155\n",
       "\n",
       "RMSE was used to select the optimal model using the smallest value.\n",
       "The final value used for the model was mtry = 7."
      ]
     },
     "metadata": {},
     "output_type": "display_data"
    }
   ],
   "source": [
    "#Fit Random Forest model with longer tune length - to explore more models. Increased \"mtry\" aka number of randomly selected variables used at \n",
    "#each split. Forests with higher tune length values less likely random\n",
    "\n",
    "rf_model2 <- train(\n",
    "    Glucose_Value ~ Insulin_dose + Reg_Insulin + Inter_Insulin + Unspec_Gluc + PreBreak_Gluc + PreLun_Gluc + PreSup_Gluc,\n",
    "    tuneLength = 3,\n",
    "    data = Diabetes_InsGlucose_buckets4,\n",
    "    method = \"rf\",\n",
    "    trControl = trainControl(\n",
    "        method = \"cv\",\n",
    "        number = 5,\n",
    "        verboseIter = TRUE)\n",
    ")\n",
    "\n",
    "rf_model2"
   ]
  },
  {
   "cell_type": "markdown",
   "metadata": {},
   "source": [
    "Nil changes with **increased** RF model tune length "
   ]
  },
  {
   "cell_type": "code",
   "execution_count": 184,
   "metadata": {},
   "outputs": [
    {
     "name": "stdout",
     "output_type": "stream",
     "text": [
      "+ Fold1: mtry=100 \n",
      "- Fold1: mtry=100 \n",
      "+ Fold2: mtry=100 \n",
      "- Fold2: mtry=100 \n",
      "+ Fold3: mtry=100 \n",
      "- Fold3: mtry=100 \n",
      "+ Fold4: mtry=100 \n",
      "- Fold4: mtry=100 \n",
      "+ Fold5: mtry=100 \n",
      "- Fold5: mtry=100 \n",
      "Aggregating results\n",
      "Fitting final model on full training set\n"
     ]
    },
    {
     "data": {
      "text/plain": [
       "Random Forest \n",
       "\n",
       "3634 samples\n",
       "   7 predictor\n",
       "\n",
       "No pre-processing\n",
       "Resampling: Cross-Validated (5 fold) \n",
       "Summary of sample sizes: 2908, 2907, 2907, 2907, 2907 \n",
       "Resampling results:\n",
       "\n",
       "  RMSE      Rsquared   MAE     \n",
       "  59.81445  0.3430518  46.53168\n",
       "\n",
       "Tuning parameter 'mtry' was held constant at a value of 100"
      ]
     },
     "metadata": {},
     "output_type": "display_data"
    }
   ],
   "source": [
    "#Fit another Random Forest model with custom tuning.\n",
    "\n",
    "#Define the tuning grid: tuneGrid\n",
    "tuneGrid <- data.frame(\n",
    "    .mtry = 100)\n",
    "    .splitrule = \"variance\"\n",
    "    .min.node.size = 5\n",
    "\n",
    "#Fit random forest: model\n",
    "rf_model3 <- train(\n",
    "    Glucose_Value ~ Insulin_dose + Reg_Insulin + Inter_Insulin + Unspec_Gluc + PreBreak_Gluc + PreLun_Gluc + PreSup_Gluc,\n",
    "    tuneGrid = tuneGrid,\n",
    "    data = Diabetes_InsGlucose_buckets4,\n",
    "    method = \"rf\",\n",
    "    trControl = trainControl(\n",
    "        method = \"cv\",\n",
    "        number = 5,\n",
    "        verboseIter = TRUE\n",
    "    )\n",
    ")\n",
    "\n",
    "rf_model3"
   ]
  },
  {
   "cell_type": "code",
   "execution_count": 185,
   "metadata": {},
   "outputs": [],
   "source": [
    "#GLMNET MODELING"
   ]
  },
  {
   "cell_type": "code",
   "execution_count": 186,
   "metadata": {},
   "outputs": [
    {
     "name": "stdout",
     "output_type": "stream",
     "text": [
      "+ Fold1: alpha=0.10, lambda=2.35 \n",
      "- Fold1: alpha=0.10, lambda=2.35 \n",
      "+ Fold1: alpha=0.55, lambda=2.35 \n",
      "- Fold1: alpha=0.55, lambda=2.35 \n",
      "+ Fold1: alpha=1.00, lambda=2.35 \n",
      "- Fold1: alpha=1.00, lambda=2.35 \n",
      "+ Fold2: alpha=0.10, lambda=2.35 \n",
      "- Fold2: alpha=0.10, lambda=2.35 \n",
      "+ Fold2: alpha=0.55, lambda=2.35 \n",
      "- Fold2: alpha=0.55, lambda=2.35 \n",
      "+ Fold2: alpha=1.00, lambda=2.35 \n",
      "- Fold2: alpha=1.00, lambda=2.35 \n",
      "+ Fold3: alpha=0.10, lambda=2.35 \n",
      "- Fold3: alpha=0.10, lambda=2.35 \n",
      "+ Fold3: alpha=0.55, lambda=2.35 \n",
      "- Fold3: alpha=0.55, lambda=2.35 \n",
      "+ Fold3: alpha=1.00, lambda=2.35 \n",
      "- Fold3: alpha=1.00, lambda=2.35 \n",
      "+ Fold4: alpha=0.10, lambda=2.35 \n",
      "- Fold4: alpha=0.10, lambda=2.35 \n",
      "+ Fold4: alpha=0.55, lambda=2.35 \n",
      "- Fold4: alpha=0.55, lambda=2.35 \n",
      "+ Fold4: alpha=1.00, lambda=2.35 \n",
      "- Fold4: alpha=1.00, lambda=2.35 \n",
      "+ Fold5: alpha=0.10, lambda=2.35 \n",
      "- Fold5: alpha=0.10, lambda=2.35 \n",
      "+ Fold5: alpha=0.55, lambda=2.35 \n",
      "- Fold5: alpha=0.55, lambda=2.35 \n",
      "+ Fold5: alpha=1.00, lambda=2.35 \n",
      "- Fold5: alpha=1.00, lambda=2.35 \n",
      "Aggregating results\n",
      "Selecting tuning parameters\n",
      "Fitting alpha = 1, lambda = 0.0235 on full training set\n"
     ]
    },
    {
     "data": {
      "text/plain": [
       "glmnet \n",
       "\n",
       "3634 samples\n",
       "   7 predictor\n",
       "\n",
       "No pre-processing\n",
       "Resampling: Cross-Validated (5 fold) \n",
       "Summary of sample sizes: 2908, 2906, 2907, 2908, 2907 \n",
       "Resampling results across tuning parameters:\n",
       "\n",
       "  alpha  lambda     RMSE      Rsquared   MAE     \n",
       "  0.10   0.0235028  66.54072  0.1856569  52.29832\n",
       "  0.10   0.2350280  66.56585  0.1854068  52.39262\n",
       "  0.10   2.3502801  67.60278  0.1729499  53.92177\n",
       "  0.55   0.0235028  66.54067  0.1856530  52.29521\n",
       "  0.55   0.2350280  66.56976  0.1853807  52.39043\n",
       "  0.55   2.3502801  68.37417  0.1597133  54.48738\n",
       "  1.00   0.0235028  66.54065  0.1856516  52.29261\n",
       "  1.00   0.2350280  66.57572  0.1853180  52.39807\n",
       "  1.00   2.3502801  69.95980  0.1156840  55.41538\n",
       "\n",
       "RMSE was used to select the optimal model using the smallest value.\n",
       "The final values used for the model were alpha = 1 and lambda = 0.0235028."
      ]
     },
     "metadata": {},
     "output_type": "display_data"
    }
   ],
   "source": [
    "glm_model <- train(\n",
    "    Glucose_Value ~ Insulin_dose + Reg_Insulin + Inter_Insulin + Unspec_Gluc + PreBreak_Gluc + PreLun_Gluc + PreSup_Gluc,\n",
    "    tuneLength = 3,\n",
    "    data = Diabetes_InsGlucose_buckets4,\n",
    "    method = \"glmnet\",\n",
    "    trControl = trainControl(\n",
    "        method = \"cv\",\n",
    "        number = 5,\n",
    "        verboseIter = TRUE\n",
    "    )\n",
    ")\n",
    "\n",
    "glm_model"
   ]
  },
  {
   "cell_type": "raw",
   "metadata": {},
   "source": [
    "#Fit a second GLM model with custom tuning\n",
    "\n",
    "#Define the tuning grid: tuneGrid\n",
    "tuneGrid <- expand.grid(\n",
    "    alpha = 0:1,\n",
    "    lambda = seq(0.0001, 1, length = 20)\n",
    ")\n",
    "\n",
    "#Fit GLM: model\n",
    "glm_model2 <- train(\n",
    "    Glucose_Value ~ Insulin_dose + Reg_Insulin + Inter_Insulin + Unspec_Gluc + PreBreak_Gluc + PreLun_Gluc + PreSup_Gluc,\n",
    "    tuneGrid = tuneGrid,\n",
    "    data = Diabetes_InsGlucose_buckets4,\n",
    "    method = \"glmnet\",\n",
    "    trControl = trainControl(\n",
    "        method = \"cv\",\n",
    "        number = 5,\n",
    "        verboseIter = TRUE\n",
    "    )\n",
    ")\n",
    "\n",
    "glm_model2"
   ]
  },
  {
   "cell_type": "code",
   "execution_count": 209,
   "metadata": {},
   "outputs": [
    {
     "data": {
      "text/html": [
       "<table>\n",
       "<thead><tr><th scope=col>Insulin_Code</th><th scope=col>Insulin_dose</th><th scope=col>pid</th><th scope=col>date1</th><th scope=col>datetime</th><th scope=col>Glucose_Code</th><th scope=col>Glucose_Value</th><th scope=col>time_period</th><th scope=col>month_1</th><th scope=col>month_2</th><th scope=col>...</th><th scope=col>PreLun_Gluc</th><th scope=col>PreSup_Gluc</th><th scope=col>Hypoglycaemia</th><th scope=col>hod</th><th scope=col>time_day</th><th scope=col>morn</th><th scope=col>aft_noon</th><th scope=col>evening</th><th scope=col>night</th><th scope=col>glm_predictions &lt;- predict(glm_model2, Diabetes_InsGlucose_buckets4)</th></tr></thead>\n",
       "<tbody>\n",
       "\t<tr><td>33                 </td><td> 9                 </td><td>D1                 </td><td>1991-04-21         </td><td>1991-04-21 09:09:00</td><td>58                 </td><td>100                </td><td>month_1            </td><td>1                  </td><td>0                  </td><td>...                </td><td>0                  </td><td>0                  </td><td>0                  </td><td> 9                 </td><td>morning            </td><td>1                  </td><td>0                  </td><td>0                  </td><td>0                  </td><td>175.3802           </td></tr>\n",
       "\t<tr><td>34                 </td><td>13                 </td><td>D1                 </td><td>1991-04-21         </td><td>1991-04-21 09:09:00</td><td>58                 </td><td>100                </td><td>month_1            </td><td>1                  </td><td>0                  </td><td>...                </td><td>0                  </td><td>0                  </td><td>0                  </td><td> 9                 </td><td>morning            </td><td>1                  </td><td>0                  </td><td>0                  </td><td>0                  </td><td>164.6503           </td></tr>\n",
       "\t<tr><td>33                 </td><td> 7                 </td><td>D1                 </td><td>1991-04-21         </td><td>1991-04-21 17:08:00</td><td>62                 </td><td>119                </td><td>month_1            </td><td>1                  </td><td>0                  </td><td>...                </td><td>0                  </td><td>1                  </td><td>0                  </td><td>17                 </td><td>afternoon          </td><td>0                  </td><td>1                  </td><td>0                  </td><td>0                  </td><td>160.3755           </td></tr>\n",
       "\t<tr><td>33                 </td><td>10                 </td><td>D1                 </td><td>1991-04-22         </td><td>1991-04-22 07:35:00</td><td>58                 </td><td>216                </td><td>month_1            </td><td>1                  </td><td>0                  </td><td>...                </td><td>0                  </td><td>0                  </td><td>0                  </td><td> 7                 </td><td>morning            </td><td>1                  </td><td>0                  </td><td>0                  </td><td>0                  </td><td>176.2305           </td></tr>\n",
       "\t<tr><td>34                 </td><td>13                 </td><td>D1                 </td><td>1991-04-22         </td><td>1991-04-22 07:35:00</td><td>58                 </td><td>216                </td><td>month_1            </td><td>1                  </td><td>0                  </td><td>...                </td><td>0                  </td><td>0                  </td><td>0                  </td><td> 7                 </td><td>morning            </td><td>1                  </td><td>0                  </td><td>0                  </td><td>0                  </td><td>164.6503           </td></tr>\n",
       "\t<tr><td>33                 </td><td> 7                 </td><td>D1                 </td><td>1991-04-22         </td><td>1991-04-22 16:56:00</td><td>62                 </td><td>211                </td><td>month_1            </td><td>1                  </td><td>0                  </td><td>...                </td><td>0                  </td><td>1                  </td><td>0                  </td><td>16                 </td><td>afternoon          </td><td>0                  </td><td>1                  </td><td>0                  </td><td>0                  </td><td>160.3755           </td></tr>\n",
       "</tbody>\n",
       "</table>\n"
      ],
      "text/latex": [
       "\\begin{tabular}{r|llllllllllllllllllllllllllll}\n",
       " Insulin\\_Code & Insulin\\_dose & pid & date1 & datetime & Glucose\\_Code & Glucose\\_Value & time\\_period & month\\_1 & month\\_2 & ... & PreLun\\_Gluc & PreSup\\_Gluc & Hypoglycaemia & hod & time\\_day & morn & aft\\_noon & evening & night & glm\\_predictions <- predict(glm\\_model2, Diabetes\\_InsGlucose\\_buckets4)\\\\\n",
       "\\hline\n",
       "\t 33                  &  9                  & D1                  & 1991-04-21          & 1991-04-21 09:09:00 & 58                  & 100                 & month\\_1           & 1                   & 0                   & ...                 & 0                   & 0                   & 0                   &  9                  & morning             & 1                   & 0                   & 0                   & 0                   & 175.3802           \\\\\n",
       "\t 34                  & 13                  & D1                  & 1991-04-21          & 1991-04-21 09:09:00 & 58                  & 100                 & month\\_1           & 1                   & 0                   & ...                 & 0                   & 0                   & 0                   &  9                  & morning             & 1                   & 0                   & 0                   & 0                   & 164.6503           \\\\\n",
       "\t 33                  &  7                  & D1                  & 1991-04-21          & 1991-04-21 17:08:00 & 62                  & 119                 & month\\_1           & 1                   & 0                   & ...                 & 0                   & 1                   & 0                   & 17                  & afternoon           & 0                   & 1                   & 0                   & 0                   & 160.3755           \\\\\n",
       "\t 33                  & 10                  & D1                  & 1991-04-22          & 1991-04-22 07:35:00 & 58                  & 216                 & month\\_1           & 1                   & 0                   & ...                 & 0                   & 0                   & 0                   &  7                  & morning             & 1                   & 0                   & 0                   & 0                   & 176.2305           \\\\\n",
       "\t 34                  & 13                  & D1                  & 1991-04-22          & 1991-04-22 07:35:00 & 58                  & 216                 & month\\_1           & 1                   & 0                   & ...                 & 0                   & 0                   & 0                   &  7                  & morning             & 1                   & 0                   & 0                   & 0                   & 164.6503           \\\\\n",
       "\t 33                  &  7                  & D1                  & 1991-04-22          & 1991-04-22 16:56:00 & 62                  & 211                 & month\\_1           & 1                   & 0                   & ...                 & 0                   & 1                   & 0                   & 16                  & afternoon           & 0                   & 1                   & 0                   & 0                   & 160.3755           \\\\\n",
       "\\end{tabular}\n"
      ],
      "text/markdown": [
       "\n",
       "| Insulin_Code | Insulin_dose | pid | date1 | datetime | Glucose_Code | Glucose_Value | time_period | month_1 | month_2 | ... | PreLun_Gluc | PreSup_Gluc | Hypoglycaemia | hod | time_day | morn | aft_noon | evening | night | glm_predictions <- predict(glm_model2, Diabetes_InsGlucose_buckets4) |\n",
       "|---|---|---|---|---|---|---|---|---|---|---|---|---|---|---|---|---|---|---|---|---|\n",
       "| 33                  |  9                  | D1                  | 1991-04-21          | 1991-04-21 09:09:00 | 58                  | 100                 | month_1             | 1                   | 0                   | ...                 | 0                   | 0                   | 0                   |  9                  | morning             | 1                   | 0                   | 0                   | 0                   | 175.3802            |\n",
       "| 34                  | 13                  | D1                  | 1991-04-21          | 1991-04-21 09:09:00 | 58                  | 100                 | month_1             | 1                   | 0                   | ...                 | 0                   | 0                   | 0                   |  9                  | morning             | 1                   | 0                   | 0                   | 0                   | 164.6503            |\n",
       "| 33                  |  7                  | D1                  | 1991-04-21          | 1991-04-21 17:08:00 | 62                  | 119                 | month_1             | 1                   | 0                   | ...                 | 0                   | 1                   | 0                   | 17                  | afternoon           | 0                   | 1                   | 0                   | 0                   | 160.3755            |\n",
       "| 33                  | 10                  | D1                  | 1991-04-22          | 1991-04-22 07:35:00 | 58                  | 216                 | month_1             | 1                   | 0                   | ...                 | 0                   | 0                   | 0                   |  7                  | morning             | 1                   | 0                   | 0                   | 0                   | 176.2305            |\n",
       "| 34                  | 13                  | D1                  | 1991-04-22          | 1991-04-22 07:35:00 | 58                  | 216                 | month_1             | 1                   | 0                   | ...                 | 0                   | 0                   | 0                   |  7                  | morning             | 1                   | 0                   | 0                   | 0                   | 164.6503            |\n",
       "| 33                  |  7                  | D1                  | 1991-04-22          | 1991-04-22 16:56:00 | 62                  | 211                 | month_1             | 1                   | 0                   | ...                 | 0                   | 1                   | 0                   | 16                  | afternoon           | 0                   | 1                   | 0                   | 0                   | 160.3755            |\n",
       "\n"
      ],
      "text/plain": [
       "  Insulin_Code Insulin_dose pid date1      datetime            Glucose_Code\n",
       "1 33            9           D1  1991-04-21 1991-04-21 09:09:00 58          \n",
       "2 34           13           D1  1991-04-21 1991-04-21 09:09:00 58          \n",
       "3 33            7           D1  1991-04-21 1991-04-21 17:08:00 62          \n",
       "4 33           10           D1  1991-04-22 1991-04-22 07:35:00 58          \n",
       "5 34           13           D1  1991-04-22 1991-04-22 07:35:00 58          \n",
       "6 33            7           D1  1991-04-22 1991-04-22 16:56:00 62          \n",
       "  Glucose_Value time_period month_1 month_2 ... PreLun_Gluc PreSup_Gluc\n",
       "1 100           month_1     1       0       ... 0           0          \n",
       "2 100           month_1     1       0       ... 0           0          \n",
       "3 119           month_1     1       0       ... 0           1          \n",
       "4 216           month_1     1       0       ... 0           0          \n",
       "5 216           month_1     1       0       ... 0           0          \n",
       "6 211           month_1     1       0       ... 0           1          \n",
       "  Hypoglycaemia hod time_day  morn aft_noon evening night\n",
       "1 0              9  morning   1    0        0       0    \n",
       "2 0              9  morning   1    0        0       0    \n",
       "3 0             17  afternoon 0    1        0       0    \n",
       "4 0              7  morning   1    0        0       0    \n",
       "5 0              7  morning   1    0        0       0    \n",
       "6 0             16  afternoon 0    1        0       0    \n",
       "  glm_predictions <- predict(glm_model2, Diabetes_InsGlucose_buckets4)\n",
       "1 175.3802                                                            \n",
       "2 164.6503                                                            \n",
       "3 160.3755                                                            \n",
       "4 176.2305                                                            \n",
       "5 164.6503                                                            \n",
       "6 160.3755                                                            "
      ]
     },
     "metadata": {},
     "output_type": "display_data"
    }
   ],
   "source": [
    "#Predict using trained GLM NET model and full dataset\n",
    "\n",
    "#Predict using trained GLMN ET model on full dataset\n",
    "\n",
    "glm_mdl_pred <- Diabetes_InsGlucose_buckets4 %>%\n",
    "    mutate(glm_predictions <- predict(glm_model2, Diabetes_InsGlucose_buckets4))\n",
    "\n",
    "head(glm_mdl_pred)"
   ]
  },
  {
   "cell_type": "code",
   "execution_count": 212,
   "metadata": {},
   "outputs": [
    {
     "name": "stderr",
     "output_type": "stream",
     "text": [
      "`geom_smooth()` using formula 'y ~ x'\n"
     ]
    },
    {
     "data": {
      "image/png": "[encoded data removed]",
      "text/plain": [
       "plot without title"
      ]
     },
     "metadata": {},
     "output_type": "display_data"
    }
   ],
   "source": [
    "#Graph plot of GLM NET predictions\n",
    "ggplot(Diabetes_InsGlucose_buckets4, aes(time_period, Glucose_Value, colour = time_day)) + geom_point() + geom_smooth(method = \"glmnet\", se = FALSE) +\n",
    "\n",
    "#add prediction points\n",
    "geom_point(data = glm_mdl_pred, size = 4, shape = 15, colour = \"violet\")"
   ]
  }
 ],
 "metadata": {
  "kernelspec": {
   "display_name": "R",
   "language": "R",
   "name": "ir"
  },
  "language_info": {
   "codemirror_mode": "r",
   "file_extension": ".r",
   "mimetype": "text/x-r-source",
   "name": "R",
   "pygments_lexer": "r",
   "version": "3.6.1"
  }
 },
 "nbformat": 4,
 "nbformat_minor": 4
}
