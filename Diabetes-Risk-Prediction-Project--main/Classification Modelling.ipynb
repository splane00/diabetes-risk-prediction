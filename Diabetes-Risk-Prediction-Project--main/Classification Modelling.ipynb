{
 "cells": [
  {
   "cell_type": "code",
   "execution_count": 1,
   "metadata": {},
   "outputs": [],
   "source": [
    "#####FINAL #####\n",
    "# This script pulls in Diabetes Patient Datasets from UCL ML Repository, with a focus on building and testing classification models that will \n",
    "# determine which patients are at highest risk of an avoidable hospital admission, given the features available in the datasets. "
   ]
  },
  {
   "cell_type": "markdown",
   "metadata": {},
   "source": [
    "<img src=\"ClassificationModeling.png\" style=\"width:1000px; height:300px\" />"
   ]
  },
  {
   "cell_type": "code",
   "execution_count": 149,
   "metadata": {},
   "outputs": [
    {
     "name": "stderr",
     "output_type": "stream",
     "text": [
      "Updating HTML index of packages in '.Library'\n",
      "Making 'packages.html' ... done\n",
      "Updating HTML index of packages in '.Library'\n",
      "Making 'packages.html' ... done\n",
      "Updating HTML index of packages in '.Library'\n",
      "Making 'packages.html' ... done\n",
      "Updating HTML index of packages in '.Library'\n",
      "Making 'packages.html' ... done\n",
      "Updating HTML index of packages in '.Library'\n",
      "Making 'packages.html' ... done\n",
      "Updating HTML index of packages in '.Library'\n",
      "Making 'packages.html' ... done\n"
     ]
    }
   ],
   "source": [
    "#Import Libraries\n",
    "library(dplyr)\n",
    "library(ggplot2)\n",
    "library(tidyr)\n",
    "library(caret)\n",
    "library(lubridate)\n",
    "library(purrr)\n",
    "library(mgcv)\n",
    "library(rpart)\n",
    "install.packages(\"sigr\"); library(sigr)\n",
    "library(tidyverse)\n",
    "library(tidyselect)\n",
    "library(utils)\n",
    "library(base)\n",
    "install.packages(\"broom\"); library(broom)\n",
    "library(cluster)\n",
    "library(ellipsis)\n",
    "library(graphics)\n",
    "library(grDevices)\n",
    "library(highr)\n",
    "library(lattice)\n",
    "library(methods)\n",
    "library(nlme)\n",
    "library(readr)\n",
    "library(readxl)\n",
    "library(stats)\n",
    "library(stringr)\n",
    "install.packages(\"vtreat\"); library(vtreat)\n",
    "library(tibble)\n",
    "install.packages(\"xgboost\"); library(xgboost)\n",
    "library(randomForest)\n",
    "library(magrittr)\n",
    "install.packages(\"Metrics\"); library(Metrics)\n",
    "install.packages(\"assertive\"); library(assertive)\n",
    "library(lubridate)"
   ]
  },
  {
   "cell_type": "code",
   "execution_count": 151,
   "metadata": {},
   "outputs": [
    {
     "name": "stderr",
     "output_type": "stream",
     "text": [
      "Updating HTML index of packages in '.Library'\n",
      "Making 'packages.html' ... done\n",
      "Updating HTML index of packages in '.Library'\n",
      "Making 'packages.html' ... done\n",
      "Updating HTML index of packages in '.Library'\n",
      "Making 'packages.html' ... done\n",
      "Updating HTML index of packages in '.Library'\n",
      "Making 'packages.html' ... done\n",
      "Updating HTML index of packages in '.Library'\n",
      "Making 'packages.html' ... done\n",
      "Updating HTML index of packages in '.Library'\n",
      "Making 'packages.html' ... done\n",
      "Updating HTML index of packages in '.Library'\n",
      "Making 'packages.html' ... done\n",
      "Updating HTML index of packages in '.Library'\n",
      "Making 'packages.html' ... done\n",
      "Updating HTML index of packages in '.Library'\n",
      "Making 'packages.html' ... done\n",
      "For binary classification, the first factor level is assumed to be the event.\n",
      "Use the argument `event_level = \"second\"` to alter this as needed.\n",
      "\n",
      "Attaching package: 'yardstick'\n",
      "\n",
      "The following objects are masked from 'package:Metrics':\n",
      "\n",
      "    accuracy, mae, mape, mase, precision, recall, rmse, smape\n",
      "\n",
      "The following object is masked from 'package:readr':\n",
      "\n",
      "    spec\n",
      "\n",
      "The following objects are masked from 'package:caret':\n",
      "\n",
      "    precision, recall, sensitivity, specificity\n",
      "\n",
      "\n",
      "Attaching package: 'parsnip'\n",
      "\n",
      "The following object is masked from 'package:vtreat':\n",
      "\n",
      "    fit\n",
      "\n",
      "Updating HTML index of packages in '.Library'\n",
      "Making 'packages.html' ... done\n"
     ]
    },
    {
     "ename": "ERROR",
     "evalue": "Error in library(brotools): there is no package called 'brotools'\n",
     "output_type": "error",
     "traceback": [
      "Error in library(brotools): there is no package called 'brotools'\nTraceback:\n",
      "1. library(brotools)"
     ]
    }
   ],
   "source": [
    "install.packages(\"vtreat\"); library(vtreat)\n",
    "install.packages(\"chron\"); library(chron)\n",
    "install.packages(\"data.table\"); library(data.table)\n",
    "install.packages(\"binr\"); library(binr)\n",
    "install.packages(\"psych\"); library(psych)\n",
    "install.packages(\"ggfortify\"); library(ggfortify)\n",
    "install.packages(\"tibble\"); library(tibble)\n",
    "install.packages(\"mlbench\"); library(mlbench)\n",
    "install.packages(\"yardstick\"); library(yardstick)\n",
    "library(rpart) \n",
    "library(parsnip)\n",
    "install.packages(\"wrapr\"); library(wrapr)\n",
    "library(brotools)\n",
    "install.packages(\"rsample\"); library(rsample)\n",
    "install.packages(\"e1071\"); library(e1071)\n",
    "install.packages(\"elasticnet\"); library(elasticnet)\n",
    "install.packages(\"glmnet\"); library(glmnet)"
   ]
  },
  {
   "cell_type": "code",
   "execution_count": 346,
   "metadata": {},
   "outputs": [
    {
     "name": "stderr",
     "output_type": "stream",
     "text": [
      "Updating HTML index of packages in '.Library'\n",
      "Making 'packages.html' ... done\n",
      "also installing the dependency 'bitops'\n",
      "\n",
      "Updating HTML index of packages in '.Library'\n",
      "Making 'packages.html' ... done\n"
     ]
    }
   ],
   "source": [
    "install.packages(\"e1071\")\n",
    "install.packages(\"caTools\")"
   ]
  },
  {
   "cell_type": "code",
   "execution_count": 372,
   "metadata": {},
   "outputs": [
    {
     "name": "stderr",
     "output_type": "stream",
     "text": [
      "Updating HTML index of packages in '.Library'\n",
      "Making 'packages.html' ... done\n"
     ]
    }
   ],
   "source": [
    "install.packages(\"vip\")"
   ]
  },
  {
   "cell_type": "code",
   "execution_count": 402,
   "metadata": {},
   "outputs": [
    {
     "name": "stderr",
     "output_type": "stream",
     "text": [
      "Updating HTML index of packages in '.Library'\n",
      "Making 'packages.html' ... done\n"
     ]
    }
   ],
   "source": [
    "install.packages(\"rsample\"); library(rsample)"
   ]
  },
  {
   "cell_type": "code",
   "execution_count": 407,
   "metadata": {},
   "outputs": [
    {
     "name": "stderr",
     "output_type": "stream",
     "text": [
      "Updating HTML index of packages in '.Library'\n",
      "Making 'packages.html' ... done\n"
     ]
    }
   ],
   "source": [
    "install.packages(\"tune\")"
   ]
  },
  {
   "cell_type": "code",
   "execution_count": 409,
   "metadata": {},
   "outputs": [
    {
     "name": "stderr",
     "output_type": "stream",
     "text": [
      "Updating HTML index of packages in '.Library'\n",
      "Making 'packages.html' ... done\n",
      "Updating HTML index of packages in '.Library'\n",
      "Making 'packages.html' ... done\n",
      "Updating HTML index of packages in '.Library'\n",
      "Making 'packages.html' ... done\n",
      "Updating HTML index of packages in '.Library'\n",
      "Making 'packages.html' ... done\n",
      "Warning message:\n",
      "\"package 'workflow' is not available (for R version 3.6.1)\"Updating HTML index of packages in '.Library'\n",
      "Making 'packages.html' ... done\n"
     ]
    }
   ],
   "source": [
    "install.packages(\"dials\")\n",
    "install.packages(\"infer\")\n",
    "install.packages(\"modeldata\")\n",
    "install.packages(\"recipes\")\n",
    "install.packages(\"workflow\")\n",
    "install.packages(\"yardstick\")"
   ]
  },
  {
   "cell_type": "code",
   "execution_count": 416,
   "metadata": {},
   "outputs": [
    {
     "name": "stderr",
     "output_type": "stream",
     "text": [
      "Updating HTML index of packages in '.Library'\n",
      "Making 'packages.html' ... done\n",
      "Type 'citation(\"pROC\")' for a citation.\n",
      "\n",
      "Attaching package: 'pROC'\n",
      "\n",
      "The following object is masked from 'package:Metrics':\n",
      "\n",
      "    auc\n",
      "\n",
      "The following objects are masked from 'package:stats':\n",
      "\n",
      "    cov, smooth, var\n",
      "\n"
     ]
    }
   ],
   "source": [
    "install.packages(\"pROC\"); library(pROC)"
   ]
  },
  {
   "cell_type": "code",
   "execution_count": 419,
   "metadata": {},
   "outputs": [
    {
     "name": "stderr",
     "output_type": "stream",
     "text": [
      "Updating HTML index of packages in '.Library'\n",
      "Making 'packages.html' ... done\n",
      "AUC 0.3.0\n",
      "Type AUCNews() to see the change log and ?AUC to get an overview.\n",
      "\n",
      "Attaching package: 'AUC'\n",
      "\n",
      "The following objects are masked from 'package:pROC':\n",
      "\n",
      "    auc, roc\n",
      "\n",
      "The following objects are masked from 'package:yardstick':\n",
      "\n",
      "    accuracy, sensitivity, specificity\n",
      "\n",
      "The following objects are masked from 'package:Metrics':\n",
      "\n",
      "    accuracy, auc\n",
      "\n",
      "The following objects are masked from 'package:caret':\n",
      "\n",
      "    sensitivity, specificity\n",
      "\n"
     ]
    }
   ],
   "source": [
    "install.packages(\"AUC\"); library(AUC)"
   ]
  },
  {
   "cell_type": "code",
   "execution_count": 452,
   "metadata": {},
   "outputs": [
    {
     "name": "stderr",
     "output_type": "stream",
     "text": [
      "Updating HTML index of packages in '.Library'\n",
      "Making 'packages.html' ... done\n"
     ]
    }
   ],
   "source": [
    "install.packages(\"caret\"); library(caret)"
   ]
  },
  {
   "cell_type": "code",
   "execution_count": 6,
   "metadata": {},
   "outputs": [],
   "source": [
    "# DEFINE HELPER FUNCTIONS"
   ]
  },
  {
   "cell_type": "code",
   "execution_count": 17,
   "metadata": {},
   "outputs": [
    {
     "name": "stdout",
     "output_type": "stream",
     "text": [
      "function(filename) {\n",
      "    #loads text into dataframe\n",
      "    return (read.table(filename, header = FALSE, sep = \"\", stringsAsFactors = FALSE, col.names = c(\"Date\", \"Time\", \"Code\", \"Value\")))\n",
      "}\n"
     ]
    }
   ],
   "source": [
    "# 1\n",
    "load_file <- function(filename) {\n",
    "    #loads text into dataframe\n",
    "    return (read.table(filename, header = FALSE, sep = \"\", stringsAsFactors = FALSE, col.names = c(\"Date\", \"Time\", \"Code\", \"Value\")))\n",
    "}\n",
    "\n",
    "print(load_file)"
   ]
  },
  {
   "cell_type": "code",
   "execution_count": 10,
   "metadata": {},
   "outputs": [],
   "source": [
    "#Loading files"
   ]
  },
  {
   "cell_type": "code",
   "execution_count": 426,
   "metadata": {},
   "outputs": [
    {
     "data": {
      "text/html": [
       "<table>\n",
       "<thead><tr><th scope=col>Date</th><th scope=col>Time</th><th scope=col>Code</th><th scope=col>Value</th><th scope=col>pid</th></tr></thead>\n",
       "<tbody>\n",
       "\t<tr><td>04-21-1991</td><td>9:09      </td><td>58        </td><td>100       </td><td>D1        </td></tr>\n",
       "\t<tr><td>04-21-1991</td><td>9:09      </td><td>33        </td><td>  9       </td><td>D1        </td></tr>\n",
       "\t<tr><td>04-21-1991</td><td>9:09      </td><td>34        </td><td> 13       </td><td>D1        </td></tr>\n",
       "\t<tr><td>04-21-1991</td><td>17:08     </td><td>62        </td><td>119       </td><td>D1        </td></tr>\n",
       "\t<tr><td>04-21-1991</td><td>17:08     </td><td>33        </td><td>  7       </td><td>D1        </td></tr>\n",
       "\t<tr><td>04-21-1991</td><td>22:51     </td><td>48        </td><td>123       </td><td>D1        </td></tr>\n",
       "</tbody>\n",
       "</table>\n"
      ],
      "text/latex": [
       "\\begin{tabular}{r|lllll}\n",
       " Date & Time & Code & Value & pid\\\\\n",
       "\\hline\n",
       "\t 04-21-1991 & 9:09       & 58         & 100        & D1        \\\\\n",
       "\t 04-21-1991 & 9:09       & 33         &   9        & D1        \\\\\n",
       "\t 04-21-1991 & 9:09       & 34         &  13        & D1        \\\\\n",
       "\t 04-21-1991 & 17:08      & 62         & 119        & D1        \\\\\n",
       "\t 04-21-1991 & 17:08      & 33         &   7        & D1        \\\\\n",
       "\t 04-21-1991 & 22:51      & 48         & 123        & D1        \\\\\n",
       "\\end{tabular}\n"
      ],
      "text/markdown": [
       "\n",
       "| Date | Time | Code | Value | pid |\n",
       "|---|---|---|---|---|\n",
       "| 04-21-1991 | 9:09       | 58         | 100        | D1         |\n",
       "| 04-21-1991 | 9:09       | 33         |   9        | D1         |\n",
       "| 04-21-1991 | 9:09       | 34         |  13        | D1         |\n",
       "| 04-21-1991 | 17:08      | 62         | 119        | D1         |\n",
       "| 04-21-1991 | 17:08      | 33         |   7        | D1         |\n",
       "| 04-21-1991 | 22:51      | 48         | 123        | D1         |\n",
       "\n"
      ],
      "text/plain": [
       "  Date       Time  Code Value pid\n",
       "1 04-21-1991 9:09  58   100   D1 \n",
       "2 04-21-1991 9:09  33     9   D1 \n",
       "3 04-21-1991 9:09  34    13   D1 \n",
       "4 04-21-1991 17:08 62   119   D1 \n",
       "5 04-21-1991 17:08 33     7   D1 \n",
       "6 04-21-1991 22:51 48   123   D1 "
      ]
     },
     "metadata": {},
     "output_type": "display_data"
    }
   ],
   "source": [
    "D1 <- load_file(\"data-01\")\n",
    "D1$pid <- c(\"D1\")\n",
    "head(D1)"
   ]
  },
  {
   "cell_type": "code",
   "execution_count": 427,
   "metadata": {},
   "outputs": [],
   "source": [
    "D2 <- load_file(\"data-02\")\n",
    "D2$pid <- c(\"D2\")"
   ]
  },
  {
   "cell_type": "code",
   "execution_count": 428,
   "metadata": {},
   "outputs": [],
   "source": [
    "D3 <- load_file(\"data-03\")\n",
    "D3$pid <- c(\"D3\")"
   ]
  },
  {
   "cell_type": "code",
   "execution_count": 429,
   "metadata": {},
   "outputs": [],
   "source": [
    "D4 <- load_file(\"data-04\")\n",
    "D4$pid <- c(\"D4\")"
   ]
  },
  {
   "cell_type": "code",
   "execution_count": 430,
   "metadata": {},
   "outputs": [],
   "source": [
    "D5 <- load_file(\"data-05\")\n",
    "D5$pid <- c(\"D5\")"
   ]
  },
  {
   "cell_type": "code",
   "execution_count": 431,
   "metadata": {},
   "outputs": [],
   "source": [
    "D6 <- load_file(\"data-06\")\n",
    "D6$pid <- c(\"D6\")"
   ]
  },
  {
   "cell_type": "code",
   "execution_count": 26,
   "metadata": {},
   "outputs": [],
   "source": [
    "D7 <- load_file(\"data-07\")\n",
    "D7$pid <- c(\"D7\")"
   ]
  },
  {
   "cell_type": "code",
   "execution_count": 27,
   "metadata": {},
   "outputs": [],
   "source": [
    "D8 <- load_file(\"data-08\")\n",
    "D8$pid <- c(\"D8\")"
   ]
  },
  {
   "cell_type": "code",
   "execution_count": 28,
   "metadata": {},
   "outputs": [],
   "source": [
    "D9 <- load_file(\"data-09\")\n",
    "D9$pid <- c(\"D9\")"
   ]
  },
  {
   "cell_type": "code",
   "execution_count": 30,
   "metadata": {},
   "outputs": [],
   "source": [
    "D10 <- load_file(\"data-10\")\n",
    "D10$pid <- c(\"D10\")"
   ]
  },
  {
   "cell_type": "code",
   "execution_count": 32,
   "metadata": {},
   "outputs": [],
   "source": [
    "D11 <- load_file(\"data-11\")\n",
    "D11$pid <- c(\"D11\")"
   ]
  },
  {
   "cell_type": "code",
   "execution_count": 33,
   "metadata": {},
   "outputs": [],
   "source": [
    "D12 <- load_file(\"data-12\")\n",
    "D12$pid <- c(\"D12\")"
   ]
  },
  {
   "cell_type": "code",
   "execution_count": 34,
   "metadata": {},
   "outputs": [],
   "source": [
    "D13 <- load_file(\"data-13\")\n",
    "D13$pid <- c(\"D13\")"
   ]
  },
  {
   "cell_type": "code",
   "execution_count": 36,
   "metadata": {},
   "outputs": [],
   "source": [
    "D14 <- load_file(\"data-14\")\n",
    "D14$pid <- c(\"D14\")"
   ]
  },
  {
   "cell_type": "code",
   "execution_count": 38,
   "metadata": {},
   "outputs": [],
   "source": [
    "D15 <- load_file(\"data-15\")\n",
    "D15$pid <- c(\"D15\")"
   ]
  },
  {
   "cell_type": "code",
   "execution_count": 39,
   "metadata": {},
   "outputs": [],
   "source": [
    "D16 <- load_file(\"data-16\")\n",
    "D16$pid <- c(\"D16\")"
   ]
  },
  {
   "cell_type": "code",
   "execution_count": 40,
   "metadata": {},
   "outputs": [],
   "source": [
    "D17 <- load_file(\"data-17\")\n",
    "D17$pid <- c(\"D17\")"
   ]
  },
  {
   "cell_type": "code",
   "execution_count": 41,
   "metadata": {},
   "outputs": [],
   "source": [
    "D18 <- load_file(\"data-18\")\n",
    "D18$pid <- c(\"D18\")"
   ]
  },
  {
   "cell_type": "code",
   "execution_count": 42,
   "metadata": {},
   "outputs": [],
   "source": [
    "D19 <- load_file(\"data-19\")\n",
    "D19$pid <- c(\"D19\")"
   ]
  },
  {
   "cell_type": "code",
   "execution_count": 43,
   "metadata": {},
   "outputs": [],
   "source": [
    "D20 <- load_file(\"data-20\")\n",
    "D20$pid <- c(\"D20\")"
   ]
  },
  {
   "cell_type": "code",
   "execution_count": 44,
   "metadata": {},
   "outputs": [],
   "source": [
    "D21 <- load_file(\"data-21\")\n",
    "D21$pid <- c(\"D21\")"
   ]
  },
  {
   "cell_type": "code",
   "execution_count": 45,
   "metadata": {},
   "outputs": [],
   "source": [
    "D22 <- load_file(\"data-22\")\n",
    "D22$pid <- c(\"D22\")"
   ]
  },
  {
   "cell_type": "code",
   "execution_count": 46,
   "metadata": {},
   "outputs": [],
   "source": [
    "D23 <- load_file(\"data-23\")\n",
    "D23$pid <- c(\"D23\")"
   ]
  },
  {
   "cell_type": "code",
   "execution_count": 48,
   "metadata": {},
   "outputs": [],
   "source": [
    "D24 <- load_file(\"data-24\")\n",
    "D24$pid <- c(\"D24\")"
   ]
  },
  {
   "cell_type": "code",
   "execution_count": 49,
   "metadata": {},
   "outputs": [],
   "source": [
    "D25 <- load_file(\"data-25\")\n",
    "D25$pid <- c(\"D25\")"
   ]
  },
  {
   "cell_type": "code",
   "execution_count": 50,
   "metadata": {},
   "outputs": [],
   "source": [
    "D26 <- load_file(\"data-26\")\n",
    "D26$pid <- c(\"D26\")"
   ]
  },
  {
   "cell_type": "code",
   "execution_count": 57,
   "metadata": {},
   "outputs": [],
   "source": [
    "D28 <- load_file(\"data-28\")\n",
    "D28$pid <- c(\"D28\")"
   ]
  },
  {
   "cell_type": "code",
   "execution_count": 60,
   "metadata": {},
   "outputs": [],
   "source": [
    "D30 <- load_file(\"data-30\")\n",
    "D30$pid <- c(\"D30\")"
   ]
  },
  {
   "cell_type": "code",
   "execution_count": 61,
   "metadata": {},
   "outputs": [],
   "source": [
    "D31 <- load_file(\"data-31\")\n",
    "D31$pid <- c(\"D31\")"
   ]
  },
  {
   "cell_type": "code",
   "execution_count": 62,
   "metadata": {},
   "outputs": [],
   "source": [
    "D32 <- load_file(\"data-32\")\n",
    "D32$pid <- c(\"D32\")"
   ]
  },
  {
   "cell_type": "code",
   "execution_count": 64,
   "metadata": {},
   "outputs": [],
   "source": [
    "Diabetes_data <- rbind(D1, D2, D3, D4, D5, D6, D7, D8, D9, D10, D11, D12, D13, D14, D15, D16, D17, D18, D19, D20, D21, D22, D23, D24, D25, D26, D28, D30, D31, D32)"
   ]
  },
  {
   "cell_type": "code",
   "execution_count": 65,
   "metadata": {},
   "outputs": [
    {
     "data": {
      "text/html": [
       "12112"
      ],
      "text/latex": [
       "12112"
      ],
      "text/markdown": [
       "12112"
      ],
      "text/plain": [
       "[1] 12112"
      ]
     },
     "metadata": {},
     "output_type": "display_data"
    }
   ],
   "source": [
    "nrow(Diabetes_data)"
   ]
  },
  {
   "cell_type": "code",
   "execution_count": 63,
   "metadata": {},
   "outputs": [],
   "source": [
    "# EXPLORATORY DATA ANALYSIS"
   ]
  },
  {
   "cell_type": "code",
   "execution_count": 66,
   "metadata": {},
   "outputs": [
    {
     "name": "stdout",
     "output_type": "stream",
     "text": [
      "'data.frame':\t12112 obs. of  5 variables:\n",
      " $ Date : chr  \"04-21-1991\" \"04-21-1991\" \"04-21-1991\" \"04-21-1991\" ...\n",
      " $ Time : chr  \"9:09\" \"9:09\" \"9:09\" \"17:08\" ...\n",
      " $ Code : int  58 33 34 62 33 48 58 33 34 33 ...\n",
      " $ Value: chr  \"100\" \"9\" \"13\" \"119\" ...\n",
      " $ pid  : chr  \"D1\" \"D1\" \"D1\" \"D1\" ...\n"
     ]
    }
   ],
   "source": [
    "str(Diabetes_data)"
   ]
  },
  {
   "cell_type": "code",
   "execution_count": 81,
   "metadata": {},
   "outputs": [
    {
     "data": {
      "text/html": [
       "<dl class=dl-horizontal>\n",
       "\t<dt>Date</dt>\n",
       "\t\t<dd>'character'</dd>\n",
       "\t<dt>Time</dt>\n",
       "\t\t<dd>'character'</dd>\n",
       "\t<dt>Code</dt>\n",
       "\t\t<dd>'integer'</dd>\n",
       "\t<dt>Value</dt>\n",
       "\t\t<dd>'character'</dd>\n",
       "\t<dt>pid</dt>\n",
       "\t\t<dd>'character'</dd>\n",
       "</dl>\n"
      ],
      "text/latex": [
       "\\begin{description*}\n",
       "\\item[Date] 'character'\n",
       "\\item[Time] 'character'\n",
       "\\item[Code] 'integer'\n",
       "\\item[Value] 'character'\n",
       "\\item[pid] 'character'\n",
       "\\end{description*}\n"
      ],
      "text/markdown": [
       "Date\n",
       ":   'character'Time\n",
       ":   'character'Code\n",
       ":   'integer'Value\n",
       ":   'character'pid\n",
       ":   'character'\n",
       "\n"
      ],
      "text/plain": [
       "       Date        Time        Code       Value         pid \n",
       "\"character\" \"character\"   \"integer\" \"character\" \"character\" "
      ]
     },
     "metadata": {},
     "output_type": "display_data"
    }
   ],
   "source": [
    "sapply(Diabetes_data, class)"
   ]
  },
  {
   "cell_type": "code",
   "execution_count": 70,
   "metadata": {},
   "outputs": [
    {
     "data": {
      "text/html": [
       "0"
      ],
      "text/latex": [
       "0"
      ],
      "text/markdown": [
       "0"
      ],
      "text/plain": [
       "[1] 0"
      ]
     },
     "metadata": {},
     "output_type": "display_data"
    }
   ],
   "source": [
    "sum(is.na(Diabetes_data))"
   ]
  },
  {
   "cell_type": "code",
   "execution_count": 72,
   "metadata": {},
   "outputs": [
    {
     "data": {
      "text/html": [
       "FALSE"
      ],
      "text/latex": [
       "FALSE"
      ],
      "text/markdown": [
       "FALSE"
      ],
      "text/plain": [
       "[1] FALSE"
      ]
     },
     "metadata": {},
     "output_type": "display_data"
    }
   ],
   "source": [
    "is.numeric(Diabetes_data)"
   ]
  },
  {
   "cell_type": "code",
   "execution_count": 76,
   "metadata": {},
   "outputs": [
    {
     "data": {
      "text/html": [
       "0"
      ],
      "text/latex": [
       "0"
      ],
      "text/markdown": [
       "0"
      ],
      "text/plain": [
       "[1] 0"
      ]
     },
     "metadata": {},
     "output_type": "display_data"
    }
   ],
   "source": [
    "filtered_Diabetes_data <- Diabetes_data %>%\n",
    "    filter(is.numeric(Value))\n",
    "nrow(filtered_Diabetes_data)"
   ]
  },
  {
   "cell_type": "code",
   "execution_count": 84,
   "metadata": {},
   "outputs": [
    {
     "data": {
      "text/html": [
       "<dl class=dl-horizontal>\n",
       "\t<dt>Date</dt>\n",
       "\t\t<dd>'character'</dd>\n",
       "\t<dt>Time</dt>\n",
       "\t\t<dd>'character'</dd>\n",
       "\t<dt>Code</dt>\n",
       "\t\t<dd>'integer'</dd>\n",
       "\t<dt>Value</dt>\n",
       "\t\t<dd>'numeric'</dd>\n",
       "\t<dt>pid</dt>\n",
       "\t\t<dd>'character'</dd>\n",
       "</dl>\n"
      ],
      "text/latex": [
       "\\begin{description*}\n",
       "\\item[Date] 'character'\n",
       "\\item[Time] 'character'\n",
       "\\item[Code] 'integer'\n",
       "\\item[Value] 'numeric'\n",
       "\\item[pid] 'character'\n",
       "\\end{description*}\n"
      ],
      "text/markdown": [
       "Date\n",
       ":   'character'Time\n",
       ":   'character'Code\n",
       ":   'integer'Value\n",
       ":   'numeric'pid\n",
       ":   'character'\n",
       "\n"
      ],
      "text/plain": [
       "       Date        Time        Code       Value         pid \n",
       "\"character\" \"character\"   \"integer\"   \"numeric\" \"character\" "
      ]
     },
     "metadata": {},
     "output_type": "display_data"
    },
    {
     "name": "stdout",
     "output_type": "stream",
     "text": [
      "'data.frame':\t12112 obs. of  5 variables:\n",
      " $ Date : chr  \"04-21-1991\" \"04-21-1991\" \"04-21-1991\" \"04-21-1991\" ...\n",
      " $ Time : chr  \"9:09\" \"9:09\" \"9:09\" \"17:08\" ...\n",
      " $ Code : int  58 33 34 62 33 48 58 33 34 33 ...\n",
      " $ Value: num  100 9 13 119 7 123 216 10 13 2 ...\n",
      " $ pid  : chr  \"D1\" \"D1\" \"D1\" \"D1\" ...\n"
     ]
    }
   ],
   "source": [
    "#Converted \"Value\" column from character to numeric\n",
    "Diabetes_data$Value <- as.numeric(Diabetes_data$Value)\n",
    "\n",
    "sapply(Diabetes_data, class)\n",
    "str(Diabetes_data)"
   ]
  },
  {
   "cell_type": "code",
   "execution_count": 89,
   "metadata": {},
   "outputs": [
    {
     "name": "stderr",
     "output_type": "stream",
     "text": [
      "Warning message:\n",
      "\"Problem with `mutate()` input `date1`.\n",
      "i  7 failed to parse.\n",
      "i Input `date1` is `mdy(Date)`.\""
     ]
    },
    {
     "data": {
      "text/html": [
       "<table>\n",
       "<thead><tr><th scope=col>Date</th><th scope=col>Time</th><th scope=col>Code</th><th scope=col>Value</th><th scope=col>pid</th><th scope=col>datetimes</th><th scope=col>date1</th></tr></thead>\n",
       "<tbody>\n",
       "\t<tr><td>05-26-1991      </td><td>06:00           </td><td> 4              </td><td> 0              </td><td>D20             </td><td>12-23-1989 22:00</td><td>1991-05-26      </td></tr>\n",
       "\t<tr><td>04-21-1991      </td><td>9:09            </td><td>33              </td><td> 9              </td><td>D1              </td><td>04-21-1991 9:09 </td><td>1991-04-21      </td></tr>\n",
       "\t<tr><td>04-21-1991      </td><td>17:08           </td><td>33              </td><td> 7              </td><td>D1              </td><td>04-22-1991 13:40</td><td>1991-04-21      </td></tr>\n",
       "\t<tr><td>04-22-1991      </td><td>7:35            </td><td>33              </td><td>10              </td><td>D1              </td><td>04-23-1991 17:25</td><td>1991-04-22      </td></tr>\n",
       "\t<tr><td>04-22-1991      </td><td>13:40           </td><td>33              </td><td> 2              </td><td>D1              </td><td>04-24-1991 12:00</td><td>1991-04-22      </td></tr>\n",
       "\t<tr><td>04-22-1991      </td><td>16:56           </td><td>33              </td><td> 7              </td><td>D1              </td><td>04-25-1991 7:29 </td><td>1991-04-22      </td></tr>\n",
       "</tbody>\n",
       "</table>\n"
      ],
      "text/latex": [
       "\\begin{tabular}{r|lllllll}\n",
       " Date & Time & Code & Value & pid & datetimes & date1\\\\\n",
       "\\hline\n",
       "\t 05-26-1991       & 06:00            &  4               &  0               & D20              & 12-23-1989 22:00 & 1991-05-26      \\\\\n",
       "\t 04-21-1991       & 9:09             & 33               &  9               & D1               & 04-21-1991 9:09  & 1991-04-21      \\\\\n",
       "\t 04-21-1991       & 17:08            & 33               &  7               & D1               & 04-22-1991 13:40 & 1991-04-21      \\\\\n",
       "\t 04-22-1991       & 7:35             & 33               & 10               & D1               & 04-23-1991 17:25 & 1991-04-22      \\\\\n",
       "\t 04-22-1991       & 13:40            & 33               &  2               & D1               & 04-24-1991 12:00 & 1991-04-22      \\\\\n",
       "\t 04-22-1991       & 16:56            & 33               &  7               & D1               & 04-25-1991 7:29  & 1991-04-22      \\\\\n",
       "\\end{tabular}\n"
      ],
      "text/markdown": [
       "\n",
       "| Date | Time | Code | Value | pid | datetimes | date1 |\n",
       "|---|---|---|---|---|---|---|\n",
       "| 05-26-1991       | 06:00            |  4               |  0               | D20              | 12-23-1989 22:00 | 1991-05-26       |\n",
       "| 04-21-1991       | 9:09             | 33               |  9               | D1               | 04-21-1991 9:09  | 1991-04-21       |\n",
       "| 04-21-1991       | 17:08            | 33               |  7               | D1               | 04-22-1991 13:40 | 1991-04-21       |\n",
       "| 04-22-1991       | 7:35             | 33               | 10               | D1               | 04-23-1991 17:25 | 1991-04-22       |\n",
       "| 04-22-1991       | 13:40            | 33               |  2               | D1               | 04-24-1991 12:00 | 1991-04-22       |\n",
       "| 04-22-1991       | 16:56            | 33               |  7               | D1               | 04-25-1991 7:29  | 1991-04-22       |\n",
       "\n"
      ],
      "text/plain": [
       "  Date       Time  Code Value pid datetimes        date1     \n",
       "1 05-26-1991 06:00  4    0    D20 12-23-1989 22:00 1991-05-26\n",
       "2 04-21-1991 9:09  33    9    D1  04-21-1991 9:09  1991-04-21\n",
       "3 04-21-1991 17:08 33    7    D1  04-22-1991 13:40 1991-04-21\n",
       "4 04-22-1991 7:35  33   10    D1  04-23-1991 17:25 1991-04-22\n",
       "5 04-22-1991 13:40 33    2    D1  04-24-1991 12:00 1991-04-22\n",
       "6 04-22-1991 16:56 33    7    D1  04-25-1991 7:29  1991-04-22"
      ]
     },
     "metadata": {},
     "output_type": "display_data"
    },
    {
     "name": "stdout",
     "output_type": "stream",
     "text": [
      "'data.frame':\t12112 obs. of  7 variables:\n",
      " $ Date     : chr  \"05-26-1991\" \"04-21-1991\" \"04-21-1991\" \"04-22-1991\" ...\n",
      " $ Time     : chr  \"06:00\" \"9:09\" \"17:08\" \"7:35\" ...\n",
      " $ Code     : int  4 33 33 33 33 33 33 33 33 33 ...\n",
      " $ Value    : num  0 9 7 10 2 7 11 7 10 4 ...\n",
      " $ pid      : chr  \"D20\" \"D1\" \"D1\" \"D1\" ...\n",
      " $ datetimes: chr  \"12-23-1989 22:00\" \"04-21-1991 9:09\" \"04-22-1991 13:40\" \"04-23-1991 17:25\" ...\n",
      " $ date1    : Date, format: \"1991-05-26\" \"1991-04-21\" ...\n"
     ]
    }
   ],
   "source": [
    "# Conversion of Date column from character to \"ymd\" format\n",
    "\n",
    "Diabetes_data2 <- Diabetes_data %>%\n",
    "    mutate(date1 = mdy(Date)) %>%\n",
    "    arrange(Code)\n",
    "\n",
    "head(Diabetes_data2, nrow = 10)\n",
    "str(Diabetes_data2)"
   ]
  },
  {
   "cell_type": "code",
   "execution_count": 91,
   "metadata": {},
   "outputs": [
    {
     "name": "stderr",
     "output_type": "stream",
     "text": [
      "Warning message:\n",
      "\" 7 failed to parse.\""
     ]
    },
    {
     "data": {
      "text/html": [
       "<table>\n",
       "<thead><tr><th scope=col>Date</th><th scope=col>Time</th><th scope=col>Code</th><th scope=col>Value</th><th scope=col>pid</th><th scope=col>datetimes</th><th scope=col>date1</th><th scope=col>datetime</th></tr></thead>\n",
       "<tbody>\n",
       "\t<tr><td>05-26-1991         </td><td>06:00              </td><td> 4                 </td><td> 0                 </td><td>D20                </td><td>12-23-1989 22:00   </td><td>1991-05-26         </td><td>1991-05-26 06:00:00</td></tr>\n",
       "\t<tr><td>04-21-1991         </td><td>9:09               </td><td>33                 </td><td> 9                 </td><td>D1                 </td><td>04-21-1991 9:09    </td><td>1991-04-21         </td><td>1991-04-21 09:09:00</td></tr>\n",
       "\t<tr><td>04-21-1991         </td><td>17:08              </td><td>33                 </td><td> 7                 </td><td>D1                 </td><td>04-22-1991 13:40   </td><td>1991-04-21         </td><td>1991-04-21 17:08:00</td></tr>\n",
       "\t<tr><td>04-22-1991         </td><td>7:35               </td><td>33                 </td><td>10                 </td><td>D1                 </td><td>04-23-1991 17:25   </td><td>1991-04-22         </td><td>1991-04-22 07:35:00</td></tr>\n",
       "\t<tr><td>04-22-1991         </td><td>13:40              </td><td>33                 </td><td> 2                 </td><td>D1                 </td><td>04-24-1991 12:00   </td><td>1991-04-22         </td><td>1991-04-22 13:40:00</td></tr>\n",
       "\t<tr><td>04-22-1991         </td><td>16:56              </td><td>33                 </td><td> 7                 </td><td>D1                 </td><td>04-25-1991 7:29    </td><td>1991-04-22         </td><td>1991-04-22 16:56:00</td></tr>\n",
       "</tbody>\n",
       "</table>\n"
      ],
      "text/latex": [
       "\\begin{tabular}{r|llllllll}\n",
       " Date & Time & Code & Value & pid & datetimes & date1 & datetime\\\\\n",
       "\\hline\n",
       "\t 05-26-1991          & 06:00               &  4                  &  0                  & D20                 & 12-23-1989 22:00    & 1991-05-26          & 1991-05-26 06:00:00\\\\\n",
       "\t 04-21-1991          & 9:09                & 33                  &  9                  & D1                  & 04-21-1991 9:09     & 1991-04-21          & 1991-04-21 09:09:00\\\\\n",
       "\t 04-21-1991          & 17:08               & 33                  &  7                  & D1                  & 04-22-1991 13:40    & 1991-04-21          & 1991-04-21 17:08:00\\\\\n",
       "\t 04-22-1991          & 7:35                & 33                  & 10                  & D1                  & 04-23-1991 17:25    & 1991-04-22          & 1991-04-22 07:35:00\\\\\n",
       "\t 04-22-1991          & 13:40               & 33                  &  2                  & D1                  & 04-24-1991 12:00    & 1991-04-22          & 1991-04-22 13:40:00\\\\\n",
       "\t 04-22-1991          & 16:56               & 33                  &  7                  & D1                  & 04-25-1991 7:29     & 1991-04-22          & 1991-04-22 16:56:00\\\\\n",
       "\\end{tabular}\n"
      ],
      "text/markdown": [
       "\n",
       "| Date | Time | Code | Value | pid | datetimes | date1 | datetime |\n",
       "|---|---|---|---|---|---|---|---|\n",
       "| 05-26-1991          | 06:00               |  4                  |  0                  | D20                 | 12-23-1989 22:00    | 1991-05-26          | 1991-05-26 06:00:00 |\n",
       "| 04-21-1991          | 9:09                | 33                  |  9                  | D1                  | 04-21-1991 9:09     | 1991-04-21          | 1991-04-21 09:09:00 |\n",
       "| 04-21-1991          | 17:08               | 33                  |  7                  | D1                  | 04-22-1991 13:40    | 1991-04-21          | 1991-04-21 17:08:00 |\n",
       "| 04-22-1991          | 7:35                | 33                  | 10                  | D1                  | 04-23-1991 17:25    | 1991-04-22          | 1991-04-22 07:35:00 |\n",
       "| 04-22-1991          | 13:40               | 33                  |  2                  | D1                  | 04-24-1991 12:00    | 1991-04-22          | 1991-04-22 13:40:00 |\n",
       "| 04-22-1991          | 16:56               | 33                  |  7                  | D1                  | 04-25-1991 7:29     | 1991-04-22          | 1991-04-22 16:56:00 |\n",
       "\n"
      ],
      "text/plain": [
       "  Date       Time  Code Value pid datetimes        date1     \n",
       "1 05-26-1991 06:00  4    0    D20 12-23-1989 22:00 1991-05-26\n",
       "2 04-21-1991 9:09  33    9    D1  04-21-1991 9:09  1991-04-21\n",
       "3 04-21-1991 17:08 33    7    D1  04-22-1991 13:40 1991-04-21\n",
       "4 04-22-1991 7:35  33   10    D1  04-23-1991 17:25 1991-04-22\n",
       "5 04-22-1991 13:40 33    2    D1  04-24-1991 12:00 1991-04-22\n",
       "6 04-22-1991 16:56 33    7    D1  04-25-1991 7:29  1991-04-22\n",
       "  datetime           \n",
       "1 1991-05-26 06:00:00\n",
       "2 1991-04-21 09:09:00\n",
       "3 1991-04-21 17:08:00\n",
       "4 1991-04-22 07:35:00\n",
       "5 1991-04-22 13:40:00\n",
       "6 1991-04-22 16:56:00"
      ]
     },
     "metadata": {},
     "output_type": "display_data"
    }
   ],
   "source": [
    "#Conversion of Time column from character to datetime format\n",
    "Diabetes_data2$datetime = paste(Diabetes_data2$Date, Diabetes_data2$Time)\n",
    "Diabetes_data2$datetime = mdy_hm(Diabetes_data2$datetime)\n",
    "head(Diabetes_data2, nrow = 5)"
   ]
  },
  {
   "cell_type": "code",
   "execution_count": 97,
   "metadata": {},
   "outputs": [
    {
     "name": "stdout",
     "output_type": "stream",
     "text": [
      "'data.frame':\t12112 obs. of  7 variables:\n",
      " $ Date    : chr  \"05-26-1991\" \"04-21-1991\" \"04-21-1991\" \"04-22-1991\" ...\n",
      " $ Time    : chr  \"06:00\" \"9:09\" \"17:08\" \"7:35\" ...\n",
      " $ Code    : int  4 33 33 33 33 33 33 33 33 33 ...\n",
      " $ Value   : num  0 9 7 10 2 7 11 7 10 4 ...\n",
      " $ pid     : chr  \"D20\" \"D1\" \"D1\" \"D1\" ...\n",
      " $ date1   : Date, format: \"1991-05-26\" \"1991-04-21\" ...\n",
      " $ datetime: POSIXct, format: \"1991-05-26 06:00:00\" \"1991-04-21 09:09:00\" ...\n"
     ]
    }
   ],
   "source": [
    "Diabetes_data3 <- Diabetes_data2 %>%\n",
    "    select(-datetimes)\n",
    "\n",
    "str(Diabetes_data3)"
   ]
  },
  {
   "cell_type": "code",
   "execution_count": 171,
   "metadata": {},
   "outputs": [
    {
     "data": {
      "text/html": [
       "<table>\n",
       "<thead><tr><th scope=col>Date</th><th scope=col>Time</th><th scope=col>Code</th><th scope=col>Value</th><th scope=col>pid</th><th scope=col>date1</th><th scope=col>datetime</th></tr></thead>\n",
       "<tbody>\n",
       "\t<tr><td>08-16-1990         </td><td>07:30              </td><td>72                 </td><td>0                  </td><td>D3                 </td><td>1990-08-16         </td><td>1990-08-16 07:30:00</td></tr>\n",
       "\t<tr><td>08-16-1990         </td><td>12:14              </td><td>72                 </td><td>0                  </td><td>D3                 </td><td>1990-08-16         </td><td>1990-08-16 12:14:00</td></tr>\n",
       "\t<tr><td>08-16-1990         </td><td>17:41              </td><td>72                 </td><td>0                  </td><td>D3                 </td><td>1990-08-16         </td><td>1990-08-16 17:41:00</td></tr>\n",
       "\t<tr><td>08-24-1990         </td><td>07:48              </td><td>72                 </td><td>0                  </td><td>D3                 </td><td>1990-08-24         </td><td>1990-08-24 07:48:00</td></tr>\n",
       "\t<tr><td>08-24-1990         </td><td>07:48              </td><td>72                 </td><td>0                  </td><td>D4                 </td><td>1990-08-24         </td><td>1990-08-24 07:48:00</td></tr>\n",
       "</tbody>\n",
       "</table>\n"
      ],
      "text/latex": [
       "\\begin{tabular}{r|lllllll}\n",
       " Date & Time & Code & Value & pid & date1 & datetime\\\\\n",
       "\\hline\n",
       "\t 08-16-1990          & 07:30               & 72                  & 0                   & D3                  & 1990-08-16          & 1990-08-16 07:30:00\\\\\n",
       "\t 08-16-1990          & 12:14               & 72                  & 0                   & D3                  & 1990-08-16          & 1990-08-16 12:14:00\\\\\n",
       "\t 08-16-1990          & 17:41               & 72                  & 0                   & D3                  & 1990-08-16          & 1990-08-16 17:41:00\\\\\n",
       "\t 08-24-1990          & 07:48               & 72                  & 0                   & D3                  & 1990-08-24          & 1990-08-24 07:48:00\\\\\n",
       "\t 08-24-1990          & 07:48               & 72                  & 0                   & D4                  & 1990-08-24          & 1990-08-24 07:48:00\\\\\n",
       "\\end{tabular}\n"
      ],
      "text/markdown": [
       "\n",
       "| Date | Time | Code | Value | pid | date1 | datetime |\n",
       "|---|---|---|---|---|---|---|\n",
       "| 08-16-1990          | 07:30               | 72                  | 0                   | D3                  | 1990-08-16          | 1990-08-16 07:30:00 |\n",
       "| 08-16-1990          | 12:14               | 72                  | 0                   | D3                  | 1990-08-16          | 1990-08-16 12:14:00 |\n",
       "| 08-16-1990          | 17:41               | 72                  | 0                   | D3                  | 1990-08-16          | 1990-08-16 17:41:00 |\n",
       "| 08-24-1990          | 07:48               | 72                  | 0                   | D3                  | 1990-08-24          | 1990-08-24 07:48:00 |\n",
       "| 08-24-1990          | 07:48               | 72                  | 0                   | D4                  | 1990-08-24          | 1990-08-24 07:48:00 |\n",
       "\n"
      ],
      "text/plain": [
       "  Date       Time  Code Value pid date1      datetime           \n",
       "1 08-16-1990 07:30 72   0     D3  1990-08-16 1990-08-16 07:30:00\n",
       "2 08-16-1990 12:14 72   0     D3  1990-08-16 1990-08-16 12:14:00\n",
       "3 08-16-1990 17:41 72   0     D3  1990-08-16 1990-08-16 17:41:00\n",
       "4 08-24-1990 07:48 72   0     D3  1990-08-24 1990-08-24 07:48:00\n",
       "5 08-24-1990 07:48 72   0     D4  1990-08-24 1990-08-24 07:48:00"
      ]
     },
     "metadata": {},
     "output_type": "display_data"
    },
    {
     "data": {
      "text/html": [
       "50"
      ],
      "text/latex": [
       "50"
      ],
      "text/markdown": [
       "50"
      ],
      "text/plain": [
       "[1] 50"
      ]
     },
     "metadata": {},
     "output_type": "display_data"
    }
   ],
   "source": [
    "# Used code below to check which dataset Codes contained Values (discovered only those for Insulin and Glucose. No values associated with \n",
    "# Exercise activity, Meal ingestion etc)\n",
    "Diabetes_data4 <- Diabetes_data3 %>%\n",
    "    filter(Code == 72)\n",
    "\n",
    "head(Diabetes_data4, n = 5)\n",
    "nrow(Diabetes_data4)"
   ]
  },
  {
   "cell_type": "code",
   "execution_count": 98,
   "metadata": {},
   "outputs": [
    {
     "data": {
      "text/html": [
       "<table>\n",
       "<thead><tr><th scope=col>Date</th><th scope=col>Time</th><th scope=col>Insulin_Code</th><th scope=col>Insulin_dose</th><th scope=col>pid</th><th scope=col>date1</th><th scope=col>datetime</th></tr></thead>\n",
       "<tbody>\n",
       "\t<tr><td>04-21-1991         </td><td>9:09               </td><td>33                 </td><td> 9                 </td><td>D1                 </td><td>1991-04-21         </td><td>1991-04-21 09:09:00</td></tr>\n",
       "\t<tr><td>04-21-1991         </td><td>17:08              </td><td>33                 </td><td> 7                 </td><td>D1                 </td><td>1991-04-21         </td><td>1991-04-21 17:08:00</td></tr>\n",
       "\t<tr><td>04-22-1991         </td><td>7:35               </td><td>33                 </td><td>10                 </td><td>D1                 </td><td>1991-04-22         </td><td>1991-04-22 07:35:00</td></tr>\n",
       "\t<tr><td>04-22-1991         </td><td>13:40              </td><td>33                 </td><td> 2                 </td><td>D1                 </td><td>1991-04-22         </td><td>1991-04-22 13:40:00</td></tr>\n",
       "\t<tr><td>04-22-1991         </td><td>16:56              </td><td>33                 </td><td> 7                 </td><td>D1                 </td><td>1991-04-22         </td><td>1991-04-22 16:56:00</td></tr>\n",
       "</tbody>\n",
       "</table>\n"
      ],
      "text/latex": [
       "\\begin{tabular}{r|lllllll}\n",
       " Date & Time & Insulin\\_Code & Insulin\\_dose & pid & date1 & datetime\\\\\n",
       "\\hline\n",
       "\t 04-21-1991          & 9:09                & 33                  &  9                  & D1                  & 1991-04-21          & 1991-04-21 09:09:00\\\\\n",
       "\t 04-21-1991          & 17:08               & 33                  &  7                  & D1                  & 1991-04-21          & 1991-04-21 17:08:00\\\\\n",
       "\t 04-22-1991          & 7:35                & 33                  & 10                  & D1                  & 1991-04-22          & 1991-04-22 07:35:00\\\\\n",
       "\t 04-22-1991          & 13:40               & 33                  &  2                  & D1                  & 1991-04-22          & 1991-04-22 13:40:00\\\\\n",
       "\t 04-22-1991          & 16:56               & 33                  &  7                  & D1                  & 1991-04-22          & 1991-04-22 16:56:00\\\\\n",
       "\\end{tabular}\n"
      ],
      "text/markdown": [
       "\n",
       "| Date | Time | Insulin_Code | Insulin_dose | pid | date1 | datetime |\n",
       "|---|---|---|---|---|---|---|\n",
       "| 04-21-1991          | 9:09                | 33                  |  9                  | D1                  | 1991-04-21          | 1991-04-21 09:09:00 |\n",
       "| 04-21-1991          | 17:08               | 33                  |  7                  | D1                  | 1991-04-21          | 1991-04-21 17:08:00 |\n",
       "| 04-22-1991          | 7:35                | 33                  | 10                  | D1                  | 1991-04-22          | 1991-04-22 07:35:00 |\n",
       "| 04-22-1991          | 13:40               | 33                  |  2                  | D1                  | 1991-04-22          | 1991-04-22 13:40:00 |\n",
       "| 04-22-1991          | 16:56               | 33                  |  7                  | D1                  | 1991-04-22          | 1991-04-22 16:56:00 |\n",
       "\n"
      ],
      "text/plain": [
       "  Date       Time  Insulin_Code Insulin_dose pid date1      datetime           \n",
       "1 04-21-1991 9:09  33            9           D1  1991-04-21 1991-04-21 09:09:00\n",
       "2 04-21-1991 17:08 33            7           D1  1991-04-21 1991-04-21 17:08:00\n",
       "3 04-22-1991 7:35  33           10           D1  1991-04-22 1991-04-22 07:35:00\n",
       "4 04-22-1991 13:40 33            2           D1  1991-04-22 1991-04-22 13:40:00\n",
       "5 04-22-1991 16:56 33            7           D1  1991-04-22 1991-04-22 16:56:00"
      ]
     },
     "metadata": {},
     "output_type": "display_data"
    },
    {
     "data": {
      "text/html": [
       "6092"
      ],
      "text/latex": [
       "6092"
      ],
      "text/markdown": [
       "6092"
      ],
      "text/plain": [
       "[1] 6092"
      ]
     },
     "metadata": {},
     "output_type": "display_data"
    }
   ],
   "source": [
    "#Filtering out Insulin doses and corresponding codes\n",
    "\n",
    "target <- c(33, 34, 35)\n",
    "\n",
    "Insulin_data <- Diabetes_data3 %>%\n",
    "    filter(Code %in% target) %>%\n",
    "    rename(Insulin_Code = Code, Insulin_dose = Value)\n",
    "\n",
    "head(Insulin_data, n = 5)\n",
    "nrow(Insulin_data)"
   ]
  },
  {
   "cell_type": "code",
   "execution_count": 99,
   "metadata": {},
   "outputs": [
    {
     "data": {
      "text/html": [
       "<table>\n",
       "<thead><tr><th scope=col>Date</th><th scope=col>Time</th><th scope=col>Glucose_Code</th><th scope=col>Glucose_Value</th><th scope=col>pid</th><th scope=col>date1</th><th scope=col>datetime</th></tr></thead>\n",
       "<tbody>\n",
       "\t<tr><td>04-21-1991         </td><td>22:51              </td><td>48                 </td><td>123                </td><td>D1                 </td><td>1991-04-21         </td><td>1991-04-21 22:51:00</td></tr>\n",
       "\t<tr><td>04-24-1991         </td><td>22:09              </td><td>48                 </td><td>340                </td><td>D1                 </td><td>1991-04-24         </td><td>1991-04-24 22:09:00</td></tr>\n",
       "\t<tr><td>04-25-1991         </td><td>21:54              </td><td>48                 </td><td>288                </td><td>D1                 </td><td>1991-04-25         </td><td>1991-04-25 21:54:00</td></tr>\n",
       "\t<tr><td>04-28-1991         </td><td>22:30              </td><td>48                 </td><td>200                </td><td>D1                 </td><td>1991-04-28         </td><td>1991-04-28 22:30:00</td></tr>\n",
       "\t<tr><td>04-29-1991         </td><td>22:28              </td><td>48                 </td><td> 81                </td><td>D1                 </td><td>1991-04-29         </td><td>1991-04-29 22:28:00</td></tr>\n",
       "</tbody>\n",
       "</table>\n"
      ],
      "text/latex": [
       "\\begin{tabular}{r|lllllll}\n",
       " Date & Time & Glucose\\_Code & Glucose\\_Value & pid & date1 & datetime\\\\\n",
       "\\hline\n",
       "\t 04-21-1991          & 22:51               & 48                  & 123                 & D1                  & 1991-04-21          & 1991-04-21 22:51:00\\\\\n",
       "\t 04-24-1991          & 22:09               & 48                  & 340                 & D1                  & 1991-04-24          & 1991-04-24 22:09:00\\\\\n",
       "\t 04-25-1991          & 21:54               & 48                  & 288                 & D1                  & 1991-04-25          & 1991-04-25 21:54:00\\\\\n",
       "\t 04-28-1991          & 22:30               & 48                  & 200                 & D1                  & 1991-04-28          & 1991-04-28 22:30:00\\\\\n",
       "\t 04-29-1991          & 22:28               & 48                  &  81                 & D1                  & 1991-04-29          & 1991-04-29 22:28:00\\\\\n",
       "\\end{tabular}\n"
      ],
      "text/markdown": [
       "\n",
       "| Date | Time | Glucose_Code | Glucose_Value | pid | date1 | datetime |\n",
       "|---|---|---|---|---|---|---|\n",
       "| 04-21-1991          | 22:51               | 48                  | 123                 | D1                  | 1991-04-21          | 1991-04-21 22:51:00 |\n",
       "| 04-24-1991          | 22:09               | 48                  | 340                 | D1                  | 1991-04-24          | 1991-04-24 22:09:00 |\n",
       "| 04-25-1991          | 21:54               | 48                  | 288                 | D1                  | 1991-04-25          | 1991-04-25 21:54:00 |\n",
       "| 04-28-1991          | 22:30               | 48                  | 200                 | D1                  | 1991-04-28          | 1991-04-28 22:30:00 |\n",
       "| 04-29-1991          | 22:28               | 48                  |  81                 | D1                  | 1991-04-29          | 1991-04-29 22:28:00 |\n",
       "\n"
      ],
      "text/plain": [
       "  Date       Time  Glucose_Code Glucose_Value pid date1     \n",
       "1 04-21-1991 22:51 48           123           D1  1991-04-21\n",
       "2 04-24-1991 22:09 48           340           D1  1991-04-24\n",
       "3 04-25-1991 21:54 48           288           D1  1991-04-25\n",
       "4 04-28-1991 22:30 48           200           D1  1991-04-28\n",
       "5 04-29-1991 22:28 48            81           D1  1991-04-29\n",
       "  datetime           \n",
       "1 1991-04-21 22:51:00\n",
       "2 1991-04-24 22:09:00\n",
       "3 1991-04-25 21:54:00\n",
       "4 1991-04-28 22:30:00\n",
       "5 1991-04-29 22:28:00"
      ]
     },
     "metadata": {},
     "output_type": "display_data"
    },
    {
     "data": {
      "text/html": [
       "5563"
      ],
      "text/latex": [
       "5563"
      ],
      "text/markdown": [
       "5563"
      ],
      "text/plain": [
       "[1] 5563"
      ]
     },
     "metadata": {},
     "output_type": "display_data"
    }
   ],
   "source": [
    "#Filtering out Glucose doses and corresponding codes\n",
    "\n",
    "target1 <- c(48, 57, 58, 59, 60, 61, 62, 63, 64, 65)\n",
    "\n",
    "Glucose_data <- Diabetes_data3 %>%\n",
    "    filter(Code %in% target1) %>%\n",
    "    rename(Glucose_Code = Code, Glucose_Value = Value)\n",
    "\n",
    "head(Glucose_data, n = 5)\n",
    "nrow(Glucose_data)"
   ]
  },
  {
   "cell_type": "code",
   "execution_count": 100,
   "metadata": {},
   "outputs": [
    {
     "data": {
      "text/html": [
       "<table>\n",
       "<thead><tr><th scope=col>Date</th><th scope=col>Time</th><th scope=col>Glucose_Code</th><th scope=col>Glucose_Value</th><th scope=col>pid</th><th scope=col>date1</th><th scope=col>datetime</th></tr></thead>\n",
       "<tbody>\n",
       "</tbody>\n",
       "</table>\n"
      ],
      "text/latex": [
       "\\begin{tabular}{r|lllllll}\n",
       " Date & Time & Glucose\\_Code & Glucose\\_Value & pid & date1 & datetime\\\\\n",
       "\\hline\n",
       "\\end{tabular}\n"
      ],
      "text/markdown": [
       "\n",
       "| Date | Time | Glucose_Code | Glucose_Value | pid | date1 | datetime |\n",
       "|---|---|---|---|---|---|---|\n",
       "\n"
      ],
      "text/plain": [
       "     Date Time Glucose_Code Glucose_Value pid date1 datetime"
      ]
     },
     "metadata": {},
     "output_type": "display_data"
    },
    {
     "data": {
      "text/html": [
       "0"
      ],
      "text/latex": [
       "0"
      ],
      "text/markdown": [
       "0"
      ],
      "text/plain": [
       "[1] 0"
      ]
     },
     "metadata": {},
     "output_type": "display_data"
    }
   ],
   "source": [
    "#Filtering out inappropriate Glucose values - \"0Lo\"\n",
    "Inapprop_Glucose_data <- Glucose_data %>%\n",
    "    filter(str_detect(Glucose_Value, \"0Lo\"))\n",
    "\n",
    "head(Inapprop_Glucose_data, n = 5)\n",
    "nrow(Inapprop_Glucose_data)"
   ]
  },
  {
   "cell_type": "code",
   "execution_count": 105,
   "metadata": {},
   "outputs": [
    {
     "data": {
      "text/html": [
       "<table>\n",
       "<thead><tr><th scope=col>Date</th><th scope=col>Time</th><th scope=col>Insulin_Code</th><th scope=col>Insulin_dose</th><th scope=col>pid</th><th scope=col>date1</th><th scope=col>datetime</th><th scope=col>Glucose_Code</th><th scope=col>Glucose_Value</th></tr></thead>\n",
       "<tbody>\n",
       "\t<tr><td>04-21-1991         </td><td>9:09               </td><td>33                 </td><td> 9                 </td><td>D1                 </td><td>1991-04-21         </td><td>1991-04-21 09:09:00</td><td>58                 </td><td>100                </td></tr>\n",
       "\t<tr><td>04-21-1991         </td><td>17:08              </td><td>33                 </td><td> 7                 </td><td>D1                 </td><td>1991-04-21         </td><td>1991-04-21 17:08:00</td><td>62                 </td><td>119                </td></tr>\n",
       "\t<tr><td>04-22-1991         </td><td>7:35               </td><td>33                 </td><td>10                 </td><td>D1                 </td><td>1991-04-22         </td><td>1991-04-22 07:35:00</td><td>58                 </td><td>216                </td></tr>\n",
       "\t<tr><td>04-22-1991         </td><td>16:56              </td><td>33                 </td><td> 7                 </td><td>D1                 </td><td>1991-04-22         </td><td>1991-04-22 16:56:00</td><td>62                 </td><td>211                </td></tr>\n",
       "\t<tr><td>04-23-1991         </td><td>7:25               </td><td>33                 </td><td>11                 </td><td>D1                 </td><td>1991-04-23         </td><td>1991-04-23 07:25:00</td><td>58                 </td><td>257                </td></tr>\n",
       "</tbody>\n",
       "</table>\n"
      ],
      "text/latex": [
       "\\begin{tabular}{r|lllllllll}\n",
       " Date & Time & Insulin\\_Code & Insulin\\_dose & pid & date1 & datetime & Glucose\\_Code & Glucose\\_Value\\\\\n",
       "\\hline\n",
       "\t 04-21-1991          & 9:09                & 33                  &  9                  & D1                  & 1991-04-21          & 1991-04-21 09:09:00 & 58                  & 100                \\\\\n",
       "\t 04-21-1991          & 17:08               & 33                  &  7                  & D1                  & 1991-04-21          & 1991-04-21 17:08:00 & 62                  & 119                \\\\\n",
       "\t 04-22-1991          & 7:35                & 33                  & 10                  & D1                  & 1991-04-22          & 1991-04-22 07:35:00 & 58                  & 216                \\\\\n",
       "\t 04-22-1991          & 16:56               & 33                  &  7                  & D1                  & 1991-04-22          & 1991-04-22 16:56:00 & 62                  & 211                \\\\\n",
       "\t 04-23-1991          & 7:25                & 33                  & 11                  & D1                  & 1991-04-23          & 1991-04-23 07:25:00 & 58                  & 257                \\\\\n",
       "\\end{tabular}\n"
      ],
      "text/markdown": [
       "\n",
       "| Date | Time | Insulin_Code | Insulin_dose | pid | date1 | datetime | Glucose_Code | Glucose_Value |\n",
       "|---|---|---|---|---|---|---|---|---|\n",
       "| 04-21-1991          | 9:09                | 33                  |  9                  | D1                  | 1991-04-21          | 1991-04-21 09:09:00 | 58                  | 100                 |\n",
       "| 04-21-1991          | 17:08               | 33                  |  7                  | D1                  | 1991-04-21          | 1991-04-21 17:08:00 | 62                  | 119                 |\n",
       "| 04-22-1991          | 7:35                | 33                  | 10                  | D1                  | 1991-04-22          | 1991-04-22 07:35:00 | 58                  | 216                 |\n",
       "| 04-22-1991          | 16:56               | 33                  |  7                  | D1                  | 1991-04-22          | 1991-04-22 16:56:00 | 62                  | 211                 |\n",
       "| 04-23-1991          | 7:25                | 33                  | 11                  | D1                  | 1991-04-23          | 1991-04-23 07:25:00 | 58                  | 257                 |\n",
       "\n"
      ],
      "text/plain": [
       "  Date       Time  Insulin_Code Insulin_dose pid date1      datetime           \n",
       "1 04-21-1991 9:09  33            9           D1  1991-04-21 1991-04-21 09:09:00\n",
       "2 04-21-1991 17:08 33            7           D1  1991-04-21 1991-04-21 17:08:00\n",
       "3 04-22-1991 7:35  33           10           D1  1991-04-22 1991-04-22 07:35:00\n",
       "4 04-22-1991 16:56 33            7           D1  1991-04-22 1991-04-22 16:56:00\n",
       "5 04-23-1991 7:25  33           11           D1  1991-04-23 1991-04-23 07:25:00\n",
       "  Glucose_Code Glucose_Value\n",
       "1 58           100          \n",
       "2 62           119          \n",
       "3 58           216          \n",
       "4 62           211          \n",
       "5 58           257          "
      ]
     },
     "metadata": {},
     "output_type": "display_data"
    },
    {
     "data": {
      "text/html": [
       "3627"
      ],
      "text/latex": [
       "3627"
      ],
      "text/markdown": [
       "3627"
      ],
      "text/plain": [
       "[1] 3627"
      ]
     },
     "metadata": {},
     "output_type": "display_data"
    }
   ],
   "source": [
    "#Combine both tables for Insulin and Glucose values \n",
    "Diabetes_InsGlucose <- Insulin_data %>%\n",
    "    inner_join(Glucose_data, by = c(\"pid\", \"datetime\", \"date1\", \"Date\", \"Time\"))\n",
    "\n",
    "head(Diabetes_InsGlucose, n = 5)\n",
    "nrow(Diabetes_InsGlucose)"
   ]
  },
  {
   "cell_type": "code",
   "execution_count": 302,
   "metadata": {},
   "outputs": [
    {
     "data": {
      "text/html": [
       "<ol class=list-inline>\n",
       "\t<li>379</li>\n",
       "\t<li>396</li>\n",
       "\t<li>399</li>\n",
       "\t<li>403</li>\n",
       "\t<li>405</li>\n",
       "\t<li>412</li>\n",
       "\t<li>599</li>\n",
       "</ol>\n"
      ],
      "text/latex": [
       "\\begin{enumerate*}\n",
       "\\item 379\n",
       "\\item 396\n",
       "\\item 399\n",
       "\\item 403\n",
       "\\item 405\n",
       "\\item 412\n",
       "\\item 599\n",
       "\\end{enumerate*}\n"
      ],
      "text/markdown": [
       "1. 379\n",
       "2. 396\n",
       "3. 399\n",
       "4. 403\n",
       "5. 405\n",
       "6. 412\n",
       "7. 599\n",
       "\n",
       "\n"
      ],
      "text/plain": [
       "[1] 379 396 399 403 405 412 599"
      ]
     },
     "metadata": {},
     "output_type": "display_data"
    },
    {
     "data": {
      "text/html": [
       "154"
      ],
      "text/latex": [
       "154"
      ],
      "text/markdown": [
       "154"
      ],
      "text/plain": [
       "[1] 154"
      ]
     },
     "metadata": {},
     "output_type": "display_data"
    },
    {
     "data": {
      "text/plain": [
       "     Date               Time            Insulin_Code    Insulin_dose  \n",
       " Length:3627        Length:3627        Min.   :33.00   Min.   : 1.00  \n",
       " Class :character   Class :character   1st Qu.:33.00   1st Qu.: 5.00  \n",
       " Mode  :character   Mode  :character   Median :33.00   Median : 7.00  \n",
       "                                       Mean   :33.27   Mean   :10.15  \n",
       "                                       3rd Qu.:34.00   3rd Qu.:14.00  \n",
       "                                       Max.   :34.00   Max.   :35.00  \n",
       "                                                                      \n",
       "     pid                date1               datetime                  \n",
       " Length:3627        Min.   :1988-07-13   Min.   :1988-07-13 08:00:00  \n",
       " Class :character   1st Qu.:1989-11-11   1st Qu.:1989-11-11 07:00:00  \n",
       " Mode  :character   Median :1991-01-16   Median :1991-01-16 12:30:00  \n",
       "                    Mean   :1990-08-13   Mean   :1990-08-14 03:42:58  \n",
       "                    3rd Qu.:1991-06-13   3rd Qu.:1991-06-13 16:57:30  \n",
       "                    Max.   :1991-09-23   Max.   :1991-09-23 21:10:00  \n",
       "                    NA's   :4            NA's   :4                    \n",
       "  Glucose_Code   Glucose_Value  \n",
       " Min.   :48.00   Min.   :  0.0  \n",
       " 1st Qu.:58.00   1st Qu.:109.0  \n",
       " Median :58.00   Median :154.0  \n",
       " Mean   :59.23   Mean   :160.7  \n",
       " 3rd Qu.:62.00   3rd Qu.:205.0  \n",
       " Max.   :65.00   Max.   :450.0  \n",
       "                                "
      ]
     },
     "metadata": {},
     "output_type": "display_data"
    }
   ],
   "source": [
    "# FILTER OUT NA'S FROM GLUCOSE VALUES COLUMN\n",
    "\n",
    "#Used which() and is.na() to create index of observations without a recorded Glucose Value\n",
    "na_index <- which(is.na(Diabetes_InsGlucose$Glucose_Value))\n",
    "na_index\n",
    "\n",
    "#Compute median of Glucose Values\n",
    "median_gluc <- median(Diabetes_InsGlucose$Glucose_Value, na.rm = TRUE)\n",
    "median_gluc\n",
    "\n",
    "#Make a copy of Diabetes Data\n",
    "Diabetes_InsGlucose_replace <- Diabetes_InsGlucose\n",
    "\n",
    "#Replace missing Glucose Values\n",
    "Diabetes_InsGlucose_replace$Glucose_Value[na_index] <- median_gluc\n",
    "\n",
    "#Check if NA's have been removed\n",
    "summary(Diabetes_InsGlucose_replace)\n",
    "\n",
    "#Rename the replaced Diabetes Data\n",
    "Diabetes_InsGlucose3 <- Diabetes_InsGlucose_replace"
   ]
  },
  {
   "cell_type": "code",
   "execution_count": 141,
   "metadata": {},
   "outputs": [],
   "source": [
    "# FEATURE ENGINEERING "
   ]
  },
  {
   "cell_type": "code",
   "execution_count": 303,
   "metadata": {},
   "outputs": [
    {
     "name": "stdout",
     "output_type": "stream",
     "text": [
      "Rows: 3,627\n",
      "Columns: 21\n",
      "$ Date           <chr> \"04-21-1991\", \"04-21-1991\", \"04-22-1991\", \"04-22-1991\",~\n",
      "$ Time           <chr> \"9:09\", \"17:08\", \"7:35\", \"16:56\", \"7:25\", \"17:25\", \"7:5~\n",
      "$ Insulin_Code   <int> 33, 33, 33, 33, 33, 33, 33, 33, 33, 33, 33, 33, 33, 33,~\n",
      "$ Insulin_dose   <dbl> 9, 7, 10, 7, 11, 7, 10, 5, 9, 7, 2, 9, 7, 10, 8, 10, 7,~\n",
      "$ pid            <chr> \"D1\", \"D1\", \"D1\", \"D1\", \"D1\", \"D1\", \"D1\", \"D1\", \"D1\", \"~\n",
      "$ date1          <date> 1991-04-21, 1991-04-21, 1991-04-22, 1991-04-22, 1991-0~\n",
      "$ datetime       <dttm> 1991-04-21 09:09:00, 1991-04-21 17:08:00, 1991-04-22 0~\n",
      "$ Glucose_Code   <int> 58, 62, 58, 62, 58, 62, 58, 48, 58, 62, 48, 58, 62, 58,~\n",
      "$ Glucose_Value  <dbl> 100, 119, 216, 211, 257, 129, 239, 340, 67, 206, 288, 7~\n",
      "$ Reg_Ins        <dbl> 1, 1, 1, 1, 1, 1, 1, 1, 1, 1, 1, 1, 1, 1, 1, 1, 1, 1, 1~\n",
      "$ Inter_Ins      <dbl> 0, 0, 0, 0, 0, 0, 0, 0, 0, 0, 0, 0, 0, 0, 0, 0, 0, 0, 0~\n",
      "$ LongAct_Ins    <dbl> 0, 0, 0, 0, 0, 0, 0, 0, 0, 0, 0, 0, 0, 0, 0, 0, 0, 0, 0~\n",
      "$ Unspec_Gluc    <dbl> 0, 0, 0, 0, 0, 0, 0, 1, 0, 0, 1, 0, 0, 0, 0, 0, 0, 0, 0~\n",
      "$ PreBreak_Gluc  <dbl> 1, 0, 1, 0, 1, 0, 1, 0, 1, 0, 0, 1, 0, 1, 0, 1, 0, 1, 0~\n",
      "$ PostBreak_Gluc <dbl> 0, 0, 0, 0, 0, 0, 0, 0, 0, 0, 0, 0, 0, 0, 0, 0, 0, 0, 0~\n",
      "$ PreLun_Gluc    <dbl> 0, 0, 0, 0, 0, 0, 0, 0, 0, 0, 0, 0, 0, 0, 0, 0, 0, 0, 1~\n",
      "$ PostLun_Gluc   <dbl> 0, 0, 0, 0, 0, 0, 0, 0, 0, 0, 0, 0, 0, 0, 0, 0, 0, 0, 0~\n",
      "$ PreSup_Gluc    <dbl> 0, 1, 0, 1, 0, 1, 0, 0, 0, 1, 0, 0, 1, 0, 1, 0, 1, 0, 0~\n",
      "$ PostSup_Gluc   <dbl> 0, 0, 0, 0, 0, 0, 0, 0, 0, 0, 0, 0, 0, 0, 0, 0, 0, 0, 0~\n",
      "$ PreSnack_Gluc  <dbl> 0, 0, 0, 0, 0, 0, 0, 0, 0, 0, 0, 0, 0, 0, 0, 0, 0, 0, 0~\n",
      "$ Hypoglycaemia  <dbl> 0, 0, 0, 0, 0, 0, 0, 0, 0, 0, 0, 0, 0, 0, 0, 0, 0, 0, 0~\n"
     ]
    }
   ],
   "source": [
    "# One hot encoding the \"Code\" column into individual variable columns for Insulin and Glucose\n",
    "Diabetes_InsGlucose4 <- Diabetes_InsGlucose3 %>%\n",
    "    mutate(Reg_Ins = ifelse(Insulin_Code == \"33\", 1, 0),\n",
    "          Inter_Ins = ifelse(Insulin_Code == \"34\", 1, 0),\n",
    "          LongAct_Ins = ifelse(Insulin_Code == \"35\", 1, 0),\n",
    "          Unspec_Gluc = ifelse(Glucose_Code == \"48\" | Glucose_Code == \"57\", 1, 0),\n",
    "          PreBreak_Gluc = ifelse(Glucose_Code == \"58\", 1, 0),\n",
    "          PostBreak_Gluc = ifelse(Glucose_Code == \"59\", 1, 0),\n",
    "          PreLun_Gluc = ifelse(Glucose_Code == \"60\", 1, 0),\n",
    "          PostLun_Gluc = ifelse(Glucose_Code == \"61\", 1, 0),\n",
    "          PreSup_Gluc = ifelse(Glucose_Code == \"62\", 1, 0),\n",
    "          PostSup_Gluc = ifelse(Glucose_Code == \"63\", 1, 0),\n",
    "          PreSnack_Gluc = ifelse(Glucose_Code == \"64\", 1, 0),\n",
    "          Hypoglycaemia = ifelse(Glucose_Code == \"65\", 1, 0))\n",
    "\n",
    "glimpse(Diabetes_InsGlucose4)"
   ]
  },
  {
   "cell_type": "code",
   "execution_count": 304,
   "metadata": {},
   "outputs": [
    {
     "data": {
      "text/html": [
       "<table>\n",
       "<thead><tr><th scope=col>Date</th><th scope=col>Time</th><th scope=col>Insulin_Code</th><th scope=col>Insulin_dose</th><th scope=col>pid</th><th scope=col>date1</th><th scope=col>datetime</th><th scope=col>Glucose_Code</th><th scope=col>Glucose_Value</th><th scope=col>Reg_Ins</th><th scope=col>...</th><th scope=col>Unspec_Gluc</th><th scope=col>PreBreak_Gluc</th><th scope=col>PostBreak_Gluc</th><th scope=col>PreLun_Gluc</th><th scope=col>PostLun_Gluc</th><th scope=col>PreSup_Gluc</th><th scope=col>PostSup_Gluc</th><th scope=col>PreSnack_Gluc</th><th scope=col>Hypoglycaemia</th><th scope=col>Low_HighGlucose</th></tr></thead>\n",
       "<tbody>\n",
       "\t<tr><td>04-21-1991         </td><td>9:09               </td><td>33                 </td><td> 9                 </td><td>D1                 </td><td>1991-04-21         </td><td>1991-04-21 09:09:00</td><td>58                 </td><td>100                </td><td>1                  </td><td>...                </td><td>0                  </td><td>1                  </td><td>0                  </td><td>0                  </td><td>0                  </td><td>0                  </td><td>0                  </td><td>0                  </td><td>0                  </td><td>0                  </td></tr>\n",
       "\t<tr><td>04-21-1991         </td><td>17:08              </td><td>33                 </td><td> 7                 </td><td>D1                 </td><td>1991-04-21         </td><td>1991-04-21 17:08:00</td><td>62                 </td><td>119                </td><td>1                  </td><td>...                </td><td>0                  </td><td>0                  </td><td>0                  </td><td>0                  </td><td>0                  </td><td>1                  </td><td>0                  </td><td>0                  </td><td>0                  </td><td>0                  </td></tr>\n",
       "\t<tr><td>04-22-1991         </td><td>7:35               </td><td>33                 </td><td>10                 </td><td>D1                 </td><td>1991-04-22         </td><td>1991-04-22 07:35:00</td><td>58                 </td><td>216                </td><td>1                  </td><td>...                </td><td>0                  </td><td>1                  </td><td>0                  </td><td>0                  </td><td>0                  </td><td>0                  </td><td>0                  </td><td>0                  </td><td>0                  </td><td>1                  </td></tr>\n",
       "\t<tr><td>04-22-1991         </td><td>16:56              </td><td>33                 </td><td> 7                 </td><td>D1                 </td><td>1991-04-22         </td><td>1991-04-22 16:56:00</td><td>62                 </td><td>211                </td><td>1                  </td><td>...                </td><td>0                  </td><td>0                  </td><td>0                  </td><td>0                  </td><td>0                  </td><td>1                  </td><td>0                  </td><td>0                  </td><td>0                  </td><td>1                  </td></tr>\n",
       "\t<tr><td>04-23-1991         </td><td>7:25               </td><td>33                 </td><td>11                 </td><td>D1                 </td><td>1991-04-23         </td><td>1991-04-23 07:25:00</td><td>58                 </td><td>257                </td><td>1                  </td><td>...                </td><td>0                  </td><td>1                  </td><td>0                  </td><td>0                  </td><td>0                  </td><td>0                  </td><td>0                  </td><td>0                  </td><td>0                  </td><td>1                  </td></tr>\n",
       "</tbody>\n",
       "</table>\n"
      ],
      "text/latex": [
       "\\begin{tabular}{r|llllllllllllllllllllll}\n",
       " Date & Time & Insulin\\_Code & Insulin\\_dose & pid & date1 & datetime & Glucose\\_Code & Glucose\\_Value & Reg\\_Ins & ... & Unspec\\_Gluc & PreBreak\\_Gluc & PostBreak\\_Gluc & PreLun\\_Gluc & PostLun\\_Gluc & PreSup\\_Gluc & PostSup\\_Gluc & PreSnack\\_Gluc & Hypoglycaemia & Low\\_HighGlucose\\\\\n",
       "\\hline\n",
       "\t 04-21-1991          & 9:09                & 33                  &  9                  & D1                  & 1991-04-21          & 1991-04-21 09:09:00 & 58                  & 100                 & 1                   & ...                 & 0                   & 1                   & 0                   & 0                   & 0                   & 0                   & 0                   & 0                   & 0                   & 0                  \\\\\n",
       "\t 04-21-1991          & 17:08               & 33                  &  7                  & D1                  & 1991-04-21          & 1991-04-21 17:08:00 & 62                  & 119                 & 1                   & ...                 & 0                   & 0                   & 0                   & 0                   & 0                   & 1                   & 0                   & 0                   & 0                   & 0                  \\\\\n",
       "\t 04-22-1991          & 7:35                & 33                  & 10                  & D1                  & 1991-04-22          & 1991-04-22 07:35:00 & 58                  & 216                 & 1                   & ...                 & 0                   & 1                   & 0                   & 0                   & 0                   & 0                   & 0                   & 0                   & 0                   & 1                  \\\\\n",
       "\t 04-22-1991          & 16:56               & 33                  &  7                  & D1                  & 1991-04-22          & 1991-04-22 16:56:00 & 62                  & 211                 & 1                   & ...                 & 0                   & 0                   & 0                   & 0                   & 0                   & 1                   & 0                   & 0                   & 0                   & 1                  \\\\\n",
       "\t 04-23-1991          & 7:25                & 33                  & 11                  & D1                  & 1991-04-23          & 1991-04-23 07:25:00 & 58                  & 257                 & 1                   & ...                 & 0                   & 1                   & 0                   & 0                   & 0                   & 0                   & 0                   & 0                   & 0                   & 1                  \\\\\n",
       "\\end{tabular}\n"
      ],
      "text/markdown": [
       "\n",
       "| Date | Time | Insulin_Code | Insulin_dose | pid | date1 | datetime | Glucose_Code | Glucose_Value | Reg_Ins | ... | Unspec_Gluc | PreBreak_Gluc | PostBreak_Gluc | PreLun_Gluc | PostLun_Gluc | PreSup_Gluc | PostSup_Gluc | PreSnack_Gluc | Hypoglycaemia | Low_HighGlucose |\n",
       "|---|---|---|---|---|---|---|---|---|---|---|---|---|---|---|---|---|---|---|---|---|\n",
       "| 04-21-1991          | 9:09                | 33                  |  9                  | D1                  | 1991-04-21          | 1991-04-21 09:09:00 | 58                  | 100                 | 1                   | ...                 | 0                   | 1                   | 0                   | 0                   | 0                   | 0                   | 0                   | 0                   | 0                   | 0                   |\n",
       "| 04-21-1991          | 17:08               | 33                  |  7                  | D1                  | 1991-04-21          | 1991-04-21 17:08:00 | 62                  | 119                 | 1                   | ...                 | 0                   | 0                   | 0                   | 0                   | 0                   | 1                   | 0                   | 0                   | 0                   | 0                   |\n",
       "| 04-22-1991          | 7:35                | 33                  | 10                  | D1                  | 1991-04-22          | 1991-04-22 07:35:00 | 58                  | 216                 | 1                   | ...                 | 0                   | 1                   | 0                   | 0                   | 0                   | 0                   | 0                   | 0                   | 0                   | 1                   |\n",
       "| 04-22-1991          | 16:56               | 33                  |  7                  | D1                  | 1991-04-22          | 1991-04-22 16:56:00 | 62                  | 211                 | 1                   | ...                 | 0                   | 0                   | 0                   | 0                   | 0                   | 1                   | 0                   | 0                   | 0                   | 1                   |\n",
       "| 04-23-1991          | 7:25                | 33                  | 11                  | D1                  | 1991-04-23          | 1991-04-23 07:25:00 | 58                  | 257                 | 1                   | ...                 | 0                   | 1                   | 0                   | 0                   | 0                   | 0                   | 0                   | 0                   | 0                   | 1                   |\n",
       "\n"
      ],
      "text/plain": [
       "  Date       Time  Insulin_Code Insulin_dose pid date1      datetime           \n",
       "1 04-21-1991 9:09  33            9           D1  1991-04-21 1991-04-21 09:09:00\n",
       "2 04-21-1991 17:08 33            7           D1  1991-04-21 1991-04-21 17:08:00\n",
       "3 04-22-1991 7:35  33           10           D1  1991-04-22 1991-04-22 07:35:00\n",
       "4 04-22-1991 16:56 33            7           D1  1991-04-22 1991-04-22 16:56:00\n",
       "5 04-23-1991 7:25  33           11           D1  1991-04-23 1991-04-23 07:25:00\n",
       "  Glucose_Code Glucose_Value Reg_Ins ... Unspec_Gluc PreBreak_Gluc\n",
       "1 58           100           1       ... 0           1            \n",
       "2 62           119           1       ... 0           0            \n",
       "3 58           216           1       ... 0           1            \n",
       "4 62           211           1       ... 0           0            \n",
       "5 58           257           1       ... 0           1            \n",
       "  PostBreak_Gluc PreLun_Gluc PostLun_Gluc PreSup_Gluc PostSup_Gluc\n",
       "1 0              0           0            0           0           \n",
       "2 0              0           0            1           0           \n",
       "3 0              0           0            0           0           \n",
       "4 0              0           0            1           0           \n",
       "5 0              0           0            0           0           \n",
       "  PreSnack_Gluc Hypoglycaemia Low_HighGlucose\n",
       "1 0             0             0              \n",
       "2 0             0             0              \n",
       "3 0             0             1              \n",
       "4 0             0             1              \n",
       "5 0             0             1              "
      ]
     },
     "metadata": {},
     "output_type": "display_data"
    }
   ],
   "source": [
    "#One hot encode the \"Glucose Value\" column into either low (<= 40mg/dL) or high (>= 200mg/dL) values\n",
    "Diabetes_InsGlucose5 <- Diabetes_InsGlucose4 %>%\n",
    "    mutate(Low_HighGlucose = ifelse(Glucose_Value <= 40 | Glucose_Value >= 200, 1, 0))\n",
    "\n",
    "head(Diabetes_InsGlucose5, n = 5)"
   ]
  },
  {
   "cell_type": "code",
   "execution_count": 264,
   "metadata": {},
   "outputs": [
    {
     "name": "stdout",
     "output_type": "stream",
     "text": [
      "'data.frame':\t3627 obs. of  22 variables:\n",
      " $ Date           : chr  \"04-21-1991\" \"04-21-1991\" \"04-22-1991\" \"04-22-1991\" ...\n",
      " $ Time           : chr  \"9:09\" \"17:08\" \"7:35\" \"16:56\" ...\n",
      " $ Insulin_Code   : int  33 33 33 33 33 33 33 33 33 33 ...\n",
      " $ Insulin_dose   : num  9 7 10 7 11 7 10 5 9 7 ...\n",
      " $ pid            : chr  \"D1\" \"D1\" \"D1\" \"D1\" ...\n",
      " $ date1          : Date, format: \"1991-04-21\" \"1991-04-21\" ...\n",
      " $ datetime       : POSIXct, format: \"1991-04-21 09:09:00\" \"1991-04-21 17:08:00\" ...\n",
      " $ Glucose_Code   : int  58 62 58 62 58 62 58 48 58 62 ...\n",
      " $ Glucose_Value  : num  100 119 216 211 257 129 239 340 67 206 ...\n",
      " $ Reg_Ins        : num  1 1 1 1 1 1 1 1 1 1 ...\n",
      " $ Inter_Ins      : num  0 0 0 0 0 0 0 0 0 0 ...\n",
      " $ LongAct_Ins    : num  0 0 0 0 0 0 0 0 0 0 ...\n",
      " $ Unspec_Gluc    : num  0 0 0 0 0 0 0 1 0 0 ...\n",
      " $ PreBreak_Gluc  : num  1 0 1 0 1 0 1 0 1 0 ...\n",
      " $ PostBreak_Gluc : num  0 0 0 0 0 0 0 0 0 0 ...\n",
      " $ PreLun_Gluc    : num  0 0 0 0 0 0 0 0 0 0 ...\n",
      " $ PostLun_Gluc   : num  0 0 0 0 0 0 0 0 0 0 ...\n",
      " $ PreSup_Gluc    : num  0 1 0 1 0 1 0 0 0 1 ...\n",
      " $ PostSup_Gluc   : num  0 0 0 0 0 0 0 0 0 0 ...\n",
      " $ PreSnack_Gluc  : num  0 0 0 0 0 0 0 0 0 0 ...\n",
      " $ Hypoglycaemia  : num  0 0 0 0 0 0 0 0 0 0 ...\n",
      " $ Low_HighGlucose: num  0 0 1 1 1 0 1 1 0 1 ...\n"
     ]
    }
   ],
   "source": [
    "str(Diabetes_InsGlucose5)"
   ]
  },
  {
   "cell_type": "code",
   "execution_count": 305,
   "metadata": {},
   "outputs": [
    {
     "data": {
      "text/plain": [
       "     Date               Time            Insulin_Code    Insulin_dose  \n",
       " Length:3627        Length:3627        Min.   :33.00   Min.   : 1.00  \n",
       " Class :character   Class :character   1st Qu.:33.00   1st Qu.: 5.00  \n",
       " Mode  :character   Mode  :character   Median :33.00   Median : 7.00  \n",
       "                                       Mean   :33.27   Mean   :10.15  \n",
       "                                       3rd Qu.:34.00   3rd Qu.:14.00  \n",
       "                                       Max.   :34.00   Max.   :35.00  \n",
       "                                                                      \n",
       "     pid                date1               datetime                  \n",
       " Length:3627        Min.   :1988-07-13   Min.   :1988-07-13 08:00:00  \n",
       " Class :character   1st Qu.:1989-11-11   1st Qu.:1989-11-11 07:00:00  \n",
       " Mode  :character   Median :1991-01-16   Median :1991-01-16 12:30:00  \n",
       "                    Mean   :1990-08-13   Mean   :1990-08-14 03:42:58  \n",
       "                    3rd Qu.:1991-06-13   3rd Qu.:1991-06-13 16:57:30  \n",
       "                    Max.   :1991-09-23   Max.   :1991-09-23 21:10:00  \n",
       "                    NA's   :4            NA's   :4                    \n",
       "  Glucose_Code   Glucose_Value      Reg_Ins         Inter_Ins       LongAct_Ins\n",
       " Min.   :48.00   Min.   :  0.0   Min.   :0.0000   Min.   :0.0000   Min.   :0   \n",
       " 1st Qu.:58.00   1st Qu.:109.0   1st Qu.:0.0000   1st Qu.:0.0000   1st Qu.:0   \n",
       " Median :58.00   Median :154.0   Median :1.0000   Median :0.0000   Median :0   \n",
       " Mean   :59.23   Mean   :160.7   Mean   :0.7293   Mean   :0.2707   Mean   :0   \n",
       " 3rd Qu.:62.00   3rd Qu.:205.0   3rd Qu.:1.0000   3rd Qu.:1.0000   3rd Qu.:0   \n",
       " Max.   :65.00   Max.   :450.0   Max.   :1.0000   Max.   :1.0000   Max.   :0   \n",
       "                                                                               \n",
       "  Unspec_Gluc     PreBreak_Gluc    PostBreak_Gluc  PreLun_Gluc    \n",
       " Min.   :0.0000   Min.   :0.0000   Min.   :0      Min.   :0.0000  \n",
       " 1st Qu.:0.0000   1st Qu.:0.0000   1st Qu.:0      1st Qu.:0.0000  \n",
       " Median :0.0000   Median :0.0000   Median :0      Median :0.0000  \n",
       " Mean   :0.0386   Mean   :0.4767   Mean   :0      Mean   :0.2057  \n",
       " 3rd Qu.:0.0000   3rd Qu.:1.0000   3rd Qu.:0      3rd Qu.:0.0000  \n",
       " Max.   :1.0000   Max.   :1.0000   Max.   :0      Max.   :1.0000  \n",
       "                                                                  \n",
       "  PostLun_Gluc  PreSup_Gluc      PostSup_Gluc PreSnack_Gluc Hypoglycaemia    \n",
       " Min.   :0     Min.   :0.0000   Min.   :0     Min.   :0     Min.   :0.00000  \n",
       " 1st Qu.:0     1st Qu.:0.0000   1st Qu.:0     1st Qu.:0     1st Qu.:0.00000  \n",
       " Median :0     Median :0.0000   Median :0     Median :0     Median :0.00000  \n",
       " Mean   :0     Mean   :0.2492   Mean   :0     Mean   :0     Mean   :0.02978  \n",
       " 3rd Qu.:0     3rd Qu.:0.0000   3rd Qu.:0     3rd Qu.:0     3rd Qu.:0.00000  \n",
       " Max.   :0     Max.   :1.0000   Max.   :0     Max.   :0     Max.   :1.00000  \n",
       "                                                                             \n",
       " Low_HighGlucose \n",
       " Min.   :0.0000  \n",
       " 1st Qu.:0.0000  \n",
       " Median :0.0000  \n",
       " Mean   :0.3096  \n",
       " 3rd Qu.:1.0000  \n",
       " Max.   :1.0000  \n",
       "                 "
      ]
     },
     "metadata": {},
     "output_type": "display_data"
    }
   ],
   "source": [
    "summary(Diabetes_InsGlucose5)"
   ]
  },
  {
   "cell_type": "code",
   "execution_count": 306,
   "metadata": {},
   "outputs": [
    {
     "ename": "ERROR",
     "evalue": "Error in `$<-.data.frame`(`*tmp*`, Low_HighGlucose, value = structure(integer(0), .Label = character(0), class = \"factor\")): replacement has 0 rows, data has 3627\n",
     "output_type": "error",
     "traceback": [
      "Error in `$<-.data.frame`(`*tmp*`, Low_HighGlucose, value = structure(integer(0), .Label = character(0), class = \"factor\")): replacement has 0 rows, data has 3627\nTraceback:\n",
      "1. `$<-`(`*tmp*`, Low_HighGlucose, value = structure(integer(0), .Label = character(0), class = \"factor\"))",
      "2. `$<-.data.frame`(`*tmp*`, Low_HighGlucose, value = structure(integer(0), .Label = character(0), class = \"factor\"))",
      "3. stop(sprintf(ngettext(N, \"replacement has %d row, data has %d\", \n .     \"replacement has %d rows, data has %d\"), N, nrows), domain = NA)"
     ]
    }
   ],
   "source": [
    "# Converting \"Low_HighGlucose\" column from numeric to factor\n",
    "Diabetes_InsGlucose2$Low_HighGlucose <- as.factor(Diabetes_InsGlucose$Low_HighGlucose)\n",
    "\n",
    "sapply(Diabetes_InsGlucose2, class)\n",
    "str(Diabetes_InsGlucose2)"
   ]
  },
  {
   "cell_type": "code",
   "execution_count": 307,
   "metadata": {},
   "outputs": [],
   "source": [
    "# CLASSIFICATION \n",
    "#Objective here is to ascertain whether or not each (of the 30) patients has \"abnormal\" glucose values. This is defined as BM (< 40 OR >200)mg/dL"
   ]
  },
  {
   "cell_type": "code",
   "execution_count": 432,
   "metadata": {},
   "outputs": [
    {
     "name": "stdout",
     "output_type": "stream",
     "text": [
      "'data.frame':\t3627 obs. of  22 variables:\n",
      " $ Date           : chr  \"05-15-1991\" \"03-14-1990\" \"11-05-1989\" \"09-23-1989\" ...\n",
      " $ Time           : chr  \"12:00\" \"7:00\" \"20:00\" \"12:00\" ...\n",
      " $ Insulin_Code   : int  33 34 33 33 33 33 33 34 34 34 ...\n",
      " $ Insulin_dose   : num  3 18 6 12 5 12 8 15 27 27 ...\n",
      " $ pid            : chr  \"D30\" \"D28\" \"D28\" \"D21\" ...\n",
      " $ date1          : Date, format: \"1991-05-15\" \"1990-03-14\" ...\n",
      " $ datetime       : POSIXct, format: \"1991-05-15 12:00:00\" \"1990-03-14 07:00:00\" ...\n",
      " $ Glucose_Code   : int  60 58 62 60 58 62 60 58 58 58 ...\n",
      " $ Glucose_Value  : num  146 201 63 142 195 288 259 79 97 288 ...\n",
      " $ Reg_Ins        : num  1 0 1 1 1 1 1 0 0 0 ...\n",
      " $ Inter_Ins      : num  0 1 0 0 0 0 0 1 1 1 ...\n",
      " $ LongAct_Ins    : num  0 0 0 0 0 0 0 0 0 0 ...\n",
      " $ Unspec_Gluc    : num  0 0 0 0 0 0 0 0 0 0 ...\n",
      " $ PreBreak_Gluc  : num  0 1 0 0 1 0 0 1 1 1 ...\n",
      " $ PostBreak_Gluc : num  0 0 0 0 0 0 0 0 0 0 ...\n",
      " $ PreLun_Gluc    : num  1 0 0 1 0 0 1 0 0 0 ...\n",
      " $ PostLun_Gluc   : num  0 0 0 0 0 0 0 0 0 0 ...\n",
      " $ PreSup_Gluc    : num  0 0 1 0 0 1 0 0 0 0 ...\n",
      " $ PostSup_Gluc   : num  0 0 0 0 0 0 0 0 0 0 ...\n",
      " $ PreSnack_Gluc  : num  0 0 0 0 0 0 0 0 0 0 ...\n",
      " $ Hypoglycaemia  : num  0 0 0 0 0 0 0 0 0 0 ...\n",
      " $ Low_HighGlucose: Factor w/ 2 levels \"0\",\"1\": 1 2 1 1 1 2 2 1 1 2 ...\n"
     ]
    }
   ],
   "source": [
    "#Converting \"Low_HighGlucose\" column from numeric to a factor\n",
    "Diabetes_InsGlucose5$Low_HighGlucose = as.factor(Diabetes_InsGlucose5$Low_HighGlucose)\n",
    "str(Diabetes_InsGlucose5)"
   ]
  },
  {
   "cell_type": "code",
   "execution_count": 327,
   "metadata": {},
   "outputs": [
    {
     "data": {
      "text/plain": [
       "parsnip model object\n",
       "\n",
       "Fit time:  45ms \n",
       "n= 3627 \n",
       "\n",
       "node), split, n, loss, yval, (yprob)\n",
       "      * denotes terminal node\n",
       "\n",
       "1) root 3627 1123 0 (0.6903777 0.3096223) *"
      ]
     },
     "metadata": {},
     "output_type": "display_data"
    }
   ],
   "source": [
    "# Train decision trees that model the risk of uncontrolled diabetes in the 30 diabetic patients using the features provided as predictors\n",
    "\n",
    "#Create the specification \n",
    "tree_spec <- decision_tree() %>%\n",
    "    set_engine(\"rpart\") %>%\n",
    "    set_mode(\"classification\")\n",
    "   \n",
    "\n",
    "#Train the model\n",
    "tree_model_diabetes <- tree_spec %>%\n",
    "    fit(formula = Low_HighGlucose ~ Reg_Ins, data = Diabetes_InsGlucose5)\n",
    "\n",
    "#Print the model\n",
    "tree_model_diabetes"
   ]
  },
  {
   "cell_type": "code",
   "execution_count": 309,
   "metadata": {},
   "outputs": [
    {
     "data": {
      "text/html": [
       "0.599944858009374"
      ],
      "text/latex": [
       "0.599944858009374"
      ],
      "text/markdown": [
       "0.599944858009374"
      ],
      "text/plain": [
       "[1] 0.5999449"
      ]
     },
     "metadata": {},
     "output_type": "display_data"
    }
   ],
   "source": [
    "# Logistic regression on Diabetes patients datasets - train on 60%. (Cross validate *5 )\n",
    "\n",
    "#SPLITTING THE DATA\n",
    "#Randomly order the dataset\n",
    "rows <- sample(nrow(Diabetes_InsGlucose5))\n",
    "Diabetes_InsGlucose5 <- Diabetes_InsGlucose5[rows, ]\n",
    "\n",
    "#Find rows to split on \n",
    "split <- round(nrow(Diabetes_InsGlucose5) * 0.60)\n",
    "train <- Diabetes_InsGlucose5[1: split, ]\n",
    "test <- Diabetes_InsGlucose5[(split + 1):nrow(Diabetes_InsGlucose2), ]\n",
    "\n",
    "#Confirm Training set size\n",
    "nrow(train)/nrow(Diabetes_InsGlucose5)\n",
    "\n",
    "#RANDOM DATA RE-SHUFFLE TO MANUALLY CREATE TEST:TRAIN SPLIT\n",
    "#Get number of observations(rows) and assign to n_obs\n",
    "n_obs <- nrow(Diabetes_InsGlucose5)\n",
    "\n",
    "#Shuffle row indices of dataset & store result in permuted rows\n",
    "permuted_rows <- sample(n_obs)\n",
    "\n",
    "#Randomly order rows/data\n",
    "Diabetes_shuffled <- Diabetes_InsGlucose5[permuted_rows, ]\n",
    "\n",
    "#Identify proper row to split on for a 60/40 split\n",
    "split <- round(n_obs * 0.60)\n",
    "\n",
    "#Save 1st 60% of Diabetes_shuffled as training\n",
    "train <- Diabetes_shuffled[1:split, ]\n",
    "\n",
    "#Save last 40% of Diabetes_shuffled as test\n",
    "test <- Diabetes_shuffled[(split + 1):nrow(Diabetes_shuffled), ]"
   ]
  },
  {
   "cell_type": "code",
   "execution_count": 310,
   "metadata": {},
   "outputs": [],
   "source": [
    "#To handle different levels if present in train and test data\n",
    "levels(test$Low_HighGlucose) <- levels(train$Low_HighGlucose)"
   ]
  },
  {
   "cell_type": "code",
   "execution_count": null,
   "metadata": {},
   "outputs": [],
   "source": [
    "#Fit a log regression model using cross validation \n"
   ]
  },
  {
   "cell_type": "code",
   "execution_count": 375,
   "metadata": {},
   "outputs": [],
   "source": [
    "#Fit a log regression model to predict \"Low or High\" Glucose Values using one other predictor as baseline predictor model (code below commented out as this\n",
    "#affected the outputs for my Random Forest model below)\n",
    "#model <- glm(Low_HighGlucose ~ Reg_Ins + Unspec_Gluc, data = train, family = \"binomial\")"
   ]
  },
  {
   "cell_type": "code",
   "execution_count": 312,
   "metadata": {},
   "outputs": [
    {
     "data": {
      "text/plain": [
       "   Min. 1st Qu.  Median    Mean 3rd Qu.    Max. \n",
       " 0.2841  0.2841  0.2841  0.3207  0.3799  0.5620 "
      ]
     },
     "metadata": {},
     "output_type": "display_data"
    }
   ],
   "source": [
    "#Use baseline predictor model to make predictions \n",
    "predicts <- predict(model, test, type = \"response\")\n",
    "\n",
    "summary(predicts)"
   ]
  },
  {
   "cell_type": "code",
   "execution_count": 449,
   "metadata": {},
   "outputs": [],
   "source": [
    "#Fit a log regression model using all variables to predict \"Low or High\" Glucose values \n",
    "model1 <- glm(Low_HighGlucose ~ Reg_Ins + Inter_Ins + PreBreak_Gluc + PreLun_Gluc + PreSup_Gluc + PreSnack_Gluc + Unspec_Gluc + Insulin_dose + Glucose_Value, data = train, family = \"binomial\")"
   ]
  },
  {
   "cell_type": "code",
   "execution_count": 450,
   "metadata": {},
   "outputs": [
    {
     "name": "stderr",
     "output_type": "stream",
     "text": [
      "Warning message in predict.lm(object, newdata, se.fit, scale = 1, type = if (type == :\n",
      "\"prediction from a rank-deficient fit may be misleading\""
     ]
    },
    {
     "data": {
      "text/plain": [
       "     Min.   1st Qu.    Median      Mean   3rd Qu.      Max. \n",
       "0.0000068 0.0026251 0.0376970 0.2951129 0.6634369 1.0000000 "
      ]
     },
     "metadata": {},
     "output_type": "display_data"
    },
    {
     "data": {
      "text/html": [
       "<dl class=dl-horizontal>\n",
       "\t<dt>3620</dt>\n",
       "\t\t<dd>0.000662020016082709</dd>\n",
       "\t<dt>2311</dt>\n",
       "\t\t<dd>0.0433432174078861</dd>\n",
       "\t<dt>2490</dt>\n",
       "\t\t<dd>0.825632356557036</dd>\n",
       "\t<dt>965</dt>\n",
       "\t\t<dd>0.995020760575278</dd>\n",
       "\t<dt>298</dt>\n",
       "\t\t<dd>0.999263722537041</dd>\n",
       "\t<dt>2254</dt>\n",
       "\t\t<dd>0.0530021855107806</dd>\n",
       "</dl>\n"
      ],
      "text/latex": [
       "\\begin{description*}\n",
       "\\item[3620] 0.000662020016082709\n",
       "\\item[2311] 0.0433432174078861\n",
       "\\item[2490] 0.825632356557036\n",
       "\\item[965] 0.995020760575278\n",
       "\\item[298] 0.999263722537041\n",
       "\\item[2254] 0.0530021855107806\n",
       "\\end{description*}\n"
      ],
      "text/markdown": [
       "3620\n",
       ":   0.0006620200160827092311\n",
       ":   0.04334321740788612490\n",
       ":   0.825632356557036965\n",
       ":   0.995020760575278298\n",
       ":   0.9992637225370412254\n",
       ":   0.0530021855107806\n",
       "\n"
      ],
      "text/plain": [
       "      3620       2311       2490        965        298       2254 \n",
       "0.00066202 0.04334322 0.82563236 0.99502076 0.99926372 0.05300219 "
      ]
     },
     "metadata": {},
     "output_type": "display_data"
    }
   ],
   "source": [
    "#Predict on test set\n",
    "predictions <- predict(model1, newdata = test, type = \"response\")\n",
    "\n",
    "summary(predictions)\n",
    "head(predictions)"
   ]
  },
  {
   "cell_type": "code",
   "execution_count": 379,
   "metadata": {},
   "outputs": [
    {
     "data": {
      "text/plain": [
       "predictions_threshold\n",
       "  No  Yes \n",
       "1042  409 "
      ]
     },
     "metadata": {},
     "output_type": "display_data"
    },
    {
     "data": {
      "text/html": [
       "<dl class=dl-horizontal>\n",
       "\t<dt>3620</dt>\n",
       "\t\t<dd>'No'</dd>\n",
       "\t<dt>2311</dt>\n",
       "\t\t<dd>'No'</dd>\n",
       "\t<dt>2490</dt>\n",
       "\t\t<dd>'Yes'</dd>\n",
       "\t<dt>965</dt>\n",
       "\t\t<dd>'Yes'</dd>\n",
       "\t<dt>298</dt>\n",
       "\t\t<dd>'Yes'</dd>\n",
       "\t<dt>2254</dt>\n",
       "\t\t<dd>'No'</dd>\n",
       "\t<dt>3139</dt>\n",
       "\t\t<dd>'No'</dd>\n",
       "\t<dt>3019</dt>\n",
       "\t\t<dd>'No'</dd>\n",
       "\t<dt>524</dt>\n",
       "\t\t<dd>'No'</dd>\n",
       "\t<dt>801</dt>\n",
       "\t\t<dd>'Yes'</dd>\n",
       "\t<dt>1999</dt>\n",
       "\t\t<dd>'Yes'</dd>\n",
       "\t<dt>2252</dt>\n",
       "\t\t<dd>'No'</dd>\n",
       "\t<dt>3166</dt>\n",
       "\t\t<dd>'No'</dd>\n",
       "\t<dt>3534</dt>\n",
       "\t\t<dd>'No'</dd>\n",
       "\t<dt>2585</dt>\n",
       "\t\t<dd>'No'</dd>\n",
       "\t<dt>1972</dt>\n",
       "\t\t<dd>'Yes'</dd>\n",
       "\t<dt>606</dt>\n",
       "\t\t<dd>'Yes'</dd>\n",
       "\t<dt>2359</dt>\n",
       "\t\t<dd>'No'</dd>\n",
       "\t<dt>770</dt>\n",
       "\t\t<dd>'No'</dd>\n",
       "\t<dt>1253</dt>\n",
       "\t\t<dd>'Yes'</dd>\n",
       "</dl>\n"
      ],
      "text/latex": [
       "\\begin{description*}\n",
       "\\item[3620] 'No'\n",
       "\\item[2311] 'No'\n",
       "\\item[2490] 'Yes'\n",
       "\\item[965] 'Yes'\n",
       "\\item[298] 'Yes'\n",
       "\\item[2254] 'No'\n",
       "\\item[3139] 'No'\n",
       "\\item[3019] 'No'\n",
       "\\item[524] 'No'\n",
       "\\item[801] 'Yes'\n",
       "\\item[1999] 'Yes'\n",
       "\\item[2252] 'No'\n",
       "\\item[3166] 'No'\n",
       "\\item[3534] 'No'\n",
       "\\item[2585] 'No'\n",
       "\\item[1972] 'Yes'\n",
       "\\item[606] 'Yes'\n",
       "\\item[2359] 'No'\n",
       "\\item[770] 'No'\n",
       "\\item[1253] 'Yes'\n",
       "\\end{description*}\n"
      ],
      "text/markdown": [
       "3620\n",
       ":   'No'2311\n",
       ":   'No'2490\n",
       ":   'Yes'965\n",
       ":   'Yes'298\n",
       ":   'Yes'2254\n",
       ":   'No'3139\n",
       ":   'No'3019\n",
       ":   'No'524\n",
       ":   'No'801\n",
       ":   'Yes'1999\n",
       ":   'Yes'2252\n",
       ":   'No'3166\n",
       ":   'No'3534\n",
       ":   'No'2585\n",
       ":   'No'1972\n",
       ":   'Yes'606\n",
       ":   'Yes'2359\n",
       ":   'No'770\n",
       ":   'No'1253\n",
       ":   'Yes'\n",
       "\n"
      ],
      "text/plain": [
       " 3620  2311  2490   965   298  2254  3139  3019   524   801  1999  2252  3166 \n",
       " \"No\"  \"No\" \"Yes\" \"Yes\" \"Yes\"  \"No\"  \"No\"  \"No\"  \"No\" \"Yes\" \"Yes\"  \"No\"  \"No\" \n",
       " 3534  2585  1972   606  2359   770  1253 \n",
       " \"No\"  \"No\" \"Yes\" \"Yes\"  \"No\"  \"No\" \"Yes\" "
      ]
     },
     "metadata": {},
     "output_type": "display_data"
    }
   ],
   "source": [
    "#Turning the probabilities into classes - used probability of 50% as cutoff. Scores above 0.5 (equal \"Yes\") predict a likelihood of \n",
    "#uncontrolled blood glucose levels. Scores below 0.5 (equal \"No\") and predict \"normal\" blood glucose levels.\n",
    "predictions_threshold <- ifelse(predictions > 0.5, \"Yes\", \"No\")\n",
    "table(predictions_threshold)\n",
    "head(predictions_threshold, n = 20)"
   ]
  },
  {
   "cell_type": "code",
   "execution_count": 380,
   "metadata": {},
   "outputs": [],
   "source": [
    "#Include predictions as column into test dataframe\n",
    "test$predictions1 = predictions_threshold"
   ]
  },
  {
   "cell_type": "code",
   "execution_count": 381,
   "metadata": {},
   "outputs": [
    {
     "data": {
      "text/html": [
       "<table>\n",
       "<thead><tr><th></th><th scope=col>Date</th><th scope=col>Time</th><th scope=col>Insulin_Code</th><th scope=col>Insulin_dose</th><th scope=col>pid</th><th scope=col>date1</th><th scope=col>datetime</th><th scope=col>Glucose_Code</th><th scope=col>Glucose_Value</th><th scope=col>Reg_Ins</th><th scope=col>...</th><th scope=col>PostBreak_Gluc</th><th scope=col>PreLun_Gluc</th><th scope=col>PostLun_Gluc</th><th scope=col>PreSup_Gluc</th><th scope=col>PostSup_Gluc</th><th scope=col>PreSnack_Gluc</th><th scope=col>Hypoglycaemia</th><th scope=col>Low_HighGlucose</th><th scope=col>predictions1</th><th scope=col>predictions_factor</th></tr></thead>\n",
       "<tbody>\n",
       "\t<tr><th scope=row>3620</th><td>08-06-1991         </td><td>08:00              </td><td>34                 </td><td>27                 </td><td>D31                </td><td>1991-08-06         </td><td>1991-08-06 08:00:00</td><td>58                 </td><td> 97                </td><td>0                  </td><td>...                </td><td>0                  </td><td>0                  </td><td>0                  </td><td>0                  </td><td>0                  </td><td>0                  </td><td>0                  </td><td>0                  </td><td>No                 </td><td>0                  </td></tr>\n",
       "\t<tr><th scope=row>2311</th><td>04-21-1991         </td><td>08:00              </td><td>33                 </td><td> 5                 </td><td>D30                </td><td>1991-04-21         </td><td>1991-04-21 08:00:00</td><td>58                 </td><td>159                </td><td>1                  </td><td>...                </td><td>0                  </td><td>0                  </td><td>0                  </td><td>0                  </td><td>0                  </td><td>0                  </td><td>0                  </td><td>0                  </td><td>No                 </td><td>0                  </td></tr>\n",
       "\t<tr><th scope=row>2490</th><td>06-22-1991         </td><td>08:00              </td><td>33                 </td><td> 5                 </td><td>D31                </td><td>1991-06-22         </td><td>1991-06-22 08:00:00</td><td>58                 </td><td>225                </td><td>1                  </td><td>...                </td><td>0                  </td><td>0                  </td><td>0                  </td><td>0                  </td><td>0                  </td><td>0                  </td><td>0                  </td><td>1                  </td><td>Yes                </td><td>1                  </td></tr>\n",
       "\t<tr><th scope=row>965</th><td>05-19-1991         </td><td>19:15              </td><td>33                 </td><td>13                 </td><td>D20                </td><td>1991-05-19         </td><td>1991-05-19 19:15:00</td><td>62                 </td><td>277                </td><td>1                  </td><td>...                </td><td>0                  </td><td>0                  </td><td>0                  </td><td>1                  </td><td>0                  </td><td>0                  </td><td>0                  </td><td>1                  </td><td>Yes                </td><td>1                  </td></tr>\n",
       "\t<tr><th scope=row>298</th><td>10-10-1989         </td><td>18:00              </td><td>33                 </td><td>10                 </td><td>D2                 </td><td>1989-10-10         </td><td>1989-10-10 18:00:00</td><td>62                 </td><td>304                </td><td>1                  </td><td>...                </td><td>0                  </td><td>0                  </td><td>0                  </td><td>1                  </td><td>0                  </td><td>0                  </td><td>0                  </td><td>1                  </td><td>Yes                </td><td>1                  </td></tr>\n",
       "\t<tr><th scope=row>2254</th><td>04-02-1991         </td><td>08:00              </td><td>33                 </td><td> 5                 </td><td>D30                </td><td>1991-04-02         </td><td>1991-04-02 08:00:00</td><td>58                 </td><td>162                </td><td>1                  </td><td>...                </td><td>0                  </td><td>0                  </td><td>0                  </td><td>0                  </td><td>0                  </td><td>0                  </td><td>0                  </td><td>0                  </td><td>No                 </td><td>0                  </td></tr>\n",
       "\t<tr><th scope=row>3139</th><td>09-27-1989         </td><td>08:00              </td><td>34                 </td><td>18                 </td><td>D21                </td><td>1989-09-27         </td><td>1989-09-27 08:00:00</td><td>58                 </td><td>162                </td><td>0                  </td><td>...                </td><td>0                  </td><td>0                  </td><td>0                  </td><td>0                  </td><td>0                  </td><td>0                  </td><td>0                  </td><td>0                  </td><td>No                 </td><td>0                  </td></tr>\n",
       "\t<tr><th scope=row>3019</th><td>07-07-1991         </td><td>07:50              </td><td>34                 </td><td>24                 </td><td>D20                </td><td>1991-07-07         </td><td>1991-07-07 07:50:00</td><td>58                 </td><td>163                </td><td>0                  </td><td>...                </td><td>0                  </td><td>0                  </td><td>0                  </td><td>0                  </td><td>0                  </td><td>0                  </td><td>0                  </td><td>0                  </td><td>No                 </td><td>0                  </td></tr>\n",
       "\t<tr><th scope=row>524</th><td>12-06-1989         </td><td>22:00              </td><td>33                 </td><td>10                 </td><td>D2                 </td><td>1989-12-06         </td><td>1989-12-06 22:00:00</td><td>48                 </td><td> 65                </td><td>1                  </td><td>...                </td><td>0                  </td><td>0                  </td><td>0                  </td><td>0                  </td><td>0                  </td><td>0                  </td><td>0                  </td><td>0                  </td><td>No                 </td><td>0                  </td></tr>\n",
       "\t<tr><th scope=row>801</th><td>04-21-1989         </td><td>08:00              </td><td>33                 </td><td> 7                 </td><td>D7                 </td><td>1989-04-21         </td><td>1989-04-21 08:00:00</td><td>58                 </td><td>215                </td><td>1                  </td><td>...                </td><td>0                  </td><td>0                  </td><td>0                  </td><td>0                  </td><td>0                  </td><td>0                  </td><td>0                  </td><td>1                  </td><td>Yes                </td><td>1                  </td></tr>\n",
       "\t<tr><th scope=row>1999</th><td>01-03-1991         </td><td>7:00               </td><td>33                 </td><td> 6                 </td><td>D30                </td><td>1991-01-03         </td><td>1991-01-03 07:00:00</td><td>58                 </td><td>219                </td><td>1                  </td><td>...                </td><td>0                  </td><td>0                  </td><td>0                  </td><td>0                  </td><td>0                  </td><td>0                  </td><td>0                  </td><td>1                  </td><td>Yes                </td><td>1                  </td></tr>\n",
       "\t<tr><th scope=row>2252</th><td>04-01-1991         </td><td>12:00              </td><td>33                 </td><td> 3                 </td><td>D30                </td><td>1991-04-01         </td><td>1991-04-01 12:00:00</td><td>60                 </td><td>137                </td><td>1                  </td><td>...                </td><td>0                  </td><td>1                  </td><td>0                  </td><td>0                  </td><td>0                  </td><td>0                  </td><td>0                  </td><td>0                  </td><td>No                 </td><td>0                  </td></tr>\n",
       "\t<tr><th scope=row>3166</th><td>10-16-1989         </td><td>08:00              </td><td>34                 </td><td>18                 </td><td>D21                </td><td>1989-10-16         </td><td>1989-10-16 08:00:00</td><td>58                 </td><td>120                </td><td>0                  </td><td>...                </td><td>0                  </td><td>0                  </td><td>0                  </td><td>0                  </td><td>0                  </td><td>0                  </td><td>0                  </td><td>0                  </td><td>No                 </td><td>0                  </td></tr>\n",
       "\t<tr><th scope=row>3534</th><td>05-09-1991         </td><td>08:00              </td><td>34                 </td><td>27                 </td><td>D30                </td><td>1991-05-09         </td><td>1991-05-09 08:00:00</td><td>58                 </td><td>164                </td><td>0                  </td><td>...                </td><td>0                  </td><td>0                  </td><td>0                  </td><td>0                  </td><td>0                  </td><td>0                  </td><td>0                  </td><td>0                  </td><td>No                 </td><td>0                  </td></tr>\n",
       "\t<tr><th scope=row>2585</th><td>07-25-1991         </td><td>08:00              </td><td>33                 </td><td> 5                 </td><td>D31                </td><td>1991-07-25         </td><td>1991-07-25 08:00:00</td><td>58                 </td><td>122                </td><td>1                  </td><td>...                </td><td>0                  </td><td>0                  </td><td>0                  </td><td>0                  </td><td>0                  </td><td>0                  </td><td>0                  </td><td>0                  </td><td>No                 </td><td>0                  </td></tr>\n",
       "\t<tr><th scope=row>1972</th><td>12-24-1990         </td><td>7:00               </td><td>33                 </td><td> 6                 </td><td>D30                </td><td>1990-12-24         </td><td>1990-12-24 07:00:00</td><td>58                 </td><td>292                </td><td>1                  </td><td>...                </td><td>0                  </td><td>0                  </td><td>0                  </td><td>0                  </td><td>0                  </td><td>0                  </td><td>0                  </td><td>1                  </td><td>Yes                </td><td>1                  </td></tr>\n",
       "\t<tr><th scope=row>606</th><td>12-27-1989         </td><td>18:00              </td><td>33                 </td><td>12                 </td><td>D2                 </td><td>1989-12-27         </td><td>1989-12-27 18:00:00</td><td>62                 </td><td>251                </td><td>1                  </td><td>...                </td><td>0                  </td><td>0                  </td><td>0                  </td><td>1                  </td><td>0                  </td><td>0                  </td><td>0                  </td><td>1                  </td><td>Yes                </td><td>1                  </td></tr>\n",
       "\t<tr><th scope=row>2359</th><td>05-07-1991         </td><td>08:00              </td><td>33                 </td><td> 5                 </td><td>D30                </td><td>1991-05-07         </td><td>1991-05-07 08:00:00</td><td>58                 </td><td>185                </td><td>1                  </td><td>...                </td><td>0                  </td><td>0                  </td><td>0                  </td><td>0                  </td><td>0                  </td><td>0                  </td><td>0                  </td><td>0                  </td><td>No                 </td><td>0                  </td></tr>\n",
       "\t<tr><th scope=row>770</th><td>04-09-1989         </td><td>18:00              </td><td>33                 </td><td>10                 </td><td>D7                 </td><td>1989-04-09         </td><td>1989-04-09 18:00:00</td><td>62                 </td><td>155                </td><td>1                  </td><td>...                </td><td>0                  </td><td>0                  </td><td>0                  </td><td>1                  </td><td>0                  </td><td>0                  </td><td>0                  </td><td>0                  </td><td>No                 </td><td>0                  </td></tr>\n",
       "\t<tr><th scope=row>1253</th><td>08-23-1991         </td><td>18:00              </td><td>33                 </td><td>13                 </td><td>D20                </td><td>1991-08-23         </td><td>1991-08-23 18:00:00</td><td>62                 </td><td>226                </td><td>1                  </td><td>...                </td><td>0                  </td><td>0                  </td><td>0                  </td><td>1                  </td><td>0                  </td><td>0                  </td><td>0                  </td><td>1                  </td><td>Yes                </td><td>1                  </td></tr>\n",
       "</tbody>\n",
       "</table>\n"
      ],
      "text/latex": [
       "\\begin{tabular}{r|llllllllllllllllllllllll}\n",
       "  & Date & Time & Insulin\\_Code & Insulin\\_dose & pid & date1 & datetime & Glucose\\_Code & Glucose\\_Value & Reg\\_Ins & ... & PostBreak\\_Gluc & PreLun\\_Gluc & PostLun\\_Gluc & PreSup\\_Gluc & PostSup\\_Gluc & PreSnack\\_Gluc & Hypoglycaemia & Low\\_HighGlucose & predictions1 & predictions\\_factor\\\\\n",
       "\\hline\n",
       "\t3620 & 08-06-1991          & 08:00               & 34                  & 27                  & D31                 & 1991-08-06          & 1991-08-06 08:00:00 & 58                  &  97                 & 0                   & ...                 & 0                   & 0                   & 0                   & 0                   & 0                   & 0                   & 0                   & 0                   & No                  & 0                  \\\\\n",
       "\t2311 & 04-21-1991          & 08:00               & 33                  &  5                  & D30                 & 1991-04-21          & 1991-04-21 08:00:00 & 58                  & 159                 & 1                   & ...                 & 0                   & 0                   & 0                   & 0                   & 0                   & 0                   & 0                   & 0                   & No                  & 0                  \\\\\n",
       "\t2490 & 06-22-1991          & 08:00               & 33                  &  5                  & D31                 & 1991-06-22          & 1991-06-22 08:00:00 & 58                  & 225                 & 1                   & ...                 & 0                   & 0                   & 0                   & 0                   & 0                   & 0                   & 0                   & 1                   & Yes                 & 1                  \\\\\n",
       "\t965 & 05-19-1991          & 19:15               & 33                  & 13                  & D20                 & 1991-05-19          & 1991-05-19 19:15:00 & 62                  & 277                 & 1                   & ...                 & 0                   & 0                   & 0                   & 1                   & 0                   & 0                   & 0                   & 1                   & Yes                 & 1                  \\\\\n",
       "\t298 & 10-10-1989          & 18:00               & 33                  & 10                  & D2                  & 1989-10-10          & 1989-10-10 18:00:00 & 62                  & 304                 & 1                   & ...                 & 0                   & 0                   & 0                   & 1                   & 0                   & 0                   & 0                   & 1                   & Yes                 & 1                  \\\\\n",
       "\t2254 & 04-02-1991          & 08:00               & 33                  &  5                  & D30                 & 1991-04-02          & 1991-04-02 08:00:00 & 58                  & 162                 & 1                   & ...                 & 0                   & 0                   & 0                   & 0                   & 0                   & 0                   & 0                   & 0                   & No                  & 0                  \\\\\n",
       "\t3139 & 09-27-1989          & 08:00               & 34                  & 18                  & D21                 & 1989-09-27          & 1989-09-27 08:00:00 & 58                  & 162                 & 0                   & ...                 & 0                   & 0                   & 0                   & 0                   & 0                   & 0                   & 0                   & 0                   & No                  & 0                  \\\\\n",
       "\t3019 & 07-07-1991          & 07:50               & 34                  & 24                  & D20                 & 1991-07-07          & 1991-07-07 07:50:00 & 58                  & 163                 & 0                   & ...                 & 0                   & 0                   & 0                   & 0                   & 0                   & 0                   & 0                   & 0                   & No                  & 0                  \\\\\n",
       "\t524 & 12-06-1989          & 22:00               & 33                  & 10                  & D2                  & 1989-12-06          & 1989-12-06 22:00:00 & 48                  &  65                 & 1                   & ...                 & 0                   & 0                   & 0                   & 0                   & 0                   & 0                   & 0                   & 0                   & No                  & 0                  \\\\\n",
       "\t801 & 04-21-1989          & 08:00               & 33                  &  7                  & D7                  & 1989-04-21          & 1989-04-21 08:00:00 & 58                  & 215                 & 1                   & ...                 & 0                   & 0                   & 0                   & 0                   & 0                   & 0                   & 0                   & 1                   & Yes                 & 1                  \\\\\n",
       "\t1999 & 01-03-1991          & 7:00                & 33                  &  6                  & D30                 & 1991-01-03          & 1991-01-03 07:00:00 & 58                  & 219                 & 1                   & ...                 & 0                   & 0                   & 0                   & 0                   & 0                   & 0                   & 0                   & 1                   & Yes                 & 1                  \\\\\n",
       "\t2252 & 04-01-1991          & 12:00               & 33                  &  3                  & D30                 & 1991-04-01          & 1991-04-01 12:00:00 & 60                  & 137                 & 1                   & ...                 & 0                   & 1                   & 0                   & 0                   & 0                   & 0                   & 0                   & 0                   & No                  & 0                  \\\\\n",
       "\t3166 & 10-16-1989          & 08:00               & 34                  & 18                  & D21                 & 1989-10-16          & 1989-10-16 08:00:00 & 58                  & 120                 & 0                   & ...                 & 0                   & 0                   & 0                   & 0                   & 0                   & 0                   & 0                   & 0                   & No                  & 0                  \\\\\n",
       "\t3534 & 05-09-1991          & 08:00               & 34                  & 27                  & D30                 & 1991-05-09          & 1991-05-09 08:00:00 & 58                  & 164                 & 0                   & ...                 & 0                   & 0                   & 0                   & 0                   & 0                   & 0                   & 0                   & 0                   & No                  & 0                  \\\\\n",
       "\t2585 & 07-25-1991          & 08:00               & 33                  &  5                  & D31                 & 1991-07-25          & 1991-07-25 08:00:00 & 58                  & 122                 & 1                   & ...                 & 0                   & 0                   & 0                   & 0                   & 0                   & 0                   & 0                   & 0                   & No                  & 0                  \\\\\n",
       "\t1972 & 12-24-1990          & 7:00                & 33                  &  6                  & D30                 & 1990-12-24          & 1990-12-24 07:00:00 & 58                  & 292                 & 1                   & ...                 & 0                   & 0                   & 0                   & 0                   & 0                   & 0                   & 0                   & 1                   & Yes                 & 1                  \\\\\n",
       "\t606 & 12-27-1989          & 18:00               & 33                  & 12                  & D2                  & 1989-12-27          & 1989-12-27 18:00:00 & 62                  & 251                 & 1                   & ...                 & 0                   & 0                   & 0                   & 1                   & 0                   & 0                   & 0                   & 1                   & Yes                 & 1                  \\\\\n",
       "\t2359 & 05-07-1991          & 08:00               & 33                  &  5                  & D30                 & 1991-05-07          & 1991-05-07 08:00:00 & 58                  & 185                 & 1                   & ...                 & 0                   & 0                   & 0                   & 0                   & 0                   & 0                   & 0                   & 0                   & No                  & 0                  \\\\\n",
       "\t770 & 04-09-1989          & 18:00               & 33                  & 10                  & D7                  & 1989-04-09          & 1989-04-09 18:00:00 & 62                  & 155                 & 1                   & ...                 & 0                   & 0                   & 0                   & 1                   & 0                   & 0                   & 0                   & 0                   & No                  & 0                  \\\\\n",
       "\t1253 & 08-23-1991          & 18:00               & 33                  & 13                  & D20                 & 1991-08-23          & 1991-08-23 18:00:00 & 62                  & 226                 & 1                   & ...                 & 0                   & 0                   & 0                   & 1                   & 0                   & 0                   & 0                   & 1                   & Yes                 & 1                  \\\\\n",
       "\\end{tabular}\n"
      ],
      "text/markdown": [
       "\n",
       "| <!--/--> | Date | Time | Insulin_Code | Insulin_dose | pid | date1 | datetime | Glucose_Code | Glucose_Value | Reg_Ins | ... | PostBreak_Gluc | PreLun_Gluc | PostLun_Gluc | PreSup_Gluc | PostSup_Gluc | PreSnack_Gluc | Hypoglycaemia | Low_HighGlucose | predictions1 | predictions_factor |\n",
       "|---|---|---|---|---|---|---|---|---|---|---|---|---|---|---|---|---|---|---|---|---|---|\n",
       "| 3620 | 08-06-1991          | 08:00               | 34                  | 27                  | D31                 | 1991-08-06          | 1991-08-06 08:00:00 | 58                  |  97                 | 0                   | ...                 | 0                   | 0                   | 0                   | 0                   | 0                   | 0                   | 0                   | 0                   | No                  | 0                   |\n",
       "| 2311 | 04-21-1991          | 08:00               | 33                  |  5                  | D30                 | 1991-04-21          | 1991-04-21 08:00:00 | 58                  | 159                 | 1                   | ...                 | 0                   | 0                   | 0                   | 0                   | 0                   | 0                   | 0                   | 0                   | No                  | 0                   |\n",
       "| 2490 | 06-22-1991          | 08:00               | 33                  |  5                  | D31                 | 1991-06-22          | 1991-06-22 08:00:00 | 58                  | 225                 | 1                   | ...                 | 0                   | 0                   | 0                   | 0                   | 0                   | 0                   | 0                   | 1                   | Yes                 | 1                   |\n",
       "| 965 | 05-19-1991          | 19:15               | 33                  | 13                  | D20                 | 1991-05-19          | 1991-05-19 19:15:00 | 62                  | 277                 | 1                   | ...                 | 0                   | 0                   | 0                   | 1                   | 0                   | 0                   | 0                   | 1                   | Yes                 | 1                   |\n",
       "| 298 | 10-10-1989          | 18:00               | 33                  | 10                  | D2                  | 1989-10-10          | 1989-10-10 18:00:00 | 62                  | 304                 | 1                   | ...                 | 0                   | 0                   | 0                   | 1                   | 0                   | 0                   | 0                   | 1                   | Yes                 | 1                   |\n",
       "| 2254 | 04-02-1991          | 08:00               | 33                  |  5                  | D30                 | 1991-04-02          | 1991-04-02 08:00:00 | 58                  | 162                 | 1                   | ...                 | 0                   | 0                   | 0                   | 0                   | 0                   | 0                   | 0                   | 0                   | No                  | 0                   |\n",
       "| 3139 | 09-27-1989          | 08:00               | 34                  | 18                  | D21                 | 1989-09-27          | 1989-09-27 08:00:00 | 58                  | 162                 | 0                   | ...                 | 0                   | 0                   | 0                   | 0                   | 0                   | 0                   | 0                   | 0                   | No                  | 0                   |\n",
       "| 3019 | 07-07-1991          | 07:50               | 34                  | 24                  | D20                 | 1991-07-07          | 1991-07-07 07:50:00 | 58                  | 163                 | 0                   | ...                 | 0                   | 0                   | 0                   | 0                   | 0                   | 0                   | 0                   | 0                   | No                  | 0                   |\n",
       "| 524 | 12-06-1989          | 22:00               | 33                  | 10                  | D2                  | 1989-12-06          | 1989-12-06 22:00:00 | 48                  |  65                 | 1                   | ...                 | 0                   | 0                   | 0                   | 0                   | 0                   | 0                   | 0                   | 0                   | No                  | 0                   |\n",
       "| 801 | 04-21-1989          | 08:00               | 33                  |  7                  | D7                  | 1989-04-21          | 1989-04-21 08:00:00 | 58                  | 215                 | 1                   | ...                 | 0                   | 0                   | 0                   | 0                   | 0                   | 0                   | 0                   | 1                   | Yes                 | 1                   |\n",
       "| 1999 | 01-03-1991          | 7:00                | 33                  |  6                  | D30                 | 1991-01-03          | 1991-01-03 07:00:00 | 58                  | 219                 | 1                   | ...                 | 0                   | 0                   | 0                   | 0                   | 0                   | 0                   | 0                   | 1                   | Yes                 | 1                   |\n",
       "| 2252 | 04-01-1991          | 12:00               | 33                  |  3                  | D30                 | 1991-04-01          | 1991-04-01 12:00:00 | 60                  | 137                 | 1                   | ...                 | 0                   | 1                   | 0                   | 0                   | 0                   | 0                   | 0                   | 0                   | No                  | 0                   |\n",
       "| 3166 | 10-16-1989          | 08:00               | 34                  | 18                  | D21                 | 1989-10-16          | 1989-10-16 08:00:00 | 58                  | 120                 | 0                   | ...                 | 0                   | 0                   | 0                   | 0                   | 0                   | 0                   | 0                   | 0                   | No                  | 0                   |\n",
       "| 3534 | 05-09-1991          | 08:00               | 34                  | 27                  | D30                 | 1991-05-09          | 1991-05-09 08:00:00 | 58                  | 164                 | 0                   | ...                 | 0                   | 0                   | 0                   | 0                   | 0                   | 0                   | 0                   | 0                   | No                  | 0                   |\n",
       "| 2585 | 07-25-1991          | 08:00               | 33                  |  5                  | D31                 | 1991-07-25          | 1991-07-25 08:00:00 | 58                  | 122                 | 1                   | ...                 | 0                   | 0                   | 0                   | 0                   | 0                   | 0                   | 0                   | 0                   | No                  | 0                   |\n",
       "| 1972 | 12-24-1990          | 7:00                | 33                  |  6                  | D30                 | 1990-12-24          | 1990-12-24 07:00:00 | 58                  | 292                 | 1                   | ...                 | 0                   | 0                   | 0                   | 0                   | 0                   | 0                   | 0                   | 1                   | Yes                 | 1                   |\n",
       "| 606 | 12-27-1989          | 18:00               | 33                  | 12                  | D2                  | 1989-12-27          | 1989-12-27 18:00:00 | 62                  | 251                 | 1                   | ...                 | 0                   | 0                   | 0                   | 1                   | 0                   | 0                   | 0                   | 1                   | Yes                 | 1                   |\n",
       "| 2359 | 05-07-1991          | 08:00               | 33                  |  5                  | D30                 | 1991-05-07          | 1991-05-07 08:00:00 | 58                  | 185                 | 1                   | ...                 | 0                   | 0                   | 0                   | 0                   | 0                   | 0                   | 0                   | 0                   | No                  | 0                   |\n",
       "| 770 | 04-09-1989          | 18:00               | 33                  | 10                  | D7                  | 1989-04-09          | 1989-04-09 18:00:00 | 62                  | 155                 | 1                   | ...                 | 0                   | 0                   | 0                   | 1                   | 0                   | 0                   | 0                   | 0                   | No                  | 0                   |\n",
       "| 1253 | 08-23-1991          | 18:00               | 33                  | 13                  | D20                 | 1991-08-23          | 1991-08-23 18:00:00 | 62                  | 226                 | 1                   | ...                 | 0                   | 0                   | 0                   | 1                   | 0                   | 0                   | 0                   | 1                   | Yes                 | 1                   |\n",
       "\n"
      ],
      "text/plain": [
       "     Date       Time  Insulin_Code Insulin_dose pid date1     \n",
       "3620 08-06-1991 08:00 34           27           D31 1991-08-06\n",
       "2311 04-21-1991 08:00 33            5           D30 1991-04-21\n",
       "2490 06-22-1991 08:00 33            5           D31 1991-06-22\n",
       "965  05-19-1991 19:15 33           13           D20 1991-05-19\n",
       "298  10-10-1989 18:00 33           10           D2  1989-10-10\n",
       "2254 04-02-1991 08:00 33            5           D30 1991-04-02\n",
       "3139 09-27-1989 08:00 34           18           D21 1989-09-27\n",
       "3019 07-07-1991 07:50 34           24           D20 1991-07-07\n",
       "524  12-06-1989 22:00 33           10           D2  1989-12-06\n",
       "801  04-21-1989 08:00 33            7           D7  1989-04-21\n",
       "1999 01-03-1991 7:00  33            6           D30 1991-01-03\n",
       "2252 04-01-1991 12:00 33            3           D30 1991-04-01\n",
       "3166 10-16-1989 08:00 34           18           D21 1989-10-16\n",
       "3534 05-09-1991 08:00 34           27           D30 1991-05-09\n",
       "2585 07-25-1991 08:00 33            5           D31 1991-07-25\n",
       "1972 12-24-1990 7:00  33            6           D30 1990-12-24\n",
       "606  12-27-1989 18:00 33           12           D2  1989-12-27\n",
       "2359 05-07-1991 08:00 33            5           D30 1991-05-07\n",
       "770  04-09-1989 18:00 33           10           D7  1989-04-09\n",
       "1253 08-23-1991 18:00 33           13           D20 1991-08-23\n",
       "     datetime            Glucose_Code Glucose_Value Reg_Ins ... PostBreak_Gluc\n",
       "3620 1991-08-06 08:00:00 58            97           0       ... 0             \n",
       "2311 1991-04-21 08:00:00 58           159           1       ... 0             \n",
       "2490 1991-06-22 08:00:00 58           225           1       ... 0             \n",
       "965  1991-05-19 19:15:00 62           277           1       ... 0             \n",
       "298  1989-10-10 18:00:00 62           304           1       ... 0             \n",
       "2254 1991-04-02 08:00:00 58           162           1       ... 0             \n",
       "3139 1989-09-27 08:00:00 58           162           0       ... 0             \n",
       "3019 1991-07-07 07:50:00 58           163           0       ... 0             \n",
       "524  1989-12-06 22:00:00 48            65           1       ... 0             \n",
       "801  1989-04-21 08:00:00 58           215           1       ... 0             \n",
       "1999 1991-01-03 07:00:00 58           219           1       ... 0             \n",
       "2252 1991-04-01 12:00:00 60           137           1       ... 0             \n",
       "3166 1989-10-16 08:00:00 58           120           0       ... 0             \n",
       "3534 1991-05-09 08:00:00 58           164           0       ... 0             \n",
       "2585 1991-07-25 08:00:00 58           122           1       ... 0             \n",
       "1972 1990-12-24 07:00:00 58           292           1       ... 0             \n",
       "606  1989-12-27 18:00:00 62           251           1       ... 0             \n",
       "2359 1991-05-07 08:00:00 58           185           1       ... 0             \n",
       "770  1989-04-09 18:00:00 62           155           1       ... 0             \n",
       "1253 1991-08-23 18:00:00 62           226           1       ... 0             \n",
       "     PreLun_Gluc PostLun_Gluc PreSup_Gluc PostSup_Gluc PreSnack_Gluc\n",
       "3620 0           0            0           0            0            \n",
       "2311 0           0            0           0            0            \n",
       "2490 0           0            0           0            0            \n",
       "965  0           0            1           0            0            \n",
       "298  0           0            1           0            0            \n",
       "2254 0           0            0           0            0            \n",
       "3139 0           0            0           0            0            \n",
       "3019 0           0            0           0            0            \n",
       "524  0           0            0           0            0            \n",
       "801  0           0            0           0            0            \n",
       "1999 0           0            0           0            0            \n",
       "2252 1           0            0           0            0            \n",
       "3166 0           0            0           0            0            \n",
       "3534 0           0            0           0            0            \n",
       "2585 0           0            0           0            0            \n",
       "1972 0           0            0           0            0            \n",
       "606  0           0            1           0            0            \n",
       "2359 0           0            0           0            0            \n",
       "770  0           0            1           0            0            \n",
       "1253 0           0            1           0            0            \n",
       "     Hypoglycaemia Low_HighGlucose predictions1 predictions_factor\n",
       "3620 0             0               No           0                 \n",
       "2311 0             0               No           0                 \n",
       "2490 0             1               Yes          1                 \n",
       "965  0             1               Yes          1                 \n",
       "298  0             1               Yes          1                 \n",
       "2254 0             0               No           0                 \n",
       "3139 0             0               No           0                 \n",
       "3019 0             0               No           0                 \n",
       "524  0             0               No           0                 \n",
       "801  0             1               Yes          1                 \n",
       "1999 0             1               Yes          1                 \n",
       "2252 0             0               No           0                 \n",
       "3166 0             0               No           0                 \n",
       "3534 0             0               No           0                 \n",
       "2585 0             0               No           0                 \n",
       "1972 0             1               Yes          1                 \n",
       "606  0             1               Yes          1                 \n",
       "2359 0             0               No           0                 \n",
       "770  0             0               No           0                 \n",
       "1253 0             1               Yes          1                 "
      ]
     },
     "metadata": {},
     "output_type": "display_data"
    }
   ],
   "source": [
    "head(test, n = 20)\n",
    "\n",
    "#use dplyr to filter out all \"Yes\" predictions"
   ]
  },
  {
   "cell_type": "code",
   "execution_count": 382,
   "metadata": {},
   "outputs": [],
   "source": [
    "#Conversion of predictions column to factor class\n",
    "test$predictions_factor = ifelse(predictions > 0.5, 1, 0)"
   ]
  },
  {
   "cell_type": "code",
   "execution_count": 383,
   "metadata": {},
   "outputs": [
    {
     "data": {
      "text/html": [
       "<table>\n",
       "<thead><tr><th></th><th scope=col>Date</th><th scope=col>Time</th><th scope=col>Insulin_Code</th><th scope=col>Insulin_dose</th><th scope=col>pid</th><th scope=col>date1</th><th scope=col>datetime</th><th scope=col>Glucose_Code</th><th scope=col>Glucose_Value</th><th scope=col>Reg_Ins</th><th scope=col>...</th><th scope=col>PostBreak_Gluc</th><th scope=col>PreLun_Gluc</th><th scope=col>PostLun_Gluc</th><th scope=col>PreSup_Gluc</th><th scope=col>PostSup_Gluc</th><th scope=col>PreSnack_Gluc</th><th scope=col>Hypoglycaemia</th><th scope=col>Low_HighGlucose</th><th scope=col>predictions1</th><th scope=col>predictions_factor</th></tr></thead>\n",
       "<tbody>\n",
       "\t<tr><th scope=row>3620</th><td>08-06-1991         </td><td>08:00              </td><td>34                 </td><td>27                 </td><td>D31                </td><td>1991-08-06         </td><td>1991-08-06 08:00:00</td><td>58                 </td><td> 97                </td><td>0                  </td><td>...                </td><td>0                  </td><td>0                  </td><td>0                  </td><td>0                  </td><td>0                  </td><td>0                  </td><td>0                  </td><td>0                  </td><td>No                 </td><td>0                  </td></tr>\n",
       "\t<tr><th scope=row>2311</th><td>04-21-1991         </td><td>08:00              </td><td>33                 </td><td> 5                 </td><td>D30                </td><td>1991-04-21         </td><td>1991-04-21 08:00:00</td><td>58                 </td><td>159                </td><td>1                  </td><td>...                </td><td>0                  </td><td>0                  </td><td>0                  </td><td>0                  </td><td>0                  </td><td>0                  </td><td>0                  </td><td>0                  </td><td>No                 </td><td>0                  </td></tr>\n",
       "\t<tr><th scope=row>2490</th><td>06-22-1991         </td><td>08:00              </td><td>33                 </td><td> 5                 </td><td>D31                </td><td>1991-06-22         </td><td>1991-06-22 08:00:00</td><td>58                 </td><td>225                </td><td>1                  </td><td>...                </td><td>0                  </td><td>0                  </td><td>0                  </td><td>0                  </td><td>0                  </td><td>0                  </td><td>0                  </td><td>1                  </td><td>Yes                </td><td>1                  </td></tr>\n",
       "\t<tr><th scope=row>965</th><td>05-19-1991         </td><td>19:15              </td><td>33                 </td><td>13                 </td><td>D20                </td><td>1991-05-19         </td><td>1991-05-19 19:15:00</td><td>62                 </td><td>277                </td><td>1                  </td><td>...                </td><td>0                  </td><td>0                  </td><td>0                  </td><td>1                  </td><td>0                  </td><td>0                  </td><td>0                  </td><td>1                  </td><td>Yes                </td><td>1                  </td></tr>\n",
       "\t<tr><th scope=row>298</th><td>10-10-1989         </td><td>18:00              </td><td>33                 </td><td>10                 </td><td>D2                 </td><td>1989-10-10         </td><td>1989-10-10 18:00:00</td><td>62                 </td><td>304                </td><td>1                  </td><td>...                </td><td>0                  </td><td>0                  </td><td>0                  </td><td>1                  </td><td>0                  </td><td>0                  </td><td>0                  </td><td>1                  </td><td>Yes                </td><td>1                  </td></tr>\n",
       "\t<tr><th scope=row>2254</th><td>04-02-1991         </td><td>08:00              </td><td>33                 </td><td> 5                 </td><td>D30                </td><td>1991-04-02         </td><td>1991-04-02 08:00:00</td><td>58                 </td><td>162                </td><td>1                  </td><td>...                </td><td>0                  </td><td>0                  </td><td>0                  </td><td>0                  </td><td>0                  </td><td>0                  </td><td>0                  </td><td>0                  </td><td>No                 </td><td>0                  </td></tr>\n",
       "</tbody>\n",
       "</table>\n"
      ],
      "text/latex": [
       "\\begin{tabular}{r|llllllllllllllllllllllll}\n",
       "  & Date & Time & Insulin\\_Code & Insulin\\_dose & pid & date1 & datetime & Glucose\\_Code & Glucose\\_Value & Reg\\_Ins & ... & PostBreak\\_Gluc & PreLun\\_Gluc & PostLun\\_Gluc & PreSup\\_Gluc & PostSup\\_Gluc & PreSnack\\_Gluc & Hypoglycaemia & Low\\_HighGlucose & predictions1 & predictions\\_factor\\\\\n",
       "\\hline\n",
       "\t3620 & 08-06-1991          & 08:00               & 34                  & 27                  & D31                 & 1991-08-06          & 1991-08-06 08:00:00 & 58                  &  97                 & 0                   & ...                 & 0                   & 0                   & 0                   & 0                   & 0                   & 0                   & 0                   & 0                   & No                  & 0                  \\\\\n",
       "\t2311 & 04-21-1991          & 08:00               & 33                  &  5                  & D30                 & 1991-04-21          & 1991-04-21 08:00:00 & 58                  & 159                 & 1                   & ...                 & 0                   & 0                   & 0                   & 0                   & 0                   & 0                   & 0                   & 0                   & No                  & 0                  \\\\\n",
       "\t2490 & 06-22-1991          & 08:00               & 33                  &  5                  & D31                 & 1991-06-22          & 1991-06-22 08:00:00 & 58                  & 225                 & 1                   & ...                 & 0                   & 0                   & 0                   & 0                   & 0                   & 0                   & 0                   & 1                   & Yes                 & 1                  \\\\\n",
       "\t965 & 05-19-1991          & 19:15               & 33                  & 13                  & D20                 & 1991-05-19          & 1991-05-19 19:15:00 & 62                  & 277                 & 1                   & ...                 & 0                   & 0                   & 0                   & 1                   & 0                   & 0                   & 0                   & 1                   & Yes                 & 1                  \\\\\n",
       "\t298 & 10-10-1989          & 18:00               & 33                  & 10                  & D2                  & 1989-10-10          & 1989-10-10 18:00:00 & 62                  & 304                 & 1                   & ...                 & 0                   & 0                   & 0                   & 1                   & 0                   & 0                   & 0                   & 1                   & Yes                 & 1                  \\\\\n",
       "\t2254 & 04-02-1991          & 08:00               & 33                  &  5                  & D30                 & 1991-04-02          & 1991-04-02 08:00:00 & 58                  & 162                 & 1                   & ...                 & 0                   & 0                   & 0                   & 0                   & 0                   & 0                   & 0                   & 0                   & No                  & 0                  \\\\\n",
       "\\end{tabular}\n"
      ],
      "text/markdown": [
       "\n",
       "| <!--/--> | Date | Time | Insulin_Code | Insulin_dose | pid | date1 | datetime | Glucose_Code | Glucose_Value | Reg_Ins | ... | PostBreak_Gluc | PreLun_Gluc | PostLun_Gluc | PreSup_Gluc | PostSup_Gluc | PreSnack_Gluc | Hypoglycaemia | Low_HighGlucose | predictions1 | predictions_factor |\n",
       "|---|---|---|---|---|---|---|---|---|---|---|---|---|---|---|---|---|---|---|---|---|---|\n",
       "| 3620 | 08-06-1991          | 08:00               | 34                  | 27                  | D31                 | 1991-08-06          | 1991-08-06 08:00:00 | 58                  |  97                 | 0                   | ...                 | 0                   | 0                   | 0                   | 0                   | 0                   | 0                   | 0                   | 0                   | No                  | 0                   |\n",
       "| 2311 | 04-21-1991          | 08:00               | 33                  |  5                  | D30                 | 1991-04-21          | 1991-04-21 08:00:00 | 58                  | 159                 | 1                   | ...                 | 0                   | 0                   | 0                   | 0                   | 0                   | 0                   | 0                   | 0                   | No                  | 0                   |\n",
       "| 2490 | 06-22-1991          | 08:00               | 33                  |  5                  | D31                 | 1991-06-22          | 1991-06-22 08:00:00 | 58                  | 225                 | 1                   | ...                 | 0                   | 0                   | 0                   | 0                   | 0                   | 0                   | 0                   | 1                   | Yes                 | 1                   |\n",
       "| 965 | 05-19-1991          | 19:15               | 33                  | 13                  | D20                 | 1991-05-19          | 1991-05-19 19:15:00 | 62                  | 277                 | 1                   | ...                 | 0                   | 0                   | 0                   | 1                   | 0                   | 0                   | 0                   | 1                   | Yes                 | 1                   |\n",
       "| 298 | 10-10-1989          | 18:00               | 33                  | 10                  | D2                  | 1989-10-10          | 1989-10-10 18:00:00 | 62                  | 304                 | 1                   | ...                 | 0                   | 0                   | 0                   | 1                   | 0                   | 0                   | 0                   | 1                   | Yes                 | 1                   |\n",
       "| 2254 | 04-02-1991          | 08:00               | 33                  |  5                  | D30                 | 1991-04-02          | 1991-04-02 08:00:00 | 58                  | 162                 | 1                   | ...                 | 0                   | 0                   | 0                   | 0                   | 0                   | 0                   | 0                   | 0                   | No                  | 0                   |\n",
       "\n"
      ],
      "text/plain": [
       "     Date       Time  Insulin_Code Insulin_dose pid date1     \n",
       "3620 08-06-1991 08:00 34           27           D31 1991-08-06\n",
       "2311 04-21-1991 08:00 33            5           D30 1991-04-21\n",
       "2490 06-22-1991 08:00 33            5           D31 1991-06-22\n",
       "965  05-19-1991 19:15 33           13           D20 1991-05-19\n",
       "298  10-10-1989 18:00 33           10           D2  1989-10-10\n",
       "2254 04-02-1991 08:00 33            5           D30 1991-04-02\n",
       "     datetime            Glucose_Code Glucose_Value Reg_Ins ... PostBreak_Gluc\n",
       "3620 1991-08-06 08:00:00 58            97           0       ... 0             \n",
       "2311 1991-04-21 08:00:00 58           159           1       ... 0             \n",
       "2490 1991-06-22 08:00:00 58           225           1       ... 0             \n",
       "965  1991-05-19 19:15:00 62           277           1       ... 0             \n",
       "298  1989-10-10 18:00:00 62           304           1       ... 0             \n",
       "2254 1991-04-02 08:00:00 58           162           1       ... 0             \n",
       "     PreLun_Gluc PostLun_Gluc PreSup_Gluc PostSup_Gluc PreSnack_Gluc\n",
       "3620 0           0            0           0            0            \n",
       "2311 0           0            0           0            0            \n",
       "2490 0           0            0           0            0            \n",
       "965  0           0            1           0            0            \n",
       "298  0           0            1           0            0            \n",
       "2254 0           0            0           0            0            \n",
       "     Hypoglycaemia Low_HighGlucose predictions1 predictions_factor\n",
       "3620 0             0               No           0                 \n",
       "2311 0             0               No           0                 \n",
       "2490 0             1               Yes          1                 \n",
       "965  0             1               Yes          1                 \n",
       "298  0             1               Yes          1                 \n",
       "2254 0             0               No           0                 "
      ]
     },
     "metadata": {},
     "output_type": "display_data"
    }
   ],
   "source": [
    "head(test)"
   ]
  },
  {
   "cell_type": "code",
   "execution_count": 384,
   "metadata": {},
   "outputs": [
    {
     "data": {
      "text/plain": [
       "   \n",
       "       0    1\n",
       "  0 1026   16\n",
       "  1    0  409"
      ]
     },
     "metadata": {},
     "output_type": "display_data"
    }
   ],
   "source": [
    "#Create a 2-way frequency table to compare predicted vs actual classes\n",
    "table(test$predictions_factor, test$Low_HighGlucose)\n",
    "#Table above reveals most data has either been correctly classified \n",
    "#as true positives or true negatives. 16 false negatives were identified"
   ]
  },
  {
   "cell_type": "code",
   "execution_count": 386,
   "metadata": {},
   "outputs": [
    {
     "data": {
      "text/plain": [
       "Confusion Matrix and Statistics\n",
       "\n",
       "          Reference\n",
       "Prediction    0    1\n",
       "         0 1026   16\n",
       "         1    0  409\n",
       "                                          \n",
       "               Accuracy : 0.989           \n",
       "                 95% CI : (0.9822, 0.9937)\n",
       "    No Information Rate : 0.7071          \n",
       "    P-Value [Acc > NIR] : < 2.2e-16       \n",
       "                                          \n",
       "                  Kappa : 0.9731          \n",
       "                                          \n",
       " Mcnemar's Test P-Value : 0.0001768       \n",
       "                                          \n",
       "            Sensitivity : 1.0000          \n",
       "            Specificity : 0.9624          \n",
       "         Pos Pred Value : 0.9846          \n",
       "         Neg Pred Value : 1.0000          \n",
       "             Prevalence : 0.7071          \n",
       "         Detection Rate : 0.7071          \n",
       "   Detection Prevalence : 0.7181          \n",
       "      Balanced Accuracy : 0.9812          \n",
       "                                          \n",
       "       'Positive' Class : 0               \n",
       "                                          "
      ]
     },
     "metadata": {},
     "output_type": "display_data"
    }
   ],
   "source": [
    "#Create Confusion matrix - metric of interest is 1 i.e. hospitalisation risks = 409! this is the true positive \n",
    "\n",
    "confusionMatrix(as.factor(test$predictions_factor), as.factor(test$Low_HighGlucose))"
   ]
  },
  {
   "cell_type": "markdown",
   "metadata": {},
   "source": [
    "Confusion matrix above shows a high degree of model accuracy at 98.9%. This is in comparison to the \"no information rate\" of 70% in which the dominant class is always predicted (i.e. poor glucose levels). At 50% the \"no information rate\" predicts that using a dummy model that always predicts poor glucose levels is **less accurate** than this trained logistic regression model."
   ]
  },
  {
   "cell_type": "code",
   "execution_count": 387,
   "metadata": {},
   "outputs": [
    {
     "data": {
      "text/html": [
       "<ol class=list-inline>\n",
       "\t<li>0</li>\n",
       "\t<li>0</li>\n",
       "\t<li>1</li>\n",
       "\t<li>1</li>\n",
       "\t<li>1</li>\n",
       "\t<li>0</li>\n",
       "</ol>\n",
       "\n",
       "<details>\n",
       "\t<summary style=display:list-item;cursor:pointer>\n",
       "\t\t<strong>Levels</strong>:\n",
       "\t</summary>\n",
       "\t<ol class=list-inline>\n",
       "\t\t<li>'0'</li>\n",
       "\t\t<li>'1'</li>\n",
       "\t</ol>\n",
       "</details>"
      ],
      "text/latex": [
       "\\begin{enumerate*}\n",
       "\\item 0\n",
       "\\item 0\n",
       "\\item 1\n",
       "\\item 1\n",
       "\\item 1\n",
       "\\item 0\n",
       "\\end{enumerate*}\n",
       "\n",
       "\\emph{Levels}: \\begin{enumerate*}\n",
       "\\item '0'\n",
       "\\item '1'\n",
       "\\end{enumerate*}\n"
      ],
      "text/markdown": [
       "1. 0\n",
       "2. 0\n",
       "3. 1\n",
       "4. 1\n",
       "5. 1\n",
       "6. 0\n",
       "\n",
       "\n",
       "\n",
       "**Levels**: 1. '0'\n",
       "2. '1'\n",
       "\n",
       "\n"
      ],
      "text/plain": [
       "[1] 0 0 1 1 1 0\n",
       "Levels: 0 1"
      ]
     },
     "metadata": {},
     "output_type": "display_data"
    }
   ],
   "source": [
    "head(as.factor(test$predictions_factor))"
   ]
  },
  {
   "cell_type": "code",
   "execution_count": 388,
   "metadata": {},
   "outputs": [
    {
     "data": {
      "text/html": [
       "<ol class=list-inline>\n",
       "\t<li>0</li>\n",
       "\t<li>0</li>\n",
       "\t<li>1</li>\n",
       "\t<li>1</li>\n",
       "\t<li>1</li>\n",
       "\t<li>0</li>\n",
       "</ol>\n"
      ],
      "text/latex": [
       "\\begin{enumerate*}\n",
       "\\item 0\n",
       "\\item 0\n",
       "\\item 1\n",
       "\\item 1\n",
       "\\item 1\n",
       "\\item 0\n",
       "\\end{enumerate*}\n"
      ],
      "text/markdown": [
       "1. 0\n",
       "2. 0\n",
       "3. 1\n",
       "4. 1\n",
       "5. 1\n",
       "6. 0\n",
       "\n",
       "\n"
      ],
      "text/plain": [
       "[1] 0 0 1 1 1 0"
      ]
     },
     "metadata": {},
     "output_type": "display_data"
    }
   ],
   "source": [
    "head(test$Low_HighGlucose)"
   ]
  },
  {
   "cell_type": "code",
   "execution_count": 389,
   "metadata": {},
   "outputs": [
    {
     "data": {
      "text/html": [
       "<table>\n",
       "<tbody>\n",
       "\t<tr><th scope=row>0 vs. 1</th><td>0.9857539</td></tr>\n",
       "</tbody>\n",
       "</table>\n"
      ],
      "text/latex": [
       "\\begin{tabular}{r|l}\n",
       "\t0 vs. 1 & 0.9857539\\\\\n",
       "\\end{tabular}\n"
      ],
      "text/markdown": [
       "\n",
       "| 0 vs. 1 | 0.9857539 |\n",
       "\n"
      ],
      "text/plain": [
       "        [,1]     \n",
       "0 vs. 1 0.9857539"
      ]
     },
     "metadata": {},
     "output_type": "display_data"
    },
    {
     "data": {
      "image/png": "[encoded data removed]",
      "text/plain": [
       "Plot with title \"ROC Curves\""
      ]
     },
     "metadata": {},
     "output_type": "display_data"
    }
   ],
   "source": [
    "library(caTools) #x-axis = false +ve rate, y-axis = true +ve rate\n",
    "colAUC(predictions, test$Low_HighGlucose, plotROC = TRUE)"
   ]
  },
  {
   "cell_type": "code",
   "execution_count": 418,
   "metadata": {},
   "outputs": [
    {
     "name": "stderr",
     "output_type": "stream",
     "text": [
      "Setting levels: control = 0, case = 1\n",
      "Setting direction: controls < cases\n"
     ]
    },
    {
     "data": {
      "text/html": [
       "0.985753927301915"
      ],
      "text/latex": [
       "0.985753927301915"
      ],
      "text/markdown": [
       "0.985753927301915"
      ],
      "text/plain": [
       "Area under the curve: 0.9858"
      ]
     },
     "metadata": {},
     "output_type": "display_data"
    }
   ],
   "source": [
    "auc(test$Low_HighGlucose, predictions)"
   ]
  },
  {
   "cell_type": "code",
   "execution_count": 424,
   "metadata": {},
   "outputs": [
    {
     "data": {
      "image/png": "[encoded data removed]",
      "text/plain": [
       "plot without title"
      ]
     },
     "metadata": {},
     "output_type": "display_data"
    }
   ],
   "source": [
    "plot(roc(predictions, as.factor(test$Low_HighGlucose)))"
   ]
  },
  {
   "cell_type": "code",
   "execution_count": 390,
   "metadata": {},
   "outputs": [],
   "source": [
    "#Create trainControl() to use AUC to tune the model parameters\n",
    "myControl <- trainControl(\n",
    "    method = \"cv\",\n",
    "    number = 5,\n",
    "    summaryFunction = twoClassSummary,\n",
    "    classProbs = TRUE, \n",
    "    verboseIter = TRUE)"
   ]
  },
  {
   "cell_type": "code",
   "execution_count": 425,
   "metadata": {},
   "outputs": [
    {
     "data": {
      "image/png": "[encoded data removed]",
      "text/plain": [
       "plot without title"
      ]
     },
     "metadata": {},
     "output_type": "display_data"
    }
   ],
   "source": [
    "#Specify a Random Forest\n",
    "\n",
    "spec2 <- rand_forest() %>%\n",
    "            set_mode(\"classification\") %>%\n",
    "            set_engine(\"ranger\", importance = \"impurity\")\n",
    "\n",
    "#Train the forest\n",
    "rand_model <- spec2 %>%\n",
    "                fit(as.factor(Low_HighGlucose) ~ Reg_Ins + Inter_Ins + LongAct_Ins + PreBreak_Gluc + PreLun_Gluc + PreSup_Gluc + PreSnack_Gluc + Unspec_Gluc + Insulin_dose + Glucose_Value, data = train)\n",
    "\n",
    "#Plot the variable importance\n",
    "vip::vip(rand_model)"
   ]
  },
  {
   "cell_type": "code",
   "execution_count": 396,
   "metadata": {},
   "outputs": [
    {
     "data": {
      "text/plain": [
       "Boosted Tree Model Specification (classification)\n",
       "\n",
       "Computational engine: xgboost \n"
      ]
     },
     "metadata": {},
     "output_type": "display_data"
    }
   ],
   "source": [
    "#Gradient boosting ensemble\n",
    "\n",
    "#Specifying a boosted ensemble\n",
    "boost_spec <- boost_tree() %>%\n",
    "                set_mode(\"classification\") %>%\n",
    "                set_engine(\"xgboost\")\n",
    "\n",
    "boost_spec"
   ]
  },
  {
   "cell_type": "code",
   "execution_count": 398,
   "metadata": {},
   "outputs": [
    {
     "name": "stdout",
     "output_type": "stream",
     "text": [
      "[12:02:53] WARNING: amalgamation/../src/learner.cc:1095: Starting in XGBoost 1.3.0, the default evaluation metric used with the objective 'binary:logistic' was changed from 'error' to 'logloss'. Explicitly set eval_metric if you'd like to restore the old behavior.\n"
     ]
    },
    {
     "data": {
      "text/plain": [
       "parsnip model object\n",
       "\n",
       "Fit time:  1.5s \n",
       "##### xgb.Booster\n",
       "raw: 12.4 Kb \n",
       "call:\n",
       "  xgboost::xgb.train(params = list(eta = 0.3, max_depth = 6, gamma = 0, \n",
       "    colsample_bytree = 1, min_child_weight = 1, subsample = 1, \n",
       "    objective = \"binary:logistic\"), data = x$data, nrounds = 15, \n",
       "    watchlist = x$watchlist, verbose = 0, nthread = 1)\n",
       "params (as set within xgb.train):\n",
       "  eta = \"0.3\", max_depth = \"6\", gamma = \"0\", colsample_bytree = \"1\", min_child_weight = \"1\", subsample = \"1\", objective = \"binary:logistic\", nthread = \"1\", validate_parameters = \"TRUE\"\n",
       "xgb.attributes:\n",
       "  niter\n",
       "callbacks:\n",
       "  cb.evaluation.log()\n",
       "# of features: 977 \n",
       "niter: 15\n",
       "nfeatures : 977 \n",
       "evaluation_log:\n",
       "    iter training_logloss\n",
       "       1         0.438642\n",
       "       2         0.297700\n",
       "---                      \n",
       "      14         0.007789\n",
       "      15         0.006009"
      ]
     },
     "metadata": {},
     "output_type": "display_data"
    }
   ],
   "source": [
    "#Train the boosted ensemble model on training set\n",
    "boost_model <- fit(boost_spec, as.factor(Low_HighGlucose) ~ ., data = train)\n",
    "\n",
    "boost_model"
   ]
  },
  {
   "cell_type": "code",
   "execution_count": 415,
   "metadata": {},
   "outputs": [
    {
     "name": "stdout",
     "output_type": "stream",
     "text": [
      "[13:15:20] WARNING: amalgamation/../src/learner.cc:1095: Starting in XGBoost 1.3.0, the default evaluation metric used with the objective 'binary:logistic' was changed from 'error' to 'logloss'. Explicitly set eval_metric if you'd like to restore the old behavior.\n"
     ]
    },
    {
     "ename": "ERROR",
     "evalue": "Error in model.frame.default(mod_terms, new_data, na.action = na.action, : factor Date has new levels 06-31-1991\n",
     "output_type": "error",
     "traceback": [
      "Error in model.frame.default(mod_terms, new_data, na.action = na.action, : factor Date has new levels 06-31-1991\nTraceback:\n",
      "1. boost_tree() %>% set_mode(\"classification\") %>% set_engine(\"xgboost\") %>% \n .     fit(as.factor(Low_HighGlucose) ~ ., data = train) %>% predict(new_data = train, \n .     type = \"prob\")",
      "2. predict(., new_data = train, type = \"prob\")",
      "3. predict.model_fit(., new_data = train, type = \"prob\")",
      "4. predict_classprob(object = object, new_data = new_data, ...)",
      "5. predict_classprob.model_fit(object = object, new_data = new_data, \n .     ...)",
      "6. prepare_data(object, new_data)",
      "7. convert_form_to_xy_new(object$preproc, new_data)",
      "8. model.frame(mod_terms, new_data, na.action = na.action, xlev = object$xlevels)",
      "9. model.frame.default(mod_terms, new_data, na.action = na.action, \n .     xlev = object$xlevels)",
      "10. stop(sprintf(ngettext(length(m), \"factor %s has new level %s\", \n  .     \"factor %s has new levels %s\"), nm, paste(nxl[m], collapse = \", \")), \n  .     domain = NA)"
     ]
    }
   ],
   "source": [
    "#COMPARISON OF GRADIENT BOOST TO A SINGLE CLASSIFIER TO COMPARE % OF AUC\n",
    "#NOT WORKED - TO DISCUSS WITH B.\n",
    "\n",
    "set.seed(100)\n",
    "\n",
    "#FOR GRADIENT BOOST\n",
    "#Specify, fit, predict and combine with training data\n",
    "boost2_predictions <- boost_tree() %>%\n",
    "                        set_mode(\"classification\") %>%\n",
    "                        set_engine(\"xgboost\") %>%\n",
    "                        fit(as.factor(Low_HighGlucose) ~ ., data = train) %>%\n",
    "                        predict(new_data = train, type = \"prob\") %>%\n",
    "                        bind_cols(train)\n",
    "                        \n",
    "\n",
    "boost2_predictions\n",
    "\n",
    "#Calculate AUC\n",
    "roc_auc(boost2_predictions, truth = Low_HighGlucose, estimate = .pred_yes)\n",
    "\n",
    "\n",
    "#FOR SINGLE CLASSIFIER \n",
    "#Specify, fit, predict and combine with training data\n",
    "classifier_predictions <- decision_tree() %>%\n",
    "                        set_mode(\"classification\") %>%\n",
    "                        set_engine(\"rpart\") %>%\n",
    "                        fit(as.factor(Low_HighGlucose) ~ ., data = train) %>%\n",
    "                        predict(new_data = train, type = \"prob\") %>%\n",
    "                        bind_cols(train)\n",
    "\n",
    "boost2_predictions\n",
    "\n",
    "#Calculate AUC\n",
    "roc_auc(classifier_predictions, truth = Low_HighGlucose, estimate = .pred_yes)\n",
    "\n"
   ]
  },
  {
   "cell_type": "code",
   "execution_count": 433,
   "metadata": {},
   "outputs": [],
   "source": [
    "# Need to complete with predictions from Gradient boost"
   ]
  },
  {
   "cell_type": "code",
   "execution_count": 448,
   "metadata": {},
   "outputs": [
    {
     "ename": "ERROR",
     "evalue": "Error in model.frame.default(mod_terms, new_data, na.action = na.action, : factor Date has new levels 01-29-1990, 02-20-1989, 02-20-1990, 03-05-1990, 03-28-1991, 04-18-1989, 04-22-1990, 06-31-1991, 07-13-1988, 07-14-1988, 07-16-1988, 07-17-1988, 07-19-1988, 07-24-1988, 07-30-1988, 08-02-1988, 08-04-1988, 08-05-1988, 08-10-1988, 08-11-1988, 08-18-1988, 08-20-1988, 08-22-1990, 08-30-1988, 09-04-1988, 09-06-1988, 09-10-1989, 09-16-1988, 09-22-1988, 09-25-1990, 10-02-1988, 10-03-1990, 12-20-1989, 12-26-1990\n",
     "output_type": "error",
     "traceback": [
      "Error in model.frame.default(mod_terms, new_data, na.action = na.action, : factor Date has new levels 01-29-1990, 02-20-1989, 02-20-1990, 03-05-1990, 03-28-1991, 04-18-1989, 04-22-1990, 06-31-1991, 07-13-1988, 07-14-1988, 07-16-1988, 07-17-1988, 07-19-1988, 07-24-1988, 07-30-1988, 08-02-1988, 08-04-1988, 08-05-1988, 08-10-1988, 08-11-1988, 08-18-1988, 08-20-1988, 08-22-1990, 08-30-1988, 09-04-1988, 09-06-1988, 09-10-1989, 09-16-1988, 09-22-1988, 09-25-1990, 10-02-1988, 10-03-1990, 12-20-1989, 12-26-1990\nTraceback:\n",
      "1. predict(boost_model, new_data = test, type = \"prob\")",
      "2. predict.model_fit(boost_model, new_data = test, type = \"prob\")",
      "3. predict_classprob(object = object, new_data = new_data, ...)",
      "4. predict_classprob.model_fit(object = object, new_data = new_data, \n .     ...)",
      "5. prepare_data(object, new_data)",
      "6. convert_form_to_xy_new(object$preproc, new_data)",
      "7. model.frame(mod_terms, new_data, na.action = na.action, xlev = object$xlevels)",
      "8. model.frame.default(mod_terms, new_data, na.action = na.action, \n .     xlev = object$xlevels)",
      "9. stop(sprintf(ngettext(length(m), \"factor %s has new level %s\", \n .     \"factor %s has new levels %s\"), nm, paste(nxl[m], collapse = \", \")), \n .     domain = NA)"
     ]
    }
   ],
   "source": [
    "#Predict on test set\n",
    "predictions2 <- predict(boost_model, new_data = test, type = \"prob\")\n",
    "\n",
    "summary(predictions2)\n",
    "head(predictions2)"
   ]
  }
 ],
 "metadata": {
  "kernelspec": {
   "display_name": "R",
   "language": "R",
   "name": "ir"
  },
  "language_info": {
   "codemirror_mode": "r",
   "file_extension": ".r",
   "mimetype": "text/x-r-source",
   "name": "R",
   "pygments_lexer": "r",
   "version": "3.6.1"
  }
 },
 "nbformat": 4,
 "nbformat_minor": 4
}
